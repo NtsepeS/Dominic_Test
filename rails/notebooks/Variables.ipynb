{
 "metadata": {
  "language": "ruby",
  "name": "",
  "signature": "sha256:ae05e02275540659604479b4d17d91651774762fa2a35ee18deaf0c292f1f953"
 },
 "nbformat": 3,
 "nbformat_minor": 0,
 "worksheets": [
  {
   "cells": [
    {
     "cell_type": "code",
     "collapsed": false,
     "input": [
      "require \"processmaker\"\n",
      "require \"ap\""
     ],
     "language": "python",
     "metadata": {},
     "outputs": [
      {
       "metadata": {},
       "output_type": "pyout",
       "prompt_number": 102,
       "text": [
        "false"
       ]
      }
     ],
     "prompt_number": 102
    },
    {
     "cell_type": "heading",
     "level": 1,
     "metadata": {},
     "source": [
      "Login"
     ]
    },
    {
     "cell_type": "code",
     "collapsed": false,
     "input": [
      "url = 'http://si-dev01.si.is.co.za:80/sysworkflow/en/classic/services/wsdl2'\n",
      "name = \"irubynotebook\"\n",
      "user_password = 'demo'\n",
      "Processmaker.login(wsdl: url, user_id: name, password: user_password)"
     ],
     "language": "python",
     "metadata": {},
     "outputs": [
      {
       "output_type": "stream",
       "stream": "stdout",
       "text": [
        "D, [2015-03-23T13:54:58.257761 #25454] DEBUG -- : HTTPI GET request to si-dev01.si.is.co.za (net_http)\n"
       ]
      },
      {
       "output_type": "stream",
       "stream": "stdout",
       "text": [
        "I, [2015-03-23T13:54:58.333424 #25454]  INFO -- : SOAP request: http://si-dev01.si.is.co.za/sysworkflow/en/classic/services/soap2\n"
       ]
      },
      {
       "output_type": "stream",
       "stream": "stdout",
       "text": [
        "I, [2015-03-23T13:54:58.333608 #25454]  INFO -- : SOAPAction: \"http://www.processmaker.com/login\", Content-Type: text/xml;charset=UTF-8, Content-Length: 375\n"
       ]
      },
      {
       "output_type": "stream",
       "stream": "stdout",
       "text": [
        "D, [2015-03-23T13:54:58.333801 #25454] DEBUG -- : <?xml version=\"1.0\" encoding=\"UTF-8\"?><env:Envelope xmlns:xsd=\"http://www.w3.org/2001/XMLSchema\" xmlns:xsi=\"http://www.w3.org/2001/XMLSchema-instance\" xmlns:xs0=\"http://www.processmaker.com\" xmlns:env=\"http://schemas.xmlsoap.org/soap/envelope/\"><env:Body><xs0:login><xs0:userid>irubynotebook</xs0:userid><xs0:password>demo</xs0:password></xs0:login></env:Body></env:Envelope>\n"
       ]
      },
      {
       "output_type": "stream",
       "stream": "stdout",
       "text": [
        "D, [2015-03-23T13:54:58.334349 #25454] DEBUG -- : HTTPI POST request to si-dev01.si.is.co.za (net_http)\n"
       ]
      },
      {
       "output_type": "stream",
       "stream": "stdout",
       "text": [
        "I, [2015-03-23T13:54:58.370484 #25454]  INFO -- : SOAP response (status 200)\n"
       ]
      },
      {
       "output_type": "stream",
       "stream": "stdout",
       "text": [
        "D, [2015-03-23T13:54:58.370692 #25454] DEBUG -- : <?xml version=\"1.0\" encoding=\"UTF-8\"?>\n",
        "<SOAP-ENV:Envelope xmlns:SOAP-ENV=\"http://schemas.xmlsoap.org/soap/envelope/\" xmlns:ns1=\"http://www.processmaker.com\"><SOAP-ENV:Body><ns1:loginResponse><ns1:status_code>0</ns1:status_code><ns1:message>785913845550ffe8dbc0887020251512</ns1:message><ns1:version>2.0</ns1:version><ns1:timestamp>2015-03-23 07:52:45</ns1:timestamp></ns1:loginResponse></SOAP-ENV:Body></SOAP-ENV:Envelope>\n",
        "\n"
       ]
      },
      {
       "metadata": {},
       "output_type": "pyout",
       "prompt_number": 103,
       "text": [
        "{:status_code=>\"0\", :message=>\"785913845550ffe8dbc0887020251512\", :version=>\"2.0\", :timestamp=>\"2015-03-23 07:52:45\"}"
       ]
      }
     ],
     "prompt_number": 103
    },
    {
     "cell_type": "heading",
     "level": 1,
     "metadata": {},
     "source": [
      "Start new process"
     ]
    },
    {
     "cell_type": "code",
     "collapsed": false,
     "input": [
      "processes =  Processmaker.process_list()"
     ],
     "language": "python",
     "metadata": {},
     "outputs": [
      {
       "output_type": "stream",
       "stream": "stdout",
       "text": [
        "I, [2015-03-23T13:54:58.377112 #25454]  INFO -- : SOAP request: http://si-dev01.si.is.co.za/sysworkflow/en/classic/services/soap2\n"
       ]
      },
      {
       "output_type": "stream",
       "stream": "stdout",
       "text": [
        "I, [2015-03-23T13:54:58.377257 #25454]  INFO -- : SOAPAction: \"urn:processList\", Content-Type: text/xml;charset=UTF-8, Content-Length: 393\n"
       ]
      },
      {
       "output_type": "stream",
       "stream": "stdout",
       "text": [
        "D, [2015-03-23T13:54:58.377432 #25454] DEBUG -- : <?xml version=\"1.0\" encoding=\"UTF-8\"?><env:Envelope xmlns:xsd=\"http://www.w3.org/2001/XMLSchema\" xmlns:xsi=\"http://www.w3.org/2001/XMLSchema-instance\" xmlns:xs0=\"http://www.processmaker.com\" xmlns:env=\"http://schemas.xmlsoap.org/soap/envelope/\"><env:Body><xs0:processListRequest><xs0:sessionId>785913845550ffe8dbc0887020251512</xs0:sessionId></xs0:processListRequest></env:Body></env:Envelope>\n"
       ]
      },
      {
       "output_type": "stream",
       "stream": "stdout",
       "text": [
        "D, [2015-03-23T13:54:58.377640 #25454] DEBUG -- : HTTPI POST request to si-dev01.si.is.co.za (net_http)\n"
       ]
      },
      {
       "output_type": "stream",
       "stream": "stdout",
       "text": [
        "I, [2015-03-23T13:54:58.429181 #25454]  INFO -- : SOAP response (status 200)\n"
       ]
      },
      {
       "output_type": "stream",
       "stream": "stdout",
       "text": [
        "D, [2015-03-23T13:54:58.429382 #25454] DEBUG -- : <?xml version=\"1.0\" encoding=\"UTF-8\"?>\n",
        "<SOAP-ENV:Envelope xmlns:SOAP-ENV=\"http://schemas.xmlsoap.org/soap/envelope/\" xmlns:ns1=\"http://www.processmaker.com\"><SOAP-ENV:Body><ns1:processListResponse><ns1:processes><ns1:guid>265534983550fb61da55222082054647</ns1:guid><ns1:name>Capacity Request</ns1:name></ns1:processes><ns1:processes><ns1:guid>658670893550a867bb12622076625838</ns1:guid><ns1:name>Demo</ns1:name></ns1:processes><ns1:processes><ns1:guid>98360219855094de74c2f21070070181</ns1:guid><ns1:name>IRuby_notebook_demo</ns1:name></ns1:processes></ns1:processListResponse></SOAP-ENV:Body></SOAP-ENV:Envelope>\n",
        "\n"
       ]
      },
      {
       "metadata": {},
       "output_type": "pyout",
       "prompt_number": 104,
       "text": [
        "[{:guid=>\"265534983550fb61da55222082054647\", :name=>\"Capacity Request\"}, {:guid=>\"658670893550a867bb12622076625838\", :name=>\"Demo\"}, {:guid=>\"98360219855094de74c2f21070070181\", :name=>\"IRuby_notebook_demo\"}]"
       ]
      }
     ],
     "prompt_number": 104
    },
    {
     "cell_type": "code",
     "collapsed": false,
     "input": [
      "irubynb_process = processes.find { |process| process[:name] == \"IRuby_notebook_demo\" }"
     ],
     "language": "python",
     "metadata": {},
     "outputs": [
      {
       "metadata": {},
       "output_type": "pyout",
       "prompt_number": 105,
       "text": [
        "{:guid=>\"98360219855094de74c2f21070070181\", :name=>\"IRuby_notebook_demo\"}"
       ]
      }
     ],
     "prompt_number": 105
    },
    {
     "cell_type": "code",
     "collapsed": false,
     "input": [
      "# Start a new case\n",
      "mycase = Processmaker.new_case(\n",
      "     process_id: irubynb_process[:guid]\n",
      ")"
     ],
     "language": "python",
     "metadata": {},
     "outputs": [
      {
       "output_type": "stream",
       "stream": "stdout",
       "text": [
        "I, [2015-03-23T13:54:58.440268 #25454]  INFO -- : SOAP request: http://si-dev01.si.is.co.za/sysworkflow/en/classic/services/soap2\n"
       ]
      },
      {
       "output_type": "stream",
       "stream": "stdout",
       "text": [
        "I, [2015-03-23T13:54:58.440470 #25454]  INFO -- : SOAPAction: \"urn:newCase\", Content-Type: text/xml;charset=UTF-8, Content-Length: 507\n"
       ]
      },
      {
       "output_type": "stream",
       "stream": "stdout",
       "text": [
        "D, [2015-03-23T13:54:58.440801 #25454] DEBUG -- : <?xml version=\"1.0\" encoding=\"UTF-8\"?><env:Envelope xmlns:xsd=\"http://www.w3.org/2001/XMLSchema\" xmlns:xsi=\"http://www.w3.org/2001/XMLSchema-instance\" xmlns:xs0=\"http://www.processmaker.com\" xmlns:env=\"http://schemas.xmlsoap.org/soap/envelope/\"><env:Body><xs0:newCaseRequest><xs0:sessionId>785913845550ffe8dbc0887020251512</xs0:sessionId><xs0:processId>98360219855094de74c2f21070070181</xs0:processId><xs0:taskId xsi:nil=\"true\"/><xs0:variables xsi:nil=\"true\"/></xs0:newCaseRequest></env:Body></env:Envelope>\n"
       ]
      },
      {
       "output_type": "stream",
       "stream": "stdout",
       "text": [
        "D, [2015-03-23T13:54:58.441021 #25454] DEBUG -- : HTTPI POST request to si-dev01.si.is.co.za (net_http)\n"
       ]
      },
      {
       "output_type": "stream",
       "stream": "stdout",
       "text": [
        "I, [2015-03-23T13:54:58.598989 #25454]  INFO -- : SOAP response (status 200)\n"
       ]
      },
      {
       "output_type": "stream",
       "stream": "stdout",
       "text": [
        "D, [2015-03-23T13:54:58.599206 #25454] DEBUG -- : <?xml version=\"1.0\" encoding=\"UTF-8\"?>\n",
        "<SOAP-ENV:Envelope xmlns:SOAP-ENV=\"http://schemas.xmlsoap.org/soap/envelope/\" xmlns:ns1=\"http://www.processmaker.com\"><SOAP-ENV:Body><ns1:newCaseResponse><ns1:status_code>0</ns1:status_code><ns1:message>Started successfully</ns1:message><ns1:caseId>208736094550ffe8dd99a34092516883</ns1:caseId><ns1:caseNumber>46</ns1:caseNumber><ns1:timestamp>2015-03-23 07:52:45</ns1:timestamp></ns1:newCaseResponse></SOAP-ENV:Body></SOAP-ENV:Envelope>\n",
        "\n"
       ]
      },
      {
       "metadata": {},
       "output_type": "pyout",
       "prompt_number": 106,
       "text": [
        "{:status_code=>\"0\", :message=>\"Started successfully\", :case_id=>\"208736094550ffe8dd99a34092516883\", :case_number=>\"46\", :timestamp=>\"2015-03-23 07:52:45\"}"
       ]
      }
     ],
     "prompt_number": 106
    },
    {
     "cell_type": "code",
     "collapsed": false,
     "input": [
      "varnames = Processmaker.get_variables_names(case_id: mycase[:case_id])"
     ],
     "language": "python",
     "metadata": {},
     "outputs": [
      {
       "output_type": "stream",
       "stream": "stdout",
       "text": [
        "I, [2015-03-23T13:54:58.605733 #25454]  INFO -- : SOAP request: http://si-dev01.si.is.co.za/sysworkflow/en/classic/services/soap2\n"
       ]
      },
      {
       "output_type": "stream",
       "stream": "stdout",
       "text": [
        "I, [2015-03-23T13:54:58.605977 #25454]  INFO -- : SOAPAction: \"urn:getVariablesNames\", Content-Type: text/xml;charset=UTF-8, Content-Length: 462\n"
       ]
      },
      {
       "output_type": "stream",
       "stream": "stdout",
       "text": [
        "D, [2015-03-23T13:54:58.606094 #25454] DEBUG -- : <?xml version=\"1.0\" encoding=\"UTF-8\"?><env:Envelope xmlns:xsd=\"http://www.w3.org/2001/XMLSchema\" xmlns:xsi=\"http://www.w3.org/2001/XMLSchema-instance\" xmlns:xs0=\"http://www.processmaker.com\" xmlns:env=\"http://schemas.xmlsoap.org/soap/envelope/\"><env:Body><xs0:getVariablesNamesRequest><xs0:sessionId>785913845550ffe8dbc0887020251512</xs0:sessionId><xs0:caseId>208736094550ffe8dd99a34092516883</xs0:caseId></xs0:getVariablesNamesRequest></env:Body></env:Envelope>\n"
       ]
      },
      {
       "output_type": "stream",
       "stream": "stdout",
       "text": [
        "D, [2015-03-23T13:54:58.606318 #25454] DEBUG -- : HTTPI POST request to si-dev01.si.is.co.za (net_http)\n"
       ]
      },
      {
       "output_type": "stream",
       "stream": "stdout",
       "text": [
        "I, [2015-03-23T13:54:58.635148 #25454]  INFO -- : SOAP response (status 200)\n"
       ]
      },
      {
       "output_type": "stream",
       "stream": "stdout",
       "text": [
        "D, [2015-03-23T13:54:58.635392 #25454] DEBUG -- : <?xml version=\"1.0\" encoding=\"UTF-8\"?>\n",
        "<SOAP-ENV:Envelope xmlns:SOAP-ENV=\"http://schemas.xmlsoap.org/soap/envelope/\" xmlns:ns1=\"http://www.processmaker.com\"><SOAP-ENV:Body><ns1:getVariablesNamesResponse><ns1:status_code>0</ns1:status_code><ns1:message>10variables sent</ns1:message><ns1:timestamp>2015-03-23 07:52:46</ns1:timestamp><ns1:variables><ns1:name>SYS_LANG</ns1:name></ns1:variables><ns1:variables><ns1:name>SYS_SKIN</ns1:name></ns1:variables><ns1:variables><ns1:name>SYS_SYS</ns1:name></ns1:variables><ns1:variables><ns1:name>APPLICATION</ns1:name></ns1:variables><ns1:variables><ns1:name>PROCESS</ns1:name></ns1:variables><ns1:variables><ns1:name>TASK</ns1:name></ns1:variables><ns1:variables><ns1:name>INDEX</ns1:name></ns1:variables><ns1:variables><ns1:name>USER_LOGGED</ns1:name></ns1:variables><ns1:variables><ns1:name>USR_USERNAME</ns1:name></ns1:variables><ns1:variables><ns1:name>PIN</ns1:name></ns1:variables></ns1:getVariablesNamesResponse></SOAP-ENV:Body></SOAP-ENV:Envelope>\n",
        "\n"
       ]
      },
      {
       "metadata": {},
       "output_type": "pyout",
       "prompt_number": 107,
       "text": [
        "[\"SYS_LANG\", \"SYS_SKIN\", \"SYS_SYS\", \"APPLICATION\", \"PROCESS\", \"TASK\", \"INDEX\", \"USER_LOGGED\", \"USR_USERNAME\", \"PIN\"]"
       ]
      }
     ],
     "prompt_number": 107
    },
    {
     "cell_type": "code",
     "collapsed": false,
     "input": [
      "vars = Processmaker.send_variables(case_id: mycase[:case_id], variables: { SomeValue: \"some cool value\" } )"
     ],
     "language": "python",
     "metadata": {},
     "outputs": [
      {
       "output_type": "stream",
       "stream": "stdout",
       "text": [
        "{\n",
        "    :SomeValue\u001b[0;37m => \u001b[0m\u001b[0;33m\"some cool value\"\u001b[0m\n",
        "}\n"
       ]
      },
      {
       "output_type": "stream",
       "stream": "stdout",
       "text": [
        "I, [2015-03-23T13:54:58.642514 #25454]  INFO -- : SOAP request: http://si-dev01.si.is.co.za/sysworkflow/en/classic/services/soap2\n"
       ]
      },
      {
       "output_type": "stream",
       "stream": "stdout",
       "text": [
        "I, [2015-03-23T13:54:58.642662 #25454]  INFO -- : SOAPAction: \"urn:sendVariables\", Content-Type: text/xml;charset=UTF-8, Content-Length: 553\n"
       ]
      },
      {
       "output_type": "stream",
       "stream": "stdout",
       "text": [
        "D, [2015-03-23T13:54:58.642820 #25454] DEBUG -- : <?xml version=\"1.0\" encoding=\"UTF-8\"?><env:Envelope xmlns:xsd=\"http://www.w3.org/2001/XMLSchema\" xmlns:xsi=\"http://www.w3.org/2001/XMLSchema-instance\" xmlns:xs0=\"http://www.processmaker.com\" xmlns:env=\"http://schemas.xmlsoap.org/soap/envelope/\"><env:Body><xs0:sendVariablesRequest><xs0:sessionId>785913845550ffe8dbc0887020251512</xs0:sessionId><xs0:caseId>208736094550ffe8dd99a34092516883</xs0:caseId><xs0:variables><xs0:name>SomeValue</xs0:name><xs0:value>some cool value</xs0:value></xs0:variables></xs0:sendVariablesRequest></env:Body></env:Envelope>\n"
       ]
      },
      {
       "output_type": "stream",
       "stream": "stdout",
       "text": [
        "D, [2015-03-23T13:54:58.643180 #25454] DEBUG -- : HTTPI POST request to si-dev01.si.is.co.za (net_http)\n"
       ]
      },
      {
       "output_type": "stream",
       "stream": "stdout",
       "text": [
        "I, [2015-03-23T13:54:58.694119 #25454]  INFO -- : SOAP response (status 200)\n"
       ]
      },
      {
       "output_type": "stream",
       "stream": "stdout",
       "text": [
        "D, [2015-03-23T13:54:58.694537 #25454] DEBUG -- : <?xml version=\"1.0\" encoding=\"UTF-8\"?>\n",
        "<SOAP-ENV:Envelope xmlns:SOAP-ENV=\"http://schemas.xmlsoap.org/soap/envelope/\" xmlns:ns1=\"http://www.processmaker.com\"><SOAP-ENV:Body><ns1:pmResponse><ns1:status_code>0</ns1:status_code><ns1:message>1 variables received: \n",
        "(\n",
        "    [SomeValue] =&gt; some cool value\n",
        ")</ns1:message><ns1:timestamp>2015-03-23 07:52:46</ns1:timestamp></ns1:pmResponse></SOAP-ENV:Body></SOAP-ENV:Envelope>\n",
        "\n"
       ]
      },
      {
       "output_type": "stream",
       "stream": "stdout",
       "text": [
        "{\n",
        "    :pm_response\u001b[0;37m => \u001b[0m{\n",
        "        :status_code\u001b[0;37m => \u001b[0m\"0\",\n",
        "            :message\u001b[0;37m => \u001b[0m\"1 variables received: \\n(\\n    [SomeValue] => some cool value\\n)\",\n",
        "          :timestamp\u001b[0;37m => \u001b[0m\"2015-03-23 07:52:46\"\n",
        "    }\n",
        "}\n"
       ]
      }
     ],
     "prompt_number": 108
    },
    {
     "cell_type": "code",
     "collapsed": false,
     "input": [
      "vars = Processmaker.send_variables(case_id: mycase[:case_id], variables: { SomeValue1: \"1\", SomeValue2: \"2\" })"
     ],
     "language": "python",
     "metadata": {},
     "outputs": [
      {
       "output_type": "stream",
       "stream": "stdout",
       "text": [
        "{\n",
        "    :SomeValue1\u001b[0;37m => \u001b[0m\u001b[0;33m\"1\"\u001b[0m,\n",
        "    :SomeValue2\u001b[0;37m => \u001b[0m\u001b[0;33m\"2\"\u001b[0m\n",
        "}\n"
       ]
      },
      {
       "output_type": "stream",
       "stream": "stdout",
       "text": [
        "I, [2015-03-23T13:54:58.701228 #25454]  INFO -- : SOAP request: http://si-dev01.si.is.co.za/sysworkflow/en/classic/services/soap2\n"
       ]
      },
      {
       "output_type": "stream",
       "stream": "stdout",
       "text": [
        "I, [2015-03-23T13:54:58.701368 #25454]  INFO -- : SOAPAction: \"urn:sendVariables\", Content-Type: text/xml;charset=UTF-8, Content-Length: 626\n"
       ]
      },
      {
       "output_type": "stream",
       "stream": "stdout",
       "text": [
        "D, [2015-03-23T13:54:58.701560 #25454] DEBUG -- : <?xml version=\"1.0\" encoding=\"UTF-8\"?><env:Envelope xmlns:xsd=\"http://www.w3.org/2001/XMLSchema\" xmlns:xsi=\"http://www.w3.org/2001/XMLSchema-instance\" xmlns:xs0=\"http://www.processmaker.com\" xmlns:env=\"http://schemas.xmlsoap.org/soap/envelope/\"><env:Body><xs0:sendVariablesRequest><xs0:sessionId>785913845550ffe8dbc0887020251512</xs0:sessionId><xs0:caseId>208736094550ffe8dd99a34092516883</xs0:caseId><xs0:variables><xs0:name>SomeValue1</xs0:name><xs0:value>1</xs0:value></xs0:variables><xs0:variables><xs0:name>SomeValue2</xs0:name><xs0:value>2</xs0:value></xs0:variables></xs0:sendVariablesRequest></env:Body></env:Envelope>\n"
       ]
      },
      {
       "output_type": "stream",
       "stream": "stdout",
       "text": [
        "D, [2015-03-23T13:54:58.701838 #25454] DEBUG -- : HTTPI POST request to si-dev01.si.is.co.za (net_http)\n"
       ]
      },
      {
       "output_type": "stream",
       "stream": "stdout",
       "text": [
        "I, [2015-03-23T13:54:58.745328 #25454]  INFO -- : SOAP response (status 200)\n"
       ]
      },
      {
       "output_type": "stream",
       "stream": "stdout",
       "text": [
        "D, [2015-03-23T13:54:58.745567 #25454] DEBUG -- : <?xml version=\"1.0\" encoding=\"UTF-8\"?>\n",
        "<SOAP-ENV:Envelope xmlns:SOAP-ENV=\"http://schemas.xmlsoap.org/soap/envelope/\" xmlns:ns1=\"http://www.processmaker.com\"><SOAP-ENV:Body><ns1:pmResponse><ns1:status_code>0</ns1:status_code><ns1:message>2 variables received: \n",
        "(\n",
        "    [SomeValue1] =&gt; 1\n",
        "    [SomeValue2] =&gt; 2\n",
        ")</ns1:message><ns1:timestamp>2015-03-23 07:52:46</ns1:timestamp></ns1:pmResponse></SOAP-ENV:Body></SOAP-ENV:Envelope>\n",
        "\n"
       ]
      },
      {
       "output_type": "stream",
       "stream": "stdout",
       "text": [
        "{\n",
        "    :pm_response\u001b[0;37m => \u001b[0m{\n",
        "        :status_code\u001b[0;37m => \u001b[0m\"0\",\n",
        "            :message\u001b[0;37m => \u001b[0m\"2 variables received: \\n(\\n    [SomeValue1] => 1\\n    [SomeValue2] => 2\\n)\",\n",
        "          :timestamp\u001b[0;37m => \u001b[0m\"2015-03-23 07:52:46\"\n",
        "    }\n",
        "}\n"
       ]
      }
     ],
     "prompt_number": 109
    },
    {
     "cell_type": "code",
     "collapsed": false,
     "input": [
      "vars = Processmaker.send_variable(\"SomeValue1\", \"1\", case_id: mycase[:case_id])"
     ],
     "language": "python",
     "metadata": {},
     "outputs": [
      {
       "output_type": "stream",
       "stream": "stdout",
       "text": [
        "\u001b[1;31mnil\u001b[0m\n"
       ]
      },
      {
       "output_type": "stream",
       "stream": "stdout",
       "text": [
        "I, [2015-03-23T13:54:58.752786 #25454]  INFO -- : SOAP request: http://si-dev01.si.is.co.za/sysworkflow/en/classic/services/soap2\n"
       ]
      },
      {
       "output_type": "stream",
       "stream": "stdout",
       "text": [
        "I, [2015-03-23T13:54:58.752956 #25454]  INFO -- : SOAPAction: \"urn:sendVariables\", Content-Type: text/xml;charset=UTF-8, Content-Length: 540\n"
       ]
      },
      {
       "output_type": "stream",
       "stream": "stdout",
       "text": [
        "D, [2015-03-23T13:54:58.753160 #25454] DEBUG -- : <?xml version=\"1.0\" encoding=\"UTF-8\"?><env:Envelope xmlns:xsd=\"http://www.w3.org/2001/XMLSchema\" xmlns:xsi=\"http://www.w3.org/2001/XMLSchema-instance\" xmlns:xs0=\"http://www.processmaker.com\" xmlns:env=\"http://schemas.xmlsoap.org/soap/envelope/\"><env:Body><xs0:sendVariablesRequest><xs0:sessionId>785913845550ffe8dbc0887020251512</xs0:sessionId><xs0:caseId>208736094550ffe8dd99a34092516883</xs0:caseId><xs0:variables><xs0:name>SomeValue1</xs0:name><xs0:value>1</xs0:value></xs0:variables></xs0:sendVariablesRequest></env:Body></env:Envelope>\n"
       ]
      },
      {
       "output_type": "stream",
       "stream": "stdout",
       "text": [
        "D, [2015-03-23T13:54:58.753474 #25454] DEBUG -- : HTTPI POST request to si-dev01.si.is.co.za (net_http)\n"
       ]
      },
      {
       "output_type": "stream",
       "stream": "stdout",
       "text": [
        "I, [2015-03-23T13:54:58.822418 #25454]  INFO -- : SOAP response (status 200)\n"
       ]
      },
      {
       "output_type": "stream",
       "stream": "stdout",
       "text": [
        "D, [2015-03-23T13:54:58.823337 #25454] DEBUG -- : <?xml version=\"1.0\" encoding=\"UTF-8\"?>\n",
        "<SOAP-ENV:Envelope xmlns:SOAP-ENV=\"http://schemas.xmlsoap.org/soap/envelope/\" xmlns:ns1=\"http://www.processmaker.com\"><SOAP-ENV:Body><ns1:pmResponse><ns1:status_code>0</ns1:status_code><ns1:message>1 variables received: \n",
        "(\n",
        "    [SomeValue1] =&gt; 1\n",
        ")</ns1:message><ns1:timestamp>2015-03-23 07:52:46</ns1:timestamp></ns1:pmResponse></SOAP-ENV:Body></SOAP-ENV:Envelope>\n",
        "\n"
       ]
      },
      {
       "output_type": "stream",
       "stream": "stdout",
       "text": [
        "{\n",
        "    :pm_response\u001b[0;37m => \u001b[0m{\n",
        "        :status_code\u001b[0;37m => \u001b[0m\"0\",\n",
        "            :message\u001b[0;37m => \u001b[0m\"1 variables received: \\n(\\n    [SomeValue1] => 1\\n)\",\n",
        "          :timestamp\u001b[0;37m => \u001b[0m\"2015-03-23 07:52:46\"\n",
        "    }\n",
        "}\n"
       ]
      }
     ],
     "prompt_number": 110
    },
    {
     "cell_type": "code",
     "collapsed": false,
     "input": [
      "def send_variables(options)\n",
      "  ap options\n",
      "end"
     ],
     "language": "python",
     "metadata": {},
     "outputs": [
      {
       "metadata": {},
       "output_type": "pyout",
       "prompt_number": 111,
       "text": [
        ":send_variables"
       ]
      }
     ],
     "prompt_number": 111
    },
    {
     "cell_type": "code",
     "collapsed": false,
     "input": [
      "vars = { SomeValue1: \"1\", SomeValue2: \"2\" }.map do |name, value| \n",
      "  { name: name.to_s, value: value }\n",
      "end\n",
      "ap vars"
     ],
     "language": "python",
     "metadata": {},
     "outputs": [
      {
       "output_type": "stream",
       "stream": "stdout",
       "text": [
        "[\n",
        "    \u001b[1;37m[0] \u001b[0m{\n",
        "         :name\u001b[0;37m => \u001b[0m\u001b[0;33m\"SomeValue1\"\u001b[0m,\n",
        "        :value\u001b[0;37m => \u001b[0m\u001b[0;33m\"1\"\u001b[0m\n",
        "    },\n",
        "    \u001b[1;37m[1] \u001b[0m{\n",
        "         :name\u001b[0;37m => \u001b[0m\u001b[0;33m\"SomeValue2\"\u001b[0m,\n",
        "        :value\u001b[0;37m => \u001b[0m\u001b[0;33m\"2\"\u001b[0m\n",
        "    }\n",
        "]\n"
       ]
      }
     ],
     "prompt_number": 112
    },
    {
     "cell_type": "code",
     "collapsed": false,
     "input": [
      "vars.map { |var| var[:name] }"
     ],
     "language": "python",
     "metadata": {},
     "outputs": [
      {
       "metadata": {},
       "output_type": "pyout",
       "prompt_number": 113,
       "text": [
        "[\"SomeValue1\", \"SomeValue2\"]"
       ]
      }
     ],
     "prompt_number": 113
    },
    {
     "cell_type": "code",
     "collapsed": false,
     "input": [
      "send_variables({ SomeValue1: \"1\", SomeValue2: \"2\" })"
     ],
     "language": "python",
     "metadata": {},
     "outputs": [
      {
       "output_type": "stream",
       "stream": "stdout",
       "text": [
        "{\n",
        "    :SomeValue1\u001b[0;37m => \u001b[0m\u001b[0;33m\"1\"\u001b[0m,\n",
        "    :SomeValue2\u001b[0;37m => \u001b[0m\u001b[0;33m\"2\"\u001b[0m\n",
        "}\n"
       ]
      }
     ],
     "prompt_number": 114
    },
    {
     "cell_type": "code",
     "collapsed": false,
     "input": [
      "[ \"1\" , \"2\" ].map { |name| { name.to_s => \"Boom\" } }\n"
     ],
     "language": "python",
     "metadata": {},
     "outputs": [
      {
       "metadata": {},
       "output_type": "pyout",
       "prompt_number": 115,
       "text": [
        "[{\"1\"=>\"Boom\"}, {\"2\"=>\"Boom\"}]"
       ]
      }
     ],
     "prompt_number": 115
    },
    {
     "cell_type": "code",
     "collapsed": false,
     "input": [
      "Array([\"234\", \"23434\"])"
     ],
     "language": "python",
     "metadata": {},
     "outputs": [
      {
       "metadata": {},
       "output_type": "pyout",
       "prompt_number": 116,
       "text": [
        "[\"234\", \"23434\"]"
       ]
      }
     ],
     "prompt_number": 116
    },
    {
     "cell_type": "code",
     "collapsed": false,
     "input": [],
     "language": "python",
     "metadata": {},
     "outputs": [],
     "prompt_number": 117
    },
    {
     "cell_type": "code",
     "collapsed": false,
     "input": [
      "vars = Processmaker.get_variable(\"SomeValue\", case_id: mycase[:case_id])"
     ],
     "language": "python",
     "metadata": {},
     "outputs": [
      {
       "output_type": "stream",
       "stream": "stdout",
       "text": [
        "I, [2015-03-23T13:54:58.849113 #25454]  INFO -- : SOAP request: http://si-dev01.si.is.co.za/sysworkflow/en/classic/services/soap2\n"
       ]
      },
      {
       "output_type": "stream",
       "stream": "stdout",
       "text": [
        "I, [2015-03-23T13:54:58.849262 #25454]  INFO -- : SOAPAction: \"urn:getVariables\", Content-Type: text/xml;charset=UTF-8, Content-Length: 513\n"
       ]
      },
      {
       "output_type": "stream",
       "stream": "stdout",
       "text": [
        "D, [2015-03-23T13:54:58.849481 #25454] DEBUG -- : <?xml version=\"1.0\" encoding=\"UTF-8\"?><env:Envelope xmlns:xsd=\"http://www.w3.org/2001/XMLSchema\" xmlns:xsi=\"http://www.w3.org/2001/XMLSchema-instance\" xmlns:xs0=\"http://www.processmaker.com\" xmlns:env=\"http://schemas.xmlsoap.org/soap/envelope/\"><env:Body><xs0:getVariablesRequest><xs0:sessionId>785913845550ffe8dbc0887020251512</xs0:sessionId><xs0:caseId>208736094550ffe8dd99a34092516883</xs0:caseId><xs0:variables><xs0:name>SomeValue</xs0:name></xs0:variables></xs0:getVariablesRequest></env:Body></env:Envelope>\n"
       ]
      },
      {
       "output_type": "stream",
       "stream": "stdout",
       "text": [
        "D, [2015-03-23T13:54:58.849704 #25454] DEBUG -- : HTTPI POST request to si-dev01.si.is.co.za (net_http)\n"
       ]
      },
      {
       "output_type": "stream",
       "stream": "stdout",
       "text": [
        "I, [2015-03-23T13:54:58.890492 #25454]  INFO -- : SOAP response (status 200)\n"
       ]
      },
      {
       "output_type": "stream",
       "stream": "stdout",
       "text": [
        "D, [2015-03-23T13:54:58.890750 #25454] DEBUG -- : <?xml version=\"1.0\" encoding=\"UTF-8\"?>\n",
        "<SOAP-ENV:Envelope xmlns:SOAP-ENV=\"http://schemas.xmlsoap.org/soap/envelope/\" xmlns:ns1=\"http://www.processmaker.com\"><SOAP-ENV:Body><ns1:getVariablesResponse><ns1:status_code>0</ns1:status_code><ns1:message>1variables sent</ns1:message><ns1:timestamp>2015-03-23 07:52:46</ns1:timestamp><ns1:variables><ns1:name>SomeValue</ns1:name><ns1:value>some cool value</ns1:value></ns1:variables></ns1:getVariablesResponse></SOAP-ENV:Body></SOAP-ENV:Envelope>\n",
        "\n"
       ]
      },
      {
       "output_type": "stream",
       "stream": "stdout",
       "text": [
        "{\n",
        "    :get_variables_response\u001b[0;37m => \u001b[0m{\n",
        "        :status_code\u001b[0;37m => \u001b[0m\"0\",\n",
        "            :message\u001b[0;37m => \u001b[0m\"1variables sent\",\n",
        "          :timestamp\u001b[0;37m => \u001b[0m\"2015-03-23 07:52:46\",\n",
        "          :variables\u001b[0;37m => \u001b[0m{\n",
        "             :name\u001b[0;37m => \u001b[0m\"SomeValue\",\n",
        "            :value\u001b[0;37m => \u001b[0m\"some cool value\"\n",
        "        }\n",
        "    }\n",
        "}\n"
       ]
      },
      {
       "metadata": {},
       "output_type": "pyout",
       "prompt_number": 118,
       "text": [
        "\"some cool value\""
       ]
      }
     ],
     "prompt_number": 118
    },
    {
     "cell_type": "code",
     "collapsed": false,
     "input": [
      "vars = Processmaker.get_variables(case_id: mycase[:case_id], variables: [\"SomeValue1\", \"SomeValue2\"])"
     ],
     "language": "python",
     "metadata": {},
     "outputs": [
      {
       "output_type": "stream",
       "stream": "stdout",
       "text": [
        "I, [2015-03-23T13:54:58.898402 #25454]  INFO -- : SOAP request: http://si-dev01.si.is.co.za/sysworkflow/en/classic/services/soap2\n"
       ]
      },
      {
       "output_type": "stream",
       "stream": "stdout",
       "text": [
        "I, [2015-03-23T13:54:58.898676 #25454]  INFO -- : SOAPAction: \"urn:getVariables\", Content-Type: text/xml;charset=UTF-8, Content-Length: 576\n"
       ]
      },
      {
       "output_type": "stream",
       "stream": "stdout",
       "text": [
        "D, [2015-03-23T13:54:58.898789 #25454] DEBUG -- : <?xml version=\"1.0\" encoding=\"UTF-8\"?><env:Envelope xmlns:xsd=\"http://www.w3.org/2001/XMLSchema\" xmlns:xsi=\"http://www.w3.org/2001/XMLSchema-instance\" xmlns:xs0=\"http://www.processmaker.com\" xmlns:env=\"http://schemas.xmlsoap.org/soap/envelope/\"><env:Body><xs0:getVariablesRequest><xs0:sessionId>785913845550ffe8dbc0887020251512</xs0:sessionId><xs0:caseId>208736094550ffe8dd99a34092516883</xs0:caseId><xs0:variables><xs0:name>SomeValue1</xs0:name></xs0:variables><xs0:variables><xs0:name>SomeValue2</xs0:name></xs0:variables></xs0:getVariablesRequest></env:Body></env:Envelope>\n"
       ]
      },
      {
       "output_type": "stream",
       "stream": "stdout",
       "text": [
        "D, [2015-03-23T13:54:58.898976 #25454] DEBUG -- : HTTPI POST request to si-dev01.si.is.co.za (net_http)\n"
       ]
      },
      {
       "output_type": "stream",
       "stream": "stdout",
       "text": [
        "I, [2015-03-23T13:54:58.929283 #25454]  INFO -- : SOAP response (status 200)\n"
       ]
      },
      {
       "output_type": "stream",
       "stream": "stdout",
       "text": [
        "D, [2015-03-23T13:54:58.929574 #25454] DEBUG -- : <?xml version=\"1.0\" encoding=\"UTF-8\"?>\n",
        "<SOAP-ENV:Envelope xmlns:SOAP-ENV=\"http://schemas.xmlsoap.org/soap/envelope/\" xmlns:ns1=\"http://www.processmaker.com\"><SOAP-ENV:Body><ns1:getVariablesResponse><ns1:status_code>0</ns1:status_code><ns1:message>2variables sent</ns1:message><ns1:timestamp>2015-03-23 07:52:46</ns1:timestamp><ns1:variables><ns1:name>SomeValue1</ns1:name><ns1:value>1</ns1:value></ns1:variables><ns1:variables><ns1:name>SomeValue2</ns1:name><ns1:value>2</ns1:value></ns1:variables></ns1:getVariablesResponse></SOAP-ENV:Body></SOAP-ENV:Envelope>\n",
        "\n"
       ]
      },
      {
       "output_type": "stream",
       "stream": "stdout",
       "text": [
        "{\n",
        "    :get_variables_response\u001b[0;37m => \u001b[0m{\n",
        "        :status_code\u001b[0;37m => \u001b[0m\"0\",\n",
        "            :message\u001b[0;37m => \u001b[0m\"2variables sent\",\n",
        "          :timestamp\u001b[0;37m => \u001b[0m\"2015-03-23 07:52:46\",\n",
        "          :variables\u001b[0;37m => \u001b[0m[\n",
        "            \u001b[1;37m[0] \u001b[0m{\n",
        "                 :name\u001b[0;37m => \u001b[0m\"SomeValue1\",\n",
        "                :value\u001b[0;37m => \u001b[0m\"1\"\n",
        "            },\n",
        "            \u001b[1;37m[1] \u001b[0m{\n",
        "                 :name\u001b[0;37m => \u001b[0m\"SomeValue2\",\n",
        "                :value\u001b[0;37m => \u001b[0m\"2\"\n",
        "            }\n",
        "        ]\n",
        "    }\n",
        "}\n"
       ]
      },
      {
       "metadata": {},
       "output_type": "pyout",
       "prompt_number": 119,
       "text": [
        "[{:name=>\"SomeValue1\", :value=>\"1\"}, {:name=>\"SomeValue2\", :value=>\"2\"}]"
       ]
      }
     ],
     "prompt_number": 119
    },
    {
     "cell_type": "code",
     "collapsed": false,
     "input": [
      "varnames = Processmaker.get_variables_names(case_id: mycase[:case_id])"
     ],
     "language": "python",
     "metadata": {},
     "outputs": [
      {
       "output_type": "stream",
       "stream": "stdout",
       "text": [
        "I, [2015-03-23T13:54:58.938589 #25454]  INFO -- : SOAP request: http://si-dev01.si.is.co.za/sysworkflow/en/classic/services/soap2\n"
       ]
      },
      {
       "output_type": "stream",
       "stream": "stdout",
       "text": [
        "I, [2015-03-23T13:54:58.938769 #25454]  INFO -- : SOAPAction: \"urn:getVariablesNames\", Content-Type: text/xml;charset=UTF-8, Content-Length: 462\n"
       ]
      },
      {
       "output_type": "stream",
       "stream": "stdout",
       "text": [
        "D, [2015-03-23T13:54:58.939004 #25454] DEBUG -- : <?xml version=\"1.0\" encoding=\"UTF-8\"?><env:Envelope xmlns:xsd=\"http://www.w3.org/2001/XMLSchema\" xmlns:xsi=\"http://www.w3.org/2001/XMLSchema-instance\" xmlns:xs0=\"http://www.processmaker.com\" xmlns:env=\"http://schemas.xmlsoap.org/soap/envelope/\"><env:Body><xs0:getVariablesNamesRequest><xs0:sessionId>785913845550ffe8dbc0887020251512</xs0:sessionId><xs0:caseId>208736094550ffe8dd99a34092516883</xs0:caseId></xs0:getVariablesNamesRequest></env:Body></env:Envelope>\n"
       ]
      },
      {
       "output_type": "stream",
       "stream": "stdout",
       "text": [
        "D, [2015-03-23T13:54:58.939309 #25454] DEBUG -- : HTTPI POST request to si-dev01.si.is.co.za (net_http)\n"
       ]
      },
      {
       "output_type": "stream",
       "stream": "stdout",
       "text": [
        "I, [2015-03-23T13:54:58.967203 #25454]  INFO -- : SOAP response (status 200)\n"
       ]
      },
      {
       "output_type": "stream",
       "stream": "stdout",
       "text": [
        "D, [2015-03-23T13:54:58.967488 #25454] DEBUG -- : <?xml version=\"1.0\" encoding=\"UTF-8\"?>\n",
        "<SOAP-ENV:Envelope xmlns:SOAP-ENV=\"http://schemas.xmlsoap.org/soap/envelope/\" xmlns:ns1=\"http://www.processmaker.com\"><SOAP-ENV:Body><ns1:getVariablesNamesResponse><ns1:status_code>0</ns1:status_code><ns1:message>13variables sent</ns1:message><ns1:timestamp>2015-03-23 07:52:46</ns1:timestamp><ns1:variables><ns1:name>SYS_LANG</ns1:name></ns1:variables><ns1:variables><ns1:name>SYS_SKIN</ns1:name></ns1:variables><ns1:variables><ns1:name>SYS_SYS</ns1:name></ns1:variables><ns1:variables><ns1:name>APPLICATION</ns1:name></ns1:variables><ns1:variables><ns1:name>PROCESS</ns1:name></ns1:variables><ns1:variables><ns1:name>TASK</ns1:name></ns1:variables><ns1:variables><ns1:name>INDEX</ns1:name></ns1:variables><ns1:variables><ns1:name>USER_LOGGED</ns1:name></ns1:variables><ns1:variables><ns1:name>USR_USERNAME</ns1:name></ns1:variables><ns1:variables><ns1:name>PIN</ns1:name></ns1:variables><ns1:variables><ns1:name>SomeValue</ns1:name></ns1:variables><ns1:variables><ns1:name>SomeValue1</ns1:name></ns1:variables><ns1:variables><ns1:name>SomeValue2</ns1:name></ns1:variables></ns1:getVariablesNamesResponse></SOAP-ENV:Body></SOAP-ENV:Envelope>\n",
        "\n"
       ]
      },
      {
       "metadata": {},
       "output_type": "pyout",
       "prompt_number": 120,
       "text": [
        "[\"SYS_LANG\", \"SYS_SKIN\", \"SYS_SYS\", \"APPLICATION\", \"PROCESS\", \"TASK\", \"INDEX\", \"USER_LOGGED\", \"USR_USERNAME\", \"PIN\", \"SomeValue\", \"SomeValue1\", \"SomeValue2\"]"
       ]
      }
     ],
     "prompt_number": 120
    },
    {
     "cell_type": "code",
     "collapsed": false,
     "input": [
      "ap Processmaker.client.operations"
     ],
     "language": "python",
     "metadata": {},
     "outputs": [
      {
       "output_type": "stream",
       "stream": "stdout",
       "text": [
        "[\n",
        "    \u001b[1;37m[ 0] \u001b[0m\u001b[0;36m:login\u001b[0m,\n",
        "    \u001b[1;37m[ 1] \u001b[0m\u001b[0;36m:process_list\u001b[0m,\n",
        "    \u001b[1;37m[ 2] \u001b[0m\u001b[0;36m:role_list\u001b[0m,\n",
        "    \u001b[1;37m[ 3] \u001b[0m\u001b[0;36m:group_list\u001b[0m,\n",
        "    \u001b[1;37m[ 4] \u001b[0m\u001b[0;36m:department_list\u001b[0m,\n",
        "    \u001b[1;37m[ 5] \u001b[0m\u001b[0;36m:user_list\u001b[0m,\n",
        "    \u001b[1;37m[ 6] \u001b[0m\u001b[0;36m:case_list\u001b[0m,\n",
        "    \u001b[1;37m[ 7] \u001b[0m\u001b[0;36m:unassigned_case_list\u001b[0m,\n",
        "    \u001b[1;37m[ 8] \u001b[0m\u001b[0;36m:create_user\u001b[0m,\n",
        "    \u001b[1;37m[ 9] \u001b[0m\u001b[0;36m:update_user\u001b[0m,\n",
        "    \u001b[1;37m[10] \u001b[0m\u001b[0;36m:information_user\u001b[0m,\n",
        "    \u001b[1;37m[11] \u001b[0m\u001b[0;36m:create_group\u001b[0m,\n",
        "    \u001b[1;37m[12] \u001b[0m\u001b[0;36m:create_department\u001b[0m,\n",
        "    \u001b[1;37m[13] \u001b[0m\u001b[0;36m:assign_user_to_group\u001b[0m,\n",
        "    \u001b[1;37m[14] \u001b[0m\u001b[0;36m:assign_user_to_department\u001b[0m,\n",
        "    \u001b[1;37m[15] \u001b[0m\u001b[0;36m:new_case\u001b[0m,\n",
        "    \u001b[1;37m[16] \u001b[0m\u001b[0;36m:reassign_case\u001b[0m,\n",
        "    \u001b[1;37m[17] \u001b[0m\u001b[0;36m:new_case_impersonate\u001b[0m,\n",
        "    \u001b[1;37m[18] \u001b[0m\u001b[0;36m:route_case\u001b[0m,\n",
        "    \u001b[1;37m[19] \u001b[0m\u001b[0;36m:execute_trigger\u001b[0m,\n",
        "    \u001b[1;37m[20] \u001b[0m\u001b[0;36m:send_variables\u001b[0m,\n",
        "    \u001b[1;37m[21] \u001b[0m\u001b[0;36m:get_variables\u001b[0m,\n",
        "    \u001b[1;37m[22] \u001b[0m\u001b[0;36m:get_variables_names\u001b[0m,\n",
        "    \u001b[1;37m[23] \u001b[0m\u001b[0;36m:send_message\u001b[0m,\n",
        "    \u001b[1;37m[24] \u001b[0m\u001b[0;36m:get_case_info\u001b[0m,\n",
        "    \u001b[1;37m[25] \u001b[0m\u001b[0;36m:task_list\u001b[0m,\n",
        "    \u001b[1;37m[26] \u001b[0m\u001b[0;36m:task_case\u001b[0m,\n",
        "    \u001b[1;37m[27] \u001b[0m\u001b[0;36m:system_information\u001b[0m,\n",
        "    \u001b[1;37m[28] \u001b[0m\u001b[0;36m:trigger_list\u001b[0m,\n",
        "    \u001b[1;37m[29] \u001b[0m\u001b[0;36m:output_document_list\u001b[0m,\n",
        "    \u001b[1;37m[30] \u001b[0m\u001b[0;36m:input_document_list\u001b[0m,\n",
        "    \u001b[1;37m[31] \u001b[0m\u001b[0;36m:input_document_process_list\u001b[0m,\n",
        "    \u001b[1;37m[32] \u001b[0m\u001b[0;36m:remove_document\u001b[0m,\n",
        "    \u001b[1;37m[33] \u001b[0m\u001b[0;36m:get_case_notes\u001b[0m,\n",
        "    \u001b[1;37m[34] \u001b[0m\u001b[0;36m:remove_user_from_group\u001b[0m,\n",
        "    \u001b[1;37m[35] \u001b[0m\u001b[0;36m:delete_case\u001b[0m,\n",
        "    \u001b[1;37m[36] \u001b[0m\u001b[0;36m:cancel_case\u001b[0m,\n",
        "    \u001b[1;37m[37] \u001b[0m\u001b[0;36m:pause_case\u001b[0m,\n",
        "    \u001b[1;37m[38] \u001b[0m\u001b[0;36m:unpause_case\u001b[0m,\n",
        "    \u001b[1;37m[39] \u001b[0m\u001b[0;36m:add_case_note\u001b[0m,\n",
        "    \u001b[1;37m[40] \u001b[0m\u001b[0;36m:claim_case\u001b[0m\n",
        "]\n"
       ]
      }
     ],
     "prompt_number": 121
    },
    {
     "cell_type": "heading",
     "level": 1,
     "metadata": {},
     "source": [
      "Variable data validation"
     ]
    },
    {
     "cell_type": "code",
     "collapsed": false,
     "input": [
      "Processmaker.send_variable(\"SomeValue\", \"Task 4\", case_id: mycase[:case_id])"
     ],
     "language": "python",
     "metadata": {},
     "outputs": [
      {
       "output_type": "stream",
       "stream": "stdout",
       "text": [
        "\u001b[1;31mnil\u001b[0m\n"
       ]
      },
      {
       "output_type": "stream",
       "stream": "stdout",
       "text": [
        "I, [2015-03-23T13:54:58.981817 #25454]  INFO -- : SOAP request: http://si-dev01.si.is.co.za/sysworkflow/en/classic/services/soap2\n"
       ]
      },
      {
       "output_type": "stream",
       "stream": "stdout",
       "text": [
        "I, [2015-03-23T13:54:58.982025 #25454]  INFO -- : SOAPAction: \"urn:sendVariables\", Content-Type: text/xml;charset=UTF-8, Content-Length: 544\n"
       ]
      },
      {
       "output_type": "stream",
       "stream": "stdout",
       "text": [
        "D, [2015-03-23T13:54:58.982128 #25454] DEBUG -- : <?xml version=\"1.0\" encoding=\"UTF-8\"?><env:Envelope xmlns:xsd=\"http://www.w3.org/2001/XMLSchema\" xmlns:xsi=\"http://www.w3.org/2001/XMLSchema-instance\" xmlns:xs0=\"http://www.processmaker.com\" xmlns:env=\"http://schemas.xmlsoap.org/soap/envelope/\"><env:Body><xs0:sendVariablesRequest><xs0:sessionId>785913845550ffe8dbc0887020251512</xs0:sessionId><xs0:caseId>208736094550ffe8dd99a34092516883</xs0:caseId><xs0:variables><xs0:name>SomeValue</xs0:name><xs0:value>Task 4</xs0:value></xs0:variables></xs0:sendVariablesRequest></env:Body></env:Envelope>\n"
       ]
      },
      {
       "output_type": "stream",
       "stream": "stdout",
       "text": [
        "D, [2015-03-23T13:54:58.982294 #25454] DEBUG -- : HTTPI POST request to si-dev01.si.is.co.za (net_http)\n"
       ]
      },
      {
       "output_type": "stream",
       "stream": "stdout",
       "text": [
        "I, [2015-03-23T13:54:59.027943 #25454]  INFO -- : SOAP response (status 200)\n"
       ]
      },
      {
       "output_type": "stream",
       "stream": "stdout",
       "text": [
        "D, [2015-03-23T13:54:59.028234 #25454] DEBUG -- : <?xml version=\"1.0\" encoding=\"UTF-8\"?>\n",
        "<SOAP-ENV:Envelope xmlns:SOAP-ENV=\"http://schemas.xmlsoap.org/soap/envelope/\" xmlns:ns1=\"http://www.processmaker.com\"><SOAP-ENV:Body><ns1:pmResponse><ns1:status_code>0</ns1:status_code><ns1:message>1 variables received: \n",
        "(\n",
        "    [SomeValue] =&gt; Task 4\n",
        ")</ns1:message><ns1:timestamp>2015-03-23 07:52:46</ns1:timestamp></ns1:pmResponse></SOAP-ENV:Body></SOAP-ENV:Envelope>\n",
        "\n"
       ]
      },
      {
       "output_type": "stream",
       "stream": "stdout",
       "text": [
        "{\n",
        "    :pm_response\u001b[0;37m => \u001b[0m{\n",
        "        :status_code\u001b[0;37m => \u001b[0m\"0\",\n",
        "            :message\u001b[0;37m => \u001b[0m\"1 variables received: \\n(\\n    [SomeValue] => Task 4\\n)\",\n",
        "          :timestamp\u001b[0;37m => \u001b[0m\"2015-03-23 07:52:46\"\n",
        "    }\n",
        "}\n"
       ]
      }
     ],
     "prompt_number": 122
    },
    {
     "cell_type": "code",
     "collapsed": false,
     "input": [
      "Processmaker.get_variable(\"SomeValue\", case_id: mycase[:case_id])"
     ],
     "language": "python",
     "metadata": {},
     "outputs": [
      {
       "output_type": "stream",
       "stream": "stdout",
       "text": [
        "I, [2015-03-23T13:54:59.036680 #25454]  INFO -- : SOAP request: http://si-dev01.si.is.co.za/sysworkflow/en/classic/services/soap2\n"
       ]
      },
      {
       "output_type": "stream",
       "stream": "stdout",
       "text": [
        "I, [2015-03-23T13:54:59.036880 #25454]  INFO -- : SOAPAction: \"urn:getVariables\", Content-Type: text/xml;charset=UTF-8, Content-Length: 513\n"
       ]
      },
      {
       "output_type": "stream",
       "stream": "stdout",
       "text": [
        "D, [2015-03-23T13:54:59.037248 #25454] DEBUG -- : <?xml version=\"1.0\" encoding=\"UTF-8\"?><env:Envelope xmlns:xsd=\"http://www.w3.org/2001/XMLSchema\" xmlns:xsi=\"http://www.w3.org/2001/XMLSchema-instance\" xmlns:xs0=\"http://www.processmaker.com\" xmlns:env=\"http://schemas.xmlsoap.org/soap/envelope/\"><env:Body><xs0:getVariablesRequest><xs0:sessionId>785913845550ffe8dbc0887020251512</xs0:sessionId><xs0:caseId>208736094550ffe8dd99a34092516883</xs0:caseId><xs0:variables><xs0:name>SomeValue</xs0:name></xs0:variables></xs0:getVariablesRequest></env:Body></env:Envelope>\n"
       ]
      },
      {
       "output_type": "stream",
       "stream": "stdout",
       "text": [
        "D, [2015-03-23T13:54:59.037487 #25454] DEBUG -- : HTTPI POST request to si-dev01.si.is.co.za (net_http)\n"
       ]
      },
      {
       "output_type": "stream",
       "stream": "stdout",
       "text": [
        "I, [2015-03-23T13:54:59.067911 #25454]  INFO -- : SOAP response (status 200)\n"
       ]
      },
      {
       "output_type": "stream",
       "stream": "stdout",
       "text": [
        "D, [2015-03-23T13:54:59.068200 #25454] DEBUG -- : <?xml version=\"1.0\" encoding=\"UTF-8\"?>\n",
        "<SOAP-ENV:Envelope xmlns:SOAP-ENV=\"http://schemas.xmlsoap.org/soap/envelope/\" xmlns:ns1=\"http://www.processmaker.com\"><SOAP-ENV:Body><ns1:getVariablesResponse><ns1:status_code>0</ns1:status_code><ns1:message>1variables sent</ns1:message><ns1:timestamp>2015-03-23 07:52:46</ns1:timestamp><ns1:variables><ns1:name>SomeValue</ns1:name><ns1:value>Task 4</ns1:value></ns1:variables></ns1:getVariablesResponse></SOAP-ENV:Body></SOAP-ENV:Envelope>\n",
        "\n"
       ]
      },
      {
       "output_type": "stream",
       "stream": "stdout",
       "text": [
        "{\n",
        "    :get_variables_response\u001b[0;37m => \u001b[0m{\n",
        "        :status_code\u001b[0;37m => \u001b[0m\"0\",\n",
        "            :message\u001b[0;37m => \u001b[0m\"1variables sent\",\n",
        "          :timestamp\u001b[0;37m => \u001b[0m\"2015-03-23 07:52:46\",\n",
        "          :variables\u001b[0;37m => \u001b[0m{\n",
        "             :name\u001b[0;37m => \u001b[0m\"SomeValue\",\n",
        "            :value\u001b[0;37m => \u001b[0m\"Task 4\"\n",
        "        }\n",
        "    }\n",
        "}\n"
       ]
      },
      {
       "metadata": {},
       "output_type": "pyout",
       "prompt_number": 123,
       "text": [
        "\"Task 4\""
       ]
      }
     ],
     "prompt_number": 123
    },
    {
     "cell_type": "code",
     "collapsed": false,
     "input": [
      "Processmaker.route_case(case_id: mycase[:case_id])"
     ],
     "language": "python",
     "metadata": {},
     "outputs": [
      {
       "output_type": "stream",
       "stream": "stdout",
       "text": [
        "I, [2015-03-23T13:54:59.076863 #25454]  INFO -- : SOAP request: http://si-dev01.si.is.co.za/sysworkflow/en/classic/services/soap2\n"
       ]
      },
      {
       "output_type": "stream",
       "stream": "stdout",
       "text": [
        "I, [2015-03-23T13:54:59.077069 #25454]  INFO -- : SOAPAction: \"urn:routeCase\", Content-Type: text/xml;charset=UTF-8, Content-Length: 476\n"
       ]
      },
      {
       "output_type": "stream",
       "stream": "stdout",
       "text": [
        "D, [2015-03-23T13:54:59.077182 #25454] DEBUG -- : <?xml version=\"1.0\" encoding=\"UTF-8\"?><env:Envelope xmlns:xsd=\"http://www.w3.org/2001/XMLSchema\" xmlns:xsi=\"http://www.w3.org/2001/XMLSchema-instance\" xmlns:xs0=\"http://www.processmaker.com\" xmlns:env=\"http://schemas.xmlsoap.org/soap/envelope/\"><env:Body><xs0:routeCaseRequest><xs0:sessionId>785913845550ffe8dbc0887020251512</xs0:sessionId><xs0:caseId>208736094550ffe8dd99a34092516883</xs0:caseId><xs0:delIndex xsi:nil=\"true\"/></xs0:routeCaseRequest></env:Body></env:Envelope>\n"
       ]
      },
      {
       "output_type": "stream",
       "stream": "stdout",
       "text": [
        "D, [2015-03-23T13:54:59.077371 #25454] DEBUG -- : HTTPI POST request to si-dev01.si.is.co.za (net_http)\n"
       ]
      },
      {
       "output_type": "stream",
       "stream": "stdout",
       "text": [
        "I, [2015-03-23T13:54:59.239879 #25454]  INFO -- : SOAP response (status 200)\n"
       ]
      },
      {
       "output_type": "stream",
       "stream": "stdout",
       "text": [
        "D, [2015-03-23T13:54:59.240169 #25454] DEBUG -- : <?xml version=\"1.0\" encoding=\"UTF-8\"?>\n",
        "<SOAP-ENV:Envelope xmlns:SOAP-ENV=\"http://schemas.xmlsoap.org/soap/envelope/\" xmlns:ns1=\"http://www.processmaker.com\"><SOAP-ENV:Body><ns1:routeCaseResponse><ns1:status_code>0</ns1:status_code><ns1:message>Task 2(irubynotebook) --- 0</ns1:message><ns1:timestamp>2015-03-23 07:52:46</ns1:timestamp><ns1:routing><ns1:userId>46157618755094e812d03c2091230077</ns1:userId><ns1:userName>iruby notebook</ns1:userName><ns1:taskId>182133921550955233965a7049985769</ns1:taskId><ns1:taskName>Task 2</ns1:taskName><ns1:delIndex>2</ns1:delIndex><ns1:delThread>1</ns1:delThread><ns1:delThreadStatus>OPEN</ns1:delThreadStatus></ns1:routing></ns1:routeCaseResponse></SOAP-ENV:Body></SOAP-ENV:Envelope>\n",
        "\n"
       ]
      },
      {
       "metadata": {},
       "output_type": "pyout",
       "prompt_number": 124,
       "text": [
        "{:status_code=>\"0\", :message=>\"Task 2(irubynotebook) --- 0\", :timestamp=>\"2015-03-23 07:52:46\", :routing=>{:user_id=>\"46157618755094e812d03c2091230077\", :user_name=>\"iruby notebook\", :task_id=>\"182133921550955233965a7049985769\", :task_name=>\"Task 2\", :del_index=>\"2\", :del_thread=>\"1\", :del_thread_status=>\"OPEN\"}}"
       ]
      }
     ],
     "prompt_number": 124
    },
    {
     "cell_type": "code",
     "collapsed": false,
     "input": [
      "cases = Processmaker.case_list()"
     ],
     "language": "python",
     "metadata": {},
     "outputs": [
      {
       "output_type": "stream",
       "stream": "stdout",
       "text": [
        "I, [2015-03-23T13:54:59.249134 #25454]  INFO -- : SOAP request: http://si-dev01.si.is.co.za/sysworkflow/en/classic/services/soap2\n"
       ]
      },
      {
       "output_type": "stream",
       "stream": "stdout",
       "text": [
        "I, [2015-03-23T13:54:59.249346 #25454]  INFO -- : SOAPAction: \"urn:caseList\", Content-Type: text/xml;charset=UTF-8, Content-Length: 387\n"
       ]
      },
      {
       "output_type": "stream",
       "stream": "stdout",
       "text": [
        "D, [2015-03-23T13:54:59.249488 #25454] DEBUG -- : <?xml version=\"1.0\" encoding=\"UTF-8\"?><env:Envelope xmlns:xsd=\"http://www.w3.org/2001/XMLSchema\" xmlns:xsi=\"http://www.w3.org/2001/XMLSchema-instance\" xmlns:xs0=\"http://www.processmaker.com\" xmlns:env=\"http://schemas.xmlsoap.org/soap/envelope/\"><env:Body><xs0:caseListRequest><xs0:sessionId>785913845550ffe8dbc0887020251512</xs0:sessionId></xs0:caseListRequest></env:Body></env:Envelope>\n"
       ]
      },
      {
       "output_type": "stream",
       "stream": "stdout",
       "text": [
        "D, [2015-03-23T13:54:59.249759 #25454] DEBUG -- : HTTPI POST request to si-dev01.si.is.co.za (net_http)\n"
       ]
      },
      {
       "output_type": "stream",
       "stream": "stdout",
       "text": [
        "I, [2015-03-23T13:54:59.280816 #25454]  INFO -- : SOAP response (status 200)\n"
       ]
      },
      {
       "output_type": "stream",
       "stream": "stdout",
       "text": [
        "D, [2015-03-23T13:54:59.281111 #25454] DEBUG -- : <?xml version=\"1.0\" encoding=\"UTF-8\"?>\n",
        "<SOAP-ENV:Envelope xmlns:SOAP-ENV=\"http://schemas.xmlsoap.org/soap/envelope/\" xmlns:ns1=\"http://www.processmaker.com\"><SOAP-ENV:Body><ns1:caseListResponse><ns1:cases><ns1:guid>208736094550ffe8dd99a34092516883</ns1:guid><ns1:name>46</ns1:name><ns1:status>TO_DO</ns1:status><ns1:delIndex>2</ns1:delIndex><ns1:processId>98360219855094de74c2f21070070181</ns1:processId></ns1:cases><ns1:cases><ns1:guid>678847726550fdbfdc9ffc3022477505</ns1:guid><ns1:name>43</ns1:name><ns1:status>TO_DO</ns1:status><ns1:delIndex>2</ns1:delIndex><ns1:processId>98360219855094de74c2f21070070181</ns1:processId></ns1:cases><ns1:cases><ns1:guid>548401022550fd84bad0a16098554696</ns1:guid><ns1:name>42</ns1:name><ns1:status>DRAFT</ns1:status><ns1:delIndex>1</ns1:delIndex><ns1:processId>98360219855094de74c2f21070070181</ns1:processId></ns1:cases><ns1:cases><ns1:guid>284343996550fd7a43ed643061321588</ns1:guid><ns1:name>41</ns1:name><ns1:status>DRAFT</ns1:status><ns1:delIndex>1</ns1:delIndex><ns1:processId>98360219855094de74c2f21070070181</ns1:processId></ns1:cases><ns1:cases><ns1:guid>525755352550fd1f17344d8094834463</ns1:guid><ns1:name>39</ns1:name><ns1:status>DRAFT</ns1:status><ns1:delIndex>1</ns1:delIndex><ns1:processId>98360219855094de74c2f21070070181</ns1:processId></ns1:cases><ns1:cases><ns1:guid>494940551550fd17053d2e9034950701</ns1:guid><ns1:name>38</ns1:name><ns1:status>TO_DO</ns1:status><ns1:delIndex>2</ns1:delIndex><ns1:processId>98360219855094de74c2f21070070181</ns1:processId></ns1:cases><ns1:cases><ns1:guid>213768646550fc96f6d6e80008950422</ns1:guid><ns1:name>36</ns1:name><ns1:status>DRAFT</ns1:status><ns1:delIndex>1</ns1:delIndex><ns1:processId>98360219855094de74c2f21070070181</ns1:processId></ns1:cases><ns1:cases><ns1:guid>436908469550fc4c66f40c3083427211</ns1:guid><ns1:name>33</ns1:name><ns1:status>DRAFT</ns1:status><ns1:delIndex>1</ns1:delIndex><ns1:processId>98360219855094de74c2f21070070181</ns1:processId></ns1:cases><ns1:cases><ns1:guid>482570782550c0e1aba7282040998919</ns1:guid><ns1:name>32</ns1:name><ns1:status>DRAFT</ns1:status><ns1:delIndex>1</ns1:delIndex><ns1:processId>98360219855094de74c2f21070070181</ns1:processId></ns1:cases><ns1:cases><ns1:guid>397797619550c0d2a668ec6036219903</ns1:guid><ns1:name>31</ns1:name><ns1:status>DRAFT</ns1:status><ns1:delIndex>1</ns1:delIndex><ns1:processId>98360219855094de74c2f21070070181</ns1:processId></ns1:cases><ns1:cases><ns1:guid>955800922550c0c9ae74e73018918870</ns1:guid><ns1:name>30</ns1:name><ns1:status>DRAFT</ns1:status><ns1:delIndex>1</ns1:delIndex><ns1:processId>98360219855094de74c2f21070070181</ns1:processId></ns1:cases><ns1:cases><ns1:guid>596922600550c088659ed48020162010</ns1:guid><ns1:name>29</ns1:name><ns1:status>DRAFT</ns1:status><ns1:delIndex>1</ns1:delIndex><ns1:processId>98360219855094de74c2f21070070181</ns1:processId></ns1:cases><ns1:cases><ns1:guid>237318296550c06965507d9012281898</ns1:guid><ns1:name>28</ns1:name><ns1:status>DRAFT</ns1:status><ns1:delIndex>1</ns1:delIndex><ns1:processId>98360219855094de74c2f21070070181</ns1:processId></ns1:cases><ns1:cases><ns1:guid>283573070550c026a3e20a2091712011</ns1:guid><ns1:name>27</ns1:name><ns1:status>DRAFT</ns1:status><ns1:delIndex>1</ns1:delIndex><ns1:processId>98360219855094de74c2f21070070181</ns1:processId></ns1:cases><ns1:cases><ns1:guid>632088501550bfd17570718091586381</ns1:guid><ns1:name>26</ns1:name><ns1:status>DRAFT</ns1:status><ns1:delIndex>1</ns1:delIndex><ns1:processId>98360219855094de74c2f21070070181</ns1:processId></ns1:cases><ns1:cases><ns1:guid>243234010550bf8c06f38d6046692822</ns1:guid><ns1:name>25</ns1:name><ns1:status>DRAFT</ns1:status><ns1:delIndex>1</ns1:delIndex><ns1:processId>98360219855094de74c2f21070070181</ns1:processId></ns1:cases><ns1:cases><ns1:guid>848711255550bedde81bfb4014443274</ns1:guid><ns1:name>24</ns1:name><ns1:status>DRAFT</ns1:status><ns1:delIndex>1</ns1:delIndex><ns1:processId>98360219855094de74c2f21070070181</ns1:processId></ns1:cases><ns1:cases><ns1:guid>804962189550bea75927e84027754692</ns1:guid><ns1:name>23</ns1:name><ns1:status>DRAFT</ns1:status><ns1:delIndex>1</ns1:delIndex><ns1:processId>98360219855094de74c2f21070070181</ns1:processId></ns1:cases><ns1:cases><ns1:guid>234223518550be8d33f8038000213657</ns1:guid><ns1:name>22</ns1:name><ns1:status>DRAFT</ns1:status><ns1:delIndex>1</ns1:delIndex><ns1:processId>98360219855094de74c2f21070070181</ns1:processId></ns1:cases><ns1:cases><ns1:guid>362910318550be6afdb7fb3098878611</ns1:guid><ns1:name>21</ns1:name><ns1:status>DRAFT</ns1:status><ns1:delIndex>1</ns1:delIndex><ns1:processId>98360219855094de74c2f21070070181</ns1:processId></ns1:cases><ns1:cases><ns1:guid>400788985550be6257681a1046956741</ns1:guid><ns1:name>20</ns1:name><ns1:status>DRAFT</ns1:status><ns1:delIndex>1</ns1:delIndex><ns1:processId>98360219855094de74c2f21070070181</ns1:processId></ns1:cases><ns1:cases><ns1:guid>141401808550be09dbc4360000959865</ns1:guid><ns1:name>19</ns1:name><ns1:status>DRAFT</ns1:status><ns1:delIndex>1</ns1:delIndex><ns1:processId>98360219855094de74c2f21070070181</ns1:processId></ns1:cases><ns1:cases><ns1:guid>761090587550bde1d1acf46078070193</ns1:guid><ns1:name>18</ns1:name><ns1:status>DRAFT</ns1:status><ns1:delIndex>1</ns1:delIndex><ns1:processId>98360219855094de74c2f21070070181</ns1:processId></ns1:cases><ns1:cases><ns1:guid>184078385550bdcbb100343050558793</ns1:guid><ns1:name>17</ns1:name><ns1:status>DRAFT</ns1:status><ns1:delIndex>1</ns1:delIndex><ns1:processId>98360219855094de74c2f21070070181</ns1:processId></ns1:cases><ns1:cases><ns1:guid>274821792550bd02d9140a4006137622</ns1:guid><ns1:name>16</ns1:name><ns1:status>DRAFT</ns1:status><ns1:delIndex>1</ns1:delIndex><ns1:processId>98360219855094de74c2f21070070181</ns1:processId></ns1:cases><ns1:cases><ns1:guid>388651703550bcfedd04a01034849952</ns1:guid><ns1:name>15</ns1:name><ns1:status>DRAFT</ns1:status><ns1:delIndex>1</ns1:delIndex><ns1:processId>98360219855094de74c2f21070070181</ns1:processId></ns1:cases><ns1:cases><ns1:guid>932965532550bcfcc5f17f1033422526</ns1:guid><ns1:name>14</ns1:name><ns1:status>DRAFT</ns1:status><ns1:delIndex>1</ns1:delIndex><ns1:processId>98360219855094de74c2f21070070181</ns1:processId></ns1:cases><ns1:cases><ns1:guid>792680878550bcfbbd29fe7062507921</ns1:guid><ns1:name>13</ns1:name><ns1:status>DRAFT</ns1:status><ns1:delIndex>1</ns1:delIndex><ns1:processId>98360219855094de74c2f21070070181</ns1:processId></ns1:cases><ns1:cases><ns1:guid>132979844550bcd20e35241046981854</ns1:guid><ns1:name>12</ns1:name><ns1:status>DRAFT</ns1:status><ns1:delIndex>1</ns1:delIndex><ns1:processId>98360219855094de74c2f21070070181</ns1:processId></ns1:cases><ns1:cases><ns1:guid>797851868550bcbec37e6e2042690144</ns1:guid><ns1:name>11</ns1:name><ns1:status>DRAFT</ns1:status><ns1:delIndex>1</ns1:delIndex><ns1:processId>98360219855094de74c2f21070070181</ns1:processId></ns1:cases><ns1:cases><ns1:guid>132775818550bcb92e4b897072112889</ns1:guid><ns1:name>10</ns1:name><ns1:status>DRAFT</ns1:status><ns1:delIndex>1</ns1:delIndex><ns1:processId>98360219855094de74c2f21070070181</ns1:processId></ns1:cases><ns1:cases><ns1:guid>755635250550bcb76656af8063305134</ns1:guid><ns1:name>9</ns1:name><ns1:status>DRAFT</ns1:status><ns1:delIndex>1</ns1:delIndex><ns1:processId>98360219855094de74c2f21070070181</ns1:processId></ns1:cases><ns1:cases><ns1:guid>207506336550bc8cde88145054158821</ns1:guid><ns1:name>8</ns1:name><ns1:status>DRAFT</ns1:status><ns1:delIndex>1</ns1:delIndex><ns1:processId>98360219855094de74c2f21070070181</ns1:processId></ns1:cases><ns1:cases><ns1:guid>177046091550bc8b76d06f2065623366</ns1:guid><ns1:name>7</ns1:name><ns1:status>DRAFT</ns1:status><ns1:delIndex>1</ns1:delIndex><ns1:processId>98360219855094de74c2f21070070181</ns1:processId></ns1:cases><ns1:cases><ns1:guid>280771130550bc8b041e8b1064781409</ns1:guid><ns1:name>6</ns1:name><ns1:status>DRAFT</ns1:status><ns1:delIndex>1</ns1:delIndex><ns1:processId>98360219855094de74c2f21070070181</ns1:processId></ns1:cases><ns1:cases><ns1:guid>698434432550961d7193016021833262</ns1:guid><ns1:name>2</ns1:name><ns1:status>DRAFT</ns1:status><ns1:delIndex>1</ns1:delIndex><ns1:processId>98360219855094de74c2f21070070181</ns1:processId></ns1:cases><ns1:cases><ns1:guid>36064186555095f2b156d68001769491</ns1:guid><ns1:name>1</ns1:name><ns1:status>DRAFT</ns1:status><ns1:delIndex>1</ns1:delIndex><ns1:processId>98360219855094de74c2f21070070181</ns1:processId></ns1:cases></ns1:caseListResponse></SOAP-ENV:Body></SOAP-ENV:Envelope>\n",
        "\n"
       ]
      },
      {
       "metadata": {},
       "output_type": "pyout",
       "prompt_number": 125,
       "text": [
        "[{:guid=>\"208736094550ffe8dd99a34092516883\", :name=>\"46\", :status=>\"TO_DO\", :del_index=>\"2\", :process_id=>\"98360219855094de74c2f21070070181\"}, {:guid=>\"678847726550fdbfdc9ffc3022477505\", :name=>\"43\", :status=>\"TO_DO\", :del_index=>\"2\", :process_id=>\"98360219855094de74c2f21070070181\"}, {:guid=>\"548401022550fd84bad0a16098554696\", :name=>\"42\", :status=>\"DRAFT\", :del_index=>\"1\", :process_id=>\"98360219855094de74c2f21070070181\"}, {:guid=>\"284343996550fd7a43ed643061321588\", :name=>\"41\", :status=>\"DRAFT\", :del_index=>\"1\", :process_id=>\"98360219855094de74c2f21070070181\"}, {:guid=>\"525755352550fd1f17344d8094834463\", :name=>\"39\", :status=>\"DRAFT\", :del_index=>\"1\", :process_id=>\"98360219855094de74c2f21070070181\"}, {:guid=>\"494940551550fd17053d2e9034950701\", :name=>\"38\", :status=>\"TO_DO\", :del_index=>\"2\", :process_id=>\"98360219855094de74c2f21070070181\"}, {:guid=>\"213768646550fc96f6d6e80008950422\", :name=>\"36\", :status=>\"DRAFT\", :del_index=>\"1\", :process_id=>\"98360219855094de74c2f21070070181\"}, {:guid=>\"436908469550fc4c66f40c3083427211\", :name=>\"33\", :status=>\"DRAFT\", :del_index=>\"1\", :process_id=>\"98360219855094de74c2f21070070181\"}, {:guid=>\"482570782550c0e1aba7282040998919\", :name=>\"32\", :status=>\"DRAFT\", :del_index=>\"1\", :process_id=>\"98360219855094de74c2f21070070181\"}, {:guid=>\"397797619550c0d2a668ec6036219903\", :name=>\"31\", :status=>\"DRAFT\", :del_index=>\"1\", :process_id=>\"98360219855094de74c2f21070070181\"}, {:guid=>\"955800922550c0c9ae74e73018918870\", :name=>\"30\", :status=>\"DRAFT\", :del_index=>\"1\", :process_id=>\"98360219855094de74c2f21070070181\"}, {:guid=>\"596922600550c088659ed48020162010\", :name=>\"29\", :status=>\"DRAFT\", :del_index=>\"1\", :process_id=>\"98360219855094de74c2f21070070181\"}, {:guid=>\"237318296550c06965507d9012281898\", :name=>\"28\", :status=>\"DRAFT\", :del_index=>\"1\", :process_id=>\"98360219855094de74c2f21070070181\"}, {:guid=>\"283573070550c026a3e20a2091712011\", :name=>\"27\", :status=>\"DRAFT\", :del_index=>\"1\", :process_id=>\"98360219855094de74c2f21070070181\"}, {:guid=>\"632088501550bfd17570718091586381\", :name=>\"26\", :status=>\"DRAFT\", :del_index=>\"1\", :process_id=>\"98360219855094de74c2f21070070181\"}, {:guid=>\"243234010550bf8c06f38d6046692822\", :name=>\"25\", :status=>\"DRAFT\", :del_index=>\"1\", :process_id=>\"98360219855094de74c2f21070070181\"}, {:guid=>\"848711255550bedde81bfb4014443274\", :name=>\"24\", :status=>\"DRAFT\", :del_index=>\"1\", :process_id=>\"98360219855094de74c2f21070070181\"}, {:guid=>\"804962189550bea75927e84027754692\", :name=>\"23\", :status=>\"DRAFT\", :del_index=>\"1\", :process_id=>\"98360219855094de74c2f21070070181\"}, {:guid=>\"234223518550be8d33f8038000213657\", :name=>\"22\", :status=>\"DRAFT\", :del_index=>\"1\", :process_id=>\"98360219855094de74c2f21070070181\"}, {:guid=>\"362910318550be6afdb7fb3098878611\", :name=>\"21\", :status=>\"DRAFT\", :del_index=>\"1\", :process_id=>\"98360219855094de74c2f21070070181\"}, {:guid=>\"400788985550be6257681a1046956741\", :name=>\"20\", :status=>\"DRAFT\", :del_index=>\"1\", :process_id=>\"98360219855094de74c2f21070070181\"}, {:guid=>\"141401808550be09dbc4360000959865\", :name=>\"19\", :status=>\"DRAFT\", :del_index=>\"1\", :process_id=>\"98360219855094de74c2f21070070181\"}, {:guid=>\"761090587550bde1d1acf46078070193\", :name=>\"18\", :status=>\"DRAFT\", :del_index=>\"1\", :process_id=>\"98360219855094de74c2f21070070181\"}, {:guid=>\"184078385550bdcbb100343050558793\", :name=>\"17\", :status=>\"DRAFT\", :del_index=>\"1\", :process_id=>\"98360219855094de74c2f21070070181\"}, {:guid=>\"274821792550bd02d9140a4006137622\", :name=>\"16\", :status=>\"DRAFT\", :del_index=>\"1\", :process_id=>\"98360219855094de74c2f21070070181\"}, {:guid=>\"388651703550bcfedd04a01034849952\", :name=>\"15\", :status=>\"DRAFT\", :del_index=>\"1\", :process_id=>\"98360219855094de74c2f21070070181\"}, {:guid=>\"932965532550bcfcc5f17f1033422526\", :name=>\"14\", :status=>\"DRAFT\", :del_index=>\"1\", :process_id=>\"98360219855094de74c2f21070070181\"}, {:guid=>\"792680878550bcfbbd29fe7062507921\", :name=>\"13\", :status=>\"DRAFT\", :del_index=>\"1\", :process_id=>\"98360219855094de74c2f21070070181\"}, {:guid=>\"132979844550bcd20e35241046981854\", :name=>\"12\", :status=>\"DRAFT\", :del_index=>\"1\", :process_id=>\"98360219855094de74c2f21070070181\"}, {:guid=>\"797851868550bcbec37e6e2042690144\", :name=>\"11\", :status=>\"DRAFT\", :del_index=>\"1\", :process_id=>\"98360219855094de74c2f21070070181\"}, {:guid=>\"132775818550bcb92e4b897072112889\", :name=>\"10\", :status=>\"DRAFT\", :del_index=>\"1\", :process_id=>\"98360219855094de74c2f21070070181\"}, {:guid=>\"755635250550bcb76656af8063305134\", :name=>\"9\", :status=>\"DRAFT\", :del_index=>\"1\", :process_id=>\"98360219855094de74c2f21070070181\"}, {:guid=>\"207506336550bc8cde88145054158821\", :name=>\"8\", :status=>\"DRAFT\", :del_index=>\"1\", :process_id=>\"98360219855094de74c2f21070070181\"}, {:guid=>\"177046091550bc8b76d06f2065623366\", :name=>\"7\", :status=>\"DRAFT\", :del_index=>\"1\", :process_id=>\"98360219855094de74c2f21070070181\"}, {:guid=>\"280771130550bc8b041e8b1064781409\", :name=>\"6\", :status=>\"DRAFT\", :del_index=>\"1\", :process_id=>\"98360219855094de74c2f21070070181\"}, {:guid=>\"698434432550961d7193016021833262\", :name=>\"2\", :status=>\"DRAFT\", :del_index=>\"1\", :process_id=>\"98360219855094de74c2f21070070181\"}, {:guid=>\"36064186555095f2b156d68001769491\", :name=>\"1\", :status=>\"DRAFT\", :del_index=>\"1\", :process_id=>\"98360219855094de74c2f21070070181\"}]"
       ]
      }
     ],
     "prompt_number": 125
    },
    {
     "cell_type": "heading",
     "level": 1,
     "metadata": {},
     "source": [
      "Read vars set in PM"
     ]
    },
    {
     "cell_type": "code",
     "collapsed": false,
     "input": [
      "case_open = cases.find { |c| c[:name] == '38' } \n",
      "case_open_info = Processmaker.get_case_info(case_id: case_open[:guid])"
     ],
     "language": "python",
     "metadata": {},
     "outputs": [
      {
       "output_type": "stream",
       "stream": "stdout",
       "text": [
        "I, [2015-03-23T13:54:59.299135 #25454]  INFO -- : SOAP request: http://si-dev01.si.is.co.za/sysworkflow/en/classic/services/soap2\n"
       ]
      },
      {
       "output_type": "stream",
       "stream": "stdout",
       "text": [
        "I, [2015-03-23T13:54:59.299292 #25454]  INFO -- : SOAPAction: \"urn:getCaseInfo\", Content-Type: text/xml;charset=UTF-8, Content-Length: 480\n"
       ]
      },
      {
       "output_type": "stream",
       "stream": "stdout",
       "text": [
        "D, [2015-03-23T13:54:59.299425 #25454] DEBUG -- : <?xml version=\"1.0\" encoding=\"UTF-8\"?><env:Envelope xmlns:xsd=\"http://www.w3.org/2001/XMLSchema\" xmlns:xsi=\"http://www.w3.org/2001/XMLSchema-instance\" xmlns:xs0=\"http://www.processmaker.com\" xmlns:env=\"http://schemas.xmlsoap.org/soap/envelope/\"><env:Body><xs0:getCaseInfoRequest><xs0:sessionId>785913845550ffe8dbc0887020251512</xs0:sessionId><xs0:caseId>494940551550fd17053d2e9034950701</xs0:caseId><xs0:delIndex>1</xs0:delIndex></xs0:getCaseInfoRequest></env:Body></env:Envelope>\n"
       ]
      },
      {
       "output_type": "stream",
       "stream": "stdout",
       "text": [
        "D, [2015-03-23T13:54:59.299626 #25454] DEBUG -- : HTTPI POST request to si-dev01.si.is.co.za (net_http)\n"
       ]
      },
      {
       "output_type": "stream",
       "stream": "stdout",
       "text": [
        "I, [2015-03-23T13:54:59.345455 #25454]  INFO -- : SOAP response (status 200)\n"
       ]
      },
      {
       "output_type": "stream",
       "stream": "stdout",
       "text": [
        "D, [2015-03-23T13:54:59.345759 #25454] DEBUG -- : <?xml version=\"1.0\" encoding=\"UTF-8\"?>\n",
        "<SOAP-ENV:Envelope xmlns:SOAP-ENV=\"http://schemas.xmlsoap.org/soap/envelope/\" xmlns:ns1=\"http://www.processmaker.com\"><SOAP-ENV:Body><ns1:getCaseInfoResponse><ns1:status_code>0</ns1:status_code><ns1:message>Command executed successfully</ns1:message><ns1:caseId>494940551550fd17053d2e9034950701</ns1:caseId><ns1:caseNumber>38</ns1:caseNumber><ns1:caseName>#38</ns1:caseName><ns1:caseStatus>TO_DO</ns1:caseStatus><ns1:caseParalell>N</ns1:caseParalell><ns1:caseCreatorUser>46157618755094e812d03c2091230077</ns1:caseCreatorUser><ns1:caseCreatorUserName>iruby notebook</ns1:caseCreatorUserName><ns1:processId>98360219855094de74c2f21070070181</ns1:processId><ns1:processName>IRuby_notebook_demo</ns1:processName><ns1:createDate>2015-03-23 04:40:16</ns1:createDate><ns1:updateDate>2015-03-23 04:49:33</ns1:updateDate><ns1:currentUsers><ns1:userId>46157618755094e812d03c2091230077</ns1:userId><ns1:userName>iruby notebook</ns1:userName><ns1:taskId>182133921550955233965a7049985769</ns1:taskId><ns1:taskName>Task 2</ns1:taskName><ns1:delIndex>2</ns1:delIndex><ns1:delThread>1</ns1:delThread><ns1:delThreadStatus>OPEN</ns1:delThreadStatus></ns1:currentUsers></ns1:getCaseInfoResponse></SOAP-ENV:Body></SOAP-ENV:Envelope>\n",
        "\n"
       ]
      },
      {
       "metadata": {},
       "output_type": "pyout",
       "prompt_number": 126,
       "text": [
        "{:status_code=>\"0\", :message=>\"Command executed successfully\", :case_id=>\"494940551550fd17053d2e9034950701\", :case_number=>\"38\", :case_name=>\"#38\", :case_status=>\"TO_DO\", :case_paralell=>\"N\", :case_creator_user=>\"46157618755094e812d03c2091230077\", :case_creator_user_name=>\"iruby notebook\", :process_id=>\"98360219855094de74c2f21070070181\", :process_name=>\"IRuby_notebook_demo\", :create_date=>\"2015-03-23 04:40:16\", :update_date=>\"2015-03-23 04:49:33\", :current_users=>{:user_id=>\"46157618755094e812d03c2091230077\", :user_name=>\"iruby notebook\", :task_id=>\"182133921550955233965a7049985769\", :task_name=>\"Task 2\", :del_index=>\"2\", :del_thread=>\"1\", :del_thread_status=>\"OPEN\"}}"
       ]
      }
     ],
     "prompt_number": 126
    },
    {
     "cell_type": "code",
     "collapsed": false,
     "input": [
      "varnames = Processmaker.get_variables_names(case_id: case_open[:guid])"
     ],
     "language": "python",
     "metadata": {},
     "outputs": [
      {
       "output_type": "stream",
       "stream": "stdout",
       "text": [
        "I, [2015-03-23T13:54:59.354755 #25454]  INFO -- : SOAP request: http://si-dev01.si.is.co.za/sysworkflow/en/classic/services/soap2\n"
       ]
      },
      {
       "output_type": "stream",
       "stream": "stdout",
       "text": [
        "I, [2015-03-23T13:54:59.354945 #25454]  INFO -- : SOAPAction: \"urn:getVariablesNames\", Content-Type: text/xml;charset=UTF-8, Content-Length: 462\n"
       ]
      },
      {
       "output_type": "stream",
       "stream": "stdout",
       "text": [
        "D, [2015-03-23T13:54:59.355080 #25454] DEBUG -- : <?xml version=\"1.0\" encoding=\"UTF-8\"?><env:Envelope xmlns:xsd=\"http://www.w3.org/2001/XMLSchema\" xmlns:xsi=\"http://www.w3.org/2001/XMLSchema-instance\" xmlns:xs0=\"http://www.processmaker.com\" xmlns:env=\"http://schemas.xmlsoap.org/soap/envelope/\"><env:Body><xs0:getVariablesNamesRequest><xs0:sessionId>785913845550ffe8dbc0887020251512</xs0:sessionId><xs0:caseId>494940551550fd17053d2e9034950701</xs0:caseId></xs0:getVariablesNamesRequest></env:Body></env:Envelope>\n"
       ]
      },
      {
       "output_type": "stream",
       "stream": "stdout",
       "text": [
        "D, [2015-03-23T13:54:59.355264 #25454] DEBUG -- : HTTPI POST request to si-dev01.si.is.co.za (net_http)\n"
       ]
      },
      {
       "output_type": "stream",
       "stream": "stdout",
       "text": [
        "I, [2015-03-23T13:54:59.382816 #25454]  INFO -- : SOAP response (status 200)\n"
       ]
      },
      {
       "output_type": "stream",
       "stream": "stdout",
       "text": [
        "D, [2015-03-23T13:54:59.383087 #25454] DEBUG -- : <?xml version=\"1.0\" encoding=\"UTF-8\"?>\n",
        "<SOAP-ENV:Envelope xmlns:SOAP-ENV=\"http://schemas.xmlsoap.org/soap/envelope/\" xmlns:ns1=\"http://www.processmaker.com\"><SOAP-ENV:Body><ns1:getVariablesNamesResponse><ns1:status_code>0</ns1:status_code><ns1:message>11variables sent</ns1:message><ns1:timestamp>2015-03-23 07:52:46</ns1:timestamp><ns1:variables><ns1:name>SYS_LANG</ns1:name></ns1:variables><ns1:variables><ns1:name>SYS_SKIN</ns1:name></ns1:variables><ns1:variables><ns1:name>SYS_SYS</ns1:name></ns1:variables><ns1:variables><ns1:name>APPLICATION</ns1:name></ns1:variables><ns1:variables><ns1:name>PROCESS</ns1:name></ns1:variables><ns1:variables><ns1:name>TASK</ns1:name></ns1:variables><ns1:variables><ns1:name>INDEX</ns1:name></ns1:variables><ns1:variables><ns1:name>USER_LOGGED</ns1:name></ns1:variables><ns1:variables><ns1:name>USR_USERNAME</ns1:name></ns1:variables><ns1:variables><ns1:name>PIN</ns1:name></ns1:variables><ns1:variables><ns1:name>SomeValue</ns1:name></ns1:variables></ns1:getVariablesNamesResponse></SOAP-ENV:Body></SOAP-ENV:Envelope>\n",
        "\n"
       ]
      },
      {
       "metadata": {},
       "output_type": "pyout",
       "prompt_number": 127,
       "text": [
        "[\"SYS_LANG\", \"SYS_SKIN\", \"SYS_SYS\", \"APPLICATION\", \"PROCESS\", \"TASK\", \"INDEX\", \"USER_LOGGED\", \"USR_USERNAME\", \"PIN\", \"SomeValue\"]"
       ]
      }
     ],
     "prompt_number": 127
    },
    {
     "cell_type": "code",
     "collapsed": false,
     "input": [
      "Processmaker.get_variable(\"SomeValue\", case_id: case_open[:guid])"
     ],
     "language": "python",
     "metadata": {},
     "outputs": [
      {
       "output_type": "stream",
       "stream": "stdout",
       "text": [
        "I, [2015-03-23T13:54:59.393393 #25454]  INFO -- : SOAP request: http://si-dev01.si.is.co.za/sysworkflow/en/classic/services/soap2\n"
       ]
      },
      {
       "output_type": "stream",
       "stream": "stdout",
       "text": [
        "I, [2015-03-23T13:54:59.393589 #25454]  INFO -- : SOAPAction: \"urn:getVariables\", Content-Type: text/xml;charset=UTF-8, Content-Length: 513\n"
       ]
      },
      {
       "output_type": "stream",
       "stream": "stdout",
       "text": [
        "D, [2015-03-23T13:54:59.393713 #25454] DEBUG -- : <?xml version=\"1.0\" encoding=\"UTF-8\"?><env:Envelope xmlns:xsd=\"http://www.w3.org/2001/XMLSchema\" xmlns:xsi=\"http://www.w3.org/2001/XMLSchema-instance\" xmlns:xs0=\"http://www.processmaker.com\" xmlns:env=\"http://schemas.xmlsoap.org/soap/envelope/\"><env:Body><xs0:getVariablesRequest><xs0:sessionId>785913845550ffe8dbc0887020251512</xs0:sessionId><xs0:caseId>494940551550fd17053d2e9034950701</xs0:caseId><xs0:variables><xs0:name>SomeValue</xs0:name></xs0:variables></xs0:getVariablesRequest></env:Body></env:Envelope>\n"
       ]
      },
      {
       "output_type": "stream",
       "stream": "stdout",
       "text": [
        "D, [2015-03-23T13:54:59.394032 #25454] DEBUG -- : HTTPI POST request to si-dev01.si.is.co.za (net_http)\n"
       ]
      },
      {
       "output_type": "stream",
       "stream": "stdout",
       "text": [
        "I, [2015-03-23T13:54:59.427098 #25454]  INFO -- : SOAP response (status 200)\n"
       ]
      },
      {
       "output_type": "stream",
       "stream": "stdout",
       "text": [
        "D, [2015-03-23T13:54:59.427379 #25454] DEBUG -- : <?xml version=\"1.0\" encoding=\"UTF-8\"?>\n",
        "<SOAP-ENV:Envelope xmlns:SOAP-ENV=\"http://schemas.xmlsoap.org/soap/envelope/\" xmlns:ns1=\"http://www.processmaker.com\"><SOAP-ENV:Body><ns1:getVariablesResponse><ns1:status_code>0</ns1:status_code><ns1:message>1variables sent</ns1:message><ns1:timestamp>2015-03-23 07:52:46</ns1:timestamp><ns1:variables><ns1:name>SomeValue</ns1:name><ns1:value>Foo</ns1:value></ns1:variables></ns1:getVariablesResponse></SOAP-ENV:Body></SOAP-ENV:Envelope>\n",
        "\n"
       ]
      },
      {
       "output_type": "stream",
       "stream": "stdout",
       "text": [
        "{\n",
        "    :get_variables_response\u001b[0;37m => \u001b[0m{\n",
        "        :status_code\u001b[0;37m => \u001b[0m\"0\",\n",
        "            :message\u001b[0;37m => \u001b[0m\"1variables sent\",\n",
        "          :timestamp\u001b[0;37m => \u001b[0m\"2015-03-23 07:52:46\",\n",
        "          :variables\u001b[0;37m => \u001b[0m{\n",
        "             :name\u001b[0;37m => \u001b[0m\"SomeValue\",\n",
        "            :value\u001b[0;37m => \u001b[0m\"Foo\"\n",
        "        }\n",
        "    }\n",
        "}\n"
       ]
      },
      {
       "metadata": {},
       "output_type": "pyout",
       "prompt_number": 128,
       "text": [
        "\"Foo\""
       ]
      }
     ],
     "prompt_number": 128
    },
    {
     "cell_type": "code",
     "collapsed": false,
     "input": [],
     "language": "python",
     "metadata": {},
     "outputs": [],
     "prompt_number": 129
    },
    {
     "cell_type": "heading",
     "level": 1,
     "metadata": {},
     "source": [
      "Can't change variables not linked to that task"
     ]
    },
    {
     "cell_type": "code",
     "collapsed": false,
     "input": [
      "Processmaker.send_variable(\"SomeValue\", \"FooBar\", case_id: case_open[:case_id])"
     ],
     "language": "python",
     "metadata": {},
     "outputs": [
      {
       "output_type": "stream",
       "stream": "stdout",
       "text": [
        "\u001b[1;31mnil\u001b[0m\n"
       ]
      },
      {
       "output_type": "stream",
       "stream": "stdout",
       "text": [
        "I, [2015-03-23T13:54:59.438833 #25454]  INFO -- : SOAP request: http://si-dev01.si.is.co.za/sysworkflow/en/classic/services/soap2\n"
       ]
      },
      {
       "output_type": "stream",
       "stream": "stdout",
       "text": [
        "I, [2015-03-23T13:54:59.438983 #25454]  INFO -- : SOAPAction: \"urn:sendVariables\", Content-Type: text/xml;charset=UTF-8, Content-Length: 515\n"
       ]
      },
      {
       "output_type": "stream",
       "stream": "stdout",
       "text": [
        "D, [2015-03-23T13:54:59.439160 #25454] DEBUG -- : <?xml version=\"1.0\" encoding=\"UTF-8\"?><env:Envelope xmlns:xsd=\"http://www.w3.org/2001/XMLSchema\" xmlns:xsi=\"http://www.w3.org/2001/XMLSchema-instance\" xmlns:xs0=\"http://www.processmaker.com\" xmlns:env=\"http://schemas.xmlsoap.org/soap/envelope/\"><env:Body><xs0:sendVariablesRequest><xs0:sessionId>785913845550ffe8dbc0887020251512</xs0:sessionId><xs0:caseId xsi:nil=\"true\"/><xs0:variables><xs0:name>SomeValue</xs0:name><xs0:value>FooBar</xs0:value></xs0:variables></xs0:sendVariablesRequest></env:Body></env:Envelope>\n"
       ]
      },
      {
       "output_type": "stream",
       "stream": "stdout",
       "text": [
        "D, [2015-03-23T13:54:59.439416 #25454] DEBUG -- : HTTPI POST request to si-dev01.si.is.co.za (net_http)\n"
       ]
      },
      {
       "output_type": "stream",
       "stream": "stdout",
       "text": [
        "I, [2015-03-23T13:54:59.471755 #25454]  INFO -- : SOAP response (status 200)\n"
       ]
      },
      {
       "output_type": "stream",
       "stream": "stdout",
       "text": [
        "D, [2015-03-23T13:54:59.472005 #25454] DEBUG -- : <?xml version=\"1.0\" encoding=\"UTF-8\"?>\n",
        "<SOAP-ENV:Envelope xmlns:SOAP-ENV=\"http://schemas.xmlsoap.org/soap/envelope/\" xmlns:ns1=\"http://www.processmaker.com\"><SOAP-ENV:Body><ns1:pmResponse><ns1:status_code>18</ns1:status_code><ns1:message>This case delegation is already closed or does not exist</ns1:message><ns1:timestamp>2015-03-23 07:52:46</ns1:timestamp></ns1:pmResponse></SOAP-ENV:Body></SOAP-ENV:Envelope>\n",
        "\n"
       ]
      },
      {
       "output_type": "stream",
       "stream": "stdout",
       "text": [
        "{\n",
        "    :pm_response\u001b[0;37m => \u001b[0m{\n",
        "        :status_code\u001b[0;37m => \u001b[0m\"18\",\n",
        "            :message\u001b[0;37m => \u001b[0m\"This case delegation is already closed or does not exist\",\n",
        "          :timestamp\u001b[0;37m => \u001b[0m\"2015-03-23 07:52:46\"\n",
        "    }\n",
        "}\n"
       ]
      }
     ],
     "prompt_number": 130
    },
    {
     "cell_type": "code",
     "collapsed": false,
     "input": [],
     "language": "python",
     "metadata": {},
     "outputs": [],
     "prompt_number": 131
    }
   ],
   "metadata": {}
  }
 ]
}