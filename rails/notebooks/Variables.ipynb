{
 "metadata": {
  "language": "ruby",
  "name": "",
  "signature": "sha256:49316aabb7bca853abb0e734704938028656ca35830345b28f8c709b1b89f3fa"
 },
 "nbformat": 3,
 "nbformat_minor": 0,
 "worksheets": [
  {
   "cells": [
    {
     "cell_type": "code",
     "collapsed": false,
     "input": [
      "require \"processmaker\"\n",
      "require \"ap\""
     ],
     "language": "python",
     "metadata": {},
     "outputs": [
      {
       "metadata": {},
       "output_type": "pyout",
       "prompt_number": 1,
       "text": [
        "false"
       ]
      }
     ],
     "prompt_number": 1
    },
    {
     "cell_type": "heading",
     "level": 1,
     "metadata": {},
     "source": [
      "Login"
     ]
    },
    {
     "cell_type": "code",
     "collapsed": false,
     "input": [
      "url = 'http://si-dev01.si.is.co.za:80/sysworkflow/en/classic/services/wsdl2'\n",
      "name = \"irubynotebook\"\n",
      "user_password = 'demo'\n",
      "Processmaker.login(wsdl: url, user_id: name, password: user_password)"
     ],
     "language": "python",
     "metadata": {},
     "outputs": [
      {
       "output_type": "stream",
       "stream": "stdout",
       "text": [
        "D, [2015-03-20T14:11:52.376223 #14255] DEBUG -- : HTTPI GET request to si-dev01.si.is.co.za (net_http)\n"
       ]
      },
      {
       "output_type": "stream",
       "stream": "stdout",
       "text": [
        "I, [2015-03-20T14:11:52.464034 #14255]  INFO -- : SOAP request: http://si-dev01.si.is.co.za/sysworkflow/en/classic/services/soap2\n"
       ]
      },
      {
       "output_type": "stream",
       "stream": "stdout",
       "text": [
        "I, [2015-03-20T14:11:52.464206 #14255]  INFO -- : SOAPAction: \"http://www.processmaker.com/login\", Content-Type: text/xml;charset=UTF-8, Content-Length: 375\n"
       ]
      },
      {
       "output_type": "stream",
       "stream": "stdout",
       "text": [
        "D, [2015-03-20T14:11:52.464371 #14255] DEBUG -- : <?xml version=\"1.0\" encoding=\"UTF-8\"?><env:Envelope xmlns:xsd=\"http://www.w3.org/2001/XMLSchema\" xmlns:xsi=\"http://www.w3.org/2001/XMLSchema-instance\" xmlns:xs0=\"http://www.processmaker.com\" xmlns:env=\"http://schemas.xmlsoap.org/soap/envelope/\"><env:Body><xs0:login><xs0:userid>irubynotebook</xs0:userid><xs0:password>demo</xs0:password></xs0:login></env:Body></env:Envelope>\n"
       ]
      },
      {
       "output_type": "stream",
       "stream": "stdout",
       "text": [
        "D, [2015-03-20T14:11:52.464906 #14255] DEBUG -- : HTTPI POST request to si-dev01.si.is.co.za (net_http)\n"
       ]
      },
      {
       "output_type": "stream",
       "stream": "stdout",
       "text": [
        "I, [2015-03-20T14:11:52.511131 #14255]  INFO -- : SOAP response (status 200)\n"
       ]
      },
      {
       "output_type": "stream",
       "stream": "stdout",
       "text": [
        "D, [2015-03-20T14:11:52.511353 #14255] DEBUG -- : <?xml version=\"1.0\" encoding=\"UTF-8\"?>\n",
        "<SOAP-ENV:Envelope xmlns:SOAP-ENV=\"http://schemas.xmlsoap.org/soap/envelope/\" xmlns:ns1=\"http://www.processmaker.com\"><SOAP-ENV:Body><ns1:loginResponse><ns1:status_code>0</ns1:status_code><ns1:message>755505959550c0e1a95ebb2067754224</ns1:message><ns1:version>2.0</ns1:version><ns1:timestamp>2015-03-20 08:10:02</ns1:timestamp></ns1:loginResponse></SOAP-ENV:Body></SOAP-ENV:Envelope>\n",
        "\n"
       ]
      },
      {
       "metadata": {},
       "output_type": "pyout",
       "prompt_number": 2,
       "text": [
        "{:status_code=>\"0\", :message=>\"755505959550c0e1a95ebb2067754224\", :version=>\"2.0\", :timestamp=>\"2015-03-20 08:10:02\"}"
       ]
      }
     ],
     "prompt_number": 2
    },
    {
     "cell_type": "heading",
     "level": 1,
     "metadata": {},
     "source": [
      "Start new process"
     ]
    },
    {
     "cell_type": "code",
     "collapsed": false,
     "input": [
      "processes =  Processmaker.process_list()"
     ],
     "language": "python",
     "metadata": {},
     "outputs": [
      {
       "output_type": "stream",
       "stream": "stdout",
       "text": [
        "I, [2015-03-20T14:11:52.521702 #14255]  INFO -- : SOAP request: http://si-dev01.si.is.co.za/sysworkflow/en/classic/services/soap2\n"
       ]
      },
      {
       "output_type": "stream",
       "stream": "stdout",
       "text": [
        "I, [2015-03-20T14:11:52.521879 #14255]  INFO -- : SOAPAction: \"urn:processList\", Content-Type: text/xml;charset=UTF-8, Content-Length: 393\n"
       ]
      },
      {
       "output_type": "stream",
       "stream": "stdout",
       "text": [
        "D, [2015-03-20T14:11:52.522032 #14255] DEBUG -- : <?xml version=\"1.0\" encoding=\"UTF-8\"?><env:Envelope xmlns:xsd=\"http://www.w3.org/2001/XMLSchema\" xmlns:xsi=\"http://www.w3.org/2001/XMLSchema-instance\" xmlns:xs0=\"http://www.processmaker.com\" xmlns:env=\"http://schemas.xmlsoap.org/soap/envelope/\"><env:Body><xs0:processListRequest><xs0:sessionId>755505959550c0e1a95ebb2067754224</xs0:sessionId></xs0:processListRequest></env:Body></env:Envelope>\n"
       ]
      },
      {
       "output_type": "stream",
       "stream": "stdout",
       "text": [
        "D, [2015-03-20T14:11:52.522269 #14255] DEBUG -- : HTTPI POST request to si-dev01.si.is.co.za (net_http)\n"
       ]
      },
      {
       "output_type": "stream",
       "stream": "stdout",
       "text": [
        "I, [2015-03-20T14:11:52.569920 #14255]  INFO -- : SOAP response (status 200)\n"
       ]
      },
      {
       "output_type": "stream",
       "stream": "stdout",
       "text": [
        "D, [2015-03-20T14:11:52.570219 #14255] DEBUG -- : <?xml version=\"1.0\" encoding=\"UTF-8\"?>\n",
        "<SOAP-ENV:Envelope xmlns:SOAP-ENV=\"http://schemas.xmlsoap.org/soap/envelope/\" xmlns:ns1=\"http://www.processmaker.com\"><SOAP-ENV:Body><ns1:processListResponse><ns1:processes><ns1:guid>658670893550a867bb12622076625838</ns1:guid><ns1:name>Demo</ns1:name></ns1:processes><ns1:processes><ns1:guid>98360219855094de74c2f21070070181</ns1:guid><ns1:name>IRuby_notebook_demo</ns1:name></ns1:processes></ns1:processListResponse></SOAP-ENV:Body></SOAP-ENV:Envelope>\n",
        "\n"
       ]
      },
      {
       "metadata": {},
       "output_type": "pyout",
       "prompt_number": 3,
       "text": [
        "[{:guid=>\"658670893550a867bb12622076625838\", :name=>\"Demo\"}, {:guid=>\"98360219855094de74c2f21070070181\", :name=>\"IRuby_notebook_demo\"}]"
       ]
      }
     ],
     "prompt_number": 3
    },
    {
     "cell_type": "code",
     "collapsed": false,
     "input": [
      "irubynb_process = processes.find { |process| process[:name] == \"IRuby_notebook_demo\" }"
     ],
     "language": "python",
     "metadata": {},
     "outputs": [
      {
       "metadata": {},
       "output_type": "pyout",
       "prompt_number": 4,
       "text": [
        "{:guid=>\"98360219855094de74c2f21070070181\", :name=>\"IRuby_notebook_demo\"}"
       ]
      }
     ],
     "prompt_number": 4
    },
    {
     "cell_type": "code",
     "collapsed": false,
     "input": [
      "# Start a new case\n",
      "mycase = Processmaker.new_case(\n",
      "     process_id: irubynb_process[:guid]\n",
      ")"
     ],
     "language": "python",
     "metadata": {},
     "outputs": [
      {
       "output_type": "stream",
       "stream": "stdout",
       "text": [
        "I, [2015-03-20T14:11:52.583412 #14255]  INFO -- : SOAP request: http://si-dev01.si.is.co.za/sysworkflow/en/classic/services/soap2\n"
       ]
      },
      {
       "output_type": "stream",
       "stream": "stdout",
       "text": [
        "I, [2015-03-20T14:11:52.583587 #14255]  INFO -- : SOAPAction: \"urn:newCase\", Content-Type: text/xml;charset=UTF-8, Content-Length: 507\n"
       ]
      },
      {
       "output_type": "stream",
       "stream": "stdout",
       "text": [
        "D, [2015-03-20T14:11:52.583752 #14255] DEBUG -- : <?xml version=\"1.0\" encoding=\"UTF-8\"?><env:Envelope xmlns:xsd=\"http://www.w3.org/2001/XMLSchema\" xmlns:xsi=\"http://www.w3.org/2001/XMLSchema-instance\" xmlns:xs0=\"http://www.processmaker.com\" xmlns:env=\"http://schemas.xmlsoap.org/soap/envelope/\"><env:Body><xs0:newCaseRequest><xs0:sessionId>755505959550c0e1a95ebb2067754224</xs0:sessionId><xs0:processId>98360219855094de74c2f21070070181</xs0:processId><xs0:taskId xsi:nil=\"true\"/><xs0:variables xsi:nil=\"true\"/></xs0:newCaseRequest></env:Body></env:Envelope>\n"
       ]
      },
      {
       "output_type": "stream",
       "stream": "stdout",
       "text": [
        "D, [2015-03-20T14:11:52.584012 #14255] DEBUG -- : HTTPI POST request to si-dev01.si.is.co.za (net_http)\n"
       ]
      },
      {
       "output_type": "stream",
       "stream": "stdout",
       "text": [
        "I, [2015-03-20T14:11:53.022937 #14255]  INFO -- : SOAP response (status 200)\n"
       ]
      },
      {
       "output_type": "stream",
       "stream": "stdout",
       "text": [
        "D, [2015-03-20T14:11:53.023142 #14255] DEBUG -- : <?xml version=\"1.0\" encoding=\"UTF-8\"?>\n",
        "<SOAP-ENV:Envelope xmlns:SOAP-ENV=\"http://schemas.xmlsoap.org/soap/envelope/\" xmlns:ns1=\"http://www.processmaker.com\"><SOAP-ENV:Body><ns1:newCaseResponse><ns1:status_code>0</ns1:status_code><ns1:message>Started successfully</ns1:message><ns1:caseId>482570782550c0e1aba7282040998919</ns1:caseId><ns1:caseNumber>32</ns1:caseNumber><ns1:timestamp>2015-03-20 08:10:03</ns1:timestamp></ns1:newCaseResponse></SOAP-ENV:Body></SOAP-ENV:Envelope>\n",
        "\n"
       ]
      },
      {
       "metadata": {},
       "output_type": "pyout",
       "prompt_number": 5,
       "text": [
        "{:status_code=>\"0\", :message=>\"Started successfully\", :case_id=>\"482570782550c0e1aba7282040998919\", :case_number=>\"32\", :timestamp=>\"2015-03-20 08:10:03\"}"
       ]
      }
     ],
     "prompt_number": 5
    },
    {
     "cell_type": "code",
     "collapsed": false,
     "input": [
      "varnames = Processmaker.get_variables_names(case_id: mycase[:case_id])"
     ],
     "language": "python",
     "metadata": {},
     "outputs": [
      {
       "output_type": "stream",
       "stream": "stdout",
       "text": [
        "I, [2015-03-20T14:11:53.031635 #14255]  INFO -- : SOAP request: http://si-dev01.si.is.co.za/sysworkflow/en/classic/services/soap2\n"
       ]
      },
      {
       "output_type": "stream",
       "stream": "stdout",
       "text": [
        "I, [2015-03-20T14:11:53.031770 #14255]  INFO -- : SOAPAction: \"urn:getVariablesNames\", Content-Type: text/xml;charset=UTF-8, Content-Length: 462\n"
       ]
      },
      {
       "output_type": "stream",
       "stream": "stdout",
       "text": [
        "D, [2015-03-20T14:11:53.031871 #14255] DEBUG -- : <?xml version=\"1.0\" encoding=\"UTF-8\"?><env:Envelope xmlns:xsd=\"http://www.w3.org/2001/XMLSchema\" xmlns:xsi=\"http://www.w3.org/2001/XMLSchema-instance\" xmlns:xs0=\"http://www.processmaker.com\" xmlns:env=\"http://schemas.xmlsoap.org/soap/envelope/\"><env:Body><xs0:getVariablesNamesRequest><xs0:sessionId>755505959550c0e1a95ebb2067754224</xs0:sessionId><xs0:caseId>482570782550c0e1aba7282040998919</xs0:caseId></xs0:getVariablesNamesRequest></env:Body></env:Envelope>\n"
       ]
      },
      {
       "output_type": "stream",
       "stream": "stdout",
       "text": [
        "D, [2015-03-20T14:11:53.032094 #14255] DEBUG -- : HTTPI POST request to si-dev01.si.is.co.za (net_http)\n"
       ]
      },
      {
       "output_type": "stream",
       "stream": "stdout",
       "text": [
        "I, [2015-03-20T14:11:53.068357 #14255]  INFO -- : SOAP response (status 200)\n"
       ]
      },
      {
       "output_type": "stream",
       "stream": "stdout",
       "text": [
        "D, [2015-03-20T14:11:53.068596 #14255] DEBUG -- : <?xml version=\"1.0\" encoding=\"UTF-8\"?>\n",
        "<SOAP-ENV:Envelope xmlns:SOAP-ENV=\"http://schemas.xmlsoap.org/soap/envelope/\" xmlns:ns1=\"http://www.processmaker.com\"><SOAP-ENV:Body><ns1:getVariablesNamesResponse><ns1:status_code>0</ns1:status_code><ns1:message>10variables sent</ns1:message><ns1:timestamp>2015-03-20 08:10:03</ns1:timestamp><ns1:variables><ns1:name>SYS_LANG</ns1:name></ns1:variables><ns1:variables><ns1:name>SYS_SKIN</ns1:name></ns1:variables><ns1:variables><ns1:name>SYS_SYS</ns1:name></ns1:variables><ns1:variables><ns1:name>APPLICATION</ns1:name></ns1:variables><ns1:variables><ns1:name>PROCESS</ns1:name></ns1:variables><ns1:variables><ns1:name>TASK</ns1:name></ns1:variables><ns1:variables><ns1:name>INDEX</ns1:name></ns1:variables><ns1:variables><ns1:name>USER_LOGGED</ns1:name></ns1:variables><ns1:variables><ns1:name>USR_USERNAME</ns1:name></ns1:variables><ns1:variables><ns1:name>PIN</ns1:name></ns1:variables></ns1:getVariablesNamesResponse></SOAP-ENV:Body></SOAP-ENV:Envelope>\n",
        "\n"
       ]
      },
      {
       "metadata": {},
       "output_type": "pyout",
       "prompt_number": 6,
       "text": [
        "[\"SYS_LANG\", \"SYS_SKIN\", \"SYS_SYS\", \"APPLICATION\", \"PROCESS\", \"TASK\", \"INDEX\", \"USER_LOGGED\", \"USR_USERNAME\", \"PIN\"]"
       ]
      }
     ],
     "prompt_number": 6
    },
    {
     "cell_type": "code",
     "collapsed": false,
     "input": [
      "vars = Processmaker.send_variables(case_id: mycase[:case_id], variables: { SomeValue: \"some cool value\" } )"
     ],
     "language": "python",
     "metadata": {},
     "outputs": [
      {
       "output_type": "stream",
       "stream": "stdout",
       "text": [
        "{\n",
        "    :SomeValue\u001b[0;37m => \u001b[0m\u001b[0;33m\"some cool value\"\u001b[0m\n",
        "}\n"
       ]
      },
      {
       "output_type": "stream",
       "stream": "stdout",
       "text": [
        "I, [2015-03-20T14:11:53.079176 #14255]  INFO -- : SOAP request: http://si-dev01.si.is.co.za/sysworkflow/en/classic/services/soap2\n"
       ]
      },
      {
       "output_type": "stream",
       "stream": "stdout",
       "text": [
        "I, [2015-03-20T14:11:53.079380 #14255]  INFO -- : SOAPAction: \"urn:sendVariables\", Content-Type: text/xml;charset=UTF-8, Content-Length: 553\n"
       ]
      },
      {
       "output_type": "stream",
       "stream": "stdout",
       "text": [
        "D, [2015-03-20T14:11:53.079509 #14255] DEBUG -- : <?xml version=\"1.0\" encoding=\"UTF-8\"?><env:Envelope xmlns:xsd=\"http://www.w3.org/2001/XMLSchema\" xmlns:xsi=\"http://www.w3.org/2001/XMLSchema-instance\" xmlns:xs0=\"http://www.processmaker.com\" xmlns:env=\"http://schemas.xmlsoap.org/soap/envelope/\"><env:Body><xs0:sendVariablesRequest><xs0:sessionId>755505959550c0e1a95ebb2067754224</xs0:sessionId><xs0:caseId>482570782550c0e1aba7282040998919</xs0:caseId><xs0:variables><xs0:name>SomeValue</xs0:name><xs0:value>some cool value</xs0:value></xs0:variables></xs0:sendVariablesRequest></env:Body></env:Envelope>\n"
       ]
      },
      {
       "output_type": "stream",
       "stream": "stdout",
       "text": [
        "D, [2015-03-20T14:11:53.079807 #14255] DEBUG -- : HTTPI POST request to si-dev01.si.is.co.za (net_http)\n"
       ]
      },
      {
       "output_type": "stream",
       "stream": "stdout",
       "text": [
        "I, [2015-03-20T14:11:53.170040 #14255]  INFO -- : SOAP response (status 200)\n"
       ]
      },
      {
       "output_type": "stream",
       "stream": "stdout",
       "text": [
        "D, [2015-03-20T14:11:53.170327 #14255] DEBUG -- : <?xml version=\"1.0\" encoding=\"UTF-8\"?>\n",
        "<SOAP-ENV:Envelope xmlns:SOAP-ENV=\"http://schemas.xmlsoap.org/soap/envelope/\" xmlns:ns1=\"http://www.processmaker.com\"><SOAP-ENV:Body><ns1:pmResponse><ns1:status_code>0</ns1:status_code><ns1:message>1 variables received: \n",
        "(\n",
        "    [SomeValue] =&gt; some cool value\n",
        ")</ns1:message><ns1:timestamp>2015-03-20 08:10:03</ns1:timestamp></ns1:pmResponse></SOAP-ENV:Body></SOAP-ENV:Envelope>\n",
        "\n"
       ]
      },
      {
       "output_type": "stream",
       "stream": "stdout",
       "text": [
        "{\n",
        "    :pm_response\u001b[0;37m => \u001b[0m{\n",
        "        :status_code\u001b[0;37m => \u001b[0m\"0\",\n",
        "            :message\u001b[0;37m => \u001b[0m\"1 variables received: \\n(\\n    [SomeValue] => some cool value\\n)\",\n",
        "          :timestamp\u001b[0;37m => \u001b[0m\"2015-03-20 08:10:03\"\n",
        "    }\n",
        "}\n"
       ]
      }
     ],
     "prompt_number": 7
    },
    {
     "cell_type": "code",
     "collapsed": false,
     "input": [
      "vars = Processmaker.send_variables(case_id: mycase[:case_id], variables: { SomeValue1: \"1\", SomeValue2: \"2\" })"
     ],
     "language": "python",
     "metadata": {},
     "outputs": [
      {
       "output_type": "stream",
       "stream": "stdout",
       "text": [
        "{\n",
        "    :SomeValue1\u001b[0;37m => \u001b[0m\u001b[0;33m\"1\"\u001b[0m,\n",
        "    :SomeValue2\u001b[0;37m => \u001b[0m\u001b[0;33m\"2\"\u001b[0m\n",
        "}\n"
       ]
      },
      {
       "output_type": "stream",
       "stream": "stdout",
       "text": [
        "I, [2015-03-20T14:12:03.148658 #14255]  INFO -- : SOAP request: http://si-dev01.si.is.co.za/sysworkflow/en/classic/services/soap2\n"
       ]
      },
      {
       "output_type": "stream",
       "stream": "stdout",
       "text": [
        "I, [2015-03-20T14:12:03.148835 #14255]  INFO -- : SOAPAction: \"urn:sendVariables\", Content-Type: text/xml;charset=UTF-8, Content-Length: 626\n"
       ]
      },
      {
       "output_type": "stream",
       "stream": "stdout",
       "text": [
        "D, [2015-03-20T14:12:03.148943 #14255] DEBUG -- : <?xml version=\"1.0\" encoding=\"UTF-8\"?><env:Envelope xmlns:xsd=\"http://www.w3.org/2001/XMLSchema\" xmlns:xsi=\"http://www.w3.org/2001/XMLSchema-instance\" xmlns:xs0=\"http://www.processmaker.com\" xmlns:env=\"http://schemas.xmlsoap.org/soap/envelope/\"><env:Body><xs0:sendVariablesRequest><xs0:sessionId>755505959550c0e1a95ebb2067754224</xs0:sessionId><xs0:caseId>482570782550c0e1aba7282040998919</xs0:caseId><xs0:variables><xs0:name>SomeValue1</xs0:name><xs0:value>1</xs0:value></xs0:variables><xs0:variables><xs0:name>SomeValue2</xs0:name><xs0:value>2</xs0:value></xs0:variables></xs0:sendVariablesRequest></env:Body></env:Envelope>\n"
       ]
      },
      {
       "output_type": "stream",
       "stream": "stdout",
       "text": [
        "D, [2015-03-20T14:12:03.149168 #14255] DEBUG -- : HTTPI POST request to si-dev01.si.is.co.za (net_http)\n"
       ]
      },
      {
       "output_type": "stream",
       "stream": "stdout",
       "text": [
        "I, [2015-03-20T14:12:03.242719 #14255]  INFO -- : SOAP response (status 200)\n"
       ]
      },
      {
       "output_type": "stream",
       "stream": "stdout",
       "text": [
        "D, [2015-03-20T14:12:03.242986 #14255] DEBUG -- : <?xml version=\"1.0\" encoding=\"UTF-8\"?>\n",
        "<SOAP-ENV:Envelope xmlns:SOAP-ENV=\"http://schemas.xmlsoap.org/soap/envelope/\" xmlns:ns1=\"http://www.processmaker.com\"><SOAP-ENV:Body><ns1:pmResponse><ns1:status_code>0</ns1:status_code><ns1:message>2 variables received: \n",
        "(\n",
        "    [SomeValue1] =&gt; 1\n",
        "    [SomeValue2] =&gt; 2\n",
        ")</ns1:message><ns1:timestamp>2015-03-20 08:10:13</ns1:timestamp></ns1:pmResponse></SOAP-ENV:Body></SOAP-ENV:Envelope>\n",
        "\n"
       ]
      },
      {
       "output_type": "stream",
       "stream": "stdout",
       "text": [
        "{\n",
        "    :pm_response\u001b[0;37m => \u001b[0m{\n",
        "        :status_code\u001b[0;37m => \u001b[0m\"0\",\n",
        "            :message\u001b[0;37m => \u001b[0m\"2 variables received: \\n(\\n    [SomeValue1] => 1\\n    [SomeValue2] => 2\\n)\",\n",
        "          :timestamp\u001b[0;37m => \u001b[0m\"2015-03-20 08:10:13\"\n",
        "    }\n",
        "}\n"
       ]
      }
     ],
     "prompt_number": 21
    },
    {
     "cell_type": "code",
     "collapsed": false,
     "input": [
      "vars = Processmaker.send_variable(\"SomeValue1\", \"1\", case_id: mycase[:case_id])"
     ],
     "language": "python",
     "metadata": {},
     "outputs": [
      {
       "output_type": "stream",
       "stream": "stdout",
       "text": [
        "\u001b[1;31mnil\u001b[0m\n"
       ]
      },
      {
       "output_type": "stream",
       "stream": "stdout",
       "text": [
        "I, [2015-03-20T14:12:54.440426 #14255]  INFO -- : SOAP request: http://si-dev01.si.is.co.za/sysworkflow/en/classic/services/soap2\n"
       ]
      },
      {
       "output_type": "stream",
       "stream": "stdout",
       "text": [
        "I, [2015-03-20T14:12:54.440803 #14255]  INFO -- : SOAPAction: \"urn:sendVariables\", Content-Type: text/xml;charset=UTF-8, Content-Length: 540\n"
       ]
      },
      {
       "output_type": "stream",
       "stream": "stdout",
       "text": [
        "D, [2015-03-20T14:12:54.441192 #14255] DEBUG -- : <?xml version=\"1.0\" encoding=\"UTF-8\"?><env:Envelope xmlns:xsd=\"http://www.w3.org/2001/XMLSchema\" xmlns:xsi=\"http://www.w3.org/2001/XMLSchema-instance\" xmlns:xs0=\"http://www.processmaker.com\" xmlns:env=\"http://schemas.xmlsoap.org/soap/envelope/\"><env:Body><xs0:sendVariablesRequest><xs0:sessionId>755505959550c0e1a95ebb2067754224</xs0:sessionId><xs0:caseId>482570782550c0e1aba7282040998919</xs0:caseId><xs0:variables><xs0:name>SomeValue1</xs0:name><xs0:value>1</xs0:value></xs0:variables></xs0:sendVariablesRequest></env:Body></env:Envelope>\n"
       ]
      },
      {
       "output_type": "stream",
       "stream": "stdout",
       "text": [
        "D, [2015-03-20T14:12:54.441780 #14255] DEBUG -- : HTTPI POST request to si-dev01.si.is.co.za (net_http)\n"
       ]
      },
      {
       "output_type": "stream",
       "stream": "stdout",
       "text": [
        "I, [2015-03-20T14:12:54.497456 #14255]  INFO -- : SOAP response (status 200)\n"
       ]
      },
      {
       "output_type": "stream",
       "stream": "stdout",
       "text": [
        "D, [2015-03-20T14:12:54.497673 #14255] DEBUG -- : <?xml version=\"1.0\" encoding=\"UTF-8\"?>\n",
        "<SOAP-ENV:Envelope xmlns:SOAP-ENV=\"http://schemas.xmlsoap.org/soap/envelope/\" xmlns:ns1=\"http://www.processmaker.com\"><SOAP-ENV:Body><ns1:pmResponse><ns1:status_code>0</ns1:status_code><ns1:message>1 variables received: \n",
        "(\n",
        "    [SomeValue1] =&gt; 1\n",
        ")</ns1:message><ns1:timestamp>2015-03-20 08:11:04</ns1:timestamp></ns1:pmResponse></SOAP-ENV:Body></SOAP-ENV:Envelope>\n",
        "\n"
       ]
      },
      {
       "output_type": "stream",
       "stream": "stdout",
       "text": [
        "{\n",
        "    :pm_response\u001b[0;37m => \u001b[0m{\n",
        "        :status_code\u001b[0;37m => \u001b[0m\"0\",\n",
        "            :message\u001b[0;37m => \u001b[0m\"1 variables received: \\n(\\n    [SomeValue1] => 1\\n)\",\n",
        "          :timestamp\u001b[0;37m => \u001b[0m\"2015-03-20 08:11:04\"\n",
        "    }\n",
        "}\n"
       ]
      }
     ],
     "prompt_number": 23
    },
    {
     "cell_type": "code",
     "collapsed": false,
     "input": [
      "def send_variables(options)\n",
      "  ap options\n",
      "end"
     ],
     "language": "python",
     "metadata": {},
     "outputs": [
      {
       "metadata": {},
       "output_type": "pyout",
       "prompt_number": 9,
       "text": [
        ":send_variables"
       ]
      }
     ],
     "prompt_number": 9
    },
    {
     "cell_type": "code",
     "collapsed": false,
     "input": [
      "vars = { SomeValue1: \"1\", SomeValue2: \"2\" }.map do |name, value| \n",
      "  { name: name.to_s, value: value }\n",
      "end\n",
      "ap vars"
     ],
     "language": "python",
     "metadata": {},
     "outputs": [
      {
       "output_type": "stream",
       "stream": "stdout",
       "text": [
        "[\n",
        "    \u001b[1;37m[0] \u001b[0m{\n",
        "         :name\u001b[0;37m => \u001b[0m\u001b[0;33m\"SomeValue1\"\u001b[0m,\n",
        "        :value\u001b[0;37m => \u001b[0m\u001b[0;33m\"1\"\u001b[0m\n",
        "    },\n",
        "    \u001b[1;37m[1] \u001b[0m{\n",
        "         :name\u001b[0;37m => \u001b[0m\u001b[0;33m\"SomeValue2\"\u001b[0m,\n",
        "        :value\u001b[0;37m => \u001b[0m\u001b[0;33m\"2\"\u001b[0m\n",
        "    }\n",
        "]\n"
       ]
      }
     ],
     "prompt_number": 10
    },
    {
     "cell_type": "code",
     "collapsed": false,
     "input": [
      "vars.map { |var| var[:name] }"
     ],
     "language": "python",
     "metadata": {},
     "outputs": [
      {
       "metadata": {},
       "output_type": "pyout",
       "prompt_number": 11,
       "text": [
        "[\"SomeValue1\", \"SomeValue2\"]"
       ]
      }
     ],
     "prompt_number": 11
    },
    {
     "cell_type": "code",
     "collapsed": false,
     "input": [
      "send_variables({ SomeValue1: \"1\", SomeValue2: \"2\" })"
     ],
     "language": "python",
     "metadata": {},
     "outputs": [
      {
       "output_type": "stream",
       "stream": "stdout",
       "text": [
        "{\n",
        "    :SomeValue1\u001b[0;37m => \u001b[0m\u001b[0;33m\"1\"\u001b[0m,\n",
        "    :SomeValue2\u001b[0;37m => \u001b[0m\u001b[0;33m\"2\"\u001b[0m\n",
        "}\n"
       ]
      }
     ],
     "prompt_number": 12
    },
    {
     "cell_type": "code",
     "collapsed": false,
     "input": [
      "[ \"1\" , \"2\" ].map { |name| { name.to_s => \"Boom\" } }\n"
     ],
     "language": "python",
     "metadata": {},
     "outputs": [
      {
       "metadata": {},
       "output_type": "pyout",
       "prompt_number": 13,
       "text": [
        "[{\"1\"=>\"Boom\"}, {\"2\"=>\"Boom\"}]"
       ]
      }
     ],
     "prompt_number": 13
    },
    {
     "cell_type": "code",
     "collapsed": false,
     "input": [
      "Array([\"234\", \"23434\"])"
     ],
     "language": "python",
     "metadata": {},
     "outputs": [
      {
       "metadata": {},
       "output_type": "pyout",
       "prompt_number": 14,
       "text": [
        "[\"234\", \"23434\"]"
       ]
      }
     ],
     "prompt_number": 14
    },
    {
     "cell_type": "code",
     "collapsed": false,
     "input": [],
     "language": "python",
     "metadata": {},
     "outputs": [],
     "prompt_number": 15
    },
    {
     "cell_type": "code",
     "collapsed": false,
     "input": [
      "vars = Processmaker.get_variable(\"SomeValue\", case_id: mycase[:case_id])"
     ],
     "language": "python",
     "metadata": {},
     "outputs": [
      {
       "output_type": "stream",
       "stream": "stdout",
       "text": [
        "I, [2015-03-20T14:13:28.073477 #14255]  INFO -- : SOAP request: http://si-dev01.si.is.co.za/sysworkflow/en/classic/services/soap2\n"
       ]
      },
      {
       "output_type": "stream",
       "stream": "stdout",
       "text": [
        "I, [2015-03-20T14:13:28.074119 #14255]  INFO -- : SOAPAction: \"urn:getVariables\", Content-Type: text/xml;charset=UTF-8, Content-Length: 513\n"
       ]
      },
      {
       "output_type": "stream",
       "stream": "stdout",
       "text": [
        "D, [2015-03-20T14:13:28.074563 #14255] DEBUG -- : <?xml version=\"1.0\" encoding=\"UTF-8\"?><env:Envelope xmlns:xsd=\"http://www.w3.org/2001/XMLSchema\" xmlns:xsi=\"http://www.w3.org/2001/XMLSchema-instance\" xmlns:xs0=\"http://www.processmaker.com\" xmlns:env=\"http://schemas.xmlsoap.org/soap/envelope/\"><env:Body><xs0:getVariablesRequest><xs0:sessionId>755505959550c0e1a95ebb2067754224</xs0:sessionId><xs0:caseId>482570782550c0e1aba7282040998919</xs0:caseId><xs0:variables><xs0:name>SomeValue</xs0:name></xs0:variables></xs0:getVariablesRequest></env:Body></env:Envelope>\n"
       ]
      },
      {
       "output_type": "stream",
       "stream": "stdout",
       "text": [
        "D, [2015-03-20T14:13:28.075163 #14255] DEBUG -- : HTTPI POST request to si-dev01.si.is.co.za (net_http)\n"
       ]
      },
      {
       "output_type": "stream",
       "stream": "stdout",
       "text": [
        "I, [2015-03-20T14:13:28.111331 #14255]  INFO -- : SOAP response (status 200)\n"
       ]
      },
      {
       "output_type": "stream",
       "stream": "stdout",
       "text": [
        "D, [2015-03-20T14:13:28.111581 #14255] DEBUG -- : <?xml version=\"1.0\" encoding=\"UTF-8\"?>\n",
        "<SOAP-ENV:Envelope xmlns:SOAP-ENV=\"http://schemas.xmlsoap.org/soap/envelope/\" xmlns:ns1=\"http://www.processmaker.com\"><SOAP-ENV:Body><ns1:getVariablesResponse><ns1:status_code>0</ns1:status_code><ns1:message>1variables sent</ns1:message><ns1:timestamp>2015-03-20 08:11:38</ns1:timestamp><ns1:variables><ns1:name>SomeValue</ns1:name><ns1:value>some cool value</ns1:value></ns1:variables></ns1:getVariablesResponse></SOAP-ENV:Body></SOAP-ENV:Envelope>\n",
        "\n"
       ]
      },
      {
       "output_type": "stream",
       "stream": "stdout",
       "text": [
        "{\n",
        "    :get_variables_response\u001b[0;37m => \u001b[0m{\n",
        "        :status_code\u001b[0;37m => \u001b[0m\"0\",\n",
        "            :message\u001b[0;37m => \u001b[0m\"1variables sent\",\n",
        "          :timestamp\u001b[0;37m => \u001b[0m\"2015-03-20 08:11:38\",\n",
        "          :variables\u001b[0;37m => \u001b[0m{\n",
        "             :name\u001b[0;37m => \u001b[0m\"SomeValue\",\n",
        "            :value\u001b[0;37m => \u001b[0m\"some cool value\"\n",
        "        }\n",
        "    }\n",
        "}\n"
       ]
      },
      {
       "metadata": {},
       "output_type": "pyout",
       "prompt_number": 24,
       "text": [
        "\"some cool value\""
       ]
      }
     ],
     "prompt_number": 24
    },
    {
     "cell_type": "code",
     "collapsed": false,
     "input": [
      "vars = Processmaker.get_variables(case_id: mycase[:case_id], variables: [\"SomeValue1\", \"SomeValue2\"])"
     ],
     "language": "python",
     "metadata": {},
     "outputs": [
      {
       "output_type": "stream",
       "stream": "stdout",
       "text": [
        "I, [2015-03-20T14:11:53.702307 #14255]  INFO -- : SOAP request: http://si-dev01.si.is.co.za/sysworkflow/en/classic/services/soap2\n"
       ]
      },
      {
       "output_type": "stream",
       "stream": "stdout",
       "text": [
        "I, [2015-03-20T14:11:53.702495 #14255]  INFO -- : SOAPAction: \"urn:getVariables\", Content-Type: text/xml;charset=UTF-8, Content-Length: 576\n"
       ]
      },
      {
       "output_type": "stream",
       "stream": "stdout",
       "text": [
        "D, [2015-03-20T14:11:53.702626 #14255] DEBUG -- : <?xml version=\"1.0\" encoding=\"UTF-8\"?><env:Envelope xmlns:xsd=\"http://www.w3.org/2001/XMLSchema\" xmlns:xsi=\"http://www.w3.org/2001/XMLSchema-instance\" xmlns:xs0=\"http://www.processmaker.com\" xmlns:env=\"http://schemas.xmlsoap.org/soap/envelope/\"><env:Body><xs0:getVariablesRequest><xs0:sessionId>755505959550c0e1a95ebb2067754224</xs0:sessionId><xs0:caseId>482570782550c0e1aba7282040998919</xs0:caseId><xs0:variables><xs0:name>SomeValue1</xs0:name></xs0:variables><xs0:variables><xs0:name>SomeValue2</xs0:name></xs0:variables></xs0:getVariablesRequest></env:Body></env:Envelope>\n"
       ]
      },
      {
       "output_type": "stream",
       "stream": "stdout",
       "text": [
        "D, [2015-03-20T14:11:53.702842 #14255] DEBUG -- : HTTPI POST request to si-dev01.si.is.co.za (net_http)\n"
       ]
      },
      {
       "output_type": "stream",
       "stream": "stdout",
       "text": [
        "I, [2015-03-20T14:11:53.749208 #14255]  INFO -- : SOAP response (status 200)\n"
       ]
      },
      {
       "output_type": "stream",
       "stream": "stdout",
       "text": [
        "D, [2015-03-20T14:11:53.749551 #14255] DEBUG -- : <?xml version=\"1.0\" encoding=\"UTF-8\"?>\n",
        "<SOAP-ENV:Envelope xmlns:SOAP-ENV=\"http://schemas.xmlsoap.org/soap/envelope/\" xmlns:ns1=\"http://www.processmaker.com\"><SOAP-ENV:Body><ns1:getVariablesResponse><ns1:status_code>0</ns1:status_code><ns1:message>2variables sent</ns1:message><ns1:timestamp>2015-03-20 08:10:03</ns1:timestamp><ns1:variables><ns1:name>SomeValue1</ns1:name><ns1:value>1</ns1:value></ns1:variables><ns1:variables><ns1:name>SomeValue2</ns1:name><ns1:value>2</ns1:value></ns1:variables></ns1:getVariablesResponse></SOAP-ENV:Body></SOAP-ENV:Envelope>\n",
        "\n"
       ]
      },
      {
       "output_type": "stream",
       "stream": "stdout",
       "text": [
        "{\n",
        "    :get_variables_response\u001b[0;37m => \u001b[0m{\n",
        "        :status_code\u001b[0;37m => \u001b[0m\"0\",\n",
        "            :message\u001b[0;37m => \u001b[0m\"2variables sent\",\n",
        "          :timestamp\u001b[0;37m => \u001b[0m\"2015-03-20 08:10:03\",\n",
        "          :variables\u001b[0;37m => \u001b[0m[\n",
        "            \u001b[1;37m[0] \u001b[0m{\n",
        "                 :name\u001b[0;37m => \u001b[0m\"SomeValue1\",\n",
        "                :value\u001b[0;37m => \u001b[0m\"1\"\n",
        "            },\n",
        "            \u001b[1;37m[1] \u001b[0m{\n",
        "                 :name\u001b[0;37m => \u001b[0m\"SomeValue2\",\n",
        "                :value\u001b[0;37m => \u001b[0m\"2\"\n",
        "            }\n",
        "        ]\n",
        "    }\n",
        "}\n"
       ]
      },
      {
       "metadata": {},
       "output_type": "pyout",
       "prompt_number": 17,
       "text": [
        "[{:name=>\"SomeValue1\", :value=>\"1\"}, {:name=>\"SomeValue2\", :value=>\"2\"}]"
       ]
      }
     ],
     "prompt_number": 17
    },
    {
     "cell_type": "code",
     "collapsed": false,
     "input": [
      "varnames = Processmaker.get_variables_names(case_id: mycase[:case_id])"
     ],
     "language": "python",
     "metadata": {},
     "outputs": [
      {
       "output_type": "stream",
       "stream": "stdout",
       "text": [
        "I, [2015-03-20T14:11:53.757467 #14255]  INFO -- : SOAP request: http://si-dev01.si.is.co.za/sysworkflow/en/classic/services/soap2\n"
       ]
      },
      {
       "output_type": "stream",
       "stream": "stdout",
       "text": [
        "I, [2015-03-20T14:11:53.757676 #14255]  INFO -- : SOAPAction: \"urn:getVariablesNames\", Content-Type: text/xml;charset=UTF-8, Content-Length: 462\n"
       ]
      },
      {
       "output_type": "stream",
       "stream": "stdout",
       "text": [
        "D, [2015-03-20T14:11:53.757802 #14255] DEBUG -- : <?xml version=\"1.0\" encoding=\"UTF-8\"?><env:Envelope xmlns:xsd=\"http://www.w3.org/2001/XMLSchema\" xmlns:xsi=\"http://www.w3.org/2001/XMLSchema-instance\" xmlns:xs0=\"http://www.processmaker.com\" xmlns:env=\"http://schemas.xmlsoap.org/soap/envelope/\"><env:Body><xs0:getVariablesNamesRequest><xs0:sessionId>755505959550c0e1a95ebb2067754224</xs0:sessionId><xs0:caseId>482570782550c0e1aba7282040998919</xs0:caseId></xs0:getVariablesNamesRequest></env:Body></env:Envelope>\n"
       ]
      },
      {
       "output_type": "stream",
       "stream": "stdout",
       "text": [
        "D, [2015-03-20T14:11:53.757997 #14255] DEBUG -- : HTTPI POST request to si-dev01.si.is.co.za (net_http)\n"
       ]
      },
      {
       "output_type": "stream",
       "stream": "stdout",
       "text": [
        "I, [2015-03-20T14:11:53.829006 #14255]  INFO -- : SOAP response (status 200)\n"
       ]
      },
      {
       "output_type": "stream",
       "stream": "stdout",
       "text": [
        "D, [2015-03-20T14:11:53.829340 #14255] DEBUG -- : <?xml version=\"1.0\" encoding=\"UTF-8\"?>\n",
        "<SOAP-ENV:Envelope xmlns:SOAP-ENV=\"http://schemas.xmlsoap.org/soap/envelope/\" xmlns:ns1=\"http://www.processmaker.com\"><SOAP-ENV:Body><ns1:getVariablesNamesResponse><ns1:status_code>0</ns1:status_code><ns1:message>13variables sent</ns1:message><ns1:timestamp>2015-03-20 08:10:03</ns1:timestamp><ns1:variables><ns1:name>SYS_LANG</ns1:name></ns1:variables><ns1:variables><ns1:name>SYS_SKIN</ns1:name></ns1:variables><ns1:variables><ns1:name>SYS_SYS</ns1:name></ns1:variables><ns1:variables><ns1:name>APPLICATION</ns1:name></ns1:variables><ns1:variables><ns1:name>PROCESS</ns1:name></ns1:variables><ns1:variables><ns1:name>TASK</ns1:name></ns1:variables><ns1:variables><ns1:name>INDEX</ns1:name></ns1:variables><ns1:variables><ns1:name>USER_LOGGED</ns1:name></ns1:variables><ns1:variables><ns1:name>USR_USERNAME</ns1:name></ns1:variables><ns1:variables><ns1:name>PIN</ns1:name></ns1:variables><ns1:variables><ns1:name>SomeValue</ns1:name></ns1:variables><ns1:variables><ns1:name>SomeValue1</ns1:name></ns1:variables><ns1:variables><ns1:name>SomeValue2</ns1:name></ns1:variables></ns1:getVariablesNamesResponse></SOAP-ENV:Body></SOAP-ENV:Envelope>\n",
        "\n"
       ]
      },
      {
       "metadata": {},
       "output_type": "pyout",
       "prompt_number": 18,
       "text": [
        "[\"SYS_LANG\", \"SYS_SKIN\", \"SYS_SYS\", \"APPLICATION\", \"PROCESS\", \"TASK\", \"INDEX\", \"USER_LOGGED\", \"USR_USERNAME\", \"PIN\", \"SomeValue\", \"SomeValue1\", \"SomeValue2\"]"
       ]
      }
     ],
     "prompt_number": 18
    },
    {
     "cell_type": "code",
     "collapsed": false,
     "input": [
      "ap Processmaker.client.operations"
     ],
     "language": "python",
     "metadata": {},
     "outputs": [
      {
       "output_type": "stream",
       "stream": "stdout",
       "text": [
        "[\n",
        "    \u001b[1;37m[ 0] \u001b[0m\u001b[0;36m:login\u001b[0m,\n",
        "    \u001b[1;37m[ 1] \u001b[0m\u001b[0;36m:process_list\u001b[0m,\n",
        "    \u001b[1;37m[ 2] \u001b[0m\u001b[0;36m:role_list\u001b[0m,\n",
        "    \u001b[1;37m[ 3] \u001b[0m\u001b[0;36m:group_list\u001b[0m,\n",
        "    \u001b[1;37m[ 4] \u001b[0m\u001b[0;36m:department_list\u001b[0m,\n",
        "    \u001b[1;37m[ 5] \u001b[0m\u001b[0;36m:user_list\u001b[0m,\n",
        "    \u001b[1;37m[ 6] \u001b[0m\u001b[0;36m:case_list\u001b[0m,\n",
        "    \u001b[1;37m[ 7] \u001b[0m\u001b[0;36m:unassigned_case_list\u001b[0m,\n",
        "    \u001b[1;37m[ 8] \u001b[0m\u001b[0;36m:create_user\u001b[0m,\n",
        "    \u001b[1;37m[ 9] \u001b[0m\u001b[0;36m:update_user\u001b[0m,\n",
        "    \u001b[1;37m[10] \u001b[0m\u001b[0;36m:information_user\u001b[0m,\n",
        "    \u001b[1;37m[11] \u001b[0m\u001b[0;36m:create_group\u001b[0m,\n",
        "    \u001b[1;37m[12] \u001b[0m\u001b[0;36m:create_department\u001b[0m,\n",
        "    \u001b[1;37m[13] \u001b[0m\u001b[0;36m:assign_user_to_group\u001b[0m,\n",
        "    \u001b[1;37m[14] \u001b[0m\u001b[0;36m:assign_user_to_department\u001b[0m,\n",
        "    \u001b[1;37m[15] \u001b[0m\u001b[0;36m:new_case\u001b[0m,\n",
        "    \u001b[1;37m[16] \u001b[0m\u001b[0;36m:reassign_case\u001b[0m,\n",
        "    \u001b[1;37m[17] \u001b[0m\u001b[0;36m:new_case_impersonate\u001b[0m,\n",
        "    \u001b[1;37m[18] \u001b[0m\u001b[0;36m:route_case\u001b[0m,\n",
        "    \u001b[1;37m[19] \u001b[0m\u001b[0;36m:execute_trigger\u001b[0m,\n",
        "    \u001b[1;37m[20] \u001b[0m\u001b[0;36m:send_variables\u001b[0m,\n",
        "    \u001b[1;37m[21] \u001b[0m\u001b[0;36m:get_variables\u001b[0m,\n",
        "    \u001b[1;37m[22] \u001b[0m\u001b[0;36m:get_variables_names\u001b[0m,\n",
        "    \u001b[1;37m[23] \u001b[0m\u001b[0;36m:send_message\u001b[0m,\n",
        "    \u001b[1;37m[24] \u001b[0m\u001b[0;36m:get_case_info\u001b[0m,\n",
        "    \u001b[1;37m[25] \u001b[0m\u001b[0;36m:task_list\u001b[0m,\n",
        "    \u001b[1;37m[26] \u001b[0m\u001b[0;36m:task_case\u001b[0m,\n",
        "    \u001b[1;37m[27] \u001b[0m\u001b[0;36m:system_information\u001b[0m,\n",
        "    \u001b[1;37m[28] \u001b[0m\u001b[0;36m:trigger_list\u001b[0m,\n",
        "    \u001b[1;37m[29] \u001b[0m\u001b[0;36m:output_document_list\u001b[0m,\n",
        "    \u001b[1;37m[30] \u001b[0m\u001b[0;36m:input_document_list\u001b[0m,\n",
        "    \u001b[1;37m[31] \u001b[0m\u001b[0;36m:input_document_process_list\u001b[0m,\n",
        "    \u001b[1;37m[32] \u001b[0m\u001b[0;36m:remove_document\u001b[0m,\n",
        "    \u001b[1;37m[33] \u001b[0m\u001b[0;36m:get_case_notes\u001b[0m,\n",
        "    \u001b[1;37m[34] \u001b[0m\u001b[0;36m:remove_user_from_group\u001b[0m,\n",
        "    \u001b[1;37m[35] \u001b[0m\u001b[0;36m:delete_case\u001b[0m,\n",
        "    \u001b[1;37m[36] \u001b[0m\u001b[0;36m:cancel_case\u001b[0m,\n",
        "    \u001b[1;37m[37] \u001b[0m\u001b[0;36m:pause_case\u001b[0m,\n",
        "    \u001b[1;37m[38] \u001b[0m\u001b[0;36m:unpause_case\u001b[0m,\n",
        "    \u001b[1;37m[39] \u001b[0m\u001b[0;36m:add_case_note\u001b[0m,\n",
        "    \u001b[1;37m[40] \u001b[0m\u001b[0;36m:claim_case\u001b[0m\n",
        "]\n"
       ]
      }
     ],
     "prompt_number": 19
    },
    {
     "cell_type": "code",
     "collapsed": false,
     "input": [],
     "language": "python",
     "metadata": {},
     "outputs": [],
     "prompt_number": 20
    }
   ],
   "metadata": {}
  }
 ]
}