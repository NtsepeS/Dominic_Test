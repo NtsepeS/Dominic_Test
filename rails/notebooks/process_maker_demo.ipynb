{
 "metadata": {
  "language": "ruby",
  "name": "",
  "signature": "sha256:5551cec91c5d20a221b6dfe8caf05316b533d77eb29f12fd5f9664eb91b2a3db"
 },
 "nbformat": 3,
 "nbformat_minor": 0,
 "worksheets": [
  {
   "cells": [
    {
     "cell_type": "code",
     "collapsed": false,
     "input": [
      "require \"processmaker\""
     ],
     "language": "python",
     "metadata": {},
     "outputs": [
      {
       "metadata": {},
       "output_type": "pyout",
       "prompt_number": 25,
       "text": [
        "true"
       ]
      }
     ],
     "prompt_number": 25
    },
    {
     "cell_type": "code",
     "collapsed": false,
     "input": [
      "# ProcessMaker instance\n",
      "url = 'http://si-dev01.si.is.co.za:80/sysworkflow/en/classic/services/wsdl2'\n",
      "\n",
      "# Login first\n",
      "Processmaker.login(wsdl: url, user_id: 'admin', password: 'admin')\n",
      "puts \"OK\""
     ],
     "language": "python",
     "metadata": {},
     "outputs": [
      {
       "output_type": "stream",
       "stream": "stdout",
       "text": [
        "D, [2015-03-20T10:53:49.107023 #6608] DEBUG -- : HTTPI GET request to si-dev01.si.is.co.za (net_http)\n"
       ]
      },
      {
       "output_type": "stream",
       "stream": "stdout",
       "text": [
        "I, [2015-03-20T10:53:49.228271 #6608]  INFO -- : SOAP request: http://si-dev01.si.is.co.za/sysworkflow/en/classic/services/soap2\n"
       ]
      },
      {
       "output_type": "stream",
       "stream": "stdout",
       "text": [
        "I, [2015-03-20T10:53:49.228620 #6608]  INFO -- : SOAPAction: \"http://www.processmaker.com/login\", Content-Type: text/xml;charset=UTF-8, Content-Length: 368\n"
       ]
      },
      {
       "output_type": "stream",
       "stream": "stdout",
       "text": [
        "D, [2015-03-20T10:53:49.228843 #6608] DEBUG -- : <?xml version=\"1.0\" encoding=\"UTF-8\"?><env:Envelope xmlns:xsd=\"http://www.w3.org/2001/XMLSchema\" xmlns:xsi=\"http://www.w3.org/2001/XMLSchema-instance\" xmlns:xs0=\"http://www.processmaker.com\" xmlns:env=\"http://schemas.xmlsoap.org/soap/envelope/\"><env:Body><xs0:login><xs0:userid>admin</xs0:userid><xs0:password>admin</xs0:password></xs0:login></env:Body></env:Envelope>\n"
       ]
      },
      {
       "output_type": "stream",
       "stream": "stdout",
       "text": [
        "D, [2015-03-20T10:53:49.229564 #6608] DEBUG -- : HTTPI POST request to si-dev01.si.is.co.za (net_http)\n"
       ]
      },
      {
       "output_type": "stream",
       "stream": "stdout",
       "text": [
        "I, [2015-03-20T10:53:49.283029 #6608]  INFO -- : SOAP response (status 200)\n"
       ]
      },
      {
       "output_type": "stream",
       "stream": "stdout",
       "text": [
        "D, [2015-03-20T10:53:49.283333 #6608] DEBUG -- : <?xml version=\"1.0\" encoding=\"UTF-8\"?>\n",
        "<SOAP-ENV:Envelope xmlns:SOAP-ENV=\"http://schemas.xmlsoap.org/soap/envelope/\" xmlns:ns1=\"http://www.processmaker.com\"><SOAP-ENV:Body><ns1:loginResponse><ns1:status_code>0</ns1:status_code><ns1:message>503035890550bdfaf574f72056565593</ns1:message><ns1:version>2.0</ns1:version><ns1:timestamp>2015-03-20 04:51:59</ns1:timestamp></ns1:loginResponse></SOAP-ENV:Body></SOAP-ENV:Envelope>\n",
        "\n"
       ]
      },
      {
       "output_type": "stream",
       "stream": "stdout",
       "text": [
        "OK\n"
       ]
      }
     ],
     "prompt_number": 26
    },
    {
     "cell_type": "code",
     "collapsed": false,
     "input": [
      "# Get all users\n",
      "users = Processmaker.user_list\n",
      "p users"
     ],
     "language": "python",
     "metadata": {},
     "outputs": [
      {
       "output_type": "stream",
       "stream": "stdout",
       "text": [
        "I, [2015-03-20T10:53:49.291465 #6608]  INFO -- : SOAP request: http://si-dev01.si.is.co.za/sysworkflow/en/classic/services/soap2\n"
       ]
      },
      {
       "output_type": "stream",
       "stream": "stdout",
       "text": [
        "I, [2015-03-20T10:53:49.291657 #6608]  INFO -- : SOAPAction: \"urn:userList\", Content-Type: text/xml;charset=UTF-8, Content-Length: 387\n"
       ]
      },
      {
       "output_type": "stream",
       "stream": "stdout",
       "text": [
        "D, [2015-03-20T10:53:49.291803 #6608] DEBUG -- : <?xml version=\"1.0\" encoding=\"UTF-8\"?><env:Envelope xmlns:xsd=\"http://www.w3.org/2001/XMLSchema\" xmlns:xsi=\"http://www.w3.org/2001/XMLSchema-instance\" xmlns:xs0=\"http://www.processmaker.com\" xmlns:env=\"http://schemas.xmlsoap.org/soap/envelope/\"><env:Body><xs0:userListRequest><xs0:sessionId>503035890550bdfaf574f72056565593</xs0:sessionId></xs0:userListRequest></env:Body></env:Envelope>\n"
       ]
      },
      {
       "output_type": "stream",
       "stream": "stdout",
       "text": [
        "D, [2015-03-20T10:53:49.292110 #6608] DEBUG -- : HTTPI POST request to si-dev01.si.is.co.za (net_http)\n"
       ]
      },
      {
       "output_type": "stream",
       "stream": "stdout",
       "text": [
        "I, [2015-03-20T10:53:49.341198 #6608]  INFO -- : SOAP response (status 200)\n"
       ]
      },
      {
       "output_type": "stream",
       "stream": "stdout",
       "text": [
        "D, [2015-03-20T10:53:49.341499 #6608] DEBUG -- : <?xml version=\"1.0\" encoding=\"UTF-8\"?>\n",
        "<SOAP-ENV:Envelope xmlns:SOAP-ENV=\"http://schemas.xmlsoap.org/soap/envelope/\" xmlns:ns1=\"http://www.processmaker.com\"><SOAP-ENV:Body><ns1:userListResponse><ns1:users><ns1:guid>00000000000000000000000000000001</ns1:guid><ns1:name>admin</ns1:name></ns1:users><ns1:users><ns1:guid>46157618755094e812d03c2091230077</ns1:guid><ns1:name>irubynotebook</ns1:name></ns1:users><ns1:users><ns1:guid>56664023555094b01987cd8045323362</ns1:guid><ns1:name>heisenberg</ns1:name></ns1:users></ns1:userListResponse></SOAP-ENV:Body></SOAP-ENV:Envelope>\n",
        "\n"
       ]
      },
      {
       "output_type": "stream",
       "stream": "stdout",
       "text": [
        "[{:guid=>\"00000000000000000000000000000001\", :name=>\"admin\"}, {:guid=>\"46157618755094e812d03c2091230077\", :name=>\"irubynotebook\"}, {:guid=>\"56664023555094b01987cd8045323362\", :name=>\"heisenberg\"}]"
       ]
      },
      {
       "output_type": "stream",
       "stream": "stdout",
       "text": [
        "\n"
       ]
      },
      {
       "metadata": {},
       "output_type": "pyout",
       "prompt_number": 27,
       "text": [
        "[{:guid=>\"00000000000000000000000000000001\", :name=>\"admin\"}, {:guid=>\"46157618755094e812d03c2091230077\", :name=>\"irubynotebook\"}, {:guid=>\"56664023555094b01987cd8045323362\", :name=>\"heisenberg\"}]"
       ]
      }
     ],
     "prompt_number": 27
    },
    {
     "cell_type": "code",
     "collapsed": false,
     "input": [
      "# Create a new user\n",
      "name = \"irubynotebook\"\n",
      "user_password = 'demo'"
     ],
     "language": "python",
     "metadata": {},
     "outputs": [
      {
       "metadata": {},
       "output_type": "pyout",
       "prompt_number": 28,
       "text": [
        "\"demo\""
       ]
      }
     ],
     "prompt_number": 28
    },
    {
     "cell_type": "code",
     "collapsed": false,
     "input": [],
     "language": "python",
     "metadata": {},
     "outputs": [],
     "prompt_number": 29
    },
    {
     "cell_type": "code",
     "collapsed": false,
     "input": [
      "# commeted out because I don't want to recreate the user everytime\n",
      "# user = Processmaker.create_user(\n",
      "#   user_id: name,\n",
      "#   first_name: 'iruby',\n",
      "#   last_name: 'notebook',\n",
      "#   email: 'example@whatever.com',\n",
      "#   role: 'PROCESSMAKER_ADMIN',\n",
      "#   password: user_password\n",
      "# )"
     ],
     "language": "python",
     "metadata": {},
     "outputs": [],
     "prompt_number": 30
    },
    {
     "cell_type": "code",
     "collapsed": false,
     "input": [
      "users = Processmaker.user_list()\n",
      "p users\n",
      "user = users.find { |user| user[:name] == name } \n",
      "p user\n",
      "user[:guid]"
     ],
     "language": "python",
     "metadata": {},
     "outputs": [
      {
       "output_type": "stream",
       "stream": "stdout",
       "text": [
        "I, [2015-03-20T10:53:49.357490 #6608]  INFO -- : SOAP request: http://si-dev01.si.is.co.za/sysworkflow/en/classic/services/soap2\n"
       ]
      },
      {
       "output_type": "stream",
       "stream": "stdout",
       "text": [
        "I, [2015-03-20T10:53:49.357647 #6608]  INFO -- : SOAPAction: \"urn:userList\", Content-Type: text/xml;charset=UTF-8, Content-Length: 387\n"
       ]
      },
      {
       "output_type": "stream",
       "stream": "stdout",
       "text": [
        "D, [2015-03-20T10:53:49.357883 #6608] DEBUG -- : <?xml version=\"1.0\" encoding=\"UTF-8\"?><env:Envelope xmlns:xsd=\"http://www.w3.org/2001/XMLSchema\" xmlns:xsi=\"http://www.w3.org/2001/XMLSchema-instance\" xmlns:xs0=\"http://www.processmaker.com\" xmlns:env=\"http://schemas.xmlsoap.org/soap/envelope/\"><env:Body><xs0:userListRequest><xs0:sessionId>503035890550bdfaf574f72056565593</xs0:sessionId></xs0:userListRequest></env:Body></env:Envelope>\n"
       ]
      },
      {
       "output_type": "stream",
       "stream": "stdout",
       "text": [
        "D, [2015-03-20T10:53:49.358237 #6608] DEBUG -- : HTTPI POST request to si-dev01.si.is.co.za (net_http)\n"
       ]
      },
      {
       "output_type": "stream",
       "stream": "stdout",
       "text": [
        "I, [2015-03-20T10:53:49.400870 #6608]  INFO -- : SOAP response (status 200)\n"
       ]
      },
      {
       "output_type": "stream",
       "stream": "stdout",
       "text": [
        "D, [2015-03-20T10:53:49.401155 #6608] DEBUG -- : <?xml version=\"1.0\" encoding=\"UTF-8\"?>\n",
        "<SOAP-ENV:Envelope xmlns:SOAP-ENV=\"http://schemas.xmlsoap.org/soap/envelope/\" xmlns:ns1=\"http://www.processmaker.com\"><SOAP-ENV:Body><ns1:userListResponse><ns1:users><ns1:guid>00000000000000000000000000000001</ns1:guid><ns1:name>admin</ns1:name></ns1:users><ns1:users><ns1:guid>46157618755094e812d03c2091230077</ns1:guid><ns1:name>irubynotebook</ns1:name></ns1:users><ns1:users><ns1:guid>56664023555094b01987cd8045323362</ns1:guid><ns1:name>heisenberg</ns1:name></ns1:users></ns1:userListResponse></SOAP-ENV:Body></SOAP-ENV:Envelope>\n",
        "\n"
       ]
      },
      {
       "output_type": "stream",
       "stream": "stdout",
       "text": [
        "[{:guid=>\"00000000000000000000000000000001\", :name=>\"admin\"}, {:guid=>\"46157618755094e812d03c2091230077\", :name=>\"irubynotebook\"}, {:guid=>\"56664023555094b01987cd8045323362\", :name=>\"heisenberg\"}]"
       ]
      },
      {
       "output_type": "stream",
       "stream": "stdout",
       "text": [
        "\n"
       ]
      },
      {
       "output_type": "stream",
       "stream": "stdout",
       "text": [
        "{:guid=>\"46157618755094e812d03c2091230077\", :name=>\"irubynotebook\"}"
       ]
      },
      {
       "output_type": "stream",
       "stream": "stdout",
       "text": [
        "\n"
       ]
      },
      {
       "metadata": {},
       "output_type": "pyout",
       "prompt_number": 31,
       "text": [
        "\"46157618755094e812d03c2091230077\""
       ]
      }
     ],
     "prompt_number": 31
    },
    {
     "cell_type": "code",
     "collapsed": false,
     "input": [
      "group = Processmaker.create_group(name: \"task1_operators\")\n",
      "p group[:group_uid]"
     ],
     "language": "python",
     "metadata": {},
     "outputs": [
      {
       "output_type": "stream",
       "stream": "stdout",
       "text": [
        "I, [2015-03-20T10:53:49.407730 #6608]  INFO -- : SOAP request: http://si-dev01.si.is.co.za/sysworkflow/en/classic/services/soap2\n"
       ]
      },
      {
       "output_type": "stream",
       "stream": "stdout",
       "text": [
        "I, [2015-03-20T10:53:49.407864 #6608]  INFO -- : SOAPAction: \"urn:createGroup\", Content-Type: text/xml;charset=UTF-8, Content-Length: 429\n"
       ]
      },
      {
       "output_type": "stream",
       "stream": "stdout",
       "text": [
        "D, [2015-03-20T10:53:49.407976 #6608] DEBUG -- : <?xml version=\"1.0\" encoding=\"UTF-8\"?><env:Envelope xmlns:xsd=\"http://www.w3.org/2001/XMLSchema\" xmlns:xsi=\"http://www.w3.org/2001/XMLSchema-instance\" xmlns:xs0=\"http://www.processmaker.com\" xmlns:env=\"http://schemas.xmlsoap.org/soap/envelope/\"><env:Body><xs0:createGroupRequest><xs0:sessionId>503035890550bdfaf574f72056565593</xs0:sessionId><xs0:name>task1_operators</xs0:name></xs0:createGroupRequest></env:Body></env:Envelope>\n"
       ]
      },
      {
       "output_type": "stream",
       "stream": "stdout",
       "text": [
        "D, [2015-03-20T10:53:49.408197 #6608] DEBUG -- : HTTPI POST request to si-dev01.si.is.co.za (net_http)\n"
       ]
      },
      {
       "output_type": "stream",
       "stream": "stdout",
       "text": [
        "I, [2015-03-20T10:53:49.477739 #6608]  INFO -- : SOAP response (status 200)\n"
       ]
      },
      {
       "output_type": "stream",
       "stream": "stdout",
       "text": [
        "D, [2015-03-20T10:53:49.478049 #6608] DEBUG -- : <?xml version=\"1.0\" encoding=\"UTF-8\"?>\n",
        "<SOAP-ENV:Envelope xmlns:SOAP-ENV=\"http://schemas.xmlsoap.org/soap/envelope/\" xmlns:ns1=\"http://www.processmaker.com\"><SOAP-ENV:Body><ns1:createGroupResponse><ns1:status_code>0</ns1:status_code><ns1:message>Group task1_operators created successfully</ns1:message><ns1:groupUID>726524553550bdfaf871bb9023163150</ns1:groupUID><ns1:timestamp>2015-03-20 04:51:59</ns1:timestamp></ns1:createGroupResponse></SOAP-ENV:Body></SOAP-ENV:Envelope>\n",
        "\n"
       ]
      },
      {
       "output_type": "stream",
       "stream": "stdout",
       "text": [
        "\"726524553550bdfaf871bb9023163150\""
       ]
      },
      {
       "output_type": "stream",
       "stream": "stdout",
       "text": [
        "\n"
       ]
      },
      {
       "metadata": {},
       "output_type": "pyout",
       "prompt_number": 32,
       "text": [
        "\"726524553550bdfaf871bb9023163150\""
       ]
      }
     ],
     "prompt_number": 32
    },
    {
     "cell_type": "code",
     "collapsed": false,
     "input": [
      "Processmaker.assign_user_to_group(group_id: group[:group_uid], user_id: user[:guid])"
     ],
     "language": "python",
     "metadata": {},
     "outputs": [
      {
       "output_type": "stream",
       "stream": "stdout",
       "text": [
        "I, [2015-03-20T10:53:49.486744 #6608]  INFO -- : SOAP request: http://si-dev01.si.is.co.za/sysworkflow/en/classic/services/soap2\n"
       ]
      },
      {
       "output_type": "stream",
       "stream": "stdout",
       "text": [
        "I, [2015-03-20T10:53:49.486915 #6608]  INFO -- : SOAPAction: \"urn:assignUserToGroup\", Content-Type: text/xml;charset=UTF-8, Content-Length: 521\n"
       ]
      },
      {
       "output_type": "stream",
       "stream": "stdout",
       "text": [
        "D, [2015-03-20T10:53:49.487032 #6608] DEBUG -- : <?xml version=\"1.0\" encoding=\"UTF-8\"?><env:Envelope xmlns:xsd=\"http://www.w3.org/2001/XMLSchema\" xmlns:xsi=\"http://www.w3.org/2001/XMLSchema-instance\" xmlns:xs0=\"http://www.processmaker.com\" xmlns:env=\"http://schemas.xmlsoap.org/soap/envelope/\"><env:Body><xs0:assignUserToGroupRequest><xs0:sessionId>503035890550bdfaf574f72056565593</xs0:sessionId><xs0:userId>46157618755094e812d03c2091230077</xs0:userId><xs0:groupId>726524553550bdfaf871bb9023163150</xs0:groupId></xs0:assignUserToGroupRequest></env:Body></env:Envelope>\n"
       ]
      },
      {
       "output_type": "stream",
       "stream": "stdout",
       "text": [
        "D, [2015-03-20T10:53:49.487234 #6608] DEBUG -- : HTTPI POST request to si-dev01.si.is.co.za (net_http)\n"
       ]
      },
      {
       "output_type": "stream",
       "stream": "stdout",
       "text": [
        "I, [2015-03-20T10:53:49.534522 #6608]  INFO -- : SOAP response (status 200)\n"
       ]
      },
      {
       "output_type": "stream",
       "stream": "stdout",
       "text": [
        "D, [2015-03-20T10:53:49.534882 #6608] DEBUG -- : <?xml version=\"1.0\" encoding=\"UTF-8\"?>\n",
        "<SOAP-ENV:Envelope xmlns:SOAP-ENV=\"http://schemas.xmlsoap.org/soap/envelope/\" xmlns:ns1=\"http://www.processmaker.com\"><SOAP-ENV:Body><ns1:pmResponse><ns1:status_code>0</ns1:status_code><ns1:message>command executed successfully</ns1:message><ns1:timestamp>2015-03-20 04:51:59</ns1:timestamp></ns1:pmResponse></SOAP-ENV:Body></SOAP-ENV:Envelope>\n",
        "\n"
       ]
      },
      {
       "metadata": {},
       "output_type": "pyout",
       "prompt_number": 33,
       "text": [
        "{:status_code=>\"0\", :message=>\"command executed successfully\", :timestamp=>\"2015-03-20 04:51:59\"}"
       ]
      }
     ],
     "prompt_number": 33
    },
    {
     "cell_type": "code",
     "collapsed": false,
     "input": [
      "p user[:name]\n",
      "p password: user_password\n",
      "Processmaker.login(wsdl: url, user_id: user[:name], password: user_password)"
     ],
     "language": "python",
     "metadata": {},
     "outputs": [
      {
       "output_type": "stream",
       "stream": "stdout",
       "text": [
        "\"irubynotebook\""
       ]
      },
      {
       "output_type": "stream",
       "stream": "stdout",
       "text": [
        "\n"
       ]
      },
      {
       "output_type": "stream",
       "stream": "stdout",
       "text": [
        "{:password=>\"demo\"}"
       ]
      },
      {
       "output_type": "stream",
       "stream": "stdout",
       "text": [
        "\n"
       ]
      },
      {
       "output_type": "stream",
       "stream": "stdout",
       "text": [
        "D, [2015-03-20T10:53:49.540587 #6608] DEBUG -- : HTTPI GET request to si-dev01.si.is.co.za (net_http)\n"
       ]
      },
      {
       "output_type": "stream",
       "stream": "stdout",
       "text": [
        "I, [2015-03-20T10:53:49.625431 #6608]  INFO -- : SOAP request: http://si-dev01.si.is.co.za/sysworkflow/en/classic/services/soap2\n"
       ]
      },
      {
       "output_type": "stream",
       "stream": "stdout",
       "text": [
        "I, [2015-03-20T10:53:49.625913 #6608]  INFO -- : SOAPAction: \"http://www.processmaker.com/login\", Content-Type: text/xml;charset=UTF-8, Content-Length: 375\n"
       ]
      },
      {
       "output_type": "stream",
       "stream": "stdout",
       "text": [
        "D, [2015-03-20T10:53:49.626144 #6608] DEBUG -- : <?xml version=\"1.0\" encoding=\"UTF-8\"?><env:Envelope xmlns:xsd=\"http://www.w3.org/2001/XMLSchema\" xmlns:xsi=\"http://www.w3.org/2001/XMLSchema-instance\" xmlns:xs0=\"http://www.processmaker.com\" xmlns:env=\"http://schemas.xmlsoap.org/soap/envelope/\"><env:Body><xs0:login><xs0:userid>irubynotebook</xs0:userid><xs0:password>demo</xs0:password></xs0:login></env:Body></env:Envelope>\n"
       ]
      },
      {
       "output_type": "stream",
       "stream": "stdout",
       "text": [
        "D, [2015-03-20T10:53:49.626921 #6608] DEBUG -- : HTTPI POST request to si-dev01.si.is.co.za (net_http)\n"
       ]
      },
      {
       "output_type": "stream",
       "stream": "stdout",
       "text": [
        "I, [2015-03-20T10:53:49.667613 #6608]  INFO -- : SOAP response (status 200)\n"
       ]
      },
      {
       "output_type": "stream",
       "stream": "stdout",
       "text": [
        "D, [2015-03-20T10:53:49.668122 #6608] DEBUG -- : <?xml version=\"1.0\" encoding=\"UTF-8\"?>\n",
        "<SOAP-ENV:Envelope xmlns:SOAP-ENV=\"http://schemas.xmlsoap.org/soap/envelope/\" xmlns:ns1=\"http://www.processmaker.com\"><SOAP-ENV:Body><ns1:loginResponse><ns1:status_code>0</ns1:status_code><ns1:message>784945076550bdfafb550a7021386423</ns1:message><ns1:version>2.0</ns1:version><ns1:timestamp>2015-03-20 04:51:59</ns1:timestamp></ns1:loginResponse></SOAP-ENV:Body></SOAP-ENV:Envelope>\n",
        "\n"
       ]
      },
      {
       "metadata": {},
       "output_type": "pyout",
       "prompt_number": 34,
       "text": [
        "{:status_code=>\"0\", :message=>\"784945076550bdfafb550a7021386423\", :version=>\"2.0\", :timestamp=>\"2015-03-20 04:51:59\"}"
       ]
      }
     ],
     "prompt_number": 34
    },
    {
     "cell_type": "code",
     "collapsed": false,
     "input": [
      "processes =  Processmaker.process_list()\n",
      "process = processes.find { |process| process[:name] == \"IRuby_notebook_demo\" }"
     ],
     "language": "python",
     "metadata": {},
     "outputs": [
      {
       "output_type": "stream",
       "stream": "stdout",
       "text": [
        "I, [2015-03-20T10:53:49.678891 #6608]  INFO -- : SOAP request: http://si-dev01.si.is.co.za/sysworkflow/en/classic/services/soap2\n"
       ]
      },
      {
       "output_type": "stream",
       "stream": "stdout",
       "text": [
        "I, [2015-03-20T10:53:49.679100 #6608]  INFO -- : SOAPAction: \"urn:processList\", Content-Type: text/xml;charset=UTF-8, Content-Length: 393\n"
       ]
      },
      {
       "output_type": "stream",
       "stream": "stdout",
       "text": [
        "D, [2015-03-20T10:53:49.679209 #6608] DEBUG -- : <?xml version=\"1.0\" encoding=\"UTF-8\"?><env:Envelope xmlns:xsd=\"http://www.w3.org/2001/XMLSchema\" xmlns:xsi=\"http://www.w3.org/2001/XMLSchema-instance\" xmlns:xs0=\"http://www.processmaker.com\" xmlns:env=\"http://schemas.xmlsoap.org/soap/envelope/\"><env:Body><xs0:processListRequest><xs0:sessionId>784945076550bdfafb550a7021386423</xs0:sessionId></xs0:processListRequest></env:Body></env:Envelope>\n"
       ]
      },
      {
       "output_type": "stream",
       "stream": "stdout",
       "text": [
        "D, [2015-03-20T10:53:49.679422 #6608] DEBUG -- : HTTPI POST request to si-dev01.si.is.co.za (net_http)\n"
       ]
      },
      {
       "output_type": "stream",
       "stream": "stdout",
       "text": [
        "I, [2015-03-20T10:53:49.713394 #6608]  INFO -- : SOAP response (status 200)\n"
       ]
      },
      {
       "output_type": "stream",
       "stream": "stdout",
       "text": [
        "D, [2015-03-20T10:53:49.713921 #6608] DEBUG -- : <?xml version=\"1.0\" encoding=\"UTF-8\"?>\n",
        "<SOAP-ENV:Envelope xmlns:SOAP-ENV=\"http://schemas.xmlsoap.org/soap/envelope/\" xmlns:ns1=\"http://www.processmaker.com\"><SOAP-ENV:Body><ns1:processListResponse><ns1:processes><ns1:guid>658670893550a867bb12622076625838</ns1:guid><ns1:name>Demo</ns1:name></ns1:processes><ns1:processes><ns1:guid>98360219855094de74c2f21070070181</ns1:guid><ns1:name>IRuby_notebook_demo</ns1:name></ns1:processes></ns1:processListResponse></SOAP-ENV:Body></SOAP-ENV:Envelope>\n",
        "\n"
       ]
      },
      {
       "ename": "TypeError",
       "evalue": "no implicit conversion of Symbol into Integer",
       "output_type": "pyerr",
       "traceback": [
        "\u001b[31mTypeError\u001b[0m: no implicit conversion of Symbol into Integer",
        "\u001b[37m(pry):100:in `[]'\u001b[0m",
        "\u001b[37m(pry):100:in `<main>'\u001b[0m",
        "\u001b[37m/Users/vmpj/.rbenv/versions/2.2.0/lib/ruby/gems/2.2.0/gems/pry-0.10.1/lib/pry/pry_instance.rb:355:in `eval'\u001b[0m",
        "\u001b[37m/Users/vmpj/.rbenv/versions/2.2.0/lib/ruby/gems/2.2.0/gems/pry-0.10.1/lib/pry/pry_instance.rb:355:in `evaluate_ruby'\u001b[0m",
        "\u001b[37m/Users/vmpj/.rbenv/versions/2.2.0/lib/ruby/gems/2.2.0/gems/pry-0.10.1/lib/pry/pry_instance.rb:323:in `handle_line'\u001b[0m",
        "\u001b[37m/Users/vmpj/.rbenv/versions/2.2.0/lib/ruby/gems/2.2.0/gems/pry-0.10.1/lib/pry/pry_instance.rb:243:in `block (2 levels) in eval'\u001b[0m",
        "\u001b[37m/Users/vmpj/.rbenv/versions/2.2.0/lib/ruby/gems/2.2.0/gems/pry-0.10.1/lib/pry/pry_instance.rb:242:in `catch'\u001b[0m",
        "\u001b[37m/Users/vmpj/.rbenv/versions/2.2.0/lib/ruby/gems/2.2.0/gems/pry-0.10.1/lib/pry/pry_instance.rb:242:in `block in eval'\u001b[0m",
        "\u001b[37m/Users/vmpj/.rbenv/versions/2.2.0/lib/ruby/gems/2.2.0/gems/pry-0.10.1/lib/pry/pry_instance.rb:241:in `catch'\u001b[0m",
        "\u001b[37m/Users/vmpj/.rbenv/versions/2.2.0/lib/ruby/gems/2.2.0/gems/pry-0.10.1/lib/pry/pry_instance.rb:241:in `eval'\u001b[0m",
        "\u001b[37m/Users/vmpj/.rbenv/versions/2.2.0/lib/ruby/gems/2.2.0/gems/iruby-0.1.13/lib/iruby/backend.rb:28:in `eval'\u001b[0m",
        "\u001b[37m/Users/vmpj/.rbenv/versions/2.2.0/lib/ruby/gems/2.2.0/gems/iruby-0.1.13/lib/iruby/kernel.rb:110:in `execute_request'\u001b[0m",
        "\u001b[37m/Users/vmpj/.rbenv/versions/2.2.0/lib/ruby/gems/2.2.0/gems/iruby-0.1.13/lib/iruby/kernel.rb:62:in `run'\u001b[0m",
        "\u001b[37m/Users/vmpj/.rbenv/versions/2.2.0/lib/ruby/gems/2.2.0/gems/iruby-0.1.13/lib/iruby/command.rb:30:in `run_kernel'\u001b[0m",
        "\u001b[37m/Users/vmpj/.rbenv/versions/2.2.0/lib/ruby/gems/2.2.0/gems/iruby-0.1.13/lib/iruby/command.rb:16:in `run'\u001b[0m",
        "\u001b[37m/Users/vmpj/.rbenv/versions/2.2.0/lib/ruby/gems/2.2.0/gems/iruby-0.1.13/bin/iruby:6:in `<top (required)>'\u001b[0m",
        "\u001b[37m/Users/vmpj/.rbenv/versions/2.2.0/bin/iruby:23:in `load'\u001b[0m",
        "\u001b[37m/Users/vmpj/.rbenv/versions/2.2.0/bin/iruby:23:in `<main>'\u001b[0m"
       ]
      }
     ],
     "prompt_number": 35
    },
    {
     "cell_type": "code",
     "collapsed": false,
     "input": [
      "tasks = Processmaker.task_list()\n",
      "task = tasks.find { |task| task[:initial_task] == \"1\" } \n",
      "p task\n",
      "task[:process_id]\n"
     ],
     "language": "python",
     "metadata": {},
     "outputs": [
      {
       "output_type": "stream",
       "stream": "stdout",
       "text": [
        "I, [2015-03-20T10:53:49.721933 #6608]  INFO -- : SOAP request: http://si-dev01.si.is.co.za/sysworkflow/en/classic/services/soap2\n"
       ]
      },
      {
       "output_type": "stream",
       "stream": "stdout",
       "text": [
        "I, [2015-03-20T10:53:49.722437 #6608]  INFO -- : SOAPAction: \"urn:taskList\", Content-Type: text/xml;charset=UTF-8, Content-Length: 387\n"
       ]
      },
      {
       "output_type": "stream",
       "stream": "stdout",
       "text": [
        "D, [2015-03-20T10:53:49.722989 #6608] DEBUG -- : <?xml version=\"1.0\" encoding=\"UTF-8\"?><env:Envelope xmlns:xsd=\"http://www.w3.org/2001/XMLSchema\" xmlns:xsi=\"http://www.w3.org/2001/XMLSchema-instance\" xmlns:xs0=\"http://www.processmaker.com\" xmlns:env=\"http://schemas.xmlsoap.org/soap/envelope/\"><env:Body><xs0:taskListRequest><xs0:sessionId>784945076550bdfafb550a7021386423</xs0:sessionId></xs0:taskListRequest></env:Body></env:Envelope>\n"
       ]
      },
      {
       "output_type": "stream",
       "stream": "stdout",
       "text": [
        "D, [2015-03-20T10:53:49.723752 #6608] DEBUG -- : HTTPI POST request to si-dev01.si.is.co.za (net_http)\n"
       ]
      },
      {
       "output_type": "stream",
       "stream": "stdout",
       "text": [
        "I, [2015-03-20T10:53:49.780933 #6608]  INFO -- : SOAP response (status 200)\n"
       ]
      },
      {
       "output_type": "stream",
       "stream": "stdout",
       "text": [
        "D, [2015-03-20T10:53:49.781457 #6608] DEBUG -- : <?xml version=\"1.0\" encoding=\"UTF-8\"?>\n",
        "<SOAP-ENV:Envelope xmlns:SOAP-ENV=\"http://schemas.xmlsoap.org/soap/envelope/\" xmlns:ns1=\"http://www.processmaker.com\"><SOAP-ENV:Body><ns1:taskListResponse><ns1:tasks><ns1:guid>182133921550955233965a7049985769</ns1:guid><ns1:name>Task 2</ns1:name><ns1:processId>98360219855094de74c2f21070070181</ns1:processId><ns1:initialTask>0</ns1:initialTask></ns1:tasks><ns1:tasks><ns1:guid>423008737550954cfb84be0049538069</ns1:guid><ns1:name>Task 1</ns1:name><ns1:processId>98360219855094de74c2f21070070181</ns1:processId><ns1:initialTask>1</ns1:initialTask></ns1:tasks></ns1:taskListResponse></SOAP-ENV:Body></SOAP-ENV:Envelope>\n",
        "\n"
       ]
      },
      {
       "output_type": "stream",
       "stream": "stdout",
       "text": [
        "{:guid=>\"423008737550954cfb84be0049538069\", :name=>\"Task 1\", :process_id=>\"98360219855094de74c2f21070070181\", :initial_task=>\"1\"}"
       ]
      },
      {
       "output_type": "stream",
       "stream": "stdout",
       "text": [
        "\n"
       ]
      },
      {
       "metadata": {},
       "output_type": "pyout",
       "prompt_number": 36,
       "text": [
        "\"98360219855094de74c2f21070070181\""
       ]
      }
     ],
     "prompt_number": 36
    },
    {
     "cell_type": "code",
     "collapsed": false,
     "input": [],
     "language": "python",
     "metadata": {},
     "outputs": [],
     "prompt_number": 37
    },
    {
     "cell_type": "code",
     "collapsed": false,
     "input": [
      "# Start a new case\n",
      "case1 = Processmaker.new_case(\n",
      "     process_id: process[:guid],\n",
      "     task_id: task[:guid]\n",
      ")\n",
      "p case1"
     ],
     "language": "python",
     "metadata": {},
     "outputs": [
      {
       "ename": "TypeError",
       "evalue": "no implicit conversion of Symbol into Integer",
       "output_type": "pyerr",
       "traceback": [
        "\u001b[31mTypeError\u001b[0m: no implicit conversion of Symbol into Integer",
        "\u001b[37m(pry):107:in `[]'\u001b[0m",
        "\u001b[37m(pry):107:in `<main>'\u001b[0m",
        "\u001b[37m/Users/vmpj/.rbenv/versions/2.2.0/lib/ruby/gems/2.2.0/gems/pry-0.10.1/lib/pry/pry_instance.rb:355:in `eval'\u001b[0m",
        "\u001b[37m/Users/vmpj/.rbenv/versions/2.2.0/lib/ruby/gems/2.2.0/gems/pry-0.10.1/lib/pry/pry_instance.rb:355:in `evaluate_ruby'\u001b[0m",
        "\u001b[37m/Users/vmpj/.rbenv/versions/2.2.0/lib/ruby/gems/2.2.0/gems/pry-0.10.1/lib/pry/pry_instance.rb:323:in `handle_line'\u001b[0m",
        "\u001b[37m/Users/vmpj/.rbenv/versions/2.2.0/lib/ruby/gems/2.2.0/gems/pry-0.10.1/lib/pry/pry_instance.rb:243:in `block (2 levels) in eval'\u001b[0m",
        "\u001b[37m/Users/vmpj/.rbenv/versions/2.2.0/lib/ruby/gems/2.2.0/gems/pry-0.10.1/lib/pry/pry_instance.rb:242:in `catch'\u001b[0m",
        "\u001b[37m/Users/vmpj/.rbenv/versions/2.2.0/lib/ruby/gems/2.2.0/gems/pry-0.10.1/lib/pry/pry_instance.rb:242:in `block in eval'\u001b[0m",
        "\u001b[37m/Users/vmpj/.rbenv/versions/2.2.0/lib/ruby/gems/2.2.0/gems/pry-0.10.1/lib/pry/pry_instance.rb:241:in `catch'\u001b[0m",
        "\u001b[37m/Users/vmpj/.rbenv/versions/2.2.0/lib/ruby/gems/2.2.0/gems/pry-0.10.1/lib/pry/pry_instance.rb:241:in `eval'\u001b[0m",
        "\u001b[37m/Users/vmpj/.rbenv/versions/2.2.0/lib/ruby/gems/2.2.0/gems/iruby-0.1.13/lib/iruby/backend.rb:28:in `eval'\u001b[0m",
        "\u001b[37m/Users/vmpj/.rbenv/versions/2.2.0/lib/ruby/gems/2.2.0/gems/iruby-0.1.13/lib/iruby/kernel.rb:110:in `execute_request'\u001b[0m",
        "\u001b[37m/Users/vmpj/.rbenv/versions/2.2.0/lib/ruby/gems/2.2.0/gems/iruby-0.1.13/lib/iruby/kernel.rb:62:in `run'\u001b[0m",
        "\u001b[37m/Users/vmpj/.rbenv/versions/2.2.0/lib/ruby/gems/2.2.0/gems/iruby-0.1.13/lib/iruby/command.rb:30:in `run_kernel'\u001b[0m",
        "\u001b[37m/Users/vmpj/.rbenv/versions/2.2.0/lib/ruby/gems/2.2.0/gems/iruby-0.1.13/lib/iruby/command.rb:16:in `run'\u001b[0m",
        "\u001b[37m/Users/vmpj/.rbenv/versions/2.2.0/lib/ruby/gems/2.2.0/gems/iruby-0.1.13/bin/iruby:6:in `<top (required)>'\u001b[0m",
        "\u001b[37m/Users/vmpj/.rbenv/versions/2.2.0/bin/iruby:23:in `load'\u001b[0m",
        "\u001b[37m/Users/vmpj/.rbenv/versions/2.2.0/bin/iruby:23:in `<main>'\u001b[0m"
       ]
      }
     ],
     "prompt_number": 38
    },
    {
     "cell_type": "code",
     "collapsed": false,
     "input": [
      "cases = Processmaker.case_list()\n",
      "p cases\n",
      "case1_info = cases.find { |c| c[:guid] == case1[:case_id] } \n",
      "p case1_info\n",
      "case1_info[:del_index]"
     ],
     "language": "python",
     "metadata": {},
     "outputs": [
      {
       "output_type": "stream",
       "stream": "stdout",
       "text": [
        "I, [2015-03-20T10:53:49.800249 #6608]  INFO -- : SOAP request: http://si-dev01.si.is.co.za/sysworkflow/en/classic/services/soap2\n"
       ]
      },
      {
       "output_type": "stream",
       "stream": "stdout",
       "text": [
        "I, [2015-03-20T10:53:49.800812 #6608]  INFO -- : SOAPAction: \"urn:caseList\", Content-Type: text/xml;charset=UTF-8, Content-Length: 387\n"
       ]
      },
      {
       "output_type": "stream",
       "stream": "stdout",
       "text": [
        "D, [2015-03-20T10:53:49.800960 #6608] DEBUG -- : <?xml version=\"1.0\" encoding=\"UTF-8\"?><env:Envelope xmlns:xsd=\"http://www.w3.org/2001/XMLSchema\" xmlns:xsi=\"http://www.w3.org/2001/XMLSchema-instance\" xmlns:xs0=\"http://www.processmaker.com\" xmlns:env=\"http://schemas.xmlsoap.org/soap/envelope/\"><env:Body><xs0:caseListRequest><xs0:sessionId>784945076550bdfafb550a7021386423</xs0:sessionId></xs0:caseListRequest></env:Body></env:Envelope>\n"
       ]
      },
      {
       "output_type": "stream",
       "stream": "stdout",
       "text": [
        "D, [2015-03-20T10:53:49.801213 #6608] DEBUG -- : HTTPI POST request to si-dev01.si.is.co.za (net_http)\n"
       ]
      },
      {
       "output_type": "stream",
       "stream": "stdout",
       "text": [
        "I, [2015-03-20T10:53:49.834622 #6608]  INFO -- : SOAP response (status 200)\n"
       ]
      },
      {
       "output_type": "stream",
       "stream": "stdout",
       "text": [
        "D, [2015-03-20T10:53:49.834972 #6608] DEBUG -- : <?xml version=\"1.0\" encoding=\"UTF-8\"?>\n",
        "<SOAP-ENV:Envelope xmlns:SOAP-ENV=\"http://schemas.xmlsoap.org/soap/envelope/\" xmlns:ns1=\"http://www.processmaker.com\"><SOAP-ENV:Body><ns1:caseListResponse><ns1:cases><ns1:guid>761090587550bde1d1acf46078070193</ns1:guid><ns1:name>18</ns1:name><ns1:status>DRAFT</ns1:status><ns1:delIndex>1</ns1:delIndex><ns1:processId>98360219855094de74c2f21070070181</ns1:processId></ns1:cases><ns1:cases><ns1:guid>184078385550bdcbb100343050558793</ns1:guid><ns1:name>17</ns1:name><ns1:status>DRAFT</ns1:status><ns1:delIndex>1</ns1:delIndex><ns1:processId>98360219855094de74c2f21070070181</ns1:processId></ns1:cases><ns1:cases><ns1:guid>274821792550bd02d9140a4006137622</ns1:guid><ns1:name>16</ns1:name><ns1:status>DRAFT</ns1:status><ns1:delIndex>1</ns1:delIndex><ns1:processId>98360219855094de74c2f21070070181</ns1:processId></ns1:cases><ns1:cases><ns1:guid>388651703550bcfedd04a01034849952</ns1:guid><ns1:name>15</ns1:name><ns1:status>DRAFT</ns1:status><ns1:delIndex>1</ns1:delIndex><ns1:processId>98360219855094de74c2f21070070181</ns1:processId></ns1:cases><ns1:cases><ns1:guid>932965532550bcfcc5f17f1033422526</ns1:guid><ns1:name>14</ns1:name><ns1:status>DRAFT</ns1:status><ns1:delIndex>1</ns1:delIndex><ns1:processId>98360219855094de74c2f21070070181</ns1:processId></ns1:cases><ns1:cases><ns1:guid>792680878550bcfbbd29fe7062507921</ns1:guid><ns1:name>13</ns1:name><ns1:status>DRAFT</ns1:status><ns1:delIndex>1</ns1:delIndex><ns1:processId>98360219855094de74c2f21070070181</ns1:processId></ns1:cases><ns1:cases><ns1:guid>132979844550bcd20e35241046981854</ns1:guid><ns1:name>12</ns1:name><ns1:status>DRAFT</ns1:status><ns1:delIndex>1</ns1:delIndex><ns1:processId>98360219855094de74c2f21070070181</ns1:processId></ns1:cases><ns1:cases><ns1:guid>797851868550bcbec37e6e2042690144</ns1:guid><ns1:name>11</ns1:name><ns1:status>DRAFT</ns1:status><ns1:delIndex>1</ns1:delIndex><ns1:processId>98360219855094de74c2f21070070181</ns1:processId></ns1:cases><ns1:cases><ns1:guid>132775818550bcb92e4b897072112889</ns1:guid><ns1:name>10</ns1:name><ns1:status>DRAFT</ns1:status><ns1:delIndex>1</ns1:delIndex><ns1:processId>98360219855094de74c2f21070070181</ns1:processId></ns1:cases><ns1:cases><ns1:guid>755635250550bcb76656af8063305134</ns1:guid><ns1:name>9</ns1:name><ns1:status>DRAFT</ns1:status><ns1:delIndex>1</ns1:delIndex><ns1:processId>98360219855094de74c2f21070070181</ns1:processId></ns1:cases><ns1:cases><ns1:guid>207506336550bc8cde88145054158821</ns1:guid><ns1:name>8</ns1:name><ns1:status>DRAFT</ns1:status><ns1:delIndex>1</ns1:delIndex><ns1:processId>98360219855094de74c2f21070070181</ns1:processId></ns1:cases><ns1:cases><ns1:guid>177046091550bc8b76d06f2065623366</ns1:guid><ns1:name>7</ns1:name><ns1:status>DRAFT</ns1:status><ns1:delIndex>1</ns1:delIndex><ns1:processId>98360219855094de74c2f21070070181</ns1:processId></ns1:cases><ns1:cases><ns1:guid>280771130550bc8b041e8b1064781409</ns1:guid><ns1:name>6</ns1:name><ns1:status>DRAFT</ns1:status><ns1:delIndex>1</ns1:delIndex><ns1:processId>98360219855094de74c2f21070070181</ns1:processId></ns1:cases><ns1:cases><ns1:guid>698434432550961d7193016021833262</ns1:guid><ns1:name>2</ns1:name><ns1:status>DRAFT</ns1:status><ns1:delIndex>1</ns1:delIndex><ns1:processId>98360219855094de74c2f21070070181</ns1:processId></ns1:cases><ns1:cases><ns1:guid>36064186555095f2b156d68001769491</ns1:guid><ns1:name>1</ns1:name><ns1:status>DRAFT</ns1:status><ns1:delIndex>1</ns1:delIndex><ns1:processId>98360219855094de74c2f21070070181</ns1:processId></ns1:cases></ns1:caseListResponse></SOAP-ENV:Body></SOAP-ENV:Envelope>\n",
        "\n"
       ]
      },
      {
       "output_type": "stream",
       "stream": "stdout",
       "text": [
        "[{:guid=>\"761090587550bde1d1acf46078070193\", :name=>\"18\", :status=>\"DRAFT\", :del_index=>\"1\", :process_id=>\"98360219855094de74c2f21070070181\"}, {:guid=>\"184078385550bdcbb100343050558793\", :name=>\"17\", :status=>\"DRAFT\", :del_index=>\"1\", :process_id=>\"98360219855094de74c2f21070070181\"}, {:guid=>\"274821792550bd02d9140a4006137622\", :name=>\"16\", :status=>\"DRAFT\", :del_index=>\"1\", :process_id=>\"98360219855094de74c2f21070070181\"}, {:guid=>\"388651703550bcfedd04a01034849952\", :name=>\"15\", :status=>\"DRAFT\", :del_index=>\"1\", :process_id=>\"98360219855094de74c2f21070070181\"}, {:guid=>\"932965532550bcfcc5f17f1033422526\", :name=>\"14\", :status=>\"DRAFT\", :del_index=>\"1\", :process_id=>\"98360219855094de74c2f21070070181\"}, {:guid=>\"792680878550bcfbbd29fe7062507921\", :name=>\"13\", :status=>\"DRAFT\", :del_index=>\"1\", :process_id=>\"98360219855094de74c2f21070070181\"}, {:guid=>\"132979844550bcd20e35241046981854\", :name=>\"12\", :status=>\"DRAFT\", :del_index=>\"1\", :process_id=>\"98360219855094de74c2f21070070181\"}, {:guid=>\"797851868550bcbec37e6e2042690144\", :name=>\"11\", :status=>\"DRAFT\", :del_index=>\"1\", :process_id=>\"98360219855094de74c2f21070070181\"}, {:guid=>\"132775818550bcb92e4b897072112889\", :name=>\"10\", :status=>\"DRAFT\", :del_index=>\"1\", :process_id=>\"98360219855094de74c2f21070070181\"}, {:guid=>\"755635250550bcb76656af8063305134\", :name=>\"9\", :status=>\"DRAFT\", :del_index=>\"1\", :process_id=>\"98360219855094de74c2f21070070181\"}, {:guid=>\"207506336550bc8cde88145054158821\", :name=>\"8\", :status=>\"DRAFT\", :del_index=>\"1\", :process_id=>\"98360219855094de74c2f21070070181\"}, {:guid=>\"177046091550bc8b76d06f2065623366\", :name=>\"7\", :status=>\"DRAFT\", :del_index=>\"1\", :process_id=>\"98360219855094de74c2f21070070181\"}, {:guid=>\"280771130550bc8b041e8b1064781409\", :name=>\"6\", :status=>\"DRAFT\", :del_index=>\"1\", :process_id=>\"98360219855094de74c2f21070070181\"}, {:guid=>\"698434432550961d7193016021833262\", :name=>\"2\", :status=>\"DRAFT\", :del_index=>\"1\", :process_id=>\"98360219855094de74c2f21070070181\"}, {:guid=>\"36064186555095f2b156d68001769491\", :name=>\"1\", :status=>\"DRAFT\", :del_index=>\"1\", :process_id=>\"98360219855094de74c2f21070070181\"}]"
       ]
      },
      {
       "output_type": "stream",
       "stream": "stdout",
       "text": [
        "\n"
       ]
      },
      {
       "ename": "NoMethodError",
       "evalue": "undefined method `[]' for nil:NilClass",
       "output_type": "pyerr",
       "traceback": [
        "\u001b[31mNoMethodError\u001b[0m: undefined method `[]' for nil:NilClass",
        "\u001b[37m(pry):113:in `block in <main>'\u001b[0m",
        "\u001b[37m(pry):113:in `each'\u001b[0m",
        "\u001b[37m(pry):113:in `find'\u001b[0m",
        "\u001b[37m(pry):113:in `<main>'\u001b[0m",
        "\u001b[37m/Users/vmpj/.rbenv/versions/2.2.0/lib/ruby/gems/2.2.0/gems/pry-0.10.1/lib/pry/pry_instance.rb:355:in `eval'\u001b[0m",
        "\u001b[37m/Users/vmpj/.rbenv/versions/2.2.0/lib/ruby/gems/2.2.0/gems/pry-0.10.1/lib/pry/pry_instance.rb:355:in `evaluate_ruby'\u001b[0m",
        "\u001b[37m/Users/vmpj/.rbenv/versions/2.2.0/lib/ruby/gems/2.2.0/gems/pry-0.10.1/lib/pry/pry_instance.rb:323:in `handle_line'\u001b[0m",
        "\u001b[37m/Users/vmpj/.rbenv/versions/2.2.0/lib/ruby/gems/2.2.0/gems/pry-0.10.1/lib/pry/pry_instance.rb:243:in `block (2 levels) in eval'\u001b[0m",
        "\u001b[37m/Users/vmpj/.rbenv/versions/2.2.0/lib/ruby/gems/2.2.0/gems/pry-0.10.1/lib/pry/pry_instance.rb:242:in `catch'\u001b[0m",
        "\u001b[37m/Users/vmpj/.rbenv/versions/2.2.0/lib/ruby/gems/2.2.0/gems/pry-0.10.1/lib/pry/pry_instance.rb:242:in `block in eval'\u001b[0m",
        "\u001b[37m/Users/vmpj/.rbenv/versions/2.2.0/lib/ruby/gems/2.2.0/gems/pry-0.10.1/lib/pry/pry_instance.rb:241:in `catch'\u001b[0m",
        "\u001b[37m/Users/vmpj/.rbenv/versions/2.2.0/lib/ruby/gems/2.2.0/gems/pry-0.10.1/lib/pry/pry_instance.rb:241:in `eval'\u001b[0m",
        "\u001b[37m/Users/vmpj/.rbenv/versions/2.2.0/lib/ruby/gems/2.2.0/gems/iruby-0.1.13/lib/iruby/backend.rb:28:in `eval'\u001b[0m",
        "\u001b[37m/Users/vmpj/.rbenv/versions/2.2.0/lib/ruby/gems/2.2.0/gems/iruby-0.1.13/lib/iruby/kernel.rb:110:in `execute_request'\u001b[0m",
        "\u001b[37m/Users/vmpj/.rbenv/versions/2.2.0/lib/ruby/gems/2.2.0/gems/iruby-0.1.13/lib/iruby/kernel.rb:62:in `run'\u001b[0m",
        "\u001b[37m/Users/vmpj/.rbenv/versions/2.2.0/lib/ruby/gems/2.2.0/gems/iruby-0.1.13/lib/iruby/command.rb:30:in `run_kernel'\u001b[0m",
        "\u001b[37m/Users/vmpj/.rbenv/versions/2.2.0/lib/ruby/gems/2.2.0/gems/iruby-0.1.13/lib/iruby/command.rb:16:in `run'\u001b[0m",
        "\u001b[37m/Users/vmpj/.rbenv/versions/2.2.0/lib/ruby/gems/2.2.0/gems/iruby-0.1.13/bin/iruby:6:in `<top (required)>'\u001b[0m",
        "\u001b[37m/Users/vmpj/.rbenv/versions/2.2.0/bin/iruby:23:in `load'\u001b[0m",
        "\u001b[37m/Users/vmpj/.rbenv/versions/2.2.0/bin/iruby:23:in `<main>'\u001b[0m"
       ]
      }
     ],
     "prompt_number": 39
    },
    {
     "cell_type": "code",
     "collapsed": false,
     "input": [
      "result = Processmaker.route_case(case_id: case1[:case_id], del_index: case1_info[:del_index])\n",
      "p result"
     ],
     "language": "python",
     "metadata": {},
     "outputs": [
      {
       "ename": "NoMethodError",
       "evalue": "undefined method `[]' for nil:NilClass",
       "output_type": "pyerr",
       "traceback": [
        "\u001b[31mNoMethodError\u001b[0m: undefined method `[]' for nil:NilClass",
        "\u001b[37m(pry):116:in `<main>'\u001b[0m",
        "\u001b[37m/Users/vmpj/.rbenv/versions/2.2.0/lib/ruby/gems/2.2.0/gems/pry-0.10.1/lib/pry/pry_instance.rb:355:in `eval'\u001b[0m",
        "\u001b[37m/Users/vmpj/.rbenv/versions/2.2.0/lib/ruby/gems/2.2.0/gems/pry-0.10.1/lib/pry/pry_instance.rb:355:in `evaluate_ruby'\u001b[0m",
        "\u001b[37m/Users/vmpj/.rbenv/versions/2.2.0/lib/ruby/gems/2.2.0/gems/pry-0.10.1/lib/pry/pry_instance.rb:323:in `handle_line'\u001b[0m",
        "\u001b[37m/Users/vmpj/.rbenv/versions/2.2.0/lib/ruby/gems/2.2.0/gems/pry-0.10.1/lib/pry/pry_instance.rb:243:in `block (2 levels) in eval'\u001b[0m",
        "\u001b[37m/Users/vmpj/.rbenv/versions/2.2.0/lib/ruby/gems/2.2.0/gems/pry-0.10.1/lib/pry/pry_instance.rb:242:in `catch'\u001b[0m",
        "\u001b[37m/Users/vmpj/.rbenv/versions/2.2.0/lib/ruby/gems/2.2.0/gems/pry-0.10.1/lib/pry/pry_instance.rb:242:in `block in eval'\u001b[0m",
        "\u001b[37m/Users/vmpj/.rbenv/versions/2.2.0/lib/ruby/gems/2.2.0/gems/pry-0.10.1/lib/pry/pry_instance.rb:241:in `catch'\u001b[0m",
        "\u001b[37m/Users/vmpj/.rbenv/versions/2.2.0/lib/ruby/gems/2.2.0/gems/pry-0.10.1/lib/pry/pry_instance.rb:241:in `eval'\u001b[0m",
        "\u001b[37m/Users/vmpj/.rbenv/versions/2.2.0/lib/ruby/gems/2.2.0/gems/iruby-0.1.13/lib/iruby/backend.rb:28:in `eval'\u001b[0m",
        "\u001b[37m/Users/vmpj/.rbenv/versions/2.2.0/lib/ruby/gems/2.2.0/gems/iruby-0.1.13/lib/iruby/kernel.rb:110:in `execute_request'\u001b[0m",
        "\u001b[37m/Users/vmpj/.rbenv/versions/2.2.0/lib/ruby/gems/2.2.0/gems/iruby-0.1.13/lib/iruby/kernel.rb:62:in `run'\u001b[0m",
        "\u001b[37m/Users/vmpj/.rbenv/versions/2.2.0/lib/ruby/gems/2.2.0/gems/iruby-0.1.13/lib/iruby/command.rb:30:in `run_kernel'\u001b[0m",
        "\u001b[37m/Users/vmpj/.rbenv/versions/2.2.0/lib/ruby/gems/2.2.0/gems/iruby-0.1.13/lib/iruby/command.rb:16:in `run'\u001b[0m",
        "\u001b[37m/Users/vmpj/.rbenv/versions/2.2.0/lib/ruby/gems/2.2.0/gems/iruby-0.1.13/bin/iruby:6:in `<top (required)>'\u001b[0m",
        "\u001b[37m/Users/vmpj/.rbenv/versions/2.2.0/bin/iruby:23:in `load'\u001b[0m",
        "\u001b[37m/Users/vmpj/.rbenv/versions/2.2.0/bin/iruby:23:in `<main>'\u001b[0m"
       ]
      }
     ],
     "prompt_number": 40
    },
    {
     "cell_type": "code",
     "collapsed": false,
     "input": [
      "current_task = Processmaker.task_case(case_id: case1[:case_id])\n",
      "p current_task"
     ],
     "language": "python",
     "metadata": {},
     "outputs": [
      {
       "ename": "NoMethodError",
       "evalue": "undefined method `[]' for nil:NilClass",
       "output_type": "pyerr",
       "traceback": [
        "\u001b[31mNoMethodError\u001b[0m: undefined method `[]' for nil:NilClass",
        "\u001b[37m(pry):118:in `<main>'\u001b[0m",
        "\u001b[37m/Users/vmpj/.rbenv/versions/2.2.0/lib/ruby/gems/2.2.0/gems/pry-0.10.1/lib/pry/pry_instance.rb:355:in `eval'\u001b[0m",
        "\u001b[37m/Users/vmpj/.rbenv/versions/2.2.0/lib/ruby/gems/2.2.0/gems/pry-0.10.1/lib/pry/pry_instance.rb:355:in `evaluate_ruby'\u001b[0m",
        "\u001b[37m/Users/vmpj/.rbenv/versions/2.2.0/lib/ruby/gems/2.2.0/gems/pry-0.10.1/lib/pry/pry_instance.rb:323:in `handle_line'\u001b[0m",
        "\u001b[37m/Users/vmpj/.rbenv/versions/2.2.0/lib/ruby/gems/2.2.0/gems/pry-0.10.1/lib/pry/pry_instance.rb:243:in `block (2 levels) in eval'\u001b[0m",
        "\u001b[37m/Users/vmpj/.rbenv/versions/2.2.0/lib/ruby/gems/2.2.0/gems/pry-0.10.1/lib/pry/pry_instance.rb:242:in `catch'\u001b[0m",
        "\u001b[37m/Users/vmpj/.rbenv/versions/2.2.0/lib/ruby/gems/2.2.0/gems/pry-0.10.1/lib/pry/pry_instance.rb:242:in `block in eval'\u001b[0m",
        "\u001b[37m/Users/vmpj/.rbenv/versions/2.2.0/lib/ruby/gems/2.2.0/gems/pry-0.10.1/lib/pry/pry_instance.rb:241:in `catch'\u001b[0m",
        "\u001b[37m/Users/vmpj/.rbenv/versions/2.2.0/lib/ruby/gems/2.2.0/gems/pry-0.10.1/lib/pry/pry_instance.rb:241:in `eval'\u001b[0m",
        "\u001b[37m/Users/vmpj/.rbenv/versions/2.2.0/lib/ruby/gems/2.2.0/gems/iruby-0.1.13/lib/iruby/backend.rb:28:in `eval'\u001b[0m",
        "\u001b[37m/Users/vmpj/.rbenv/versions/2.2.0/lib/ruby/gems/2.2.0/gems/iruby-0.1.13/lib/iruby/kernel.rb:110:in `execute_request'\u001b[0m",
        "\u001b[37m/Users/vmpj/.rbenv/versions/2.2.0/lib/ruby/gems/2.2.0/gems/iruby-0.1.13/lib/iruby/kernel.rb:62:in `run'\u001b[0m",
        "\u001b[37m/Users/vmpj/.rbenv/versions/2.2.0/lib/ruby/gems/2.2.0/gems/iruby-0.1.13/lib/iruby/command.rb:30:in `run_kernel'\u001b[0m",
        "\u001b[37m/Users/vmpj/.rbenv/versions/2.2.0/lib/ruby/gems/2.2.0/gems/iruby-0.1.13/lib/iruby/command.rb:16:in `run'\u001b[0m",
        "\u001b[37m/Users/vmpj/.rbenv/versions/2.2.0/lib/ruby/gems/2.2.0/gems/iruby-0.1.13/bin/iruby:6:in `<top (required)>'\u001b[0m",
        "\u001b[37m/Users/vmpj/.rbenv/versions/2.2.0/bin/iruby:23:in `load'\u001b[0m",
        "\u001b[37m/Users/vmpj/.rbenv/versions/2.2.0/bin/iruby:23:in `<main>'\u001b[0m"
       ]
      }
     ],
     "prompt_number": 41
    },
    {
     "cell_type": "code",
     "collapsed": false,
     "input": [
      "result = Processmaker.route_case(case_id: case1[:case_id], del_index: current_task[:delegate])\n",
      "p result"
     ],
     "language": "python",
     "metadata": {},
     "outputs": [
      {
       "ename": "NoMethodError",
       "evalue": "undefined method `[]' for nil:NilClass",
       "output_type": "pyerr",
       "traceback": [
        "\u001b[31mNoMethodError\u001b[0m: undefined method `[]' for nil:NilClass",
        "\u001b[37m(pry):120:in `<main>'\u001b[0m",
        "\u001b[37m/Users/vmpj/.rbenv/versions/2.2.0/lib/ruby/gems/2.2.0/gems/pry-0.10.1/lib/pry/pry_instance.rb:355:in `eval'\u001b[0m",
        "\u001b[37m/Users/vmpj/.rbenv/versions/2.2.0/lib/ruby/gems/2.2.0/gems/pry-0.10.1/lib/pry/pry_instance.rb:355:in `evaluate_ruby'\u001b[0m",
        "\u001b[37m/Users/vmpj/.rbenv/versions/2.2.0/lib/ruby/gems/2.2.0/gems/pry-0.10.1/lib/pry/pry_instance.rb:323:in `handle_line'\u001b[0m",
        "\u001b[37m/Users/vmpj/.rbenv/versions/2.2.0/lib/ruby/gems/2.2.0/gems/pry-0.10.1/lib/pry/pry_instance.rb:243:in `block (2 levels) in eval'\u001b[0m",
        "\u001b[37m/Users/vmpj/.rbenv/versions/2.2.0/lib/ruby/gems/2.2.0/gems/pry-0.10.1/lib/pry/pry_instance.rb:242:in `catch'\u001b[0m",
        "\u001b[37m/Users/vmpj/.rbenv/versions/2.2.0/lib/ruby/gems/2.2.0/gems/pry-0.10.1/lib/pry/pry_instance.rb:242:in `block in eval'\u001b[0m",
        "\u001b[37m/Users/vmpj/.rbenv/versions/2.2.0/lib/ruby/gems/2.2.0/gems/pry-0.10.1/lib/pry/pry_instance.rb:241:in `catch'\u001b[0m",
        "\u001b[37m/Users/vmpj/.rbenv/versions/2.2.0/lib/ruby/gems/2.2.0/gems/pry-0.10.1/lib/pry/pry_instance.rb:241:in `eval'\u001b[0m",
        "\u001b[37m/Users/vmpj/.rbenv/versions/2.2.0/lib/ruby/gems/2.2.0/gems/iruby-0.1.13/lib/iruby/backend.rb:28:in `eval'\u001b[0m",
        "\u001b[37m/Users/vmpj/.rbenv/versions/2.2.0/lib/ruby/gems/2.2.0/gems/iruby-0.1.13/lib/iruby/kernel.rb:110:in `execute_request'\u001b[0m",
        "\u001b[37m/Users/vmpj/.rbenv/versions/2.2.0/lib/ruby/gems/2.2.0/gems/iruby-0.1.13/lib/iruby/kernel.rb:62:in `run'\u001b[0m",
        "\u001b[37m/Users/vmpj/.rbenv/versions/2.2.0/lib/ruby/gems/2.2.0/gems/iruby-0.1.13/lib/iruby/command.rb:30:in `run_kernel'\u001b[0m",
        "\u001b[37m/Users/vmpj/.rbenv/versions/2.2.0/lib/ruby/gems/2.2.0/gems/iruby-0.1.13/lib/iruby/command.rb:16:in `run'\u001b[0m",
        "\u001b[37m/Users/vmpj/.rbenv/versions/2.2.0/lib/ruby/gems/2.2.0/gems/iruby-0.1.13/bin/iruby:6:in `<top (required)>'\u001b[0m",
        "\u001b[37m/Users/vmpj/.rbenv/versions/2.2.0/bin/iruby:23:in `load'\u001b[0m",
        "\u001b[37m/Users/vmpj/.rbenv/versions/2.2.0/bin/iruby:23:in `<main>'\u001b[0m"
       ]
      }
     ],
     "prompt_number": 42
    },
    {
     "cell_type": "code",
     "collapsed": false,
     "input": [
      "case_info = Processmaker.get_case_info(case_id: case1[:case_id])\n",
      "p case_info\n",
      "p case_info[:case_status]"
     ],
     "language": "python",
     "metadata": {},
     "outputs": [
      {
       "ename": "NoMethodError",
       "evalue": "undefined method `[]' for nil:NilClass",
       "output_type": "pyerr",
       "traceback": [
        "\u001b[31mNoMethodError\u001b[0m: undefined method `[]' for nil:NilClass",
        "\u001b[37m(pry):122:in `<main>'\u001b[0m",
        "\u001b[37m/Users/vmpj/.rbenv/versions/2.2.0/lib/ruby/gems/2.2.0/gems/pry-0.10.1/lib/pry/pry_instance.rb:355:in `eval'\u001b[0m",
        "\u001b[37m/Users/vmpj/.rbenv/versions/2.2.0/lib/ruby/gems/2.2.0/gems/pry-0.10.1/lib/pry/pry_instance.rb:355:in `evaluate_ruby'\u001b[0m",
        "\u001b[37m/Users/vmpj/.rbenv/versions/2.2.0/lib/ruby/gems/2.2.0/gems/pry-0.10.1/lib/pry/pry_instance.rb:323:in `handle_line'\u001b[0m",
        "\u001b[37m/Users/vmpj/.rbenv/versions/2.2.0/lib/ruby/gems/2.2.0/gems/pry-0.10.1/lib/pry/pry_instance.rb:243:in `block (2 levels) in eval'\u001b[0m",
        "\u001b[37m/Users/vmpj/.rbenv/versions/2.2.0/lib/ruby/gems/2.2.0/gems/pry-0.10.1/lib/pry/pry_instance.rb:242:in `catch'\u001b[0m",
        "\u001b[37m/Users/vmpj/.rbenv/versions/2.2.0/lib/ruby/gems/2.2.0/gems/pry-0.10.1/lib/pry/pry_instance.rb:242:in `block in eval'\u001b[0m",
        "\u001b[37m/Users/vmpj/.rbenv/versions/2.2.0/lib/ruby/gems/2.2.0/gems/pry-0.10.1/lib/pry/pry_instance.rb:241:in `catch'\u001b[0m",
        "\u001b[37m/Users/vmpj/.rbenv/versions/2.2.0/lib/ruby/gems/2.2.0/gems/pry-0.10.1/lib/pry/pry_instance.rb:241:in `eval'\u001b[0m",
        "\u001b[37m/Users/vmpj/.rbenv/versions/2.2.0/lib/ruby/gems/2.2.0/gems/iruby-0.1.13/lib/iruby/backend.rb:28:in `eval'\u001b[0m",
        "\u001b[37m/Users/vmpj/.rbenv/versions/2.2.0/lib/ruby/gems/2.2.0/gems/iruby-0.1.13/lib/iruby/kernel.rb:110:in `execute_request'\u001b[0m",
        "\u001b[37m/Users/vmpj/.rbenv/versions/2.2.0/lib/ruby/gems/2.2.0/gems/iruby-0.1.13/lib/iruby/kernel.rb:62:in `run'\u001b[0m",
        "\u001b[37m/Users/vmpj/.rbenv/versions/2.2.0/lib/ruby/gems/2.2.0/gems/iruby-0.1.13/lib/iruby/command.rb:30:in `run_kernel'\u001b[0m",
        "\u001b[37m/Users/vmpj/.rbenv/versions/2.2.0/lib/ruby/gems/2.2.0/gems/iruby-0.1.13/lib/iruby/command.rb:16:in `run'\u001b[0m",
        "\u001b[37m/Users/vmpj/.rbenv/versions/2.2.0/lib/ruby/gems/2.2.0/gems/iruby-0.1.13/bin/iruby:6:in `<top (required)>'\u001b[0m",
        "\u001b[37m/Users/vmpj/.rbenv/versions/2.2.0/bin/iruby:23:in `load'\u001b[0m",
        "\u001b[37m/Users/vmpj/.rbenv/versions/2.2.0/bin/iruby:23:in `<main>'\u001b[0m"
       ]
      }
     ],
     "prompt_number": 43
    },
    {
     "cell_type": "heading",
     "level": 1,
     "metadata": {},
     "source": [
      "Variables:"
     ]
    },
    {
     "cell_type": "code",
     "collapsed": false,
     "input": [
      "\n",
      "\n"
     ],
     "language": "python",
     "metadata": {},
     "outputs": [],
     "prompt_number": 44
    }
   ],
   "metadata": {}
  }
 ]
}