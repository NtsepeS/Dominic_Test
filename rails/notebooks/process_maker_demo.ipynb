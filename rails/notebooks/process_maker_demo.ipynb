{
 "metadata": {
  "language": "ruby",
  "name": "",
  "signature": "sha256:137011f55ff579a752b508fec8911c14bf6b2170f3281565a07a9644442798e2"
 },
 "nbformat": 3,
 "nbformat_minor": 0,
 "worksheets": [
  {
   "cells": [
    {
     "cell_type": "code",
     "collapsed": false,
     "input": [
      "require \"processmaker\""
     ],
     "language": "python",
     "metadata": {},
     "outputs": [
      {
       "metadata": {},
       "output_type": "pyout",
       "prompt_number": 29,
       "text": [
        "false"
       ]
      }
     ],
     "prompt_number": 29
    },
    {
     "cell_type": "code",
     "collapsed": false,
     "input": [
      "# ProcessMaker instance\n",
      "url = 'http://si-dev01.si.is.co.za:80/sysworkflow/en/classic/services/wsdl2'\n",
      "\n",
      "# Login first\n",
      "Processmaker.login(wsdl: url, user_id: 'admin', password: 'admin')\n",
      "puts \"OK\""
     ],
     "language": "python",
     "metadata": {},
     "outputs": [
      {
       "output_type": "stream",
       "stream": "stdout",
       "text": [
        "D, [2015-03-25T14:54:38.748043 #53476] DEBUG -- : HTTPI GET request to si-dev01.si.is.co.za (net_http)\n"
       ]
      },
      {
       "output_type": "stream",
       "stream": "stdout",
       "text": [
        "I, [2015-03-25T14:54:38.819739 #53476]  INFO -- : SOAP request: http://si-dev01.si.is.co.za/sysworkflow/en/classic/services/soap2\n"
       ]
      },
      {
       "output_type": "stream",
       "stream": "stdout",
       "text": [
        "I, [2015-03-25T14:54:38.819920 #53476]  INFO -- : SOAPAction: \"http://www.processmaker.com/login\", Content-Type: text/xml;charset=UTF-8, Content-Length: 368\n"
       ]
      },
      {
       "output_type": "stream",
       "stream": "stdout",
       "text": [
        "D, [2015-03-25T14:54:38.820027 #53476] DEBUG -- : <?xml version=\"1.0\" encoding=\"UTF-8\"?><env:Envelope xmlns:xsd=\"http://www.w3.org/2001/XMLSchema\" xmlns:xsi=\"http://www.w3.org/2001/XMLSchema-instance\" xmlns:xs0=\"http://www.processmaker.com\" xmlns:env=\"http://schemas.xmlsoap.org/soap/envelope/\"><env:Body><xs0:login><xs0:userid>admin</xs0:userid><xs0:password>admin</xs0:password></xs0:login></env:Body></env:Envelope>\n"
       ]
      },
      {
       "output_type": "stream",
       "stream": "stdout",
       "text": [
        "D, [2015-03-25T14:54:38.821512 #53476] DEBUG -- : HTTPI POST request to si-dev01.si.is.co.za (net_http)\n"
       ]
      },
      {
       "output_type": "stream",
       "stream": "stdout",
       "text": [
        "I, [2015-03-25T14:54:38.917314 #53476]  INFO -- : SOAP response (status 200)\n"
       ]
      },
      {
       "output_type": "stream",
       "stream": "stdout",
       "text": [
        "D, [2015-03-25T14:54:38.917496 #53476] DEBUG -- : <?xml version=\"1.0\" encoding=\"UTF-8\"?>\n",
        "<SOAP-ENV:Envelope xmlns:SOAP-ENV=\"http://schemas.xmlsoap.org/soap/envelope/\" xmlns:ns1=\"http://www.processmaker.com\"><SOAP-ENV:Body><ns1:loginResponse><ns1:status_code>0</ns1:status_code><ns1:message>8774178495512af7a4cc4f8024726857</ns1:message><ns1:version>2.0</ns1:version><ns1:timestamp>2015-03-25 08:52:10</ns1:timestamp></ns1:loginResponse></SOAP-ENV:Body></SOAP-ENV:Envelope>\n",
        "\n"
       ]
      },
      {
       "output_type": "stream",
       "stream": "stdout",
       "text": [
        "OK\n"
       ]
      }
     ],
     "prompt_number": 30
    },
    {
     "cell_type": "heading",
     "level": 1,
     "metadata": {},
     "source": [
      "User management"
     ]
    },
    {
     "cell_type": "code",
     "collapsed": false,
     "input": [
      "users = Processmaker.user_list\n",
      "p users"
     ],
     "language": "python",
     "metadata": {},
     "outputs": [
      {
       "output_type": "stream",
       "stream": "stdout",
       "text": [
        "I, [2015-03-25T14:54:38.923039 #53476]  INFO -- : SOAP request: http://si-dev01.si.is.co.za/sysworkflow/en/classic/services/soap2\n"
       ]
      },
      {
       "output_type": "stream",
       "stream": "stdout",
       "text": [
        "I, [2015-03-25T14:54:38.923201 #53476]  INFO -- : SOAPAction: \"urn:userList\", Content-Type: text/xml;charset=UTF-8, Content-Length: 387\n"
       ]
      },
      {
       "output_type": "stream",
       "stream": "stdout",
       "text": [
        "D, [2015-03-25T14:54:38.923300 #53476] DEBUG -- : <?xml version=\"1.0\" encoding=\"UTF-8\"?><env:Envelope xmlns:xsd=\"http://www.w3.org/2001/XMLSchema\" xmlns:xsi=\"http://www.w3.org/2001/XMLSchema-instance\" xmlns:xs0=\"http://www.processmaker.com\" xmlns:env=\"http://schemas.xmlsoap.org/soap/envelope/\"><env:Body><xs0:userListRequest><xs0:sessionId>8774178495512af7a4cc4f8024726857</xs0:sessionId></xs0:userListRequest></env:Body></env:Envelope>\n"
       ]
      },
      {
       "output_type": "stream",
       "stream": "stdout",
       "text": [
        "D, [2015-03-25T14:54:38.923828 #53476] DEBUG -- : HTTPI POST request to si-dev01.si.is.co.za (net_http)\n"
       ]
      },
      {
       "output_type": "stream",
       "stream": "stdout",
       "text": [
        "I, [2015-03-25T14:54:38.984508 #53476]  INFO -- : SOAP response (status 200)\n"
       ]
      },
      {
       "output_type": "stream",
       "stream": "stdout",
       "text": [
        "D, [2015-03-25T14:54:38.984702 #53476] DEBUG -- : <?xml version=\"1.0\" encoding=\"UTF-8\"?>\n",
        "<SOAP-ENV:Envelope xmlns:SOAP-ENV=\"http://schemas.xmlsoap.org/soap/envelope/\" xmlns:ns1=\"http://www.processmaker.com\"><SOAP-ENV:Body><ns1:userListResponse><ns1:users><ns1:guid>00000000000000000000000000000001</ns1:guid><ns1:name>admin</ns1:name></ns1:users><ns1:users><ns1:guid>243914151551151b0c64b55070030342</ns1:guid><ns1:name>heisenberg1</ns1:name></ns1:users><ns1:users><ns1:guid>303950353551116aa23b412076340713</ns1:guid><ns1:name>schrodinger</ns1:name></ns1:users><ns1:users><ns1:guid>317634729551289c6adf580076054053</ns1:guid><ns1:name>willy</ns1:name></ns1:users><ns1:users><ns1:guid>46157618755094e812d03c2091230077</ns1:guid><ns1:name>irubynotebook</ns1:name></ns1:users><ns1:users><ns1:guid>56664023555094b01987cd8045323362</ns1:guid><ns1:name>heisenberg</ns1:name></ns1:users></ns1:userListResponse></SOAP-ENV:Body></SOAP-ENV:Envelope>\n",
        "\n"
       ]
      },
      {
       "output_type": "stream",
       "stream": "stdout",
       "text": [
        "[{:guid=>\"00000000000000000000000000000001\", :name=>\"admin\"}, {:guid=>\"243914151551151b0c64b55070030342\", :name=>\"heisenberg1\"}, {:guid=>\"303950353551116aa23b412076340713\", :name=>\"schrodinger\"}, {:guid=>\"317634729551289c6adf580076054053\", :name=>\"willy\"}, {:guid=>\"46157618755094e812d03c2091230077\", :name=>\"irubynotebook\"}, {:guid=>\"56664023555094b01987cd8045323362\", :name=>\"heisenberg\"}]"
       ]
      },
      {
       "output_type": "stream",
       "stream": "stdout",
       "text": [
        "\n"
       ]
      },
      {
       "metadata": {},
       "output_type": "pyout",
       "prompt_number": 31,
       "text": [
        "[{:guid=>\"00000000000000000000000000000001\", :name=>\"admin\"}, {:guid=>\"243914151551151b0c64b55070030342\", :name=>\"heisenberg1\"}, {:guid=>\"303950353551116aa23b412076340713\", :name=>\"schrodinger\"}, {:guid=>\"317634729551289c6adf580076054053\", :name=>\"willy\"}, {:guid=>\"46157618755094e812d03c2091230077\", :name=>\"irubynotebook\"}, {:guid=>\"56664023555094b01987cd8045323362\", :name=>\"heisenberg\"}]"
       ]
      }
     ],
     "prompt_number": 31
    },
    {
     "cell_type": "code",
     "collapsed": false,
     "input": [
      "# Create a new user\n",
      "name = \"irubynotebook\"\n",
      "user_password = 'demo'"
     ],
     "language": "python",
     "metadata": {},
     "outputs": [
      {
       "metadata": {},
       "output_type": "pyout",
       "prompt_number": 32,
       "text": [
        "\"demo\""
       ]
      }
     ],
     "prompt_number": 32
    },
    {
     "cell_type": "heading",
     "level": 1,
     "metadata": {},
     "source": [
      "Create a user"
     ]
    },
    {
     "cell_type": "code",
     "collapsed": false,
     "input": [
      "# commeted out because I don't want to recreate the user everytime\n",
      "# user = Processmaker.create_user(\n",
      "#   user_id: name,\n",
      "#   first_name: 'iruby',\n",
      "#   last_name: 'notebook',\n",
      "#   email: 'example@whatever.com',\n",
      "#   role: 'PROCESSMAKER_ADMIN',\n",
      "#   password: user_password\n",
      "# )\n",
      "Processmaker.create_user(\n",
      "    user_id: 'heisenberg2',\n",
      "    first_name: 'asdfa',\n",
      "    \n",
      "    email: 'heisenberg@lospolloshermanos.com',\n",
      "    role: 'PROCESSMAKER_ADMIN',\n",
      "    password: 'blue'\n",
      ")"
     ],
     "language": "python",
     "metadata": {},
     "outputs": [
      {
       "output_type": "stream",
       "stream": "stdout",
       "text": [
        "I, [2015-03-25T14:55:09.059442 #53476]  INFO -- : SOAP request: http://si-dev01.si.is.co.za/sysworkflow/en/classic/services/soap2\n"
       ]
      },
      {
       "output_type": "stream",
       "stream": "stdout",
       "text": [
        "I, [2015-03-25T14:55:09.059649 #53476]  INFO -- : SOAPAction: \"urn:createUser\", Content-Type: text/xml;charset=UTF-8, Content-Length: 620\n"
       ]
      },
      {
       "output_type": "stream",
       "stream": "stdout",
       "text": [
        "D, [2015-03-25T14:55:09.059910 #53476] DEBUG -- : <?xml version=\"1.0\" encoding=\"UTF-8\"?><env:Envelope xmlns:xsd=\"http://www.w3.org/2001/XMLSchema\" xmlns:xsi=\"http://www.w3.org/2001/XMLSchema-instance\" xmlns:xs0=\"http://www.processmaker.com\" xmlns:env=\"http://schemas.xmlsoap.org/soap/envelope/\"><env:Body><xs0:createUserRequest><xs0:sessionId>9138663015512af7ad31d84028511186</xs0:sessionId><xs0:userId>heisenberg2</xs0:userId><xs0:firstname>asdfa</xs0:firstname><xs0:lastname xsi:nil=\"true\"/><xs0:email>heisenberg@lospolloshermanos.com</xs0:email><xs0:role>PROCESSMAKER_ADMIN</xs0:role><xs0:password>blue</xs0:password></xs0:createUserRequest></env:Body></env:Envelope>\n"
       ]
      },
      {
       "output_type": "stream",
       "stream": "stdout",
       "text": [
        "D, [2015-03-25T14:55:09.060162 #53476] DEBUG -- : HTTPI POST request to si-dev01.si.is.co.za (net_http)\n"
       ]
      },
      {
       "output_type": "stream",
       "stream": "stdout",
       "text": [
        "I, [2015-03-25T14:55:09.126371 #53476]  INFO -- : SOAP response (status 200)\n"
       ]
      },
      {
       "output_type": "stream",
       "stream": "stdout",
       "text": [
        "D, [2015-03-25T14:55:09.126687 #53476] DEBUG -- : <?xml version=\"1.0\" encoding=\"UTF-8\"?>\n",
        "<SOAP-ENV:Envelope xmlns:SOAP-ENV=\"http://schemas.xmlsoap.org/soap/envelope/\" xmlns:ns1=\"http://www.processmaker.com\"><SOAP-ENV:Body><ns1:createUserResponse><ns1:status_code>100</ns1:status_code><ns1:message>Unable to execute INSERT statement. [wrapped: Could not execute update [Native Error: Column 'USR_LASTNAME' cannot be null] [User Info: INSERT INTO RBAC_USERS (`USR_UID`,`USR_USERNAME`,`USR_PASSWORD`,`USR_FIRSTNAME`,`USR_LASTNAME`,`USR_EMAIL`,`USR_DUE_DATE`,`USR_CREATE_DATE`,`USR_UPDATE_DATE`,`USR_STATUS`,`USR_AUTH_USER_DN`) VALUES ('3737775005512af98821f14040452628','heisenberg2','48d6215903dff56238e52e8891380c8f','asdfa',NULL,'heisenberg@lospolloshermanos.com','2016-03-25','2015-03-25 08:52:40','2015-03-25 08:52:40',1,'')]]</ns1:message><ns1:userUID/><ns1:timestamp>2015-03-25 08:52:40</ns1:timestamp></ns1:createUserResponse></SOAP-ENV:Body></SOAP-ENV:Envelope>\n",
        "\n"
       ]
      },
      {
       "metadata": {},
       "output_type": "pyout",
       "prompt_number": 54,
       "text": [
        "{:status_code=>\"100\", :message=>\"Unable to execute INSERT statement. [wrapped: Could not execute update [Native Error: Column 'USR_LASTNAME' cannot be null] [User Info: INSERT INTO RBAC_USERS (`USR_UID`,`USR_USERNAME`,`USR_PASSWORD`,`USR_FIRSTNAME`,`USR_LASTNAME`,`USR_EMAIL`,`USR_DUE_DATE`,`USR_CREATE_DATE`,`USR_UPDATE_DATE`,`USR_STATUS`,`USR_AUTH_USER_DN`) VALUES ('3737775005512af98821f14040452628','heisenberg2','48d6215903dff56238e52e8891380c8f','asdfa',NULL,'heisenberg@lospolloshermanos.com','2016-03-25','2015-03-25 08:52:40','2015-03-25 08:52:40',1,'')]]\", :user_uid=>nil, :timestamp=>\"2015-03-25 08:52:40\"}"
       ]
      }
     ],
     "prompt_number": 54
    },
    {
     "cell_type": "code",
     "collapsed": false,
     "input": [
      "users = Processmaker.user_list()\n",
      "p users\n",
      "user = users.find { |user| user[:name] == name } \n",
      "p user\n",
      "user[:guid]"
     ],
     "language": "python",
     "metadata": {},
     "outputs": [
      {
       "output_type": "stream",
       "stream": "stdout",
       "text": [
        "I, [2015-03-25T14:54:39.053766 #53476]  INFO -- : SOAP request: http://si-dev01.si.is.co.za/sysworkflow/en/classic/services/soap2\n"
       ]
      },
      {
       "output_type": "stream",
       "stream": "stdout",
       "text": [
        "I, [2015-03-25T14:54:39.053909 #53476]  INFO -- : SOAPAction: \"urn:userList\", Content-Type: text/xml;charset=UTF-8, Content-Length: 387\n"
       ]
      },
      {
       "output_type": "stream",
       "stream": "stdout",
       "text": [
        "D, [2015-03-25T14:54:39.054073 #53476] DEBUG -- : <?xml version=\"1.0\" encoding=\"UTF-8\"?><env:Envelope xmlns:xsd=\"http://www.w3.org/2001/XMLSchema\" xmlns:xsi=\"http://www.w3.org/2001/XMLSchema-instance\" xmlns:xs0=\"http://www.processmaker.com\" xmlns:env=\"http://schemas.xmlsoap.org/soap/envelope/\"><env:Body><xs0:userListRequest><xs0:sessionId>8774178495512af7a4cc4f8024726857</xs0:sessionId></xs0:userListRequest></env:Body></env:Envelope>\n"
       ]
      },
      {
       "output_type": "stream",
       "stream": "stdout",
       "text": [
        "D, [2015-03-25T14:54:39.054314 #53476] DEBUG -- : HTTPI POST request to si-dev01.si.is.co.za (net_http)\n"
       ]
      },
      {
       "output_type": "stream",
       "stream": "stdout",
       "text": [
        "I, [2015-03-25T14:54:39.103167 #53476]  INFO -- : SOAP response (status 200)\n"
       ]
      },
      {
       "output_type": "stream",
       "stream": "stdout",
       "text": [
        "D, [2015-03-25T14:54:39.103406 #53476] DEBUG -- : <?xml version=\"1.0\" encoding=\"UTF-8\"?>\n",
        "<SOAP-ENV:Envelope xmlns:SOAP-ENV=\"http://schemas.xmlsoap.org/soap/envelope/\" xmlns:ns1=\"http://www.processmaker.com\"><SOAP-ENV:Body><ns1:userListResponse><ns1:users><ns1:guid>00000000000000000000000000000001</ns1:guid><ns1:name>admin</ns1:name></ns1:users><ns1:users><ns1:guid>243914151551151b0c64b55070030342</ns1:guid><ns1:name>heisenberg1</ns1:name></ns1:users><ns1:users><ns1:guid>303950353551116aa23b412076340713</ns1:guid><ns1:name>schrodinger</ns1:name></ns1:users><ns1:users><ns1:guid>317634729551289c6adf580076054053</ns1:guid><ns1:name>willy</ns1:name></ns1:users><ns1:users><ns1:guid>46157618755094e812d03c2091230077</ns1:guid><ns1:name>irubynotebook</ns1:name></ns1:users><ns1:users><ns1:guid>56664023555094b01987cd8045323362</ns1:guid><ns1:name>heisenberg</ns1:name></ns1:users></ns1:userListResponse></SOAP-ENV:Body></SOAP-ENV:Envelope>\n",
        "\n"
       ]
      },
      {
       "output_type": "stream",
       "stream": "stdout",
       "text": [
        "[{:guid=>\"00000000000000000000000000000001\", :name=>\"admin\"}, {:guid=>\"243914151551151b0c64b55070030342\", :name=>\"heisenberg1\"}, {:guid=>\"303950353551116aa23b412076340713\", :name=>\"schrodinger\"}, {:guid=>\"317634729551289c6adf580076054053\", :name=>\"willy\"}, {:guid=>\"46157618755094e812d03c2091230077\", :name=>\"irubynotebook\"}, {:guid=>\"56664023555094b01987cd8045323362\", :name=>\"heisenberg\"}]"
       ]
      },
      {
       "output_type": "stream",
       "stream": "stdout",
       "text": [
        "\n"
       ]
      },
      {
       "output_type": "stream",
       "stream": "stdout",
       "text": [
        "{:guid=>\"46157618755094e812d03c2091230077\", :name=>\"irubynotebook\"}"
       ]
      },
      {
       "output_type": "stream",
       "stream": "stdout",
       "text": [
        "\n"
       ]
      },
      {
       "metadata": {},
       "output_type": "pyout",
       "prompt_number": 34,
       "text": [
        "\"46157618755094e812d03c2091230077\""
       ]
      }
     ],
     "prompt_number": 34
    },
    {
     "cell_type": "code",
     "collapsed": false,
     "input": [
      "group = Processmaker.create_group(name: \"task1_operators\")\n",
      "p group[:group_uid]"
     ],
     "language": "python",
     "metadata": {},
     "outputs": [
      {
       "output_type": "stream",
       "stream": "stdout",
       "text": [
        "I, [2015-03-25T14:54:39.112242 #53476]  INFO -- : SOAP request: http://si-dev01.si.is.co.za/sysworkflow/en/classic/services/soap2\n"
       ]
      },
      {
       "output_type": "stream",
       "stream": "stdout",
       "text": [
        "I, [2015-03-25T14:54:39.112407 #53476]  INFO -- : SOAPAction: \"urn:createGroup\", Content-Type: text/xml;charset=UTF-8, Content-Length: 429\n"
       ]
      },
      {
       "output_type": "stream",
       "stream": "stdout",
       "text": [
        "D, [2015-03-25T14:54:39.112512 #53476] DEBUG -- : <?xml version=\"1.0\" encoding=\"UTF-8\"?><env:Envelope xmlns:xsd=\"http://www.w3.org/2001/XMLSchema\" xmlns:xsi=\"http://www.w3.org/2001/XMLSchema-instance\" xmlns:xs0=\"http://www.processmaker.com\" xmlns:env=\"http://schemas.xmlsoap.org/soap/envelope/\"><env:Body><xs0:createGroupRequest><xs0:sessionId>8774178495512af7a4cc4f8024726857</xs0:sessionId><xs0:name>task1_operators</xs0:name></xs0:createGroupRequest></env:Body></env:Envelope>\n"
       ]
      },
      {
       "output_type": "stream",
       "stream": "stdout",
       "text": [
        "D, [2015-03-25T14:54:39.112879 #53476] DEBUG -- : HTTPI POST request to si-dev01.si.is.co.za (net_http)\n"
       ]
      },
      {
       "output_type": "stream",
       "stream": "stdout",
       "text": [
        "I, [2015-03-25T14:54:39.198879 #53476]  INFO -- : SOAP response (status 200)\n"
       ]
      },
      {
       "output_type": "stream",
       "stream": "stdout",
       "text": [
        "D, [2015-03-25T14:54:39.199132 #53476] DEBUG -- : <?xml version=\"1.0\" encoding=\"UTF-8\"?>\n",
        "<SOAP-ENV:Envelope xmlns:SOAP-ENV=\"http://schemas.xmlsoap.org/soap/envelope/\" xmlns:ns1=\"http://www.processmaker.com\"><SOAP-ENV:Body><ns1:createGroupResponse><ns1:status_code>0</ns1:status_code><ns1:message>Group task1_operators created successfully</ns1:message><ns1:groupUID>7456143875512af7a92a6d9075864600</ns1:groupUID><ns1:timestamp>2015-03-25 08:52:10</ns1:timestamp></ns1:createGroupResponse></SOAP-ENV:Body></SOAP-ENV:Envelope>\n",
        "\n"
       ]
      },
      {
       "output_type": "stream",
       "stream": "stdout",
       "text": [
        "\"7456143875512af7a92a6d9075864600\""
       ]
      },
      {
       "output_type": "stream",
       "stream": "stdout",
       "text": [
        "\n"
       ]
      },
      {
       "metadata": {},
       "output_type": "pyout",
       "prompt_number": 35,
       "text": [
        "\"7456143875512af7a92a6d9075864600\""
       ]
      }
     ],
     "prompt_number": 35
    },
    {
     "cell_type": "code",
     "collapsed": false,
     "input": [
      "Processmaker.assign_user_to_group(group_id: group[:group_uid], user_id: user[:guid])"
     ],
     "language": "python",
     "metadata": {},
     "outputs": [
      {
       "output_type": "stream",
       "stream": "stdout",
       "text": [
        "I, [2015-03-25T14:54:39.209139 #53476]  INFO -- : SOAP request: http://si-dev01.si.is.co.za/sysworkflow/en/classic/services/soap2\n"
       ]
      },
      {
       "output_type": "stream",
       "stream": "stdout",
       "text": [
        "I, [2015-03-25T14:54:39.209341 #53476]  INFO -- : SOAPAction: \"urn:assignUserToGroup\", Content-Type: text/xml;charset=UTF-8, Content-Length: 521\n"
       ]
      },
      {
       "output_type": "stream",
       "stream": "stdout",
       "text": [
        "D, [2015-03-25T14:54:39.209462 #53476] DEBUG -- : <?xml version=\"1.0\" encoding=\"UTF-8\"?><env:Envelope xmlns:xsd=\"http://www.w3.org/2001/XMLSchema\" xmlns:xsi=\"http://www.w3.org/2001/XMLSchema-instance\" xmlns:xs0=\"http://www.processmaker.com\" xmlns:env=\"http://schemas.xmlsoap.org/soap/envelope/\"><env:Body><xs0:assignUserToGroupRequest><xs0:sessionId>8774178495512af7a4cc4f8024726857</xs0:sessionId><xs0:userId>46157618755094e812d03c2091230077</xs0:userId><xs0:groupId>7456143875512af7a92a6d9075864600</xs0:groupId></xs0:assignUserToGroupRequest></env:Body></env:Envelope>\n"
       ]
      },
      {
       "output_type": "stream",
       "stream": "stdout",
       "text": [
        "D, [2015-03-25T14:54:39.209710 #53476] DEBUG -- : HTTPI POST request to si-dev01.si.is.co.za (net_http)\n"
       ]
      },
      {
       "output_type": "stream",
       "stream": "stdout",
       "text": [
        "I, [2015-03-25T14:54:39.284192 #53476]  INFO -- : SOAP response (status 200)\n"
       ]
      },
      {
       "output_type": "stream",
       "stream": "stdout",
       "text": [
        "D, [2015-03-25T14:54:39.284443 #53476] DEBUG -- : <?xml version=\"1.0\" encoding=\"UTF-8\"?>\n",
        "<SOAP-ENV:Envelope xmlns:SOAP-ENV=\"http://schemas.xmlsoap.org/soap/envelope/\" xmlns:ns1=\"http://www.processmaker.com\"><SOAP-ENV:Body><ns1:pmResponse><ns1:status_code>0</ns1:status_code><ns1:message>command executed successfully</ns1:message><ns1:timestamp>2015-03-25 08:52:10</ns1:timestamp></ns1:pmResponse></SOAP-ENV:Body></SOAP-ENV:Envelope>\n",
        "\n"
       ]
      },
      {
       "metadata": {},
       "output_type": "pyout",
       "prompt_number": 36,
       "text": [
        "{:status_code=>\"0\", :message=>\"command executed successfully\", :timestamp=>\"2015-03-25 08:52:10\"}"
       ]
      }
     ],
     "prompt_number": 36
    },
    {
     "cell_type": "code",
     "collapsed": false,
     "input": [
      "p user[:name]\n",
      "p password: user_password\n",
      "Processmaker.login(wsdl: url, user_id: user[:name], password: user_password)"
     ],
     "language": "python",
     "metadata": {},
     "outputs": [
      {
       "output_type": "stream",
       "stream": "stdout",
       "text": [
        "\"irubynotebook\""
       ]
      },
      {
       "output_type": "stream",
       "stream": "stdout",
       "text": [
        "\n"
       ]
      },
      {
       "output_type": "stream",
       "stream": "stdout",
       "text": [
        "{:password=>\"demo\"}"
       ]
      },
      {
       "output_type": "stream",
       "stream": "stdout",
       "text": [
        "\n"
       ]
      },
      {
       "output_type": "stream",
       "stream": "stdout",
       "text": [
        "D, [2015-03-25T14:54:39.290601 #53476] DEBUG -- : HTTPI GET request to si-dev01.si.is.co.za (net_http)\n"
       ]
      },
      {
       "output_type": "stream",
       "stream": "stdout",
       "text": [
        "I, [2015-03-25T14:54:39.380343 #53476]  INFO -- : SOAP request: http://si-dev01.si.is.co.za/sysworkflow/en/classic/services/soap2\n"
       ]
      },
      {
       "output_type": "stream",
       "stream": "stdout",
       "text": [
        "I, [2015-03-25T14:54:39.380505 #53476]  INFO -- : SOAPAction: \"http://www.processmaker.com/login\", Content-Type: text/xml;charset=UTF-8, Content-Length: 375\n"
       ]
      },
      {
       "output_type": "stream",
       "stream": "stdout",
       "text": [
        "D, [2015-03-25T14:54:39.380612 #53476] DEBUG -- : <?xml version=\"1.0\" encoding=\"UTF-8\"?><env:Envelope xmlns:xsd=\"http://www.w3.org/2001/XMLSchema\" xmlns:xsi=\"http://www.w3.org/2001/XMLSchema-instance\" xmlns:xs0=\"http://www.processmaker.com\" xmlns:env=\"http://schemas.xmlsoap.org/soap/envelope/\"><env:Body><xs0:login><xs0:userid>irubynotebook</xs0:userid><xs0:password>demo</xs0:password></xs0:login></env:Body></env:Envelope>\n"
       ]
      },
      {
       "output_type": "stream",
       "stream": "stdout",
       "text": [
        "D, [2015-03-25T14:54:39.381169 #53476] DEBUG -- : HTTPI POST request to si-dev01.si.is.co.za (net_http)\n"
       ]
      },
      {
       "output_type": "stream",
       "stream": "stdout",
       "text": [
        "I, [2015-03-25T14:54:39.456307 #53476]  INFO -- : SOAP response (status 200)\n"
       ]
      },
      {
       "output_type": "stream",
       "stream": "stdout",
       "text": [
        "D, [2015-03-25T14:54:39.456597 #53476] DEBUG -- : <?xml version=\"1.0\" encoding=\"UTF-8\"?>\n",
        "<SOAP-ENV:Envelope xmlns:SOAP-ENV=\"http://schemas.xmlsoap.org/soap/envelope/\" xmlns:ns1=\"http://www.processmaker.com\"><SOAP-ENV:Body><ns1:loginResponse><ns1:status_code>0</ns1:status_code><ns1:message>9138663015512af7ad31d84028511186</ns1:message><ns1:version>2.0</ns1:version><ns1:timestamp>2015-03-25 08:52:10</ns1:timestamp></ns1:loginResponse></SOAP-ENV:Body></SOAP-ENV:Envelope>\n",
        "\n"
       ]
      },
      {
       "metadata": {},
       "output_type": "pyout",
       "prompt_number": 37,
       "text": [
        "{:status_code=>\"0\", :message=>\"9138663015512af7ad31d84028511186\", :version=>\"2.0\", :timestamp=>\"2015-03-25 08:52:10\"}"
       ]
      }
     ],
     "prompt_number": 37
    },
    {
     "cell_type": "code",
     "collapsed": false,
     "input": [
      "processes =  Processmaker.process_list()\n",
      "process = processes.find { |process| process[:name] == \"IRuby_notebook_demo\" }"
     ],
     "language": "python",
     "metadata": {},
     "outputs": [
      {
       "output_type": "stream",
       "stream": "stdout",
       "text": [
        "I, [2015-03-25T14:54:39.466882 #53476]  INFO -- : SOAP request: http://si-dev01.si.is.co.za/sysworkflow/en/classic/services/soap2\n"
       ]
      },
      {
       "output_type": "stream",
       "stream": "stdout",
       "text": [
        "I, [2015-03-25T14:54:39.467061 #53476]  INFO -- : SOAPAction: \"urn:processList\", Content-Type: text/xml;charset=UTF-8, Content-Length: 393\n"
       ]
      },
      {
       "output_type": "stream",
       "stream": "stdout",
       "text": [
        "D, [2015-03-25T14:54:39.467176 #53476] DEBUG -- : <?xml version=\"1.0\" encoding=\"UTF-8\"?><env:Envelope xmlns:xsd=\"http://www.w3.org/2001/XMLSchema\" xmlns:xsi=\"http://www.w3.org/2001/XMLSchema-instance\" xmlns:xs0=\"http://www.processmaker.com\" xmlns:env=\"http://schemas.xmlsoap.org/soap/envelope/\"><env:Body><xs0:processListRequest><xs0:sessionId>9138663015512af7ad31d84028511186</xs0:sessionId></xs0:processListRequest></env:Body></env:Envelope>\n"
       ]
      },
      {
       "output_type": "stream",
       "stream": "stdout",
       "text": [
        "D, [2015-03-25T14:54:39.467504 #53476] DEBUG -- : HTTPI POST request to si-dev01.si.is.co.za (net_http)\n"
       ]
      },
      {
       "output_type": "stream",
       "stream": "stdout",
       "text": [
        "I, [2015-03-25T14:54:39.524673 #53476]  INFO -- : SOAP response (status 200)\n"
       ]
      },
      {
       "output_type": "stream",
       "stream": "stdout",
       "text": [
        "D, [2015-03-25T14:54:39.524962 #53476] DEBUG -- : <?xml version=\"1.0\" encoding=\"UTF-8\"?>\n",
        "<SOAP-ENV:Envelope xmlns:SOAP-ENV=\"http://schemas.xmlsoap.org/soap/envelope/\" xmlns:ns1=\"http://www.processmaker.com\"><SOAP-ENV:Body><ns1:processListResponse><ns1:processes><ns1:guid>21399605055100356876379069062414</ns1:guid><ns1:name>Simple request workflow</ns1:name></ns1:processes><ns1:processes><ns1:guid>265534983550fb61da55222082054647</ns1:guid><ns1:name>Capacity Request</ns1:name></ns1:processes><ns1:processes><ns1:guid>658670893550a867bb12622076625838</ns1:guid><ns1:name>Demo</ns1:name></ns1:processes><ns1:processes><ns1:guid>98360219855094de74c2f21070070181</ns1:guid><ns1:name>IRuby_notebook_demo</ns1:name></ns1:processes></ns1:processListResponse></SOAP-ENV:Body></SOAP-ENV:Envelope>\n",
        "\n"
       ]
      },
      {
       "metadata": {},
       "output_type": "pyout",
       "prompt_number": 38,
       "text": [
        "{:guid=>\"98360219855094de74c2f21070070181\", :name=>\"IRuby_notebook_demo\"}"
       ]
      }
     ],
     "prompt_number": 38
    },
    {
     "cell_type": "code",
     "collapsed": false,
     "input": [
      "tasks = Processmaker.task_list()\n",
      "task = tasks.find { |task| task[:initial_task] == \"1\" } \n",
      "p task\n",
      "task[:process_id]\n"
     ],
     "language": "python",
     "metadata": {},
     "outputs": [
      {
       "output_type": "stream",
       "stream": "stdout",
       "text": [
        "I, [2015-03-25T14:54:39.535129 #53476]  INFO -- : SOAP request: http://si-dev01.si.is.co.za/sysworkflow/en/classic/services/soap2\n"
       ]
      },
      {
       "output_type": "stream",
       "stream": "stdout",
       "text": [
        "I, [2015-03-25T14:54:39.535293 #53476]  INFO -- : SOAPAction: \"urn:taskList\", Content-Type: text/xml;charset=UTF-8, Content-Length: 387\n"
       ]
      },
      {
       "output_type": "stream",
       "stream": "stdout",
       "text": [
        "D, [2015-03-25T14:54:39.535413 #53476] DEBUG -- : <?xml version=\"1.0\" encoding=\"UTF-8\"?><env:Envelope xmlns:xsd=\"http://www.w3.org/2001/XMLSchema\" xmlns:xsi=\"http://www.w3.org/2001/XMLSchema-instance\" xmlns:xs0=\"http://www.processmaker.com\" xmlns:env=\"http://schemas.xmlsoap.org/soap/envelope/\"><env:Body><xs0:taskListRequest><xs0:sessionId>9138663015512af7ad31d84028511186</xs0:sessionId></xs0:taskListRequest></env:Body></env:Envelope>\n"
       ]
      },
      {
       "output_type": "stream",
       "stream": "stdout",
       "text": [
        "D, [2015-03-25T14:54:39.535684 #53476] DEBUG -- : HTTPI POST request to si-dev01.si.is.co.za (net_http)\n"
       ]
      },
      {
       "output_type": "stream",
       "stream": "stdout",
       "text": [
        "I, [2015-03-25T14:54:39.611055 #53476]  INFO -- : SOAP response (status 200)\n"
       ]
      },
      {
       "output_type": "stream",
       "stream": "stdout",
       "text": [
        "D, [2015-03-25T14:54:39.611714 #53476] DEBUG -- : <?xml version=\"1.0\" encoding=\"UTF-8\"?>\n",
        "<SOAP-ENV:Envelope xmlns:SOAP-ENV=\"http://schemas.xmlsoap.org/soap/envelope/\" xmlns:ns1=\"http://www.processmaker.com\"><SOAP-ENV:Body><ns1:taskListResponse><ns1:tasks><ns1:guid>182133921550955233965a7049985769</ns1:guid><ns1:name>Task 2</ns1:name><ns1:processId>98360219855094de74c2f21070070181</ns1:processId><ns1:initialTask>0</ns1:initialTask></ns1:tasks><ns1:tasks><ns1:guid>423008737550954cfb84be0049538069</ns1:guid><ns1:name>Task 1</ns1:name><ns1:processId>98360219855094de74c2f21070070181</ns1:processId><ns1:initialTask>1</ns1:initialTask></ns1:tasks><ns1:tasks><ns1:guid>663254635550a86b2b4ff03072716004</ns1:guid><ns1:name>Task 1</ns1:name><ns1:processId>658670893550a867bb12622076625838</ns1:processId><ns1:initialTask>1</ns1:initialTask></ns1:tasks></ns1:taskListResponse></SOAP-ENV:Body></SOAP-ENV:Envelope>\n",
        "\n"
       ]
      },
      {
       "output_type": "stream",
       "stream": "stdout",
       "text": [
        "{:guid=>\"423008737550954cfb84be0049538069\", :name=>\"Task 1\", :process_id=>\"98360219855094de74c2f21070070181\", :initial_task=>\"1\"}"
       ]
      },
      {
       "output_type": "stream",
       "stream": "stdout",
       "text": [
        "\n"
       ]
      },
      {
       "metadata": {},
       "output_type": "pyout",
       "prompt_number": 39,
       "text": [
        "\"98360219855094de74c2f21070070181\""
       ]
      }
     ],
     "prompt_number": 39
    },
    {
     "cell_type": "code",
     "collapsed": false,
     "input": [
      "# Start a new case\n",
      "case1 = Processmaker.new_case(\n",
      "     process_id: process[:guid],\n",
      "     task_id: task[:guid]\n",
      ")\n",
      "p case1"
     ],
     "language": "python",
     "metadata": {},
     "outputs": [
      {
       "output_type": "stream",
       "stream": "stdout",
       "text": [
        "I, [2015-03-25T14:54:39.622919 #53476]  INFO -- : SOAP request: http://si-dev01.si.is.co.za/sysworkflow/en/classic/services/soap2\n"
       ]
      },
      {
       "output_type": "stream",
       "stream": "stdout",
       "text": [
        "I, [2015-03-25T14:54:39.623271 #53476]  INFO -- : SOAPAction: \"urn:newCase\", Content-Type: text/xml;charset=UTF-8, Content-Length: 536\n"
       ]
      },
      {
       "output_type": "stream",
       "stream": "stdout",
       "text": [
        "D, [2015-03-25T14:54:39.623383 #53476] DEBUG -- : <?xml version=\"1.0\" encoding=\"UTF-8\"?><env:Envelope xmlns:xsd=\"http://www.w3.org/2001/XMLSchema\" xmlns:xsi=\"http://www.w3.org/2001/XMLSchema-instance\" xmlns:xs0=\"http://www.processmaker.com\" xmlns:env=\"http://schemas.xmlsoap.org/soap/envelope/\"><env:Body><xs0:newCaseRequest><xs0:sessionId>9138663015512af7ad31d84028511186</xs0:sessionId><xs0:processId>98360219855094de74c2f21070070181</xs0:processId><xs0:taskId>423008737550954cfb84be0049538069</xs0:taskId><xs0:variables xsi:nil=\"true\"/></xs0:newCaseRequest></env:Body></env:Envelope>\n"
       ]
      },
      {
       "output_type": "stream",
       "stream": "stdout",
       "text": [
        "D, [2015-03-25T14:54:39.623644 #53476] DEBUG -- : HTTPI POST request to si-dev01.si.is.co.za (net_http)\n"
       ]
      },
      {
       "output_type": "stream",
       "stream": "stdout",
       "text": [
        "I, [2015-03-25T14:54:39.977506 #53476]  INFO -- : SOAP response (status 200)\n"
       ]
      },
      {
       "output_type": "stream",
       "stream": "stdout",
       "text": [
        "D, [2015-03-25T14:54:39.977754 #53476] DEBUG -- : <?xml version=\"1.0\" encoding=\"UTF-8\"?>\n",
        "<SOAP-ENV:Envelope xmlns:SOAP-ENV=\"http://schemas.xmlsoap.org/soap/envelope/\" xmlns:ns1=\"http://www.processmaker.com\"><SOAP-ENV:Body><ns1:newCaseResponse><ns1:status_code>0</ns1:status_code><ns1:message>Started successfully</ns1:message><ns1:caseId>2128484415512af7b211c04035293601</ns1:caseId><ns1:caseNumber>76</ns1:caseNumber><ns1:timestamp>2015-03-25 08:52:11</ns1:timestamp></ns1:newCaseResponse></SOAP-ENV:Body></SOAP-ENV:Envelope>\n",
        "\n"
       ]
      },
      {
       "output_type": "stream",
       "stream": "stdout",
       "text": [
        "{:status_code=>\"0\", :message=>\"Started successfully\", :case_id=>\"2128484415512af7b211c04035293601\", :case_number=>\"76\", :timestamp=>\"2015-03-25 08:52:11\"}"
       ]
      },
      {
       "output_type": "stream",
       "stream": "stdout",
       "text": [
        "\n"
       ]
      },
      {
       "metadata": {},
       "output_type": "pyout",
       "prompt_number": 40,
       "text": [
        "{:status_code=>\"0\", :message=>\"Started successfully\", :case_id=>\"2128484415512af7b211c04035293601\", :case_number=>\"76\", :timestamp=>\"2015-03-25 08:52:11\"}"
       ]
      }
     ],
     "prompt_number": 40
    },
    {
     "cell_type": "code",
     "collapsed": false,
     "input": [
      "cases = Processmaker.case_list()\n",
      "case1_info = cases.find { |c| c[:guid] == case1[:case_id] } \n",
      "p case1_info"
     ],
     "language": "python",
     "metadata": {},
     "outputs": [
      {
       "output_type": "stream",
       "stream": "stdout",
       "text": [
        "I, [2015-03-25T14:54:39.987273 #53476]  INFO -- : SOAP request: http://si-dev01.si.is.co.za/sysworkflow/en/classic/services/soap2\n"
       ]
      },
      {
       "output_type": "stream",
       "stream": "stdout",
       "text": [
        "I, [2015-03-25T14:54:39.987445 #53476]  INFO -- : SOAPAction: \"urn:caseList\", Content-Type: text/xml;charset=UTF-8, Content-Length: 387\n"
       ]
      },
      {
       "output_type": "stream",
       "stream": "stdout",
       "text": [
        "D, [2015-03-25T14:54:39.987583 #53476] DEBUG -- : <?xml version=\"1.0\" encoding=\"UTF-8\"?><env:Envelope xmlns:xsd=\"http://www.w3.org/2001/XMLSchema\" xmlns:xsi=\"http://www.w3.org/2001/XMLSchema-instance\" xmlns:xs0=\"http://www.processmaker.com\" xmlns:env=\"http://schemas.xmlsoap.org/soap/envelope/\"><env:Body><xs0:caseListRequest><xs0:sessionId>9138663015512af7ad31d84028511186</xs0:sessionId></xs0:caseListRequest></env:Body></env:Envelope>\n"
       ]
      },
      {
       "output_type": "stream",
       "stream": "stdout",
       "text": [
        "D, [2015-03-25T14:54:39.987812 #53476] DEBUG -- : HTTPI POST request to si-dev01.si.is.co.za (net_http)\n"
       ]
      },
      {
       "output_type": "stream",
       "stream": "stdout",
       "text": [
        "I, [2015-03-25T14:54:40.082127 #53476]  INFO -- : SOAP response (status 200)\n"
       ]
      },
      {
       "output_type": "stream",
       "stream": "stdout",
       "text": [
        "D, [2015-03-25T14:54:40.082491 #53476] DEBUG -- : <?xml version=\"1.0\" encoding=\"UTF-8\"?>\n",
        "<SOAP-ENV:Envelope xmlns:SOAP-ENV=\"http://schemas.xmlsoap.org/soap/envelope/\" xmlns:ns1=\"http://www.processmaker.com\"><SOAP-ENV:Body><ns1:caseListResponse><ns1:cases><ns1:guid>2128484415512af7b211c04035293601</ns1:guid><ns1:name>76</ns1:name><ns1:status>DRAFT</ns1:status><ns1:delIndex>1</ns1:delIndex><ns1:processId>98360219855094de74c2f21070070181</ns1:processId></ns1:cases><ns1:cases><ns1:guid>8937092965510fa46ca8aa7005221383</ns1:guid><ns1:name>48</ns1:name><ns1:status>TO_DO</ns1:status><ns1:delIndex>1</ns1:delIndex><ns1:processId>98360219855094de74c2f21070070181</ns1:processId></ns1:cases><ns1:cases><ns1:guid>208736094550ffe8dd99a34092516883</ns1:guid><ns1:name>46</ns1:name><ns1:status>TO_DO</ns1:status><ns1:delIndex>2</ns1:delIndex><ns1:processId>98360219855094de74c2f21070070181</ns1:processId></ns1:cases><ns1:cases><ns1:guid>678847726550fdbfdc9ffc3022477505</ns1:guid><ns1:name>43</ns1:name><ns1:status>TO_DO</ns1:status><ns1:delIndex>2</ns1:delIndex><ns1:processId>98360219855094de74c2f21070070181</ns1:processId></ns1:cases><ns1:cases><ns1:guid>548401022550fd84bad0a16098554696</ns1:guid><ns1:name>42</ns1:name><ns1:status>DRAFT</ns1:status><ns1:delIndex>1</ns1:delIndex><ns1:processId>98360219855094de74c2f21070070181</ns1:processId></ns1:cases><ns1:cases><ns1:guid>284343996550fd7a43ed643061321588</ns1:guid><ns1:name>41</ns1:name><ns1:status>DRAFT</ns1:status><ns1:delIndex>1</ns1:delIndex><ns1:processId>98360219855094de74c2f21070070181</ns1:processId></ns1:cases><ns1:cases><ns1:guid>525755352550fd1f17344d8094834463</ns1:guid><ns1:name>39</ns1:name><ns1:status>DRAFT</ns1:status><ns1:delIndex>1</ns1:delIndex><ns1:processId>98360219855094de74c2f21070070181</ns1:processId></ns1:cases><ns1:cases><ns1:guid>494940551550fd17053d2e9034950701</ns1:guid><ns1:name>38</ns1:name><ns1:status>TO_DO</ns1:status><ns1:delIndex>2</ns1:delIndex><ns1:processId>98360219855094de74c2f21070070181</ns1:processId></ns1:cases><ns1:cases><ns1:guid>213768646550fc96f6d6e80008950422</ns1:guid><ns1:name>36</ns1:name><ns1:status>DRAFT</ns1:status><ns1:delIndex>1</ns1:delIndex><ns1:processId>98360219855094de74c2f21070070181</ns1:processId></ns1:cases><ns1:cases><ns1:guid>436908469550fc4c66f40c3083427211</ns1:guid><ns1:name>33</ns1:name><ns1:status>DRAFT</ns1:status><ns1:delIndex>1</ns1:delIndex><ns1:processId>98360219855094de74c2f21070070181</ns1:processId></ns1:cases><ns1:cases><ns1:guid>482570782550c0e1aba7282040998919</ns1:guid><ns1:name>32</ns1:name><ns1:status>DRAFT</ns1:status><ns1:delIndex>1</ns1:delIndex><ns1:processId>98360219855094de74c2f21070070181</ns1:processId></ns1:cases><ns1:cases><ns1:guid>397797619550c0d2a668ec6036219903</ns1:guid><ns1:name>31</ns1:name><ns1:status>DRAFT</ns1:status><ns1:delIndex>1</ns1:delIndex><ns1:processId>98360219855094de74c2f21070070181</ns1:processId></ns1:cases><ns1:cases><ns1:guid>955800922550c0c9ae74e73018918870</ns1:guid><ns1:name>30</ns1:name><ns1:status>DRAFT</ns1:status><ns1:delIndex>1</ns1:delIndex><ns1:processId>98360219855094de74c2f21070070181</ns1:processId></ns1:cases><ns1:cases><ns1:guid>596922600550c088659ed48020162010</ns1:guid><ns1:name>29</ns1:name><ns1:status>DRAFT</ns1:status><ns1:delIndex>1</ns1:delIndex><ns1:processId>98360219855094de74c2f21070070181</ns1:processId></ns1:cases><ns1:cases><ns1:guid>237318296550c06965507d9012281898</ns1:guid><ns1:name>28</ns1:name><ns1:status>DRAFT</ns1:status><ns1:delIndex>1</ns1:delIndex><ns1:processId>98360219855094de74c2f21070070181</ns1:processId></ns1:cases><ns1:cases><ns1:guid>283573070550c026a3e20a2091712011</ns1:guid><ns1:name>27</ns1:name><ns1:status>DRAFT</ns1:status><ns1:delIndex>1</ns1:delIndex><ns1:processId>98360219855094de74c2f21070070181</ns1:processId></ns1:cases><ns1:cases><ns1:guid>632088501550bfd17570718091586381</ns1:guid><ns1:name>26</ns1:name><ns1:status>DRAFT</ns1:status><ns1:delIndex>1</ns1:delIndex><ns1:processId>98360219855094de74c2f21070070181</ns1:processId></ns1:cases><ns1:cases><ns1:guid>243234010550bf8c06f38d6046692822</ns1:guid><ns1:name>25</ns1:name><ns1:status>DRAFT</ns1:status><ns1:delIndex>1</ns1:delIndex><ns1:processId>98360219855094de74c2f21070070181</ns1:processId></ns1:cases><ns1:cases><ns1:guid>848711255550bedde81bfb4014443274</ns1:guid><ns1:name>24</ns1:name><ns1:status>DRAFT</ns1:status><ns1:delIndex>1</ns1:delIndex><ns1:processId>98360219855094de74c2f21070070181</ns1:processId></ns1:cases><ns1:cases><ns1:guid>804962189550bea75927e84027754692</ns1:guid><ns1:name>23</ns1:name><ns1:status>DRAFT</ns1:status><ns1:delIndex>1</ns1:delIndex><ns1:processId>98360219855094de74c2f21070070181</ns1:processId></ns1:cases><ns1:cases><ns1:guid>234223518550be8d33f8038000213657</ns1:guid><ns1:name>22</ns1:name><ns1:status>DRAFT</ns1:status><ns1:delIndex>1</ns1:delIndex><ns1:processId>98360219855094de74c2f21070070181</ns1:processId></ns1:cases><ns1:cases><ns1:guid>362910318550be6afdb7fb3098878611</ns1:guid><ns1:name>21</ns1:name><ns1:status>DRAFT</ns1:status><ns1:delIndex>1</ns1:delIndex><ns1:processId>98360219855094de74c2f21070070181</ns1:processId></ns1:cases><ns1:cases><ns1:guid>400788985550be6257681a1046956741</ns1:guid><ns1:name>20</ns1:name><ns1:status>DRAFT</ns1:status><ns1:delIndex>1</ns1:delIndex><ns1:processId>98360219855094de74c2f21070070181</ns1:processId></ns1:cases><ns1:cases><ns1:guid>141401808550be09dbc4360000959865</ns1:guid><ns1:name>19</ns1:name><ns1:status>DRAFT</ns1:status><ns1:delIndex>1</ns1:delIndex><ns1:processId>98360219855094de74c2f21070070181</ns1:processId></ns1:cases><ns1:cases><ns1:guid>761090587550bde1d1acf46078070193</ns1:guid><ns1:name>18</ns1:name><ns1:status>DRAFT</ns1:status><ns1:delIndex>1</ns1:delIndex><ns1:processId>98360219855094de74c2f21070070181</ns1:processId></ns1:cases><ns1:cases><ns1:guid>184078385550bdcbb100343050558793</ns1:guid><ns1:name>17</ns1:name><ns1:status>DRAFT</ns1:status><ns1:delIndex>1</ns1:delIndex><ns1:processId>98360219855094de74c2f21070070181</ns1:processId></ns1:cases><ns1:cases><ns1:guid>274821792550bd02d9140a4006137622</ns1:guid><ns1:name>16</ns1:name><ns1:status>DRAFT</ns1:status><ns1:delIndex>1</ns1:delIndex><ns1:processId>98360219855094de74c2f21070070181</ns1:processId></ns1:cases><ns1:cases><ns1:guid>388651703550bcfedd04a01034849952</ns1:guid><ns1:name>15</ns1:name><ns1:status>DRAFT</ns1:status><ns1:delIndex>1</ns1:delIndex><ns1:processId>98360219855094de74c2f21070070181</ns1:processId></ns1:cases><ns1:cases><ns1:guid>932965532550bcfcc5f17f1033422526</ns1:guid><ns1:name>14</ns1:name><ns1:status>DRAFT</ns1:status><ns1:delIndex>1</ns1:delIndex><ns1:processId>98360219855094de74c2f21070070181</ns1:processId></ns1:cases><ns1:cases><ns1:guid>792680878550bcfbbd29fe7062507921</ns1:guid><ns1:name>13</ns1:name><ns1:status>DRAFT</ns1:status><ns1:delIndex>1</ns1:delIndex><ns1:processId>98360219855094de74c2f21070070181</ns1:processId></ns1:cases><ns1:cases><ns1:guid>132979844550bcd20e35241046981854</ns1:guid><ns1:name>12</ns1:name><ns1:status>DRAFT</ns1:status><ns1:delIndex>1</ns1:delIndex><ns1:processId>98360219855094de74c2f21070070181</ns1:processId></ns1:cases><ns1:cases><ns1:guid>797851868550bcbec37e6e2042690144</ns1:guid><ns1:name>11</ns1:name><ns1:status>DRAFT</ns1:status><ns1:delIndex>1</ns1:delIndex><ns1:processId>98360219855094de74c2f21070070181</ns1:processId></ns1:cases><ns1:cases><ns1:guid>132775818550bcb92e4b897072112889</ns1:guid><ns1:name>10</ns1:name><ns1:status>DRAFT</ns1:status><ns1:delIndex>1</ns1:delIndex><ns1:processId>98360219855094de74c2f21070070181</ns1:processId></ns1:cases><ns1:cases><ns1:guid>755635250550bcb76656af8063305134</ns1:guid><ns1:name>9</ns1:name><ns1:status>DRAFT</ns1:status><ns1:delIndex>1</ns1:delIndex><ns1:processId>98360219855094de74c2f21070070181</ns1:processId></ns1:cases><ns1:cases><ns1:guid>207506336550bc8cde88145054158821</ns1:guid><ns1:name>8</ns1:name><ns1:status>DRAFT</ns1:status><ns1:delIndex>1</ns1:delIndex><ns1:processId>98360219855094de74c2f21070070181</ns1:processId></ns1:cases><ns1:cases><ns1:guid>177046091550bc8b76d06f2065623366</ns1:guid><ns1:name>7</ns1:name><ns1:status>DRAFT</ns1:status><ns1:delIndex>1</ns1:delIndex><ns1:processId>98360219855094de74c2f21070070181</ns1:processId></ns1:cases><ns1:cases><ns1:guid>280771130550bc8b041e8b1064781409</ns1:guid><ns1:name>6</ns1:name><ns1:status>DRAFT</ns1:status><ns1:delIndex>1</ns1:delIndex><ns1:processId>98360219855094de74c2f21070070181</ns1:processId></ns1:cases><ns1:cases><ns1:guid>698434432550961d7193016021833262</ns1:guid><ns1:name>2</ns1:name><ns1:status>DRAFT</ns1:status><ns1:delIndex>1</ns1:delIndex><ns1:processId>98360219855094de74c2f21070070181</ns1:processId></ns1:cases><ns1:cases><ns1:guid>36064186555095f2b156d68001769491</ns1:guid><ns1:name>1</ns1:name><ns1:status>DRAFT</ns1:status><ns1:delIndex>1</ns1:delIndex><ns1:processId>98360219855094de74c2f21070070181</ns1:processId></ns1:cases></ns1:caseListResponse></SOAP-ENV:Body></SOAP-ENV:Envelope>\n",
        "\n"
       ]
      },
      {
       "output_type": "stream",
       "stream": "stdout",
       "text": [
        "{:guid=>\"2128484415512af7b211c04035293601\", :name=>\"76\", :status=>\"DRAFT\", :del_index=>\"1\", :process_id=>\"98360219855094de74c2f21070070181\"}"
       ]
      },
      {
       "output_type": "stream",
       "stream": "stdout",
       "text": [
        "\n"
       ]
      },
      {
       "metadata": {},
       "output_type": "pyout",
       "prompt_number": 41,
       "text": [
        "{:guid=>\"2128484415512af7b211c04035293601\", :name=>\"76\", :status=>\"DRAFT\", :del_index=>\"1\", :process_id=>\"98360219855094de74c2f21070070181\"}"
       ]
      }
     ],
     "prompt_number": 41
    },
    {
     "cell_type": "code",
     "collapsed": false,
     "input": [],
     "language": "python",
     "metadata": {},
     "outputs": [],
     "prompt_number": 42
    },
    {
     "cell_type": "heading",
     "level": 1,
     "metadata": {},
     "source": [
      "Execute trigger to move from DRAFT to TODO"
     ]
    },
    {
     "cell_type": "code",
     "collapsed": false,
     "input": [
      "triggers = Processmaker.trigger_list()"
     ],
     "language": "python",
     "metadata": {},
     "outputs": [
      {
       "output_type": "stream",
       "stream": "stdout",
       "text": [
        "I, [2015-03-25T14:54:40.105522 #53476]  INFO -- : SOAP request: http://si-dev01.si.is.co.za/sysworkflow/en/classic/services/soap2\n"
       ]
      },
      {
       "output_type": "stream",
       "stream": "stdout",
       "text": [
        "I, [2015-03-25T14:54:40.105801 #53476]  INFO -- : SOAPAction: \"urn:triggerList\", Content-Type: text/xml;charset=UTF-8, Content-Length: 393\n"
       ]
      },
      {
       "output_type": "stream",
       "stream": "stdout",
       "text": [
        "D, [2015-03-25T14:54:40.106025 #53476] DEBUG -- : <?xml version=\"1.0\" encoding=\"UTF-8\"?><env:Envelope xmlns:xsd=\"http://www.w3.org/2001/XMLSchema\" xmlns:xsi=\"http://www.w3.org/2001/XMLSchema-instance\" xmlns:xs0=\"http://www.processmaker.com\" xmlns:env=\"http://schemas.xmlsoap.org/soap/envelope/\"><env:Body><xs0:triggerListRequest><xs0:sessionId>9138663015512af7ad31d84028511186</xs0:sessionId></xs0:triggerListRequest></env:Body></env:Envelope>\n"
       ]
      },
      {
       "output_type": "stream",
       "stream": "stdout",
       "text": [
        "D, [2015-03-25T14:54:40.106282 #53476] DEBUG -- : HTTPI POST request to si-dev01.si.is.co.za (net_http)\n"
       ]
      },
      {
       "output_type": "stream",
       "stream": "stdout",
       "text": [
        "I, [2015-03-25T14:54:40.152136 #53476]  INFO -- : SOAP response (status 200)\n"
       ]
      },
      {
       "output_type": "stream",
       "stream": "stdout",
       "text": [
        "D, [2015-03-25T14:54:40.152417 #53476] DEBUG -- : <?xml version=\"1.0\" encoding=\"UTF-8\"?>\n",
        "<SOAP-ENV:Envelope xmlns:SOAP-ENV=\"http://schemas.xmlsoap.org/soap/envelope/\" xmlns:ns1=\"http://www.processmaker.com\"><SOAP-ENV:Body><ns1:triggerListResponse><ns1:triggers><ns1:guid>16666431055113bf1cd4701088176932</ns1:guid><ns1:name>Request To Action</ns1:name><ns1:processId>21399605055100356876379069062414</ns1:processId></ns1:triggers><ns1:triggers><ns1:guid>1833089335510f7f584e519003140438</ns1:guid><ns1:name>SetStatusTODO</ns1:name><ns1:processId>98360219855094de74c2f21070070181</ns1:processId></ns1:triggers></ns1:triggerListResponse></SOAP-ENV:Body></SOAP-ENV:Envelope>\n",
        "\n"
       ]
      },
      {
       "metadata": {},
       "output_type": "pyout",
       "prompt_number": 43,
       "text": [
        "[{:guid=>\"16666431055113bf1cd4701088176932\", :name=>\"Request To Action\", :process_id=>\"21399605055100356876379069062414\"}, {:guid=>\"1833089335510f7f584e519003140438\", :name=>\"SetStatusTODO\", :process_id=>\"98360219855094de74c2f21070070181\"}]"
       ]
      }
     ],
     "prompt_number": 43
    },
    {
     "cell_type": "code",
     "collapsed": false,
     "input": [
      "Processmaker.execute_trigger(trigger_index: triggers[:guid], case_id: case1[:case_id], del_index: case1_info[:del_index])"
     ],
     "language": "python",
     "metadata": {},
     "outputs": [
      {
       "ename": "TypeError",
       "evalue": "no implicit conversion of Symbol into Integer",
       "output_type": "pyerr",
       "traceback": [
        "\u001b[31mTypeError\u001b[0m: no implicit conversion of Symbol into Integer",
        "\u001b[37m(pry):162:in `[]'\u001b[0m",
        "\u001b[37m(pry):162:in `<main>'\u001b[0m",
        "\u001b[37m/Users/vmpj/.rbenv/versions/2.2.0/lib/ruby/gems/2.2.0/gems/pry-0.10.1/lib/pry/pry_instance.rb:355:in `eval'\u001b[0m",
        "\u001b[37m/Users/vmpj/.rbenv/versions/2.2.0/lib/ruby/gems/2.2.0/gems/pry-0.10.1/lib/pry/pry_instance.rb:355:in `evaluate_ruby'\u001b[0m",
        "\u001b[37m/Users/vmpj/.rbenv/versions/2.2.0/lib/ruby/gems/2.2.0/gems/pry-0.10.1/lib/pry/pry_instance.rb:323:in `handle_line'\u001b[0m",
        "\u001b[37m/Users/vmpj/.rbenv/versions/2.2.0/lib/ruby/gems/2.2.0/gems/pry-0.10.1/lib/pry/pry_instance.rb:243:in `block (2 levels) in eval'\u001b[0m",
        "\u001b[37m/Users/vmpj/.rbenv/versions/2.2.0/lib/ruby/gems/2.2.0/gems/pry-0.10.1/lib/pry/pry_instance.rb:242:in `catch'\u001b[0m",
        "\u001b[37m/Users/vmpj/.rbenv/versions/2.2.0/lib/ruby/gems/2.2.0/gems/pry-0.10.1/lib/pry/pry_instance.rb:242:in `block in eval'\u001b[0m",
        "\u001b[37m/Users/vmpj/.rbenv/versions/2.2.0/lib/ruby/gems/2.2.0/gems/pry-0.10.1/lib/pry/pry_instance.rb:241:in `catch'\u001b[0m",
        "\u001b[37m/Users/vmpj/.rbenv/versions/2.2.0/lib/ruby/gems/2.2.0/gems/pry-0.10.1/lib/pry/pry_instance.rb:241:in `eval'\u001b[0m",
        "\u001b[37m/Users/vmpj/.rbenv/versions/2.2.0/lib/ruby/gems/2.2.0/gems/iruby-0.1.13/lib/iruby/backend.rb:28:in `eval'\u001b[0m",
        "\u001b[37m/Users/vmpj/.rbenv/versions/2.2.0/lib/ruby/gems/2.2.0/gems/iruby-0.1.13/lib/iruby/kernel.rb:110:in `execute_request'\u001b[0m",
        "\u001b[37m/Users/vmpj/.rbenv/versions/2.2.0/lib/ruby/gems/2.2.0/gems/iruby-0.1.13/lib/iruby/kernel.rb:62:in `run'\u001b[0m",
        "\u001b[37m/Users/vmpj/.rbenv/versions/2.2.0/lib/ruby/gems/2.2.0/gems/iruby-0.1.13/lib/iruby/command.rb:30:in `run_kernel'\u001b[0m",
        "\u001b[37m/Users/vmpj/.rbenv/versions/2.2.0/lib/ruby/gems/2.2.0/gems/iruby-0.1.13/lib/iruby/command.rb:16:in `run'\u001b[0m",
        "\u001b[37m/Users/vmpj/.rbenv/versions/2.2.0/lib/ruby/gems/2.2.0/gems/iruby-0.1.13/bin/iruby:6:in `<top (required)>'\u001b[0m",
        "\u001b[37m/Users/vmpj/.rbenv/versions/2.2.0/bin/iruby:23:in `load'\u001b[0m",
        "\u001b[37m/Users/vmpj/.rbenv/versions/2.2.0/bin/iruby:23:in `<main>'\u001b[0m"
       ]
      }
     ],
     "prompt_number": 44
    },
    {
     "cell_type": "code",
     "collapsed": false,
     "input": [
      "cases = Processmaker.case_list()\n",
      "case1_info = cases.find { |c| c[:guid] == case1[:case_id] } \n",
      "p case1_info"
     ],
     "language": "python",
     "metadata": {},
     "outputs": [
      {
       "output_type": "stream",
       "stream": "stdout",
       "text": [
        "I, [2015-03-25T14:54:40.168257 #53476]  INFO -- : SOAP request: http://si-dev01.si.is.co.za/sysworkflow/en/classic/services/soap2\n"
       ]
      },
      {
       "output_type": "stream",
       "stream": "stdout",
       "text": [
        "I, [2015-03-25T14:54:40.168409 #53476]  INFO -- : SOAPAction: \"urn:caseList\", Content-Type: text/xml;charset=UTF-8, Content-Length: 387\n"
       ]
      },
      {
       "output_type": "stream",
       "stream": "stdout",
       "text": [
        "D, [2015-03-25T14:54:40.168653 #53476] DEBUG -- : <?xml version=\"1.0\" encoding=\"UTF-8\"?><env:Envelope xmlns:xsd=\"http://www.w3.org/2001/XMLSchema\" xmlns:xsi=\"http://www.w3.org/2001/XMLSchema-instance\" xmlns:xs0=\"http://www.processmaker.com\" xmlns:env=\"http://schemas.xmlsoap.org/soap/envelope/\"><env:Body><xs0:caseListRequest><xs0:sessionId>9138663015512af7ad31d84028511186</xs0:sessionId></xs0:caseListRequest></env:Body></env:Envelope>\n"
       ]
      },
      {
       "output_type": "stream",
       "stream": "stdout",
       "text": [
        "D, [2015-03-25T14:54:40.168848 #53476] DEBUG -- : HTTPI POST request to si-dev01.si.is.co.za (net_http)\n"
       ]
      },
      {
       "output_type": "stream",
       "stream": "stdout",
       "text": [
        "I, [2015-03-25T14:54:40.228038 #53476]  INFO -- : SOAP response (status 200)\n"
       ]
      },
      {
       "output_type": "stream",
       "stream": "stdout",
       "text": [
        "D, [2015-03-25T14:54:40.228419 #53476] DEBUG -- : <?xml version=\"1.0\" encoding=\"UTF-8\"?>\n",
        "<SOAP-ENV:Envelope xmlns:SOAP-ENV=\"http://schemas.xmlsoap.org/soap/envelope/\" xmlns:ns1=\"http://www.processmaker.com\"><SOAP-ENV:Body><ns1:caseListResponse><ns1:cases><ns1:guid>2128484415512af7b211c04035293601</ns1:guid><ns1:name>76</ns1:name><ns1:status>DRAFT</ns1:status><ns1:delIndex>1</ns1:delIndex><ns1:processId>98360219855094de74c2f21070070181</ns1:processId></ns1:cases><ns1:cases><ns1:guid>8937092965510fa46ca8aa7005221383</ns1:guid><ns1:name>48</ns1:name><ns1:status>TO_DO</ns1:status><ns1:delIndex>1</ns1:delIndex><ns1:processId>98360219855094de74c2f21070070181</ns1:processId></ns1:cases><ns1:cases><ns1:guid>208736094550ffe8dd99a34092516883</ns1:guid><ns1:name>46</ns1:name><ns1:status>TO_DO</ns1:status><ns1:delIndex>2</ns1:delIndex><ns1:processId>98360219855094de74c2f21070070181</ns1:processId></ns1:cases><ns1:cases><ns1:guid>678847726550fdbfdc9ffc3022477505</ns1:guid><ns1:name>43</ns1:name><ns1:status>TO_DO</ns1:status><ns1:delIndex>2</ns1:delIndex><ns1:processId>98360219855094de74c2f21070070181</ns1:processId></ns1:cases><ns1:cases><ns1:guid>548401022550fd84bad0a16098554696</ns1:guid><ns1:name>42</ns1:name><ns1:status>DRAFT</ns1:status><ns1:delIndex>1</ns1:delIndex><ns1:processId>98360219855094de74c2f21070070181</ns1:processId></ns1:cases><ns1:cases><ns1:guid>284343996550fd7a43ed643061321588</ns1:guid><ns1:name>41</ns1:name><ns1:status>DRAFT</ns1:status><ns1:delIndex>1</ns1:delIndex><ns1:processId>98360219855094de74c2f21070070181</ns1:processId></ns1:cases><ns1:cases><ns1:guid>525755352550fd1f17344d8094834463</ns1:guid><ns1:name>39</ns1:name><ns1:status>DRAFT</ns1:status><ns1:delIndex>1</ns1:delIndex><ns1:processId>98360219855094de74c2f21070070181</ns1:processId></ns1:cases><ns1:cases><ns1:guid>494940551550fd17053d2e9034950701</ns1:guid><ns1:name>38</ns1:name><ns1:status>TO_DO</ns1:status><ns1:delIndex>2</ns1:delIndex><ns1:processId>98360219855094de74c2f21070070181</ns1:processId></ns1:cases><ns1:cases><ns1:guid>213768646550fc96f6d6e80008950422</ns1:guid><ns1:name>36</ns1:name><ns1:status>DRAFT</ns1:status><ns1:delIndex>1</ns1:delIndex><ns1:processId>98360219855094de74c2f21070070181</ns1:processId></ns1:cases><ns1:cases><ns1:guid>436908469550fc4c66f40c3083427211</ns1:guid><ns1:name>33</ns1:name><ns1:status>DRAFT</ns1:status><ns1:delIndex>1</ns1:delIndex><ns1:processId>98360219855094de74c2f21070070181</ns1:processId></ns1:cases><ns1:cases><ns1:guid>482570782550c0e1aba7282040998919</ns1:guid><ns1:name>32</ns1:name><ns1:status>DRAFT</ns1:status><ns1:delIndex>1</ns1:delIndex><ns1:processId>98360219855094de74c2f21070070181</ns1:processId></ns1:cases><ns1:cases><ns1:guid>397797619550c0d2a668ec6036219903</ns1:guid><ns1:name>31</ns1:name><ns1:status>DRAFT</ns1:status><ns1:delIndex>1</ns1:delIndex><ns1:processId>98360219855094de74c2f21070070181</ns1:processId></ns1:cases><ns1:cases><ns1:guid>955800922550c0c9ae74e73018918870</ns1:guid><ns1:name>30</ns1:name><ns1:status>DRAFT</ns1:status><ns1:delIndex>1</ns1:delIndex><ns1:processId>98360219855094de74c2f21070070181</ns1:processId></ns1:cases><ns1:cases><ns1:guid>596922600550c088659ed48020162010</ns1:guid><ns1:name>29</ns1:name><ns1:status>DRAFT</ns1:status><ns1:delIndex>1</ns1:delIndex><ns1:processId>98360219855094de74c2f21070070181</ns1:processId></ns1:cases><ns1:cases><ns1:guid>237318296550c06965507d9012281898</ns1:guid><ns1:name>28</ns1:name><ns1:status>DRAFT</ns1:status><ns1:delIndex>1</ns1:delIndex><ns1:processId>98360219855094de74c2f21070070181</ns1:processId></ns1:cases><ns1:cases><ns1:guid>283573070550c026a3e20a2091712011</ns1:guid><ns1:name>27</ns1:name><ns1:status>DRAFT</ns1:status><ns1:delIndex>1</ns1:delIndex><ns1:processId>98360219855094de74c2f21070070181</ns1:processId></ns1:cases><ns1:cases><ns1:guid>632088501550bfd17570718091586381</ns1:guid><ns1:name>26</ns1:name><ns1:status>DRAFT</ns1:status><ns1:delIndex>1</ns1:delIndex><ns1:processId>98360219855094de74c2f21070070181</ns1:processId></ns1:cases><ns1:cases><ns1:guid>243234010550bf8c06f38d6046692822</ns1:guid><ns1:name>25</ns1:name><ns1:status>DRAFT</ns1:status><ns1:delIndex>1</ns1:delIndex><ns1:processId>98360219855094de74c2f21070070181</ns1:processId></ns1:cases><ns1:cases><ns1:guid>848711255550bedde81bfb4014443274</ns1:guid><ns1:name>24</ns1:name><ns1:status>DRAFT</ns1:status><ns1:delIndex>1</ns1:delIndex><ns1:processId>98360219855094de74c2f21070070181</ns1:processId></ns1:cases><ns1:cases><ns1:guid>804962189550bea75927e84027754692</ns1:guid><ns1:name>23</ns1:name><ns1:status>DRAFT</ns1:status><ns1:delIndex>1</ns1:delIndex><ns1:processId>98360219855094de74c2f21070070181</ns1:processId></ns1:cases><ns1:cases><ns1:guid>234223518550be8d33f8038000213657</ns1:guid><ns1:name>22</ns1:name><ns1:status>DRAFT</ns1:status><ns1:delIndex>1</ns1:delIndex><ns1:processId>98360219855094de74c2f21070070181</ns1:processId></ns1:cases><ns1:cases><ns1:guid>362910318550be6afdb7fb3098878611</ns1:guid><ns1:name>21</ns1:name><ns1:status>DRAFT</ns1:status><ns1:delIndex>1</ns1:delIndex><ns1:processId>98360219855094de74c2f21070070181</ns1:processId></ns1:cases><ns1:cases><ns1:guid>400788985550be6257681a1046956741</ns1:guid><ns1:name>20</ns1:name><ns1:status>DRAFT</ns1:status><ns1:delIndex>1</ns1:delIndex><ns1:processId>98360219855094de74c2f21070070181</ns1:processId></ns1:cases><ns1:cases><ns1:guid>141401808550be09dbc4360000959865</ns1:guid><ns1:name>19</ns1:name><ns1:status>DRAFT</ns1:status><ns1:delIndex>1</ns1:delIndex><ns1:processId>98360219855094de74c2f21070070181</ns1:processId></ns1:cases><ns1:cases><ns1:guid>761090587550bde1d1acf46078070193</ns1:guid><ns1:name>18</ns1:name><ns1:status>DRAFT</ns1:status><ns1:delIndex>1</ns1:delIndex><ns1:processId>98360219855094de74c2f21070070181</ns1:processId></ns1:cases><ns1:cases><ns1:guid>184078385550bdcbb100343050558793</ns1:guid><ns1:name>17</ns1:name><ns1:status>DRAFT</ns1:status><ns1:delIndex>1</ns1:delIndex><ns1:processId>98360219855094de74c2f21070070181</ns1:processId></ns1:cases><ns1:cases><ns1:guid>274821792550bd02d9140a4006137622</ns1:guid><ns1:name>16</ns1:name><ns1:status>DRAFT</ns1:status><ns1:delIndex>1</ns1:delIndex><ns1:processId>98360219855094de74c2f21070070181</ns1:processId></ns1:cases><ns1:cases><ns1:guid>388651703550bcfedd04a01034849952</ns1:guid><ns1:name>15</ns1:name><ns1:status>DRAFT</ns1:status><ns1:delIndex>1</ns1:delIndex><ns1:processId>98360219855094de74c2f21070070181</ns1:processId></ns1:cases><ns1:cases><ns1:guid>932965532550bcfcc5f17f1033422526</ns1:guid><ns1:name>14</ns1:name><ns1:status>DRAFT</ns1:status><ns1:delIndex>1</ns1:delIndex><ns1:processId>98360219855094de74c2f21070070181</ns1:processId></ns1:cases><ns1:cases><ns1:guid>792680878550bcfbbd29fe7062507921</ns1:guid><ns1:name>13</ns1:name><ns1:status>DRAFT</ns1:status><ns1:delIndex>1</ns1:delIndex><ns1:processId>98360219855094de74c2f21070070181</ns1:processId></ns1:cases><ns1:cases><ns1:guid>132979844550bcd20e35241046981854</ns1:guid><ns1:name>12</ns1:name><ns1:status>DRAFT</ns1:status><ns1:delIndex>1</ns1:delIndex><ns1:processId>98360219855094de74c2f21070070181</ns1:processId></ns1:cases><ns1:cases><ns1:guid>797851868550bcbec37e6e2042690144</ns1:guid><ns1:name>11</ns1:name><ns1:status>DRAFT</ns1:status><ns1:delIndex>1</ns1:delIndex><ns1:processId>98360219855094de74c2f21070070181</ns1:processId></ns1:cases><ns1:cases><ns1:guid>132775818550bcb92e4b897072112889</ns1:guid><ns1:name>10</ns1:name><ns1:status>DRAFT</ns1:status><ns1:delIndex>1</ns1:delIndex><ns1:processId>98360219855094de74c2f21070070181</ns1:processId></ns1:cases><ns1:cases><ns1:guid>755635250550bcb76656af8063305134</ns1:guid><ns1:name>9</ns1:name><ns1:status>DRAFT</ns1:status><ns1:delIndex>1</ns1:delIndex><ns1:processId>98360219855094de74c2f21070070181</ns1:processId></ns1:cases><ns1:cases><ns1:guid>207506336550bc8cde88145054158821</ns1:guid><ns1:name>8</ns1:name><ns1:status>DRAFT</ns1:status><ns1:delIndex>1</ns1:delIndex><ns1:processId>98360219855094de74c2f21070070181</ns1:processId></ns1:cases><ns1:cases><ns1:guid>177046091550bc8b76d06f2065623366</ns1:guid><ns1:name>7</ns1:name><ns1:status>DRAFT</ns1:status><ns1:delIndex>1</ns1:delIndex><ns1:processId>98360219855094de74c2f21070070181</ns1:processId></ns1:cases><ns1:cases><ns1:guid>280771130550bc8b041e8b1064781409</ns1:guid><ns1:name>6</ns1:name><ns1:status>DRAFT</ns1:status><ns1:delIndex>1</ns1:delIndex><ns1:processId>98360219855094de74c2f21070070181</ns1:processId></ns1:cases><ns1:cases><ns1:guid>698434432550961d7193016021833262</ns1:guid><ns1:name>2</ns1:name><ns1:status>DRAFT</ns1:status><ns1:delIndex>1</ns1:delIndex><ns1:processId>98360219855094de74c2f21070070181</ns1:processId></ns1:cases><ns1:cases><ns1:guid>36064186555095f2b156d68001769491</ns1:guid><ns1:name>1</ns1:name><ns1:status>DRAFT</ns1:status><ns1:delIndex>1</ns1:delIndex><ns1:processId>98360219855094de74c2f21070070181</ns1:processId></ns1:cases></ns1:caseListResponse></SOAP-ENV:Body></SOAP-ENV:Envelope>\n",
        "\n"
       ]
      },
      {
       "output_type": "stream",
       "stream": "stdout",
       "text": [
        "{:guid=>\"2128484415512af7b211c04035293601\", :name=>\"76\", :status=>\"DRAFT\", :del_index=>\"1\", :process_id=>\"98360219855094de74c2f21070070181\"}"
       ]
      },
      {
       "output_type": "stream",
       "stream": "stdout",
       "text": [
        "\n"
       ]
      },
      {
       "metadata": {},
       "output_type": "pyout",
       "prompt_number": 45,
       "text": [
        "{:guid=>\"2128484415512af7b211c04035293601\", :name=>\"76\", :status=>\"DRAFT\", :del_index=>\"1\", :process_id=>\"98360219855094de74c2f21070070181\"}"
       ]
      }
     ],
     "prompt_number": 45
    },
    {
     "cell_type": "heading",
     "level": 1,
     "metadata": {},
     "source": [
      "Task assignment:"
     ]
    },
    {
     "cell_type": "code",
     "collapsed": false,
     "input": [
      "Processmaker.unassigned_case_list()"
     ],
     "language": "python",
     "metadata": {},
     "outputs": [
      {
       "output_type": "stream",
       "stream": "stdout",
       "text": [
        "I, [2015-03-25T14:54:40.245415 #53476]  INFO -- : SOAP request: http://si-dev01.si.is.co.za/sysworkflow/en/classic/services/soap2\n"
       ]
      },
      {
       "output_type": "stream",
       "stream": "stdout",
       "text": [
        "I, [2015-03-25T14:54:40.245563 #53476]  INFO -- : SOAPAction: \"urn:unassignedCaseList\", Content-Type: text/xml;charset=UTF-8, Content-Length: 407\n"
       ]
      },
      {
       "output_type": "stream",
       "stream": "stdout",
       "text": [
        "D, [2015-03-25T14:54:40.245665 #53476] DEBUG -- : <?xml version=\"1.0\" encoding=\"UTF-8\"?><env:Envelope xmlns:xsd=\"http://www.w3.org/2001/XMLSchema\" xmlns:xsi=\"http://www.w3.org/2001/XMLSchema-instance\" xmlns:xs0=\"http://www.processmaker.com\" xmlns:env=\"http://schemas.xmlsoap.org/soap/envelope/\"><env:Body><xs0:unassignedCaseListRequest><xs0:sessionId>9138663015512af7ad31d84028511186</xs0:sessionId></xs0:unassignedCaseListRequest></env:Body></env:Envelope>\n"
       ]
      },
      {
       "output_type": "stream",
       "stream": "stdout",
       "text": [
        "D, [2015-03-25T14:54:40.245848 #53476] DEBUG -- : HTTPI POST request to si-dev01.si.is.co.za (net_http)\n"
       ]
      },
      {
       "output_type": "stream",
       "stream": "stdout",
       "text": [
        "I, [2015-03-25T14:54:40.302788 #53476]  INFO -- : SOAP response (status 200)\n"
       ]
      },
      {
       "output_type": "stream",
       "stream": "stdout",
       "text": [
        "D, [2015-03-25T14:54:40.303089 #53476] DEBUG -- : <?xml version=\"1.0\" encoding=\"UTF-8\"?>\n",
        "<SOAP-ENV:Envelope xmlns:SOAP-ENV=\"http://schemas.xmlsoap.org/soap/envelope/\" xmlns:ns1=\"http://www.processmaker.com\"><SOAP-ENV:Body><ns1:unassignedCaseListResponse/></SOAP-ENV:Body></SOAP-ENV:Envelope>\n",
        "\n"
       ]
      },
      {
       "ename": "NoMethodError",
       "evalue": "undefined method `[]' for nil:NilClass",
       "output_type": "pyerr",
       "traceback": [
        "\u001b[31mNoMethodError\u001b[0m: undefined method `[]' for nil:NilClass",
        "\u001b[37m/Users/vmpj/.rbenv/versions/2.2.0/lib/ruby/gems/2.2.0/bundler/gems/processmaker_gem-e9cd620c0a26/lib/processmaker.rb:186:in `unassigned_case_list'\u001b[0m",
        "\u001b[37m(pry):166:in `<main>'\u001b[0m",
        "\u001b[37m/Users/vmpj/.rbenv/versions/2.2.0/lib/ruby/gems/2.2.0/gems/pry-0.10.1/lib/pry/pry_instance.rb:355:in `eval'\u001b[0m",
        "\u001b[37m/Users/vmpj/.rbenv/versions/2.2.0/lib/ruby/gems/2.2.0/gems/pry-0.10.1/lib/pry/pry_instance.rb:355:in `evaluate_ruby'\u001b[0m",
        "\u001b[37m/Users/vmpj/.rbenv/versions/2.2.0/lib/ruby/gems/2.2.0/gems/pry-0.10.1/lib/pry/pry_instance.rb:323:in `handle_line'\u001b[0m",
        "\u001b[37m/Users/vmpj/.rbenv/versions/2.2.0/lib/ruby/gems/2.2.0/gems/pry-0.10.1/lib/pry/pry_instance.rb:243:in `block (2 levels) in eval'\u001b[0m",
        "\u001b[37m/Users/vmpj/.rbenv/versions/2.2.0/lib/ruby/gems/2.2.0/gems/pry-0.10.1/lib/pry/pry_instance.rb:242:in `catch'\u001b[0m",
        "\u001b[37m/Users/vmpj/.rbenv/versions/2.2.0/lib/ruby/gems/2.2.0/gems/pry-0.10.1/lib/pry/pry_instance.rb:242:in `block in eval'\u001b[0m",
        "\u001b[37m/Users/vmpj/.rbenv/versions/2.2.0/lib/ruby/gems/2.2.0/gems/pry-0.10.1/lib/pry/pry_instance.rb:241:in `catch'\u001b[0m",
        "\u001b[37m/Users/vmpj/.rbenv/versions/2.2.0/lib/ruby/gems/2.2.0/gems/pry-0.10.1/lib/pry/pry_instance.rb:241:in `eval'\u001b[0m",
        "\u001b[37m/Users/vmpj/.rbenv/versions/2.2.0/lib/ruby/gems/2.2.0/gems/iruby-0.1.13/lib/iruby/backend.rb:28:in `eval'\u001b[0m",
        "\u001b[37m/Users/vmpj/.rbenv/versions/2.2.0/lib/ruby/gems/2.2.0/gems/iruby-0.1.13/lib/iruby/kernel.rb:110:in `execute_request'\u001b[0m",
        "\u001b[37m/Users/vmpj/.rbenv/versions/2.2.0/lib/ruby/gems/2.2.0/gems/iruby-0.1.13/lib/iruby/kernel.rb:62:in `run'\u001b[0m",
        "\u001b[37m/Users/vmpj/.rbenv/versions/2.2.0/lib/ruby/gems/2.2.0/gems/iruby-0.1.13/lib/iruby/command.rb:30:in `run_kernel'\u001b[0m",
        "\u001b[37m/Users/vmpj/.rbenv/versions/2.2.0/lib/ruby/gems/2.2.0/gems/iruby-0.1.13/lib/iruby/command.rb:16:in `run'\u001b[0m",
        "\u001b[37m/Users/vmpj/.rbenv/versions/2.2.0/lib/ruby/gems/2.2.0/gems/iruby-0.1.13/bin/iruby:6:in `<top (required)>'\u001b[0m",
        "\u001b[37m/Users/vmpj/.rbenv/versions/2.2.0/bin/iruby:23:in `load'\u001b[0m",
        "\u001b[37m/Users/vmpj/.rbenv/versions/2.2.0/bin/iruby:23:in `<main>'\u001b[0m"
       ]
      }
     ],
     "prompt_number": 46
    },
    {
     "cell_type": "code",
     "collapsed": false,
     "input": [
      "Processmaker.case_list()"
     ],
     "language": "python",
     "metadata": {},
     "outputs": [
      {
       "output_type": "stream",
       "stream": "stdout",
       "text": [
        "I, [2015-03-25T14:54:40.313766 #53476]  INFO -- : SOAP request: http://si-dev01.si.is.co.za/sysworkflow/en/classic/services/soap2\n"
       ]
      },
      {
       "output_type": "stream",
       "stream": "stdout",
       "text": [
        "I, [2015-03-25T14:54:40.313994 #53476]  INFO -- : SOAPAction: \"urn:caseList\", Content-Type: text/xml;charset=UTF-8, Content-Length: 387\n"
       ]
      },
      {
       "output_type": "stream",
       "stream": "stdout",
       "text": [
        "D, [2015-03-25T14:54:40.314112 #53476] DEBUG -- : <?xml version=\"1.0\" encoding=\"UTF-8\"?><env:Envelope xmlns:xsd=\"http://www.w3.org/2001/XMLSchema\" xmlns:xsi=\"http://www.w3.org/2001/XMLSchema-instance\" xmlns:xs0=\"http://www.processmaker.com\" xmlns:env=\"http://schemas.xmlsoap.org/soap/envelope/\"><env:Body><xs0:caseListRequest><xs0:sessionId>9138663015512af7ad31d84028511186</xs0:sessionId></xs0:caseListRequest></env:Body></env:Envelope>\n"
       ]
      },
      {
       "output_type": "stream",
       "stream": "stdout",
       "text": [
        "D, [2015-03-25T14:54:40.314355 #53476] DEBUG -- : HTTPI POST request to si-dev01.si.is.co.za (net_http)\n"
       ]
      },
      {
       "output_type": "stream",
       "stream": "stdout",
       "text": [
        "I, [2015-03-25T14:54:40.369285 #53476]  INFO -- : SOAP response (status 200)\n"
       ]
      },
      {
       "output_type": "stream",
       "stream": "stdout",
       "text": [
        "D, [2015-03-25T14:54:40.369568 #53476] DEBUG -- : <?xml version=\"1.0\" encoding=\"UTF-8\"?>\n",
        "<SOAP-ENV:Envelope xmlns:SOAP-ENV=\"http://schemas.xmlsoap.org/soap/envelope/\" xmlns:ns1=\"http://www.processmaker.com\"><SOAP-ENV:Body><ns1:caseListResponse><ns1:cases><ns1:guid>2128484415512af7b211c04035293601</ns1:guid><ns1:name>76</ns1:name><ns1:status>DRAFT</ns1:status><ns1:delIndex>1</ns1:delIndex><ns1:processId>98360219855094de74c2f21070070181</ns1:processId></ns1:cases><ns1:cases><ns1:guid>8937092965510fa46ca8aa7005221383</ns1:guid><ns1:name>48</ns1:name><ns1:status>TO_DO</ns1:status><ns1:delIndex>1</ns1:delIndex><ns1:processId>98360219855094de74c2f21070070181</ns1:processId></ns1:cases><ns1:cases><ns1:guid>208736094550ffe8dd99a34092516883</ns1:guid><ns1:name>46</ns1:name><ns1:status>TO_DO</ns1:status><ns1:delIndex>2</ns1:delIndex><ns1:processId>98360219855094de74c2f21070070181</ns1:processId></ns1:cases><ns1:cases><ns1:guid>678847726550fdbfdc9ffc3022477505</ns1:guid><ns1:name>43</ns1:name><ns1:status>TO_DO</ns1:status><ns1:delIndex>2</ns1:delIndex><ns1:processId>98360219855094de74c2f21070070181</ns1:processId></ns1:cases><ns1:cases><ns1:guid>548401022550fd84bad0a16098554696</ns1:guid><ns1:name>42</ns1:name><ns1:status>DRAFT</ns1:status><ns1:delIndex>1</ns1:delIndex><ns1:processId>98360219855094de74c2f21070070181</ns1:processId></ns1:cases><ns1:cases><ns1:guid>284343996550fd7a43ed643061321588</ns1:guid><ns1:name>41</ns1:name><ns1:status>DRAFT</ns1:status><ns1:delIndex>1</ns1:delIndex><ns1:processId>98360219855094de74c2f21070070181</ns1:processId></ns1:cases><ns1:cases><ns1:guid>525755352550fd1f17344d8094834463</ns1:guid><ns1:name>39</ns1:name><ns1:status>DRAFT</ns1:status><ns1:delIndex>1</ns1:delIndex><ns1:processId>98360219855094de74c2f21070070181</ns1:processId></ns1:cases><ns1:cases><ns1:guid>494940551550fd17053d2e9034950701</ns1:guid><ns1:name>38</ns1:name><ns1:status>TO_DO</ns1:status><ns1:delIndex>2</ns1:delIndex><ns1:processId>98360219855094de74c2f21070070181</ns1:processId></ns1:cases><ns1:cases><ns1:guid>213768646550fc96f6d6e80008950422</ns1:guid><ns1:name>36</ns1:name><ns1:status>DRAFT</ns1:status><ns1:delIndex>1</ns1:delIndex><ns1:processId>98360219855094de74c2f21070070181</ns1:processId></ns1:cases><ns1:cases><ns1:guid>436908469550fc4c66f40c3083427211</ns1:guid><ns1:name>33</ns1:name><ns1:status>DRAFT</ns1:status><ns1:delIndex>1</ns1:delIndex><ns1:processId>98360219855094de74c2f21070070181</ns1:processId></ns1:cases><ns1:cases><ns1:guid>482570782550c0e1aba7282040998919</ns1:guid><ns1:name>32</ns1:name><ns1:status>DRAFT</ns1:status><ns1:delIndex>1</ns1:delIndex><ns1:processId>98360219855094de74c2f21070070181</ns1:processId></ns1:cases><ns1:cases><ns1:guid>397797619550c0d2a668ec6036219903</ns1:guid><ns1:name>31</ns1:name><ns1:status>DRAFT</ns1:status><ns1:delIndex>1</ns1:delIndex><ns1:processId>98360219855094de74c2f21070070181</ns1:processId></ns1:cases><ns1:cases><ns1:guid>955800922550c0c9ae74e73018918870</ns1:guid><ns1:name>30</ns1:name><ns1:status>DRAFT</ns1:status><ns1:delIndex>1</ns1:delIndex><ns1:processId>98360219855094de74c2f21070070181</ns1:processId></ns1:cases><ns1:cases><ns1:guid>596922600550c088659ed48020162010</ns1:guid><ns1:name>29</ns1:name><ns1:status>DRAFT</ns1:status><ns1:delIndex>1</ns1:delIndex><ns1:processId>98360219855094de74c2f21070070181</ns1:processId></ns1:cases><ns1:cases><ns1:guid>237318296550c06965507d9012281898</ns1:guid><ns1:name>28</ns1:name><ns1:status>DRAFT</ns1:status><ns1:delIndex>1</ns1:delIndex><ns1:processId>98360219855094de74c2f21070070181</ns1:processId></ns1:cases><ns1:cases><ns1:guid>283573070550c026a3e20a2091712011</ns1:guid><ns1:name>27</ns1:name><ns1:status>DRAFT</ns1:status><ns1:delIndex>1</ns1:delIndex><ns1:processId>98360219855094de74c2f21070070181</ns1:processId></ns1:cases><ns1:cases><ns1:guid>632088501550bfd17570718091586381</ns1:guid><ns1:name>26</ns1:name><ns1:status>DRAFT</ns1:status><ns1:delIndex>1</ns1:delIndex><ns1:processId>98360219855094de74c2f21070070181</ns1:processId></ns1:cases><ns1:cases><ns1:guid>243234010550bf8c06f38d6046692822</ns1:guid><ns1:name>25</ns1:name><ns1:status>DRAFT</ns1:status><ns1:delIndex>1</ns1:delIndex><ns1:processId>98360219855094de74c2f21070070181</ns1:processId></ns1:cases><ns1:cases><ns1:guid>848711255550bedde81bfb4014443274</ns1:guid><ns1:name>24</ns1:name><ns1:status>DRAFT</ns1:status><ns1:delIndex>1</ns1:delIndex><ns1:processId>98360219855094de74c2f21070070181</ns1:processId></ns1:cases><ns1:cases><ns1:guid>804962189550bea75927e84027754692</ns1:guid><ns1:name>23</ns1:name><ns1:status>DRAFT</ns1:status><ns1:delIndex>1</ns1:delIndex><ns1:processId>98360219855094de74c2f21070070181</ns1:processId></ns1:cases><ns1:cases><ns1:guid>234223518550be8d33f8038000213657</ns1:guid><ns1:name>22</ns1:name><ns1:status>DRAFT</ns1:status><ns1:delIndex>1</ns1:delIndex><ns1:processId>98360219855094de74c2f21070070181</ns1:processId></ns1:cases><ns1:cases><ns1:guid>362910318550be6afdb7fb3098878611</ns1:guid><ns1:name>21</ns1:name><ns1:status>DRAFT</ns1:status><ns1:delIndex>1</ns1:delIndex><ns1:processId>98360219855094de74c2f21070070181</ns1:processId></ns1:cases><ns1:cases><ns1:guid>400788985550be6257681a1046956741</ns1:guid><ns1:name>20</ns1:name><ns1:status>DRAFT</ns1:status><ns1:delIndex>1</ns1:delIndex><ns1:processId>98360219855094de74c2f21070070181</ns1:processId></ns1:cases><ns1:cases><ns1:guid>141401808550be09dbc4360000959865</ns1:guid><ns1:name>19</ns1:name><ns1:status>DRAFT</ns1:status><ns1:delIndex>1</ns1:delIndex><ns1:processId>98360219855094de74c2f21070070181</ns1:processId></ns1:cases><ns1:cases><ns1:guid>761090587550bde1d1acf46078070193</ns1:guid><ns1:name>18</ns1:name><ns1:status>DRAFT</ns1:status><ns1:delIndex>1</ns1:delIndex><ns1:processId>98360219855094de74c2f21070070181</ns1:processId></ns1:cases><ns1:cases><ns1:guid>184078385550bdcbb100343050558793</ns1:guid><ns1:name>17</ns1:name><ns1:status>DRAFT</ns1:status><ns1:delIndex>1</ns1:delIndex><ns1:processId>98360219855094de74c2f21070070181</ns1:processId></ns1:cases><ns1:cases><ns1:guid>274821792550bd02d9140a4006137622</ns1:guid><ns1:name>16</ns1:name><ns1:status>DRAFT</ns1:status><ns1:delIndex>1</ns1:delIndex><ns1:processId>98360219855094de74c2f21070070181</ns1:processId></ns1:cases><ns1:cases><ns1:guid>388651703550bcfedd04a01034849952</ns1:guid><ns1:name>15</ns1:name><ns1:status>DRAFT</ns1:status><ns1:delIndex>1</ns1:delIndex><ns1:processId>98360219855094de74c2f21070070181</ns1:processId></ns1:cases><ns1:cases><ns1:guid>932965532550bcfcc5f17f1033422526</ns1:guid><ns1:name>14</ns1:name><ns1:status>DRAFT</ns1:status><ns1:delIndex>1</ns1:delIndex><ns1:processId>98360219855094de74c2f21070070181</ns1:processId></ns1:cases><ns1:cases><ns1:guid>792680878550bcfbbd29fe7062507921</ns1:guid><ns1:name>13</ns1:name><ns1:status>DRAFT</ns1:status><ns1:delIndex>1</ns1:delIndex><ns1:processId>98360219855094de74c2f21070070181</ns1:processId></ns1:cases><ns1:cases><ns1:guid>132979844550bcd20e35241046981854</ns1:guid><ns1:name>12</ns1:name><ns1:status>DRAFT</ns1:status><ns1:delIndex>1</ns1:delIndex><ns1:processId>98360219855094de74c2f21070070181</ns1:processId></ns1:cases><ns1:cases><ns1:guid>797851868550bcbec37e6e2042690144</ns1:guid><ns1:name>11</ns1:name><ns1:status>DRAFT</ns1:status><ns1:delIndex>1</ns1:delIndex><ns1:processId>98360219855094de74c2f21070070181</ns1:processId></ns1:cases><ns1:cases><ns1:guid>132775818550bcb92e4b897072112889</ns1:guid><ns1:name>10</ns1:name><ns1:status>DRAFT</ns1:status><ns1:delIndex>1</ns1:delIndex><ns1:processId>98360219855094de74c2f21070070181</ns1:processId></ns1:cases><ns1:cases><ns1:guid>755635250550bcb76656af8063305134</ns1:guid><ns1:name>9</ns1:name><ns1:status>DRAFT</ns1:status><ns1:delIndex>1</ns1:delIndex><ns1:processId>98360219855094de74c2f21070070181</ns1:processId></ns1:cases><ns1:cases><ns1:guid>207506336550bc8cde88145054158821</ns1:guid><ns1:name>8</ns1:name><ns1:status>DRAFT</ns1:status><ns1:delIndex>1</ns1:delIndex><ns1:processId>98360219855094de74c2f21070070181</ns1:processId></ns1:cases><ns1:cases><ns1:guid>177046091550bc8b76d06f2065623366</ns1:guid><ns1:name>7</ns1:name><ns1:status>DRAFT</ns1:status><ns1:delIndex>1</ns1:delIndex><ns1:processId>98360219855094de74c2f21070070181</ns1:processId></ns1:cases><ns1:cases><ns1:guid>280771130550bc8b041e8b1064781409</ns1:guid><ns1:name>6</ns1:name><ns1:status>DRAFT</ns1:status><ns1:delIndex>1</ns1:delIndex><ns1:processId>98360219855094de74c2f21070070181</ns1:processId></ns1:cases><ns1:cases><ns1:guid>698434432550961d7193016021833262</ns1:guid><ns1:name>2</ns1:name><ns1:status>DRAFT</ns1:status><ns1:delIndex>1</ns1:delIndex><ns1:processId>98360219855094de74c2f21070070181</ns1:processId></ns1:cases><ns1:cases><ns1:guid>36064186555095f2b156d68001769491</ns1:guid><ns1:name>1</ns1:name><ns1:status>DRAFT</ns1:status><ns1:delIndex>1</ns1:delIndex><ns1:processId>98360219855094de74c2f21070070181</ns1:processId></ns1:cases></ns1:caseListResponse></SOAP-ENV:Body></SOAP-ENV:Envelope>\n",
        "\n"
       ]
      },
      {
       "metadata": {},
       "output_type": "pyout",
       "prompt_number": 47,
       "text": [
        "[{:guid=>\"2128484415512af7b211c04035293601\", :name=>\"76\", :status=>\"DRAFT\", :del_index=>\"1\", :process_id=>\"98360219855094de74c2f21070070181\"}, {:guid=>\"8937092965510fa46ca8aa7005221383\", :name=>\"48\", :status=>\"TO_DO\", :del_index=>\"1\", :process_id=>\"98360219855094de74c2f21070070181\"}, {:guid=>\"208736094550ffe8dd99a34092516883\", :name=>\"46\", :status=>\"TO_DO\", :del_index=>\"2\", :process_id=>\"98360219855094de74c2f21070070181\"}, {:guid=>\"678847726550fdbfdc9ffc3022477505\", :name=>\"43\", :status=>\"TO_DO\", :del_index=>\"2\", :process_id=>\"98360219855094de74c2f21070070181\"}, {:guid=>\"548401022550fd84bad0a16098554696\", :name=>\"42\", :status=>\"DRAFT\", :del_index=>\"1\", :process_id=>\"98360219855094de74c2f21070070181\"}, {:guid=>\"284343996550fd7a43ed643061321588\", :name=>\"41\", :status=>\"DRAFT\", :del_index=>\"1\", :process_id=>\"98360219855094de74c2f21070070181\"}, {:guid=>\"525755352550fd1f17344d8094834463\", :name=>\"39\", :status=>\"DRAFT\", :del_index=>\"1\", :process_id=>\"98360219855094de74c2f21070070181\"}, {:guid=>\"494940551550fd17053d2e9034950701\", :name=>\"38\", :status=>\"TO_DO\", :del_index=>\"2\", :process_id=>\"98360219855094de74c2f21070070181\"}, {:guid=>\"213768646550fc96f6d6e80008950422\", :name=>\"36\", :status=>\"DRAFT\", :del_index=>\"1\", :process_id=>\"98360219855094de74c2f21070070181\"}, {:guid=>\"436908469550fc4c66f40c3083427211\", :name=>\"33\", :status=>\"DRAFT\", :del_index=>\"1\", :process_id=>\"98360219855094de74c2f21070070181\"}, {:guid=>\"482570782550c0e1aba7282040998919\", :name=>\"32\", :status=>\"DRAFT\", :del_index=>\"1\", :process_id=>\"98360219855094de74c2f21070070181\"}, {:guid=>\"397797619550c0d2a668ec6036219903\", :name=>\"31\", :status=>\"DRAFT\", :del_index=>\"1\", :process_id=>\"98360219855094de74c2f21070070181\"}, {:guid=>\"955800922550c0c9ae74e73018918870\", :name=>\"30\", :status=>\"DRAFT\", :del_index=>\"1\", :process_id=>\"98360219855094de74c2f21070070181\"}, {:guid=>\"596922600550c088659ed48020162010\", :name=>\"29\", :status=>\"DRAFT\", :del_index=>\"1\", :process_id=>\"98360219855094de74c2f21070070181\"}, {:guid=>\"237318296550c06965507d9012281898\", :name=>\"28\", :status=>\"DRAFT\", :del_index=>\"1\", :process_id=>\"98360219855094de74c2f21070070181\"}, {:guid=>\"283573070550c026a3e20a2091712011\", :name=>\"27\", :status=>\"DRAFT\", :del_index=>\"1\", :process_id=>\"98360219855094de74c2f21070070181\"}, {:guid=>\"632088501550bfd17570718091586381\", :name=>\"26\", :status=>\"DRAFT\", :del_index=>\"1\", :process_id=>\"98360219855094de74c2f21070070181\"}, {:guid=>\"243234010550bf8c06f38d6046692822\", :name=>\"25\", :status=>\"DRAFT\", :del_index=>\"1\", :process_id=>\"98360219855094de74c2f21070070181\"}, {:guid=>\"848711255550bedde81bfb4014443274\", :name=>\"24\", :status=>\"DRAFT\", :del_index=>\"1\", :process_id=>\"98360219855094de74c2f21070070181\"}, {:guid=>\"804962189550bea75927e84027754692\", :name=>\"23\", :status=>\"DRAFT\", :del_index=>\"1\", :process_id=>\"98360219855094de74c2f21070070181\"}, {:guid=>\"234223518550be8d33f8038000213657\", :name=>\"22\", :status=>\"DRAFT\", :del_index=>\"1\", :process_id=>\"98360219855094de74c2f21070070181\"}, {:guid=>\"362910318550be6afdb7fb3098878611\", :name=>\"21\", :status=>\"DRAFT\", :del_index=>\"1\", :process_id=>\"98360219855094de74c2f21070070181\"}, {:guid=>\"400788985550be6257681a1046956741\", :name=>\"20\", :status=>\"DRAFT\", :del_index=>\"1\", :process_id=>\"98360219855094de74c2f21070070181\"}, {:guid=>\"141401808550be09dbc4360000959865\", :name=>\"19\", :status=>\"DRAFT\", :del_index=>\"1\", :process_id=>\"98360219855094de74c2f21070070181\"}, {:guid=>\"761090587550bde1d1acf46078070193\", :name=>\"18\", :status=>\"DRAFT\", :del_index=>\"1\", :process_id=>\"98360219855094de74c2f21070070181\"}, {:guid=>\"184078385550bdcbb100343050558793\", :name=>\"17\", :status=>\"DRAFT\", :del_index=>\"1\", :process_id=>\"98360219855094de74c2f21070070181\"}, {:guid=>\"274821792550bd02d9140a4006137622\", :name=>\"16\", :status=>\"DRAFT\", :del_index=>\"1\", :process_id=>\"98360219855094de74c2f21070070181\"}, {:guid=>\"388651703550bcfedd04a01034849952\", :name=>\"15\", :status=>\"DRAFT\", :del_index=>\"1\", :process_id=>\"98360219855094de74c2f21070070181\"}, {:guid=>\"932965532550bcfcc5f17f1033422526\", :name=>\"14\", :status=>\"DRAFT\", :del_index=>\"1\", :process_id=>\"98360219855094de74c2f21070070181\"}, {:guid=>\"792680878550bcfbbd29fe7062507921\", :name=>\"13\", :status=>\"DRAFT\", :del_index=>\"1\", :process_id=>\"98360219855094de74c2f21070070181\"}, {:guid=>\"132979844550bcd20e35241046981854\", :name=>\"12\", :status=>\"DRAFT\", :del_index=>\"1\", :process_id=>\"98360219855094de74c2f21070070181\"}, {:guid=>\"797851868550bcbec37e6e2042690144\", :name=>\"11\", :status=>\"DRAFT\", :del_index=>\"1\", :process_id=>\"98360219855094de74c2f21070070181\"}, {:guid=>\"132775818550bcb92e4b897072112889\", :name=>\"10\", :status=>\"DRAFT\", :del_index=>\"1\", :process_id=>\"98360219855094de74c2f21070070181\"}, {:guid=>\"755635250550bcb76656af8063305134\", :name=>\"9\", :status=>\"DRAFT\", :del_index=>\"1\", :process_id=>\"98360219855094de74c2f21070070181\"}, {:guid=>\"207506336550bc8cde88145054158821\", :name=>\"8\", :status=>\"DRAFT\", :del_index=>\"1\", :process_id=>\"98360219855094de74c2f21070070181\"}, {:guid=>\"177046091550bc8b76d06f2065623366\", :name=>\"7\", :status=>\"DRAFT\", :del_index=>\"1\", :process_id=>\"98360219855094de74c2f21070070181\"}, {:guid=>\"280771130550bc8b041e8b1064781409\", :name=>\"6\", :status=>\"DRAFT\", :del_index=>\"1\", :process_id=>\"98360219855094de74c2f21070070181\"}, {:guid=>\"698434432550961d7193016021833262\", :name=>\"2\", :status=>\"DRAFT\", :del_index=>\"1\", :process_id=>\"98360219855094de74c2f21070070181\"}, {:guid=>\"36064186555095f2b156d68001769491\", :name=>\"1\", :status=>\"DRAFT\", :del_index=>\"1\", :process_id=>\"98360219855094de74c2f21070070181\"}]"
       ]
      }
     ],
     "prompt_number": 47
    },
    {
     "cell_type": "heading",
     "level": 1,
     "metadata": {},
     "source": [
      "Route a case (aka move to next task in process)"
     ]
    },
    {
     "cell_type": "code",
     "collapsed": false,
     "input": [
      "result = Processmaker.route_case(case_id: case1[:case_id], del_index: case1_info[:del_index])\n",
      "p result"
     ],
     "language": "python",
     "metadata": {},
     "outputs": [
      {
       "output_type": "stream",
       "stream": "stdout",
       "text": [
        "I, [2015-03-25T14:54:40.386549 #53476]  INFO -- : SOAP request: http://si-dev01.si.is.co.za/sysworkflow/en/classic/services/soap2\n"
       ]
      },
      {
       "output_type": "stream",
       "stream": "stdout",
       "text": [
        "I, [2015-03-25T14:54:40.386686 #53476]  INFO -- : SOAPAction: \"urn:routeCase\", Content-Type: text/xml;charset=UTF-8, Content-Length: 476\n"
       ]
      },
      {
       "output_type": "stream",
       "stream": "stdout",
       "text": [
        "D, [2015-03-25T14:54:40.386791 #53476] DEBUG -- : <?xml version=\"1.0\" encoding=\"UTF-8\"?><env:Envelope xmlns:xsd=\"http://www.w3.org/2001/XMLSchema\" xmlns:xsi=\"http://www.w3.org/2001/XMLSchema-instance\" xmlns:xs0=\"http://www.processmaker.com\" xmlns:env=\"http://schemas.xmlsoap.org/soap/envelope/\"><env:Body><xs0:routeCaseRequest><xs0:sessionId>9138663015512af7ad31d84028511186</xs0:sessionId><xs0:caseId>2128484415512af7b211c04035293601</xs0:caseId><xs0:delIndex>1</xs0:delIndex></xs0:routeCaseRequest></env:Body></env:Envelope>\n"
       ]
      },
      {
       "output_type": "stream",
       "stream": "stdout",
       "text": [
        "D, [2015-03-25T14:54:40.387005 #53476] DEBUG -- : HTTPI POST request to si-dev01.si.is.co.za (net_http)\n"
       ]
      },
      {
       "output_type": "stream",
       "stream": "stdout",
       "text": [
        "I, [2015-03-25T14:54:40.810996 #53476]  INFO -- : SOAP response (status 200)\n"
       ]
      },
      {
       "output_type": "stream",
       "stream": "stdout",
       "text": [
        "D, [2015-03-25T14:54:40.811610 #53476] DEBUG -- : <?xml version=\"1.0\" encoding=\"UTF-8\"?>\n",
        "<SOAP-ENV:Envelope xmlns:SOAP-ENV=\"http://schemas.xmlsoap.org/soap/envelope/\" xmlns:ns1=\"http://www.processmaker.com\"><SOAP-ENV:Body><ns1:routeCaseResponse><ns1:status_code>0</ns1:status_code><ns1:message>Task 2(irubynotebook) --- 0</ns1:message><ns1:timestamp>2015-03-25 08:52:12</ns1:timestamp><ns1:routing><ns1:userId>46157618755094e812d03c2091230077</ns1:userId><ns1:userName>iruby notebook</ns1:userName><ns1:taskId>182133921550955233965a7049985769</ns1:taskId><ns1:taskName>Task 2</ns1:taskName><ns1:delIndex>2</ns1:delIndex><ns1:delThread>1</ns1:delThread><ns1:delThreadStatus>OPEN</ns1:delThreadStatus></ns1:routing></ns1:routeCaseResponse></SOAP-ENV:Body></SOAP-ENV:Envelope>\n",
        "\n"
       ]
      },
      {
       "output_type": "stream",
       "stream": "stdout",
       "text": [
        "{:status_code=>\"0\", :message=>\"Task 2(irubynotebook) --- 0\", :timestamp=>\"2015-03-25 08:52:12\", :routing=>{:user_id=>\"46157618755094e812d03c2091230077\", :user_name=>\"iruby notebook\", :task_id=>\"182133921550955233965a7049985769\", :task_name=>\"Task 2\", :del_index=>\"2\", :del_thread=>\"1\", :del_thread_status=>\"OPEN\"}}"
       ]
      },
      {
       "output_type": "stream",
       "stream": "stdout",
       "text": [
        "\n"
       ]
      },
      {
       "metadata": {},
       "output_type": "pyout",
       "prompt_number": 48,
       "text": [
        "{:status_code=>\"0\", :message=>\"Task 2(irubynotebook) --- 0\", :timestamp=>\"2015-03-25 08:52:12\", :routing=>{:user_id=>\"46157618755094e812d03c2091230077\", :user_name=>\"iruby notebook\", :task_id=>\"182133921550955233965a7049985769\", :task_name=>\"Task 2\", :del_index=>\"2\", :del_thread=>\"1\", :del_thread_status=>\"OPEN\"}}"
       ]
      }
     ],
     "prompt_number": 48
    },
    {
     "cell_type": "code",
     "collapsed": false,
     "input": [
      "current_task = Processmaker.task_case(case_id: case1[:case_id])\n",
      "p current_task"
     ],
     "language": "python",
     "metadata": {},
     "outputs": [
      {
       "output_type": "stream",
       "stream": "stdout",
       "text": [
        "I, [2015-03-25T14:54:40.821233 #53476]  INFO -- : SOAP request: http://si-dev01.si.is.co.za/sysworkflow/en/classic/services/soap2\n"
       ]
      },
      {
       "output_type": "stream",
       "stream": "stdout",
       "text": [
        "I, [2015-03-25T14:54:40.821439 #53476]  INFO -- : SOAPAction: \"urn:taskCase\", Content-Type: text/xml;charset=UTF-8, Content-Length: 444\n"
       ]
      },
      {
       "output_type": "stream",
       "stream": "stdout",
       "text": [
        "D, [2015-03-25T14:54:40.821574 #53476] DEBUG -- : <?xml version=\"1.0\" encoding=\"UTF-8\"?><env:Envelope xmlns:xsd=\"http://www.w3.org/2001/XMLSchema\" xmlns:xsi=\"http://www.w3.org/2001/XMLSchema-instance\" xmlns:xs0=\"http://www.processmaker.com\" xmlns:env=\"http://schemas.xmlsoap.org/soap/envelope/\"><env:Body><xs0:taskCaseRequest><xs0:sessionId>9138663015512af7ad31d84028511186</xs0:sessionId><xs0:caseId>2128484415512af7b211c04035293601</xs0:caseId></xs0:taskCaseRequest></env:Body></env:Envelope>\n"
       ]
      },
      {
       "output_type": "stream",
       "stream": "stdout",
       "text": [
        "D, [2015-03-25T14:54:40.821831 #53476] DEBUG -- : HTTPI POST request to si-dev01.si.is.co.za (net_http)\n"
       ]
      },
      {
       "output_type": "stream",
       "stream": "stdout",
       "text": [
        "I, [2015-03-25T14:54:40.870541 #53476]  INFO -- : SOAP response (status 200)\n"
       ]
      },
      {
       "output_type": "stream",
       "stream": "stdout",
       "text": [
        "D, [2015-03-25T14:54:40.870840 #53476] DEBUG -- : <?xml version=\"1.0\" encoding=\"UTF-8\"?>\n",
        "<SOAP-ENV:Envelope xmlns:SOAP-ENV=\"http://schemas.xmlsoap.org/soap/envelope/\" xmlns:ns1=\"http://www.processmaker.com\"><SOAP-ENV:Body><ns1:taskCaseResponse><ns1:taskCases><ns1:guid>182133921550955233965a7049985769</ns1:guid><ns1:name>Task 2</ns1:name><ns1:delegate>2</ns1:delegate></ns1:taskCases></ns1:taskCaseResponse></SOAP-ENV:Body></SOAP-ENV:Envelope>\n",
        "\n"
       ]
      },
      {
       "output_type": "stream",
       "stream": "stdout",
       "text": [
        "{:guid=>\"182133921550955233965a7049985769\", :name=>\"Task 2\", :delegate=>\"2\"}"
       ]
      },
      {
       "output_type": "stream",
       "stream": "stdout",
       "text": [
        "\n"
       ]
      },
      {
       "metadata": {},
       "output_type": "pyout",
       "prompt_number": 49,
       "text": [
        "{:guid=>\"182133921550955233965a7049985769\", :name=>\"Task 2\", :delegate=>\"2\"}"
       ]
      }
     ],
     "prompt_number": 49
    },
    {
     "cell_type": "code",
     "collapsed": false,
     "input": [
      "result = Processmaker.route_case(case_id: case1[:case_id], del_index: current_task[:delegate])\n",
      "p result"
     ],
     "language": "python",
     "metadata": {},
     "outputs": [
      {
       "output_type": "stream",
       "stream": "stdout",
       "text": [
        "I, [2015-03-25T14:54:40.881781 #53476]  INFO -- : SOAP request: http://si-dev01.si.is.co.za/sysworkflow/en/classic/services/soap2\n"
       ]
      },
      {
       "output_type": "stream",
       "stream": "stdout",
       "text": [
        "I, [2015-03-25T14:54:40.881927 #53476]  INFO -- : SOAPAction: \"urn:routeCase\", Content-Type: text/xml;charset=UTF-8, Content-Length: 476\n"
       ]
      },
      {
       "output_type": "stream",
       "stream": "stdout",
       "text": [
        "D, [2015-03-25T14:54:40.882036 #53476] DEBUG -- : <?xml version=\"1.0\" encoding=\"UTF-8\"?><env:Envelope xmlns:xsd=\"http://www.w3.org/2001/XMLSchema\" xmlns:xsi=\"http://www.w3.org/2001/XMLSchema-instance\" xmlns:xs0=\"http://www.processmaker.com\" xmlns:env=\"http://schemas.xmlsoap.org/soap/envelope/\"><env:Body><xs0:routeCaseRequest><xs0:sessionId>9138663015512af7ad31d84028511186</xs0:sessionId><xs0:caseId>2128484415512af7b211c04035293601</xs0:caseId><xs0:delIndex>2</xs0:delIndex></xs0:routeCaseRequest></env:Body></env:Envelope>\n"
       ]
      },
      {
       "output_type": "stream",
       "stream": "stdout",
       "text": [
        "D, [2015-03-25T14:54:40.882222 #53476] DEBUG -- : HTTPI POST request to si-dev01.si.is.co.za (net_http)\n"
       ]
      },
      {
       "output_type": "stream",
       "stream": "stdout",
       "text": [
        "I, [2015-03-25T14:54:41.092296 #53476]  INFO -- : SOAP response (status 200)\n"
       ]
      },
      {
       "output_type": "stream",
       "stream": "stdout",
       "text": [
        "D, [2015-03-25T14:54:41.092655 #53476] DEBUG -- : <?xml version=\"1.0\" encoding=\"UTF-8\"?>\n",
        "<SOAP-ENV:Envelope xmlns:SOAP-ENV=\"http://schemas.xmlsoap.org/soap/envelope/\" xmlns:ns1=\"http://www.processmaker.com\"><SOAP-ENV:Body><ns1:routeCaseResponse><ns1:status_code>0</ns1:status_code><ns1:message>End of process() --- 0</ns1:message><ns1:timestamp>2015-03-25 08:52:12</ns1:timestamp></ns1:routeCaseResponse></SOAP-ENV:Body></SOAP-ENV:Envelope>\n",
        "\n"
       ]
      },
      {
       "output_type": "stream",
       "stream": "stdout",
       "text": [
        "{:status_code=>\"0\", :message=>\"End of process() --- 0\", :timestamp=>\"2015-03-25 08:52:12\"}"
       ]
      },
      {
       "output_type": "stream",
       "stream": "stdout",
       "text": [
        "\n"
       ]
      },
      {
       "metadata": {},
       "output_type": "pyout",
       "prompt_number": 50,
       "text": [
        "{:status_code=>\"0\", :message=>\"End of process() --- 0\", :timestamp=>\"2015-03-25 08:52:12\"}"
       ]
      }
     ],
     "prompt_number": 50
    },
    {
     "cell_type": "code",
     "collapsed": false,
     "input": [
      "case_info = Processmaker.get_case_info(case_id: case1[:case_id])\n",
      "p case_info\n",
      "p case_info[:case_status]"
     ],
     "language": "python",
     "metadata": {},
     "outputs": [
      {
       "output_type": "stream",
       "stream": "stdout",
       "text": [
        "I, [2015-03-25T14:54:41.102895 #53476]  INFO -- : SOAP request: http://si-dev01.si.is.co.za/sysworkflow/en/classic/services/soap2\n"
       ]
      },
      {
       "output_type": "stream",
       "stream": "stdout",
       "text": [
        "I, [2015-03-25T14:54:41.103087 #53476]  INFO -- : SOAPAction: \"urn:getCaseInfo\", Content-Type: text/xml;charset=UTF-8, Content-Length: 480\n"
       ]
      },
      {
       "output_type": "stream",
       "stream": "stdout",
       "text": [
        "D, [2015-03-25T14:54:41.103268 #53476] DEBUG -- : <?xml version=\"1.0\" encoding=\"UTF-8\"?><env:Envelope xmlns:xsd=\"http://www.w3.org/2001/XMLSchema\" xmlns:xsi=\"http://www.w3.org/2001/XMLSchema-instance\" xmlns:xs0=\"http://www.processmaker.com\" xmlns:env=\"http://schemas.xmlsoap.org/soap/envelope/\"><env:Body><xs0:getCaseInfoRequest><xs0:sessionId>9138663015512af7ad31d84028511186</xs0:sessionId><xs0:caseId>2128484415512af7b211c04035293601</xs0:caseId><xs0:delIndex>1</xs0:delIndex></xs0:getCaseInfoRequest></env:Body></env:Envelope>\n"
       ]
      },
      {
       "output_type": "stream",
       "stream": "stdout",
       "text": [
        "D, [2015-03-25T14:54:41.103545 #53476] DEBUG -- : HTTPI POST request to si-dev01.si.is.co.za (net_http)\n"
       ]
      },
      {
       "output_type": "stream",
       "stream": "stdout",
       "text": [
        "I, [2015-03-25T14:54:41.158790 #53476]  INFO -- : SOAP response (status 200)\n"
       ]
      },
      {
       "output_type": "stream",
       "stream": "stdout",
       "text": [
        "D, [2015-03-25T14:54:41.159075 #53476] DEBUG -- : <?xml version=\"1.0\" encoding=\"UTF-8\"?>\n",
        "<SOAP-ENV:Envelope xmlns:SOAP-ENV=\"http://schemas.xmlsoap.org/soap/envelope/\" xmlns:ns1=\"http://www.processmaker.com\"><SOAP-ENV:Body><ns1:getCaseInfoResponse><ns1:status_code>0</ns1:status_code><ns1:message>Command executed successfully</ns1:message><ns1:caseId>2128484415512af7b211c04035293601</ns1:caseId><ns1:caseNumber>76</ns1:caseNumber><ns1:caseName>#76</ns1:caseName><ns1:caseStatus>COMPLETED</ns1:caseStatus><ns1:caseParalell>N</ns1:caseParalell><ns1:caseCreatorUser>46157618755094e812d03c2091230077</ns1:caseCreatorUser><ns1:caseCreatorUserName>iruby notebook</ns1:caseCreatorUserName><ns1:processId>98360219855094de74c2f21070070181</ns1:processId><ns1:processName>IRuby_notebook_demo</ns1:processName><ns1:createDate>2015-03-25 08:52:11</ns1:createDate><ns1:updateDate>2015-03-25 08:52:12</ns1:updateDate></ns1:getCaseInfoResponse></SOAP-ENV:Body></SOAP-ENV:Envelope>\n",
        "\n"
       ]
      },
      {
       "output_type": "stream",
       "stream": "stdout",
       "text": [
        "{:status_code=>\"0\", :message=>\"Command executed successfully\", :case_id=>\"2128484415512af7b211c04035293601\", :case_number=>\"76\", :case_name=>\"#76\", :case_status=>\"COMPLETED\", :case_paralell=>\"N\", :case_creator_user=>\"46157618755094e812d03c2091230077\", :case_creator_user_name=>\"iruby notebook\", :process_id=>\"98360219855094de74c2f21070070181\", :process_name=>\"IRuby_notebook_demo\", :create_date=>\"2015-03-25 08:52:11\", :update_date=>\"2015-03-25 08:52:12\"}"
       ]
      },
      {
       "output_type": "stream",
       "stream": "stdout",
       "text": [
        "\n"
       ]
      },
      {
       "output_type": "stream",
       "stream": "stdout",
       "text": [
        "\"COMPLETED\""
       ]
      },
      {
       "output_type": "stream",
       "stream": "stdout",
       "text": [
        "\n"
       ]
      },
      {
       "metadata": {},
       "output_type": "pyout",
       "prompt_number": 51,
       "text": [
        "\"COMPLETED\""
       ]
      }
     ],
     "prompt_number": 51
    },
    {
     "cell_type": "heading",
     "level": 1,
     "metadata": {},
     "source": [
      "Variables:"
     ]
    },
    {
     "cell_type": "code",
     "collapsed": false,
     "input": [
      "cases = Processmaker.case_list()\n",
      "# p cases\n",
      "case36 = cases.find { |c| c[:name] == '38' } \n",
      "p case36\n",
      "\n"
     ],
     "language": "python",
     "metadata": {},
     "outputs": [
      {
       "output_type": "stream",
       "stream": "stdout",
       "text": [
        "I, [2015-03-25T14:54:41.170397 #53476]  INFO -- : SOAP request: http://si-dev01.si.is.co.za/sysworkflow/en/classic/services/soap2\n"
       ]
      },
      {
       "output_type": "stream",
       "stream": "stdout",
       "text": [
        "I, [2015-03-25T14:54:41.170595 #53476]  INFO -- : SOAPAction: \"urn:caseList\", Content-Type: text/xml;charset=UTF-8, Content-Length: 387\n"
       ]
      },
      {
       "output_type": "stream",
       "stream": "stdout",
       "text": [
        "D, [2015-03-25T14:54:41.170700 #53476] DEBUG -- : <?xml version=\"1.0\" encoding=\"UTF-8\"?><env:Envelope xmlns:xsd=\"http://www.w3.org/2001/XMLSchema\" xmlns:xsi=\"http://www.w3.org/2001/XMLSchema-instance\" xmlns:xs0=\"http://www.processmaker.com\" xmlns:env=\"http://schemas.xmlsoap.org/soap/envelope/\"><env:Body><xs0:caseListRequest><xs0:sessionId>9138663015512af7ad31d84028511186</xs0:sessionId></xs0:caseListRequest></env:Body></env:Envelope>\n"
       ]
      },
      {
       "output_type": "stream",
       "stream": "stdout",
       "text": [
        "D, [2015-03-25T14:54:41.170874 #53476] DEBUG -- : HTTPI POST request to si-dev01.si.is.co.za (net_http)\n"
       ]
      },
      {
       "output_type": "stream",
       "stream": "stdout",
       "text": [
        "I, [2015-03-25T14:54:41.231008 #53476]  INFO -- : SOAP response (status 200)\n"
       ]
      },
      {
       "output_type": "stream",
       "stream": "stdout",
       "text": [
        "D, [2015-03-25T14:54:41.231320 #53476] DEBUG -- : <?xml version=\"1.0\" encoding=\"UTF-8\"?>\n",
        "<SOAP-ENV:Envelope xmlns:SOAP-ENV=\"http://schemas.xmlsoap.org/soap/envelope/\" xmlns:ns1=\"http://www.processmaker.com\"><SOAP-ENV:Body><ns1:caseListResponse><ns1:cases><ns1:guid>8937092965510fa46ca8aa7005221383</ns1:guid><ns1:name>48</ns1:name><ns1:status>TO_DO</ns1:status><ns1:delIndex>1</ns1:delIndex><ns1:processId>98360219855094de74c2f21070070181</ns1:processId></ns1:cases><ns1:cases><ns1:guid>208736094550ffe8dd99a34092516883</ns1:guid><ns1:name>46</ns1:name><ns1:status>TO_DO</ns1:status><ns1:delIndex>2</ns1:delIndex><ns1:processId>98360219855094de74c2f21070070181</ns1:processId></ns1:cases><ns1:cases><ns1:guid>678847726550fdbfdc9ffc3022477505</ns1:guid><ns1:name>43</ns1:name><ns1:status>TO_DO</ns1:status><ns1:delIndex>2</ns1:delIndex><ns1:processId>98360219855094de74c2f21070070181</ns1:processId></ns1:cases><ns1:cases><ns1:guid>548401022550fd84bad0a16098554696</ns1:guid><ns1:name>42</ns1:name><ns1:status>DRAFT</ns1:status><ns1:delIndex>1</ns1:delIndex><ns1:processId>98360219855094de74c2f21070070181</ns1:processId></ns1:cases><ns1:cases><ns1:guid>284343996550fd7a43ed643061321588</ns1:guid><ns1:name>41</ns1:name><ns1:status>DRAFT</ns1:status><ns1:delIndex>1</ns1:delIndex><ns1:processId>98360219855094de74c2f21070070181</ns1:processId></ns1:cases><ns1:cases><ns1:guid>525755352550fd1f17344d8094834463</ns1:guid><ns1:name>39</ns1:name><ns1:status>DRAFT</ns1:status><ns1:delIndex>1</ns1:delIndex><ns1:processId>98360219855094de74c2f21070070181</ns1:processId></ns1:cases><ns1:cases><ns1:guid>494940551550fd17053d2e9034950701</ns1:guid><ns1:name>38</ns1:name><ns1:status>TO_DO</ns1:status><ns1:delIndex>2</ns1:delIndex><ns1:processId>98360219855094de74c2f21070070181</ns1:processId></ns1:cases><ns1:cases><ns1:guid>213768646550fc96f6d6e80008950422</ns1:guid><ns1:name>36</ns1:name><ns1:status>DRAFT</ns1:status><ns1:delIndex>1</ns1:delIndex><ns1:processId>98360219855094de74c2f21070070181</ns1:processId></ns1:cases><ns1:cases><ns1:guid>436908469550fc4c66f40c3083427211</ns1:guid><ns1:name>33</ns1:name><ns1:status>DRAFT</ns1:status><ns1:delIndex>1</ns1:delIndex><ns1:processId>98360219855094de74c2f21070070181</ns1:processId></ns1:cases><ns1:cases><ns1:guid>482570782550c0e1aba7282040998919</ns1:guid><ns1:name>32</ns1:name><ns1:status>DRAFT</ns1:status><ns1:delIndex>1</ns1:delIndex><ns1:processId>98360219855094de74c2f21070070181</ns1:processId></ns1:cases><ns1:cases><ns1:guid>397797619550c0d2a668ec6036219903</ns1:guid><ns1:name>31</ns1:name><ns1:status>DRAFT</ns1:status><ns1:delIndex>1</ns1:delIndex><ns1:processId>98360219855094de74c2f21070070181</ns1:processId></ns1:cases><ns1:cases><ns1:guid>955800922550c0c9ae74e73018918870</ns1:guid><ns1:name>30</ns1:name><ns1:status>DRAFT</ns1:status><ns1:delIndex>1</ns1:delIndex><ns1:processId>98360219855094de74c2f21070070181</ns1:processId></ns1:cases><ns1:cases><ns1:guid>596922600550c088659ed48020162010</ns1:guid><ns1:name>29</ns1:name><ns1:status>DRAFT</ns1:status><ns1:delIndex>1</ns1:delIndex><ns1:processId>98360219855094de74c2f21070070181</ns1:processId></ns1:cases><ns1:cases><ns1:guid>237318296550c06965507d9012281898</ns1:guid><ns1:name>28</ns1:name><ns1:status>DRAFT</ns1:status><ns1:delIndex>1</ns1:delIndex><ns1:processId>98360219855094de74c2f21070070181</ns1:processId></ns1:cases><ns1:cases><ns1:guid>283573070550c026a3e20a2091712011</ns1:guid><ns1:name>27</ns1:name><ns1:status>DRAFT</ns1:status><ns1:delIndex>1</ns1:delIndex><ns1:processId>98360219855094de74c2f21070070181</ns1:processId></ns1:cases><ns1:cases><ns1:guid>632088501550bfd17570718091586381</ns1:guid><ns1:name>26</ns1:name><ns1:status>DRAFT</ns1:status><ns1:delIndex>1</ns1:delIndex><ns1:processId>98360219855094de74c2f21070070181</ns1:processId></ns1:cases><ns1:cases><ns1:guid>243234010550bf8c06f38d6046692822</ns1:guid><ns1:name>25</ns1:name><ns1:status>DRAFT</ns1:status><ns1:delIndex>1</ns1:delIndex><ns1:processId>98360219855094de74c2f21070070181</ns1:processId></ns1:cases><ns1:cases><ns1:guid>848711255550bedde81bfb4014443274</ns1:guid><ns1:name>24</ns1:name><ns1:status>DRAFT</ns1:status><ns1:delIndex>1</ns1:delIndex><ns1:processId>98360219855094de74c2f21070070181</ns1:processId></ns1:cases><ns1:cases><ns1:guid>804962189550bea75927e84027754692</ns1:guid><ns1:name>23</ns1:name><ns1:status>DRAFT</ns1:status><ns1:delIndex>1</ns1:delIndex><ns1:processId>98360219855094de74c2f21070070181</ns1:processId></ns1:cases><ns1:cases><ns1:guid>234223518550be8d33f8038000213657</ns1:guid><ns1:name>22</ns1:name><ns1:status>DRAFT</ns1:status><ns1:delIndex>1</ns1:delIndex><ns1:processId>98360219855094de74c2f21070070181</ns1:processId></ns1:cases><ns1:cases><ns1:guid>362910318550be6afdb7fb3098878611</ns1:guid><ns1:name>21</ns1:name><ns1:status>DRAFT</ns1:status><ns1:delIndex>1</ns1:delIndex><ns1:processId>98360219855094de74c2f21070070181</ns1:processId></ns1:cases><ns1:cases><ns1:guid>400788985550be6257681a1046956741</ns1:guid><ns1:name>20</ns1:name><ns1:status>DRAFT</ns1:status><ns1:delIndex>1</ns1:delIndex><ns1:processId>98360219855094de74c2f21070070181</ns1:processId></ns1:cases><ns1:cases><ns1:guid>141401808550be09dbc4360000959865</ns1:guid><ns1:name>19</ns1:name><ns1:status>DRAFT</ns1:status><ns1:delIndex>1</ns1:delIndex><ns1:processId>98360219855094de74c2f21070070181</ns1:processId></ns1:cases><ns1:cases><ns1:guid>761090587550bde1d1acf46078070193</ns1:guid><ns1:name>18</ns1:name><ns1:status>DRAFT</ns1:status><ns1:delIndex>1</ns1:delIndex><ns1:processId>98360219855094de74c2f21070070181</ns1:processId></ns1:cases><ns1:cases><ns1:guid>184078385550bdcbb100343050558793</ns1:guid><ns1:name>17</ns1:name><ns1:status>DRAFT</ns1:status><ns1:delIndex>1</ns1:delIndex><ns1:processId>98360219855094de74c2f21070070181</ns1:processId></ns1:cases><ns1:cases><ns1:guid>274821792550bd02d9140a4006137622</ns1:guid><ns1:name>16</ns1:name><ns1:status>DRAFT</ns1:status><ns1:delIndex>1</ns1:delIndex><ns1:processId>98360219855094de74c2f21070070181</ns1:processId></ns1:cases><ns1:cases><ns1:guid>388651703550bcfedd04a01034849952</ns1:guid><ns1:name>15</ns1:name><ns1:status>DRAFT</ns1:status><ns1:delIndex>1</ns1:delIndex><ns1:processId>98360219855094de74c2f21070070181</ns1:processId></ns1:cases><ns1:cases><ns1:guid>932965532550bcfcc5f17f1033422526</ns1:guid><ns1:name>14</ns1:name><ns1:status>DRAFT</ns1:status><ns1:delIndex>1</ns1:delIndex><ns1:processId>98360219855094de74c2f21070070181</ns1:processId></ns1:cases><ns1:cases><ns1:guid>792680878550bcfbbd29fe7062507921</ns1:guid><ns1:name>13</ns1:name><ns1:status>DRAFT</ns1:status><ns1:delIndex>1</ns1:delIndex><ns1:processId>98360219855094de74c2f21070070181</ns1:processId></ns1:cases><ns1:cases><ns1:guid>132979844550bcd20e35241046981854</ns1:guid><ns1:name>12</ns1:name><ns1:status>DRAFT</ns1:status><ns1:delIndex>1</ns1:delIndex><ns1:processId>98360219855094de74c2f21070070181</ns1:processId></ns1:cases><ns1:cases><ns1:guid>797851868550bcbec37e6e2042690144</ns1:guid><ns1:name>11</ns1:name><ns1:status>DRAFT</ns1:status><ns1:delIndex>1</ns1:delIndex><ns1:processId>98360219855094de74c2f21070070181</ns1:processId></ns1:cases><ns1:cases><ns1:guid>132775818550bcb92e4b897072112889</ns1:guid><ns1:name>10</ns1:name><ns1:status>DRAFT</ns1:status><ns1:delIndex>1</ns1:delIndex><ns1:processId>98360219855094de74c2f21070070181</ns1:processId></ns1:cases><ns1:cases><ns1:guid>755635250550bcb76656af8063305134</ns1:guid><ns1:name>9</ns1:name><ns1:status>DRAFT</ns1:status><ns1:delIndex>1</ns1:delIndex><ns1:processId>98360219855094de74c2f21070070181</ns1:processId></ns1:cases><ns1:cases><ns1:guid>207506336550bc8cde88145054158821</ns1:guid><ns1:name>8</ns1:name><ns1:status>DRAFT</ns1:status><ns1:delIndex>1</ns1:delIndex><ns1:processId>98360219855094de74c2f21070070181</ns1:processId></ns1:cases><ns1:cases><ns1:guid>177046091550bc8b76d06f2065623366</ns1:guid><ns1:name>7</ns1:name><ns1:status>DRAFT</ns1:status><ns1:delIndex>1</ns1:delIndex><ns1:processId>98360219855094de74c2f21070070181</ns1:processId></ns1:cases><ns1:cases><ns1:guid>280771130550bc8b041e8b1064781409</ns1:guid><ns1:name>6</ns1:name><ns1:status>DRAFT</ns1:status><ns1:delIndex>1</ns1:delIndex><ns1:processId>98360219855094de74c2f21070070181</ns1:processId></ns1:cases><ns1:cases><ns1:guid>698434432550961d7193016021833262</ns1:guid><ns1:name>2</ns1:name><ns1:status>DRAFT</ns1:status><ns1:delIndex>1</ns1:delIndex><ns1:processId>98360219855094de74c2f21070070181</ns1:processId></ns1:cases><ns1:cases><ns1:guid>36064186555095f2b156d68001769491</ns1:guid><ns1:name>1</ns1:name><ns1:status>DRAFT</ns1:status><ns1:delIndex>1</ns1:delIndex><ns1:processId>98360219855094de74c2f21070070181</ns1:processId></ns1:cases></ns1:caseListResponse></SOAP-ENV:Body></SOAP-ENV:Envelope>\n",
        "\n"
       ]
      },
      {
       "output_type": "stream",
       "stream": "stdout",
       "text": [
        "{:guid=>\"494940551550fd17053d2e9034950701\", :name=>\"38\", :status=>\"TO_DO\", :del_index=>\"2\", :process_id=>\"98360219855094de74c2f21070070181\"}"
       ]
      },
      {
       "output_type": "stream",
       "stream": "stdout",
       "text": [
        "\n"
       ]
      },
      {
       "metadata": {},
       "output_type": "pyout",
       "prompt_number": 52,
       "text": [
        "{:guid=>\"494940551550fd17053d2e9034950701\", :name=>\"38\", :status=>\"TO_DO\", :del_index=>\"2\", :process_id=>\"98360219855094de74c2f21070070181\"}"
       ]
      }
     ],
     "prompt_number": 52
    }
   ],
   "metadata": {}
  }
 ]
}