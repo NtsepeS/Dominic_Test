{
 "metadata": {
  "language": "ruby",
  "name": "",
  "signature": "sha256:c0636e45010d28ea6c7948428d499e476ace799ea42048372ec98944171886de"
 },
 "nbformat": 3,
 "nbformat_minor": 0,
 "worksheets": [
  {
   "cells": [
    {
     "cell_type": "code",
     "collapsed": false,
     "input": [
      "require 'processmaker'"
     ],
     "language": "python",
     "metadata": {},
     "outputs": [
      {
       "metadata": {},
       "output_type": "pyout",
       "prompt_number": 1,
       "text": [
        "true"
       ]
      }
     ],
     "prompt_number": 1
    },
    {
     "cell_type": "code",
     "collapsed": false,
     "input": [
      "# ProcessMaker instance\n",
      "url = 'http://si-dev01.si.is.co.za:80/sysworkflow/en/classic/services/wsdl2'\n",
      "\n",
      "# Login first\n",
      "Processmaker.login(wsdl: url, user_id: 'admin', password: 'admin')\n",
      "puts \"OK\""
     ],
     "language": "python",
     "metadata": {},
     "outputs": [
      {
       "output_type": "stream",
       "stream": "stdout",
       "text": [
        "D, [2015-03-18T14:13:41.876906 #70954] DEBUG -- : HTTPI GET request to si-dev01.si.is.co.za (net_http)\n"
       ]
      },
      {
       "output_type": "stream",
       "stream": "stdout",
       "text": [
        "I, [2015-03-18T14:13:41.990181 #70954]  INFO -- : SOAP request: http://si-dev01.si.is.co.za/sysworkflow/en/classic/services/soap2\n"
       ]
      },
      {
       "output_type": "stream",
       "stream": "stdout",
       "text": [
        "I, [2015-03-18T14:13:41.990402 #70954]  INFO -- : SOAPAction: \"http://www.processmaker.com/login\", Content-Type: text/xml;charset=UTF-8, Content-Length: 368\n"
       ]
      },
      {
       "output_type": "stream",
       "stream": "stdout",
       "text": [
        "D, [2015-03-18T14:13:41.990564 #70954] DEBUG -- : <?xml version=\"1.0\" encoding=\"UTF-8\"?><env:Envelope xmlns:xsd=\"http://www.w3.org/2001/XMLSchema\" xmlns:xsi=\"http://www.w3.org/2001/XMLSchema-instance\" xmlns:xs0=\"http://www.processmaker.com\" xmlns:env=\"http://schemas.xmlsoap.org/soap/envelope/\"><env:Body><xs0:login><xs0:userid>admin</xs0:userid><xs0:password>admin</xs0:password></xs0:login></env:Body></env:Envelope>\n"
       ]
      },
      {
       "output_type": "stream",
       "stream": "stdout",
       "text": [
        "D, [2015-03-18T14:13:41.991101 #70954] DEBUG -- : HTTPI POST request to si-dev01.si.is.co.za (net_http)\n"
       ]
      },
      {
       "output_type": "stream",
       "stream": "stdout",
       "text": [
        "I, [2015-03-18T14:13:42.043145 #70954]  INFO -- : SOAP response (status 200)\n"
       ]
      },
      {
       "output_type": "stream",
       "stream": "stdout",
       "text": [
        "D, [2015-03-18T14:13:42.043337 #70954] DEBUG -- : <?xml version=\"1.0\" encoding=\"UTF-8\"?>\n",
        "<SOAP-ENV:Envelope xmlns:SOAP-ENV=\"http://schemas.xmlsoap.org/soap/envelope/\" xmlns:ns1=\"http://www.processmaker.com\"><SOAP-ENV:Body><ns1:loginResponse><ns1:status_code>0</ns1:status_code><ns1:message>67554977255096b97e5c225002500412</ns1:message><ns1:version>2.0</ns1:version><ns1:timestamp>2015-03-18 08:12:07</ns1:timestamp></ns1:loginResponse></SOAP-ENV:Body></SOAP-ENV:Envelope>\n",
        "\n"
       ]
      },
      {
       "output_type": "stream",
       "stream": "stdout",
       "text": [
        "OK\n"
       ]
      }
     ],
     "prompt_number": 2
    },
    {
     "cell_type": "code",
     "collapsed": false,
     "input": [
      "# Get all users\n",
      "users = Processmaker.user_list\n",
      "p users"
     ],
     "language": "python",
     "metadata": {},
     "outputs": [
      {
       "output_type": "stream",
       "stream": "stdout",
       "text": [
        "I, [2015-03-18T14:13:42.050346 #70954]  INFO -- : SOAP request: http://si-dev01.si.is.co.za/sysworkflow/en/classic/services/soap2\n"
       ]
      },
      {
       "output_type": "stream",
       "stream": "stdout",
       "text": [
        "I, [2015-03-18T14:13:42.050497 #70954]  INFO -- : SOAPAction: \"urn:userList\", Content-Type: text/xml;charset=UTF-8, Content-Length: 387\n"
       ]
      },
      {
       "output_type": "stream",
       "stream": "stdout",
       "text": [
        "D, [2015-03-18T14:13:42.050596 #70954] DEBUG -- : <?xml version=\"1.0\" encoding=\"UTF-8\"?><env:Envelope xmlns:xsd=\"http://www.w3.org/2001/XMLSchema\" xmlns:xsi=\"http://www.w3.org/2001/XMLSchema-instance\" xmlns:xs0=\"http://www.processmaker.com\" xmlns:env=\"http://schemas.xmlsoap.org/soap/envelope/\"><env:Body><xs0:userListRequest><xs0:sessionId>67554977255096b97e5c225002500412</xs0:sessionId></xs0:userListRequest></env:Body></env:Envelope>\n"
       ]
      },
      {
       "output_type": "stream",
       "stream": "stdout",
       "text": [
        "D, [2015-03-18T14:13:42.050827 #70954] DEBUG -- : HTTPI POST request to si-dev01.si.is.co.za (net_http)\n"
       ]
      },
      {
       "output_type": "stream",
       "stream": "stdout",
       "text": [
        "I, [2015-03-18T14:13:42.083139 #70954]  INFO -- : SOAP response (status 200)\n"
       ]
      },
      {
       "output_type": "stream",
       "stream": "stdout",
       "text": [
        "D, [2015-03-18T14:13:42.083336 #70954] DEBUG -- : <?xml version=\"1.0\" encoding=\"UTF-8\"?>\n",
        "<SOAP-ENV:Envelope xmlns:SOAP-ENV=\"http://schemas.xmlsoap.org/soap/envelope/\" xmlns:ns1=\"http://www.processmaker.com\"><SOAP-ENV:Body><ns1:userListResponse><ns1:users><ns1:guid>00000000000000000000000000000001</ns1:guid><ns1:name>admin</ns1:name></ns1:users><ns1:users><ns1:guid>46157618755094e812d03c2091230077</ns1:guid><ns1:name>irubynotebook</ns1:name></ns1:users><ns1:users><ns1:guid>56664023555094b01987cd8045323362</ns1:guid><ns1:name>heisenberg</ns1:name></ns1:users></ns1:userListResponse></SOAP-ENV:Body></SOAP-ENV:Envelope>\n",
        "\n"
       ]
      },
      {
       "output_type": "stream",
       "stream": "stdout",
       "text": [
        "[{:guid=>\"00000000000000000000000000000001\", :name=>\"admin\"}, {:guid=>\"46157618755094e812d03c2091230077\", :name=>\"irubynotebook\"}, {:guid=>\"56664023555094b01987cd8045323362\", :name=>\"heisenberg\"}]"
       ]
      },
      {
       "output_type": "stream",
       "stream": "stdout",
       "text": [
        "\n"
       ]
      },
      {
       "metadata": {},
       "output_type": "pyout",
       "prompt_number": 3,
       "text": [
        "[{:guid=>\"00000000000000000000000000000001\", :name=>\"admin\"}, {:guid=>\"46157618755094e812d03c2091230077\", :name=>\"irubynotebook\"}, {:guid=>\"56664023555094b01987cd8045323362\", :name=>\"heisenberg\"}]"
       ]
      }
     ],
     "prompt_number": 3
    },
    {
     "cell_type": "code",
     "collapsed": false,
     "input": [
      "# Create a new user\n",
      "name = \"irubynotebook\"\n",
      "user_password = 'demo'"
     ],
     "language": "python",
     "metadata": {},
     "outputs": [
      {
       "metadata": {},
       "output_type": "pyout",
       "prompt_number": 4,
       "text": [
        "\"demo\""
       ]
      }
     ],
     "prompt_number": 4
    },
    {
     "cell_type": "code",
     "collapsed": false,
     "input": [
      "# commeted out because I don't want to recreate the user everytime\n",
      "# user = Processmaker.create_user(\n",
      "#   user_id: name,\n",
      "#   first_name: 'iruby',\n",
      "#   last_name: 'notebook',\n",
      "#   email: 'example@whatever.com',\n",
      "#   role: 'PROCESSMAKER_ADMIN',\n",
      "#   password: user_password\n",
      "# )"
     ],
     "language": "python",
     "metadata": {},
     "outputs": [],
     "prompt_number": 5
    },
    {
     "cell_type": "code",
     "collapsed": false,
     "input": [
      "users = Processmaker.user_list()\n",
      "p users\n",
      "user = users.find { |user| user[:name] == name } \n",
      "p user\n",
      "user[:guid]"
     ],
     "language": "python",
     "metadata": {},
     "outputs": [
      {
       "output_type": "stream",
       "stream": "stdout",
       "text": [
        "I, [2015-03-18T14:13:42.095056 #70954]  INFO -- : SOAP request: http://si-dev01.si.is.co.za/sysworkflow/en/classic/services/soap2\n"
       ]
      },
      {
       "output_type": "stream",
       "stream": "stdout",
       "text": [
        "I, [2015-03-18T14:13:42.095209 #70954]  INFO -- : SOAPAction: \"urn:userList\", Content-Type: text/xml;charset=UTF-8, Content-Length: 387\n"
       ]
      },
      {
       "output_type": "stream",
       "stream": "stdout",
       "text": [
        "D, [2015-03-18T14:13:42.095409 #70954] DEBUG -- : <?xml version=\"1.0\" encoding=\"UTF-8\"?><env:Envelope xmlns:xsd=\"http://www.w3.org/2001/XMLSchema\" xmlns:xsi=\"http://www.w3.org/2001/XMLSchema-instance\" xmlns:xs0=\"http://www.processmaker.com\" xmlns:env=\"http://schemas.xmlsoap.org/soap/envelope/\"><env:Body><xs0:userListRequest><xs0:sessionId>67554977255096b97e5c225002500412</xs0:sessionId></xs0:userListRequest></env:Body></env:Envelope>\n"
       ]
      },
      {
       "output_type": "stream",
       "stream": "stdout",
       "text": [
        "D, [2015-03-18T14:13:42.095660 #70954] DEBUG -- : HTTPI POST request to si-dev01.si.is.co.za (net_http)\n"
       ]
      },
      {
       "output_type": "stream",
       "stream": "stdout",
       "text": [
        "I, [2015-03-18T14:13:42.131583 #70954]  INFO -- : SOAP response (status 200)\n"
       ]
      },
      {
       "output_type": "stream",
       "stream": "stdout",
       "text": [
        "D, [2015-03-18T14:13:42.131829 #70954] DEBUG -- : <?xml version=\"1.0\" encoding=\"UTF-8\"?>\n",
        "<SOAP-ENV:Envelope xmlns:SOAP-ENV=\"http://schemas.xmlsoap.org/soap/envelope/\" xmlns:ns1=\"http://www.processmaker.com\"><SOAP-ENV:Body><ns1:userListResponse><ns1:users><ns1:guid>00000000000000000000000000000001</ns1:guid><ns1:name>admin</ns1:name></ns1:users><ns1:users><ns1:guid>46157618755094e812d03c2091230077</ns1:guid><ns1:name>irubynotebook</ns1:name></ns1:users><ns1:users><ns1:guid>56664023555094b01987cd8045323362</ns1:guid><ns1:name>heisenberg</ns1:name></ns1:users></ns1:userListResponse></SOAP-ENV:Body></SOAP-ENV:Envelope>\n",
        "\n"
       ]
      },
      {
       "output_type": "stream",
       "stream": "stdout",
       "text": [
        "[{:guid=>\"00000000000000000000000000000001\", :name=>\"admin\"}, {:guid=>\"46157618755094e812d03c2091230077\", :name=>\"irubynotebook\"}, {:guid=>\"56664023555094b01987cd8045323362\", :name=>\"heisenberg\"}]"
       ]
      },
      {
       "output_type": "stream",
       "stream": "stdout",
       "text": [
        "\n"
       ]
      },
      {
       "output_type": "stream",
       "stream": "stdout",
       "text": [
        "{:guid=>\"46157618755094e812d03c2091230077\", :name=>\"irubynotebook\"}"
       ]
      },
      {
       "output_type": "stream",
       "stream": "stdout",
       "text": [
        "\n"
       ]
      },
      {
       "metadata": {},
       "output_type": "pyout",
       "prompt_number": 6,
       "text": [
        "\"46157618755094e812d03c2091230077\""
       ]
      }
     ],
     "prompt_number": 6
    },
    {
     "cell_type": "code",
     "collapsed": false,
     "input": [
      "group = Processmaker.create_group(name: \"task1_operators\")\n",
      "p group[:group_uid]"
     ],
     "language": "python",
     "metadata": {},
     "outputs": [
      {
       "output_type": "stream",
       "stream": "stdout",
       "text": [
        "I, [2015-03-18T14:13:42.138377 #70954]  INFO -- : SOAP request: http://si-dev01.si.is.co.za/sysworkflow/en/classic/services/soap2\n"
       ]
      },
      {
       "output_type": "stream",
       "stream": "stdout",
       "text": [
        "I, [2015-03-18T14:13:42.138515 #70954]  INFO -- : SOAPAction: \"urn:createGroup\", Content-Type: text/xml;charset=UTF-8, Content-Length: 429\n"
       ]
      },
      {
       "output_type": "stream",
       "stream": "stdout",
       "text": [
        "D, [2015-03-18T14:13:42.138637 #70954] DEBUG -- : <?xml version=\"1.0\" encoding=\"UTF-8\"?><env:Envelope xmlns:xsd=\"http://www.w3.org/2001/XMLSchema\" xmlns:xsi=\"http://www.w3.org/2001/XMLSchema-instance\" xmlns:xs0=\"http://www.processmaker.com\" xmlns:env=\"http://schemas.xmlsoap.org/soap/envelope/\"><env:Body><xs0:createGroupRequest><xs0:sessionId>67554977255096b97e5c225002500412</xs0:sessionId><xs0:name>task1_operators</xs0:name></xs0:createGroupRequest></env:Body></env:Envelope>\n"
       ]
      },
      {
       "output_type": "stream",
       "stream": "stdout",
       "text": [
        "D, [2015-03-18T14:13:42.138861 #70954] DEBUG -- : HTTPI POST request to si-dev01.si.is.co.za (net_http)\n"
       ]
      },
      {
       "output_type": "stream",
       "stream": "stdout",
       "text": [
        "I, [2015-03-18T14:13:42.269410 #70954]  INFO -- : SOAP response (status 200)\n"
       ]
      },
      {
       "output_type": "stream",
       "stream": "stdout",
       "text": [
        "D, [2015-03-18T14:13:42.269646 #70954] DEBUG -- : <?xml version=\"1.0\" encoding=\"UTF-8\"?>\n",
        "<SOAP-ENV:Envelope xmlns:SOAP-ENV=\"http://schemas.xmlsoap.org/soap/envelope/\" xmlns:ns1=\"http://www.processmaker.com\"><SOAP-ENV:Body><ns1:createGroupResponse><ns1:status_code>0</ns1:status_code><ns1:message>Group task1_operators created successfully</ns1:message><ns1:groupUID>12941833655096b9816b965052578977</ns1:groupUID><ns1:timestamp>2015-03-18 08:12:08</ns1:timestamp></ns1:createGroupResponse></SOAP-ENV:Body></SOAP-ENV:Envelope>\n",
        "\n"
       ]
      },
      {
       "output_type": "stream",
       "stream": "stdout",
       "text": [
        "\"12941833655096b9816b965052578977\""
       ]
      },
      {
       "output_type": "stream",
       "stream": "stdout",
       "text": [
        "\n"
       ]
      },
      {
       "metadata": {},
       "output_type": "pyout",
       "prompt_number": 7,
       "text": [
        "\"12941833655096b9816b965052578977\""
       ]
      }
     ],
     "prompt_number": 7
    },
    {
     "cell_type": "code",
     "collapsed": false,
     "input": [
      "Processmaker.assign_user_to_group(group_id: group[:group_uid], user_id: user[:guid])"
     ],
     "language": "python",
     "metadata": {},
     "outputs": [
      {
       "output_type": "stream",
       "stream": "stdout",
       "text": [
        "I, [2015-03-18T14:13:42.275661 #70954]  INFO -- : SOAP request: http://si-dev01.si.is.co.za/sysworkflow/en/classic/services/soap2\n"
       ]
      },
      {
       "output_type": "stream",
       "stream": "stdout",
       "text": [
        "I, [2015-03-18T14:13:42.275814 #70954]  INFO -- : SOAPAction: \"urn:assignUserToGroup\", Content-Type: text/xml;charset=UTF-8, Content-Length: 521\n"
       ]
      },
      {
       "output_type": "stream",
       "stream": "stdout",
       "text": [
        "D, [2015-03-18T14:13:42.276008 #70954] DEBUG -- : <?xml version=\"1.0\" encoding=\"UTF-8\"?><env:Envelope xmlns:xsd=\"http://www.w3.org/2001/XMLSchema\" xmlns:xsi=\"http://www.w3.org/2001/XMLSchema-instance\" xmlns:xs0=\"http://www.processmaker.com\" xmlns:env=\"http://schemas.xmlsoap.org/soap/envelope/\"><env:Body><xs0:assignUserToGroupRequest><xs0:sessionId>67554977255096b97e5c225002500412</xs0:sessionId><xs0:userId>46157618755094e812d03c2091230077</xs0:userId><xs0:groupId>12941833655096b9816b965052578977</xs0:groupId></xs0:assignUserToGroupRequest></env:Body></env:Envelope>\n"
       ]
      },
      {
       "output_type": "stream",
       "stream": "stdout",
       "text": [
        "D, [2015-03-18T14:13:42.276247 #70954] DEBUG -- : HTTPI POST request to si-dev01.si.is.co.za (net_http)\n"
       ]
      },
      {
       "output_type": "stream",
       "stream": "stdout",
       "text": [
        "I, [2015-03-18T14:13:42.388880 #70954]  INFO -- : SOAP response (status 200)\n"
       ]
      },
      {
       "output_type": "stream",
       "stream": "stdout",
       "text": [
        "D, [2015-03-18T14:13:42.389101 #70954] DEBUG -- : <?xml version=\"1.0\" encoding=\"UTF-8\"?>\n",
        "<SOAP-ENV:Envelope xmlns:SOAP-ENV=\"http://schemas.xmlsoap.org/soap/envelope/\" xmlns:ns1=\"http://www.processmaker.com\"><SOAP-ENV:Body><ns1:pmResponse><ns1:status_code>0</ns1:status_code><ns1:message>command executed successfully</ns1:message><ns1:timestamp>2015-03-18 08:12:08</ns1:timestamp></ns1:pmResponse></SOAP-ENV:Body></SOAP-ENV:Envelope>\n",
        "\n"
       ]
      },
      {
       "metadata": {},
       "output_type": "pyout",
       "prompt_number": 8,
       "text": [
        "{:status_code=>\"0\", :message=>\"command executed successfully\", :timestamp=>\"2015-03-18 08:12:08\"}"
       ]
      }
     ],
     "prompt_number": 8
    },
    {
     "cell_type": "code",
     "collapsed": false,
     "input": [
      "p user[:name]\n",
      "p password: user_password\n",
      "Processmaker.login(wsdl: url, user_id: user[:name], password: user_password)"
     ],
     "language": "python",
     "metadata": {},
     "outputs": [
      {
       "output_type": "stream",
       "stream": "stdout",
       "text": [
        "\"irubynotebook\""
       ]
      },
      {
       "output_type": "stream",
       "stream": "stdout",
       "text": [
        "\n"
       ]
      },
      {
       "output_type": "stream",
       "stream": "stdout",
       "text": [
        "{:password=>\"demo\"}"
       ]
      },
      {
       "output_type": "stream",
       "stream": "stdout",
       "text": [
        "\n"
       ]
      },
      {
       "output_type": "stream",
       "stream": "stdout",
       "text": [
        "D, [2015-03-18T14:13:42.392632 #70954] DEBUG -- : HTTPI GET request to si-dev01.si.is.co.za (net_http)\n"
       ]
      },
      {
       "output_type": "stream",
       "stream": "stdout",
       "text": [
        "I, [2015-03-18T14:13:42.459753 #70954]  INFO -- : SOAP request: http://si-dev01.si.is.co.za/sysworkflow/en/classic/services/soap2\n"
       ]
      },
      {
       "output_type": "stream",
       "stream": "stdout",
       "text": [
        "I, [2015-03-18T14:13:42.459928 #70954]  INFO -- : SOAPAction: \"http://www.processmaker.com/login\", Content-Type: text/xml;charset=UTF-8, Content-Length: 375\n"
       ]
      },
      {
       "output_type": "stream",
       "stream": "stdout",
       "text": [
        "D, [2015-03-18T14:13:42.460119 #70954] DEBUG -- : <?xml version=\"1.0\" encoding=\"UTF-8\"?><env:Envelope xmlns:xsd=\"http://www.w3.org/2001/XMLSchema\" xmlns:xsi=\"http://www.w3.org/2001/XMLSchema-instance\" xmlns:xs0=\"http://www.processmaker.com\" xmlns:env=\"http://schemas.xmlsoap.org/soap/envelope/\"><env:Body><xs0:login><xs0:userid>irubynotebook</xs0:userid><xs0:password>demo</xs0:password></xs0:login></env:Body></env:Envelope>\n"
       ]
      },
      {
       "output_type": "stream",
       "stream": "stdout",
       "text": [
        "D, [2015-03-18T14:13:42.460638 #70954] DEBUG -- : HTTPI POST request to si-dev01.si.is.co.za (net_http)\n"
       ]
      },
      {
       "output_type": "stream",
       "stream": "stdout",
       "text": [
        "I, [2015-03-18T14:13:42.534713 #70954]  INFO -- : SOAP response (status 200)\n"
       ]
      },
      {
       "output_type": "stream",
       "stream": "stdout",
       "text": [
        "D, [2015-03-18T14:13:42.534915 #70954] DEBUG -- : <?xml version=\"1.0\" encoding=\"UTF-8\"?>\n",
        "<SOAP-ENV:Envelope xmlns:SOAP-ENV=\"http://schemas.xmlsoap.org/soap/envelope/\" xmlns:ns1=\"http://www.processmaker.com\"><SOAP-ENV:Body><ns1:loginResponse><ns1:status_code>0</ns1:status_code><ns1:message>10099892355096b98640532098791363</ns1:message><ns1:version>2.0</ns1:version><ns1:timestamp>2015-03-18 08:12:08</ns1:timestamp></ns1:loginResponse></SOAP-ENV:Body></SOAP-ENV:Envelope>\n",
        "\n"
       ]
      },
      {
       "metadata": {},
       "output_type": "pyout",
       "prompt_number": 9,
       "text": [
        "{:status_code=>\"0\", :message=>\"10099892355096b98640532098791363\", :version=>\"2.0\", :timestamp=>\"2015-03-18 08:12:08\"}"
       ]
      }
     ],
     "prompt_number": 9
    },
    {
     "cell_type": "code",
     "collapsed": false,
     "input": [
      "process =  Processmaker.process_list()\n",
      "process[:guid]"
     ],
     "language": "python",
     "metadata": {},
     "outputs": [
      {
       "output_type": "stream",
       "stream": "stdout",
       "text": [
        "I, [2015-03-18T14:13:42.543394 #70954]  INFO -- : SOAP request: http://si-dev01.si.is.co.za/sysworkflow/en/classic/services/soap2\n"
       ]
      },
      {
       "output_type": "stream",
       "stream": "stdout",
       "text": [
        "I, [2015-03-18T14:13:42.543536 #70954]  INFO -- : SOAPAction: \"urn:processList\", Content-Type: text/xml;charset=UTF-8, Content-Length: 393\n"
       ]
      },
      {
       "output_type": "stream",
       "stream": "stdout",
       "text": [
        "D, [2015-03-18T14:13:42.543840 #70954] DEBUG -- : <?xml version=\"1.0\" encoding=\"UTF-8\"?><env:Envelope xmlns:xsd=\"http://www.w3.org/2001/XMLSchema\" xmlns:xsi=\"http://www.w3.org/2001/XMLSchema-instance\" xmlns:xs0=\"http://www.processmaker.com\" xmlns:env=\"http://schemas.xmlsoap.org/soap/envelope/\"><env:Body><xs0:processListRequest><xs0:sessionId>10099892355096b98640532098791363</xs0:sessionId></xs0:processListRequest></env:Body></env:Envelope>\n"
       ]
      },
      {
       "output_type": "stream",
       "stream": "stdout",
       "text": [
        "D, [2015-03-18T14:13:42.544108 #70954] DEBUG -- : HTTPI POST request to si-dev01.si.is.co.za (net_http)\n"
       ]
      },
      {
       "output_type": "stream",
       "stream": "stdout",
       "text": [
        "I, [2015-03-18T14:13:42.579135 #70954]  INFO -- : SOAP response (status 200)\n"
       ]
      },
      {
       "output_type": "stream",
       "stream": "stdout",
       "text": [
        "D, [2015-03-18T14:13:42.579339 #70954] DEBUG -- : <?xml version=\"1.0\" encoding=\"UTF-8\"?>\n",
        "<SOAP-ENV:Envelope xmlns:SOAP-ENV=\"http://schemas.xmlsoap.org/soap/envelope/\" xmlns:ns1=\"http://www.processmaker.com\"><SOAP-ENV:Body><ns1:processListResponse><ns1:processes><ns1:guid>98360219855094de74c2f21070070181</ns1:guid><ns1:name>IRuby_notebook_demo</ns1:name></ns1:processes></ns1:processListResponse></SOAP-ENV:Body></SOAP-ENV:Envelope>\n",
        "\n"
       ]
      },
      {
       "metadata": {},
       "output_type": "pyout",
       "prompt_number": 10,
       "text": [
        "\"98360219855094de74c2f21070070181\""
       ]
      }
     ],
     "prompt_number": 10
    },
    {
     "cell_type": "code",
     "collapsed": false,
     "input": [
      "tasks = Processmaker.task_list()\n",
      "task = tasks.find { |task| task[:initial_task] == \"1\" } \n",
      "p task\n",
      "task[:process_id]\n"
     ],
     "language": "python",
     "metadata": {},
     "outputs": [
      {
       "output_type": "stream",
       "stream": "stdout",
       "text": [
        "I, [2015-03-18T14:13:42.586800 #70954]  INFO -- : SOAP request: http://si-dev01.si.is.co.za/sysworkflow/en/classic/services/soap2\n"
       ]
      },
      {
       "output_type": "stream",
       "stream": "stdout",
       "text": [
        "I, [2015-03-18T14:13:42.587003 #70954]  INFO -- : SOAPAction: \"urn:taskList\", Content-Type: text/xml;charset=UTF-8, Content-Length: 387\n"
       ]
      },
      {
       "output_type": "stream",
       "stream": "stdout",
       "text": [
        "D, [2015-03-18T14:13:42.587217 #70954] DEBUG -- : <?xml version=\"1.0\" encoding=\"UTF-8\"?><env:Envelope xmlns:xsd=\"http://www.w3.org/2001/XMLSchema\" xmlns:xsi=\"http://www.w3.org/2001/XMLSchema-instance\" xmlns:xs0=\"http://www.processmaker.com\" xmlns:env=\"http://schemas.xmlsoap.org/soap/envelope/\"><env:Body><xs0:taskListRequest><xs0:sessionId>10099892355096b98640532098791363</xs0:sessionId></xs0:taskListRequest></env:Body></env:Envelope>\n"
       ]
      },
      {
       "output_type": "stream",
       "stream": "stdout",
       "text": [
        "D, [2015-03-18T14:13:42.587436 #70954] DEBUG -- : HTTPI POST request to si-dev01.si.is.co.za (net_http)\n"
       ]
      },
      {
       "output_type": "stream",
       "stream": "stdout",
       "text": [
        "I, [2015-03-18T14:13:42.622074 #70954]  INFO -- : SOAP response (status 200)\n"
       ]
      },
      {
       "output_type": "stream",
       "stream": "stdout",
       "text": [
        "D, [2015-03-18T14:13:42.622458 #70954] DEBUG -- : <?xml version=\"1.0\" encoding=\"UTF-8\"?>\n",
        "<SOAP-ENV:Envelope xmlns:SOAP-ENV=\"http://schemas.xmlsoap.org/soap/envelope/\" xmlns:ns1=\"http://www.processmaker.com\"><SOAP-ENV:Body><ns1:taskListResponse><ns1:tasks><ns1:guid>182133921550955233965a7049985769</ns1:guid><ns1:name>Task 2</ns1:name><ns1:processId>98360219855094de74c2f21070070181</ns1:processId><ns1:initialTask>0</ns1:initialTask></ns1:tasks><ns1:tasks><ns1:guid>423008737550954cfb84be0049538069</ns1:guid><ns1:name>Task 1</ns1:name><ns1:processId>98360219855094de74c2f21070070181</ns1:processId><ns1:initialTask>1</ns1:initialTask></ns1:tasks></ns1:taskListResponse></SOAP-ENV:Body></SOAP-ENV:Envelope>\n",
        "\n"
       ]
      },
      {
       "output_type": "stream",
       "stream": "stdout",
       "text": [
        "{:guid=>\"423008737550954cfb84be0049538069\", :name=>\"Task 1\", :process_id=>\"98360219855094de74c2f21070070181\", :initial_task=>\"1\"}"
       ]
      },
      {
       "output_type": "stream",
       "stream": "stdout",
       "text": [
        "\n"
       ]
      },
      {
       "metadata": {},
       "output_type": "pyout",
       "prompt_number": 11,
       "text": [
        "\"98360219855094de74c2f21070070181\""
       ]
      }
     ],
     "prompt_number": 11
    },
    {
     "cell_type": "code",
     "collapsed": false,
     "input": [],
     "language": "python",
     "metadata": {},
     "outputs": [],
     "prompt_number": 12
    },
    {
     "cell_type": "code",
     "collapsed": false,
     "input": [
      "# Start a new case\n",
      "case1 = Processmaker.new_case(\n",
      "     process_id: process[:guid],\n",
      "     task_id: task[:guid]\n",
      ")\n",
      "p case1"
     ],
     "language": "python",
     "metadata": {},
     "outputs": [
      {
       "output_type": "stream",
       "stream": "stdout",
       "text": [
        "I, [2015-03-18T14:13:42.634447 #70954]  INFO -- : SOAP request: http://si-dev01.si.is.co.za/sysworkflow/en/classic/services/soap2\n"
       ]
      },
      {
       "output_type": "stream",
       "stream": "stdout",
       "text": [
        "I, [2015-03-18T14:13:42.634647 #70954]  INFO -- : SOAPAction: \"urn:newCase\", Content-Type: text/xml;charset=UTF-8, Content-Length: 536\n"
       ]
      },
      {
       "output_type": "stream",
       "stream": "stdout",
       "text": [
        "D, [2015-03-18T14:13:42.634753 #70954] DEBUG -- : <?xml version=\"1.0\" encoding=\"UTF-8\"?><env:Envelope xmlns:xsd=\"http://www.w3.org/2001/XMLSchema\" xmlns:xsi=\"http://www.w3.org/2001/XMLSchema-instance\" xmlns:xs0=\"http://www.processmaker.com\" xmlns:env=\"http://schemas.xmlsoap.org/soap/envelope/\"><env:Body><xs0:newCaseRequest><xs0:sessionId>10099892355096b98640532098791363</xs0:sessionId><xs0:processId>98360219855094de74c2f21070070181</xs0:processId><xs0:taskId>423008737550954cfb84be0049538069</xs0:taskId><xs0:variables xsi:nil=\"true\"/></xs0:newCaseRequest></env:Body></env:Envelope>\n"
       ]
      },
      {
       "output_type": "stream",
       "stream": "stdout",
       "text": [
        "D, [2015-03-18T14:13:42.635037 #70954] DEBUG -- : HTTPI POST request to si-dev01.si.is.co.za (net_http)\n"
       ]
      },
      {
       "output_type": "stream",
       "stream": "stdout",
       "text": [
        "I, [2015-03-18T14:13:42.816433 #70954]  INFO -- : SOAP response (status 200)\n"
       ]
      },
      {
       "output_type": "stream",
       "stream": "stdout",
       "text": [
        "D, [2015-03-18T14:13:42.816684 #70954] DEBUG -- : <?xml version=\"1.0\" encoding=\"UTF-8\"?>\n",
        "<SOAP-ENV:Envelope xmlns:SOAP-ENV=\"http://schemas.xmlsoap.org/soap/envelope/\" xmlns:ns1=\"http://www.processmaker.com\"><SOAP-ENV:Body><ns1:newCaseResponse><ns1:status_code>0</ns1:status_code><ns1:message>Started successfully</ns1:message><ns1:caseId>54019061255096b98991cd6033329323</ns1:caseId><ns1:caseNumber>5</ns1:caseNumber><ns1:timestamp>2015-03-18 08:12:08</ns1:timestamp></ns1:newCaseResponse></SOAP-ENV:Body></SOAP-ENV:Envelope>\n",
        "\n"
       ]
      },
      {
       "output_type": "stream",
       "stream": "stdout",
       "text": [
        "{:status_code=>\"0\", :message=>\"Started successfully\", :case_id=>\"54019061255096b98991cd6033329323\", :case_number=>\"5\", :timestamp=>\"2015-03-18 08:12:08\"}"
       ]
      },
      {
       "output_type": "stream",
       "stream": "stdout",
       "text": [
        "\n"
       ]
      },
      {
       "metadata": {},
       "output_type": "pyout",
       "prompt_number": 13,
       "text": [
        "{:status_code=>\"0\", :message=>\"Started successfully\", :case_id=>\"54019061255096b98991cd6033329323\", :case_number=>\"5\", :timestamp=>\"2015-03-18 08:12:08\"}"
       ]
      }
     ],
     "prompt_number": 13
    },
    {
     "cell_type": "code",
     "collapsed": false,
     "input": [
      "cases = Processmaker.case_list()\n",
      "p cases\n",
      "case1_info = cases.find { |c| c[:guid] == case1[:case_id] } \n",
      "p case1_info\n",
      "case1_info[:del_index]"
     ],
     "language": "python",
     "metadata": {},
     "outputs": [
      {
       "output_type": "stream",
       "stream": "stdout",
       "text": [
        "I, [2015-03-18T14:13:42.823052 #70954]  INFO -- : SOAP request: http://si-dev01.si.is.co.za/sysworkflow/en/classic/services/soap2\n"
       ]
      },
      {
       "output_type": "stream",
       "stream": "stdout",
       "text": [
        "I, [2015-03-18T14:13:42.823204 #70954]  INFO -- : SOAPAction: \"urn:caseList\", Content-Type: text/xml;charset=UTF-8, Content-Length: 387\n"
       ]
      },
      {
       "output_type": "stream",
       "stream": "stdout",
       "text": [
        "D, [2015-03-18T14:13:42.823307 #70954] DEBUG -- : <?xml version=\"1.0\" encoding=\"UTF-8\"?><env:Envelope xmlns:xsd=\"http://www.w3.org/2001/XMLSchema\" xmlns:xsi=\"http://www.w3.org/2001/XMLSchema-instance\" xmlns:xs0=\"http://www.processmaker.com\" xmlns:env=\"http://schemas.xmlsoap.org/soap/envelope/\"><env:Body><xs0:caseListRequest><xs0:sessionId>10099892355096b98640532098791363</xs0:sessionId></xs0:caseListRequest></env:Body></env:Envelope>\n"
       ]
      },
      {
       "output_type": "stream",
       "stream": "stdout",
       "text": [
        "D, [2015-03-18T14:13:42.823485 #70954] DEBUG -- : HTTPI POST request to si-dev01.si.is.co.za (net_http)\n"
       ]
      },
      {
       "output_type": "stream",
       "stream": "stdout",
       "text": [
        "I, [2015-03-18T14:13:42.873878 #70954]  INFO -- : SOAP response (status 200)\n"
       ]
      },
      {
       "output_type": "stream",
       "stream": "stdout",
       "text": [
        "D, [2015-03-18T14:13:42.874068 #70954] DEBUG -- : <?xml version=\"1.0\" encoding=\"UTF-8\"?>\n",
        "<SOAP-ENV:Envelope xmlns:SOAP-ENV=\"http://schemas.xmlsoap.org/soap/envelope/\" xmlns:ns1=\"http://www.processmaker.com\"><SOAP-ENV:Body><ns1:caseListResponse><ns1:cases><ns1:guid>54019061255096b98991cd6033329323</ns1:guid><ns1:name>5</ns1:name><ns1:status>DRAFT</ns1:status><ns1:delIndex>1</ns1:delIndex><ns1:processId>98360219855094de74c2f21070070181</ns1:processId></ns1:cases><ns1:cases><ns1:guid>698434432550961d7193016021833262</ns1:guid><ns1:name>2</ns1:name><ns1:status>DRAFT</ns1:status><ns1:delIndex>1</ns1:delIndex><ns1:processId>98360219855094de74c2f21070070181</ns1:processId></ns1:cases><ns1:cases><ns1:guid>36064186555095f2b156d68001769491</ns1:guid><ns1:name>1</ns1:name><ns1:status>DRAFT</ns1:status><ns1:delIndex>1</ns1:delIndex><ns1:processId>98360219855094de74c2f21070070181</ns1:processId></ns1:cases></ns1:caseListResponse></SOAP-ENV:Body></SOAP-ENV:Envelope>\n",
        "\n"
       ]
      },
      {
       "output_type": "stream",
       "stream": "stdout",
       "text": [
        "[{:guid=>\"54019061255096b98991cd6033329323\", :name=>\"5\", :status=>\"DRAFT\", :del_index=>\"1\", :process_id=>\"98360219855094de74c2f21070070181\"}, {:guid=>\"698434432550961d7193016021833262\", :name=>\"2\", :status=>\"DRAFT\", :del_index=>\"1\", :process_id=>\"98360219855094de74c2f21070070181\"}, {:guid=>\"36064186555095f2b156d68001769491\", :name=>\"1\", :status=>\"DRAFT\", :del_index=>\"1\", :process_id=>\"98360219855094de74c2f21070070181\"}]"
       ]
      },
      {
       "output_type": "stream",
       "stream": "stdout",
       "text": [
        "\n"
       ]
      },
      {
       "output_type": "stream",
       "stream": "stdout",
       "text": [
        "{:guid=>\"54019061255096b98991cd6033329323\", :name=>\"5\", :status=>\"DRAFT\", :del_index=>\"1\", :process_id=>\"98360219855094de74c2f21070070181\"}"
       ]
      },
      {
       "output_type": "stream",
       "stream": "stdout",
       "text": [
        "\n"
       ]
      },
      {
       "metadata": {},
       "output_type": "pyout",
       "prompt_number": 14,
       "text": [
        "\"1\""
       ]
      }
     ],
     "prompt_number": 14
    },
    {
     "cell_type": "code",
     "collapsed": false,
     "input": [
      "result = Processmaker.route_case(case_id: case1[:case_id], del_index: case1_info[:del_index])\n",
      "p result"
     ],
     "language": "python",
     "metadata": {},
     "outputs": [
      {
       "output_type": "stream",
       "stream": "stdout",
       "text": [
        "I, [2015-03-18T14:13:42.883651 #70954]  INFO -- : SOAP request: http://si-dev01.si.is.co.za/sysworkflow/en/classic/services/soap2\n"
       ]
      },
      {
       "output_type": "stream",
       "stream": "stdout",
       "text": [
        "I, [2015-03-18T14:13:42.883868 #70954]  INFO -- : SOAPAction: \"urn:routeCase\", Content-Type: text/xml;charset=UTF-8, Content-Length: 476\n"
       ]
      },
      {
       "output_type": "stream",
       "stream": "stdout",
       "text": [
        "D, [2015-03-18T14:13:42.883998 #70954] DEBUG -- : <?xml version=\"1.0\" encoding=\"UTF-8\"?><env:Envelope xmlns:xsd=\"http://www.w3.org/2001/XMLSchema\" xmlns:xsi=\"http://www.w3.org/2001/XMLSchema-instance\" xmlns:xs0=\"http://www.processmaker.com\" xmlns:env=\"http://schemas.xmlsoap.org/soap/envelope/\"><env:Body><xs0:routeCaseRequest><xs0:sessionId>10099892355096b98640532098791363</xs0:sessionId><xs0:caseId>54019061255096b98991cd6033329323</xs0:caseId><xs0:delIndex>1</xs0:delIndex></xs0:routeCaseRequest></env:Body></env:Envelope>\n"
       ]
      },
      {
       "output_type": "stream",
       "stream": "stdout",
       "text": [
        "D, [2015-03-18T14:13:42.884310 #70954] DEBUG -- : HTTPI POST request to si-dev01.si.is.co.za (net_http)\n"
       ]
      },
      {
       "output_type": "stream",
       "stream": "stdout",
       "text": [
        "I, [2015-03-18T14:13:43.051210 #70954]  INFO -- : SOAP response (status 200)\n"
       ]
      },
      {
       "output_type": "stream",
       "stream": "stdout",
       "text": [
        "D, [2015-03-18T14:13:43.051453 #70954] DEBUG -- : <?xml version=\"1.0\" encoding=\"UTF-8\"?>\n",
        "<SOAP-ENV:Envelope xmlns:SOAP-ENV=\"http://schemas.xmlsoap.org/soap/envelope/\" xmlns:ns1=\"http://www.processmaker.com\"><SOAP-ENV:Body><ns1:routeCaseResponse><ns1:status_code>0</ns1:status_code><ns1:message>Task 2(irubynotebook) --- 0</ns1:message><ns1:timestamp>2015-03-18 08:12:08</ns1:timestamp><ns1:routing><ns1:userId>46157618755094e812d03c2091230077</ns1:userId><ns1:userName>iruby notebook</ns1:userName><ns1:taskId>182133921550955233965a7049985769</ns1:taskId><ns1:taskName>Task 2</ns1:taskName><ns1:delIndex>2</ns1:delIndex><ns1:delThread>1</ns1:delThread><ns1:delThreadStatus>OPEN</ns1:delThreadStatus></ns1:routing></ns1:routeCaseResponse></SOAP-ENV:Body></SOAP-ENV:Envelope>\n",
        "\n"
       ]
      },
      {
       "output_type": "stream",
       "stream": "stdout",
       "text": [
        "{:status_code=>\"0\", :message=>\"Task 2(irubynotebook) --- 0\", :timestamp=>\"2015-03-18 08:12:08\", :routing=>{:user_id=>\"46157618755094e812d03c2091230077\", :user_name=>\"iruby notebook\", :task_id=>\"182133921550955233965a7049985769\", :task_name=>\"Task 2\", :del_index=>\"2\", :del_thread=>\"1\", :del_thread_status=>\"OPEN\"}}"
       ]
      },
      {
       "output_type": "stream",
       "stream": "stdout",
       "text": [
        "\n"
       ]
      },
      {
       "metadata": {},
       "output_type": "pyout",
       "prompt_number": 15,
       "text": [
        "{:status_code=>\"0\", :message=>\"Task 2(irubynotebook) --- 0\", :timestamp=>\"2015-03-18 08:12:08\", :routing=>{:user_id=>\"46157618755094e812d03c2091230077\", :user_name=>\"iruby notebook\", :task_id=>\"182133921550955233965a7049985769\", :task_name=>\"Task 2\", :del_index=>\"2\", :del_thread=>\"1\", :del_thread_status=>\"OPEN\"}}"
       ]
      }
     ],
     "prompt_number": 15
    },
    {
     "cell_type": "code",
     "collapsed": false,
     "input": [
      "current_task = Processmaker.task_case(case_id: case1[:case_id])\n",
      "p current_task"
     ],
     "language": "python",
     "metadata": {},
     "outputs": [
      {
       "output_type": "stream",
       "stream": "stdout",
       "text": [
        "I, [2015-03-18T14:13:43.058440 #70954]  INFO -- : SOAP request: http://si-dev01.si.is.co.za/sysworkflow/en/classic/services/soap2\n"
       ]
      },
      {
       "output_type": "stream",
       "stream": "stdout",
       "text": [
        "I, [2015-03-18T14:13:43.058639 #70954]  INFO -- : SOAPAction: \"urn:taskCase\", Content-Type: text/xml;charset=UTF-8, Content-Length: 444\n"
       ]
      },
      {
       "output_type": "stream",
       "stream": "stdout",
       "text": [
        "D, [2015-03-18T14:13:43.058761 #70954] DEBUG -- : <?xml version=\"1.0\" encoding=\"UTF-8\"?><env:Envelope xmlns:xsd=\"http://www.w3.org/2001/XMLSchema\" xmlns:xsi=\"http://www.w3.org/2001/XMLSchema-instance\" xmlns:xs0=\"http://www.processmaker.com\" xmlns:env=\"http://schemas.xmlsoap.org/soap/envelope/\"><env:Body><xs0:taskCaseRequest><xs0:sessionId>10099892355096b98640532098791363</xs0:sessionId><xs0:caseId>54019061255096b98991cd6033329323</xs0:caseId></xs0:taskCaseRequest></env:Body></env:Envelope>\n"
       ]
      },
      {
       "output_type": "stream",
       "stream": "stdout",
       "text": [
        "D, [2015-03-18T14:13:43.059046 #70954] DEBUG -- : HTTPI POST request to si-dev01.si.is.co.za (net_http)\n"
       ]
      },
      {
       "output_type": "stream",
       "stream": "stdout",
       "text": [
        "I, [2015-03-18T14:13:43.087783 #70954]  INFO -- : SOAP response (status 200)\n"
       ]
      },
      {
       "output_type": "stream",
       "stream": "stdout",
       "text": [
        "D, [2015-03-18T14:13:43.088426 #70954] DEBUG -- : <?xml version=\"1.0\" encoding=\"UTF-8\"?>\n",
        "<SOAP-ENV:Envelope xmlns:SOAP-ENV=\"http://schemas.xmlsoap.org/soap/envelope/\" xmlns:ns1=\"http://www.processmaker.com\"><SOAP-ENV:Body><ns1:taskCaseResponse><ns1:taskCases><ns1:guid>182133921550955233965a7049985769</ns1:guid><ns1:name>Task 2</ns1:name><ns1:delegate>2</ns1:delegate></ns1:taskCases></ns1:taskCaseResponse></SOAP-ENV:Body></SOAP-ENV:Envelope>\n",
        "\n"
       ]
      },
      {
       "output_type": "stream",
       "stream": "stdout",
       "text": [
        "{:guid=>\"182133921550955233965a7049985769\", :name=>\"Task 2\", :delegate=>\"2\"}"
       ]
      },
      {
       "output_type": "stream",
       "stream": "stdout",
       "text": [
        "\n"
       ]
      },
      {
       "metadata": {},
       "output_type": "pyout",
       "prompt_number": 16,
       "text": [
        "{:guid=>\"182133921550955233965a7049985769\", :name=>\"Task 2\", :delegate=>\"2\"}"
       ]
      }
     ],
     "prompt_number": 16
    },
    {
     "cell_type": "code",
     "collapsed": false,
     "input": [
      "result = Processmaker.route_case(case_id: case1[:case_id], del_index: current_task[:delegate])\n",
      "p result"
     ],
     "language": "python",
     "metadata": {},
     "outputs": [
      {
       "output_type": "stream",
       "stream": "stdout",
       "text": [
        "I, [2015-03-18T14:13:43.095490 #70954]  INFO -- : SOAP request: http://si-dev01.si.is.co.za/sysworkflow/en/classic/services/soap2\n"
       ]
      },
      {
       "output_type": "stream",
       "stream": "stdout",
       "text": [
        "I, [2015-03-18T14:13:43.095669 #70954]  INFO -- : SOAPAction: \"urn:routeCase\", Content-Type: text/xml;charset=UTF-8, Content-Length: 476\n"
       ]
      },
      {
       "output_type": "stream",
       "stream": "stdout",
       "text": [
        "D, [2015-03-18T14:13:43.095797 #70954] DEBUG -- : <?xml version=\"1.0\" encoding=\"UTF-8\"?><env:Envelope xmlns:xsd=\"http://www.w3.org/2001/XMLSchema\" xmlns:xsi=\"http://www.w3.org/2001/XMLSchema-instance\" xmlns:xs0=\"http://www.processmaker.com\" xmlns:env=\"http://schemas.xmlsoap.org/soap/envelope/\"><env:Body><xs0:routeCaseRequest><xs0:sessionId>10099892355096b98640532098791363</xs0:sessionId><xs0:caseId>54019061255096b98991cd6033329323</xs0:caseId><xs0:delIndex>2</xs0:delIndex></xs0:routeCaseRequest></env:Body></env:Envelope>\n"
       ]
      },
      {
       "output_type": "stream",
       "stream": "stdout",
       "text": [
        "D, [2015-03-18T14:13:43.096060 #70954] DEBUG -- : HTTPI POST request to si-dev01.si.is.co.za (net_http)\n"
       ]
      },
      {
       "output_type": "stream",
       "stream": "stdout",
       "text": [
        "I, [2015-03-18T14:13:43.255764 #70954]  INFO -- : SOAP response (status 200)\n"
       ]
      },
      {
       "output_type": "stream",
       "stream": "stdout",
       "text": [
        "D, [2015-03-18T14:13:43.256029 #70954] DEBUG -- : <?xml version=\"1.0\" encoding=\"UTF-8\"?>\n",
        "<SOAP-ENV:Envelope xmlns:SOAP-ENV=\"http://schemas.xmlsoap.org/soap/envelope/\" xmlns:ns1=\"http://www.processmaker.com\"><SOAP-ENV:Body><ns1:routeCaseResponse><ns1:status_code>0</ns1:status_code><ns1:message>End of process() --- 0</ns1:message><ns1:timestamp>2015-03-18 08:12:09</ns1:timestamp></ns1:routeCaseResponse></SOAP-ENV:Body></SOAP-ENV:Envelope>\n",
        "\n"
       ]
      },
      {
       "output_type": "stream",
       "stream": "stdout",
       "text": [
        "{:status_code=>\"0\", :message=>\"End of process() --- 0\", :timestamp=>\"2015-03-18 08:12:09\"}"
       ]
      },
      {
       "output_type": "stream",
       "stream": "stdout",
       "text": [
        "\n"
       ]
      },
      {
       "metadata": {},
       "output_type": "pyout",
       "prompt_number": 17,
       "text": [
        "{:status_code=>\"0\", :message=>\"End of process() --- 0\", :timestamp=>\"2015-03-18 08:12:09\"}"
       ]
      }
     ],
     "prompt_number": 17
    },
    {
     "cell_type": "code",
     "collapsed": false,
     "input": [
      "case_info = Processmaker.get_case_info(case_id: case1[:case_id])\n",
      "p case_info\n",
      "p case_info[:case_status]"
     ],
     "language": "python",
     "metadata": {},
     "outputs": [
      {
       "output_type": "stream",
       "stream": "stdout",
       "text": [
        "I, [2015-03-18T14:13:43.262572 #70954]  INFO -- : SOAP request: http://si-dev01.si.is.co.za/sysworkflow/en/classic/services/soap2\n"
       ]
      },
      {
       "output_type": "stream",
       "stream": "stdout",
       "text": [
        "I, [2015-03-18T14:13:43.262859 #70954]  INFO -- : SOAPAction: \"urn:getCaseInfo\", Content-Type: text/xml;charset=UTF-8, Content-Length: 480\n"
       ]
      },
      {
       "output_type": "stream",
       "stream": "stdout",
       "text": [
        "D, [2015-03-18T14:13:43.262970 #70954] DEBUG -- : <?xml version=\"1.0\" encoding=\"UTF-8\"?><env:Envelope xmlns:xsd=\"http://www.w3.org/2001/XMLSchema\" xmlns:xsi=\"http://www.w3.org/2001/XMLSchema-instance\" xmlns:xs0=\"http://www.processmaker.com\" xmlns:env=\"http://schemas.xmlsoap.org/soap/envelope/\"><env:Body><xs0:getCaseInfoRequest><xs0:sessionId>10099892355096b98640532098791363</xs0:sessionId><xs0:caseId>54019061255096b98991cd6033329323</xs0:caseId><xs0:delIndex>1</xs0:delIndex></xs0:getCaseInfoRequest></env:Body></env:Envelope>\n"
       ]
      },
      {
       "output_type": "stream",
       "stream": "stdout",
       "text": [
        "D, [2015-03-18T14:13:43.263214 #70954] DEBUG -- : HTTPI POST request to si-dev01.si.is.co.za (net_http)\n"
       ]
      },
      {
       "output_type": "stream",
       "stream": "stdout",
       "text": [
        "I, [2015-03-18T14:13:43.294388 #70954]  INFO -- : SOAP response (status 200)\n"
       ]
      },
      {
       "output_type": "stream",
       "stream": "stdout",
       "text": [
        "D, [2015-03-18T14:13:43.294561 #70954] DEBUG -- : <?xml version=\"1.0\" encoding=\"UTF-8\"?>\n",
        "<SOAP-ENV:Envelope xmlns:SOAP-ENV=\"http://schemas.xmlsoap.org/soap/envelope/\" xmlns:ns1=\"http://www.processmaker.com\"><SOAP-ENV:Body><ns1:getCaseInfoResponse><ns1:status_code>0</ns1:status_code><ns1:message>Command executed successfully</ns1:message><ns1:caseId>54019061255096b98991cd6033329323</ns1:caseId><ns1:caseNumber>5</ns1:caseNumber><ns1:caseName>#5</ns1:caseName><ns1:caseStatus>COMPLETED</ns1:caseStatus><ns1:caseParalell>N</ns1:caseParalell><ns1:caseCreatorUser>46157618755094e812d03c2091230077</ns1:caseCreatorUser><ns1:caseCreatorUserName>iruby notebook</ns1:caseCreatorUserName><ns1:processId>98360219855094de74c2f21070070181</ns1:processId><ns1:processName>IRuby_notebook_demo</ns1:processName><ns1:createDate>2015-03-18 08:12:08</ns1:createDate><ns1:updateDate>2015-03-18 08:12:09</ns1:updateDate></ns1:getCaseInfoResponse></SOAP-ENV:Body></SOAP-ENV:Envelope>\n",
        "\n"
       ]
      },
      {
       "output_type": "stream",
       "stream": "stdout",
       "text": [
        "{:status_code=>\"0\", :message=>\"Command executed successfully\", :case_id=>\"54019061255096b98991cd6033329323\", :case_number=>\"5\", :case_name=>\"#5\", :case_status=>\"COMPLETED\", :case_paralell=>\"N\", :case_creator_user=>\"46157618755094e812d03c2091230077\", :case_creator_user_name=>\"iruby notebook\", :process_id=>\"98360219855094de74c2f21070070181\", :process_name=>\"IRuby_notebook_demo\", :create_date=>\"2015-03-18 08:12:08\", :update_date=>\"2015-03-18 08:12:09\"}"
       ]
      },
      {
       "output_type": "stream",
       "stream": "stdout",
       "text": [
        "\n"
       ]
      },
      {
       "output_type": "stream",
       "stream": "stdout",
       "text": [
        "\"COMPLETED\""
       ]
      },
      {
       "output_type": "stream",
       "stream": "stdout",
       "text": [
        "\n"
       ]
      },
      {
       "metadata": {},
       "output_type": "pyout",
       "prompt_number": 18,
       "text": [
        "\"COMPLETED\""
       ]
      }
     ],
     "prompt_number": 18
    }
   ],
   "metadata": {}
  }
 ]
}