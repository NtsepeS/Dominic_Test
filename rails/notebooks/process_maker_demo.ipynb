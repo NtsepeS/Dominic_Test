{
 "metadata": {
  "language": "ruby",
  "name": "",
  "signature": "sha256:61ca668281f597701564036979865d33a69407aacf13e933c6f65ae521badbb3"
 },
 "nbformat": 3,
 "nbformat_minor": 0,
 "worksheets": [
  {
   "cells": [
    {
     "cell_type": "code",
     "collapsed": false,
     "input": [
      "require \"processmaker\""
     ],
     "language": "python",
     "metadata": {},
     "outputs": [
      {
       "metadata": {},
       "output_type": "pyout",
       "prompt_number": 1,
       "text": [
        "true"
       ]
      }
     ],
     "prompt_number": 1
    },
    {
     "cell_type": "code",
     "collapsed": false,
     "input": [
      "# ProcessMaker instance\n",
      "url = 'http://si-dev01.si.is.co.za:80/sysworkflow/en/classic/services/wsdl2'\n",
      "\n",
      "# Login first\n",
      "Processmaker.login(wsdl: url, user_id: 'admin', password: 'admin')\n",
      "puts \"OK\""
     ],
     "language": "python",
     "metadata": {},
     "outputs": [
      {
       "output_type": "stream",
       "stream": "stdout",
       "text": [
        "D, [2015-03-24T08:41:38.049570 #36010] DEBUG -- : HTTPI GET request to si-dev01.si.is.co.za (net_http)\n"
       ]
      },
      {
       "output_type": "stream",
       "stream": "stdout",
       "text": [
        "I, [2015-03-24T08:41:38.131919 #36010]  INFO -- : SOAP request: http://si-dev01.si.is.co.za/sysworkflow/en/classic/services/soap2\n"
       ]
      },
      {
       "output_type": "stream",
       "stream": "stdout",
       "text": [
        "I, [2015-03-24T08:41:38.132117 #36010]  INFO -- : SOAPAction: \"http://www.processmaker.com/login\", Content-Type: text/xml;charset=UTF-8, Content-Length: 368\n"
       ]
      },
      {
       "output_type": "stream",
       "stream": "stdout",
       "text": [
        "D, [2015-03-24T08:41:38.132331 #36010] DEBUG -- : <?xml version=\"1.0\" encoding=\"UTF-8\"?><env:Envelope xmlns:xsd=\"http://www.w3.org/2001/XMLSchema\" xmlns:xsi=\"http://www.w3.org/2001/XMLSchema-instance\" xmlns:xs0=\"http://www.processmaker.com\" xmlns:env=\"http://schemas.xmlsoap.org/soap/envelope/\"><env:Body><xs0:login><xs0:userid>admin</xs0:userid><xs0:password>admin</xs0:password></xs0:login></env:Body></env:Envelope>\n"
       ]
      },
      {
       "output_type": "stream",
       "stream": "stdout",
       "text": [
        "D, [2015-03-24T08:41:38.133041 #36010] DEBUG -- : HTTPI POST request to si-dev01.si.is.co.za (net_http)\n"
       ]
      },
      {
       "output_type": "stream",
       "stream": "stdout",
       "text": [
        "I, [2015-03-24T08:41:38.175611 #36010]  INFO -- : SOAP response (status 200)\n"
       ]
      },
      {
       "output_type": "stream",
       "stream": "stdout",
       "text": [
        "D, [2015-03-24T08:41:38.175999 #36010] DEBUG -- : <?xml version=\"1.0\" encoding=\"UTF-8\"?>\n",
        "<SOAP-ENV:Envelope xmlns:SOAP-ENV=\"http://schemas.xmlsoap.org/soap/envelope/\" xmlns:ns1=\"http://www.processmaker.com\"><SOAP-ENV:Body><ns1:loginResponse><ns1:status_code>0</ns1:status_code><ns1:message>88001483155110696404493033273317</ns1:message><ns1:version>2.0</ns1:version><ns1:timestamp>2015-03-24 02:39:18</ns1:timestamp></ns1:loginResponse></SOAP-ENV:Body></SOAP-ENV:Envelope>\n",
        "\n"
       ]
      },
      {
       "output_type": "stream",
       "stream": "stdout",
       "text": [
        "OK\n"
       ]
      }
     ],
     "prompt_number": 2
    },
    {
     "cell_type": "code",
     "collapsed": false,
     "input": [
      "# Get all users\n",
      "users = Processmaker.user_list\n",
      "p users"
     ],
     "language": "python",
     "metadata": {},
     "outputs": [
      {
       "output_type": "stream",
       "stream": "stdout",
       "text": [
        "I, [2015-03-24T08:41:38.185156 #36010]  INFO -- : SOAP request: http://si-dev01.si.is.co.za/sysworkflow/en/classic/services/soap2\n"
       ]
      },
      {
       "output_type": "stream",
       "stream": "stdout",
       "text": [
        "I, [2015-03-24T08:41:38.185372 #36010]  INFO -- : SOAPAction: \"urn:userList\", Content-Type: text/xml;charset=UTF-8, Content-Length: 387\n"
       ]
      },
      {
       "output_type": "stream",
       "stream": "stdout",
       "text": [
        "D, [2015-03-24T08:41:38.185670 #36010] DEBUG -- : <?xml version=\"1.0\" encoding=\"UTF-8\"?><env:Envelope xmlns:xsd=\"http://www.w3.org/2001/XMLSchema\" xmlns:xsi=\"http://www.w3.org/2001/XMLSchema-instance\" xmlns:xs0=\"http://www.processmaker.com\" xmlns:env=\"http://schemas.xmlsoap.org/soap/envelope/\"><env:Body><xs0:userListRequest><xs0:sessionId>88001483155110696404493033273317</xs0:sessionId></xs0:userListRequest></env:Body></env:Envelope>\n"
       ]
      },
      {
       "output_type": "stream",
       "stream": "stdout",
       "text": [
        "D, [2015-03-24T08:41:38.186077 #36010] DEBUG -- : HTTPI POST request to si-dev01.si.is.co.za (net_http)\n"
       ]
      },
      {
       "output_type": "stream",
       "stream": "stdout",
       "text": [
        "I, [2015-03-24T08:41:38.219146 #36010]  INFO -- : SOAP response (status 200)\n"
       ]
      },
      {
       "output_type": "stream",
       "stream": "stdout",
       "text": [
        "D, [2015-03-24T08:41:38.219494 #36010] DEBUG -- : <?xml version=\"1.0\" encoding=\"UTF-8\"?>\n",
        "<SOAP-ENV:Envelope xmlns:SOAP-ENV=\"http://schemas.xmlsoap.org/soap/envelope/\" xmlns:ns1=\"http://www.processmaker.com\"><SOAP-ENV:Body><ns1:userListResponse><ns1:users><ns1:guid>00000000000000000000000000000001</ns1:guid><ns1:name>admin</ns1:name></ns1:users><ns1:users><ns1:guid>46157618755094e812d03c2091230077</ns1:guid><ns1:name>irubynotebook</ns1:name></ns1:users><ns1:users><ns1:guid>56664023555094b01987cd8045323362</ns1:guid><ns1:name>heisenberg</ns1:name></ns1:users></ns1:userListResponse></SOAP-ENV:Body></SOAP-ENV:Envelope>\n",
        "\n"
       ]
      },
      {
       "output_type": "stream",
       "stream": "stdout",
       "text": [
        "[{:guid=>\"00000000000000000000000000000001\", :name=>\"admin\"}, {:guid=>\"46157618755094e812d03c2091230077\", :name=>\"irubynotebook\"}, {:guid=>\"56664023555094b01987cd8045323362\", :name=>\"heisenberg\"}]"
       ]
      },
      {
       "output_type": "stream",
       "stream": "stdout",
       "text": [
        "\n"
       ]
      },
      {
       "metadata": {},
       "output_type": "pyout",
       "prompt_number": 3,
       "text": [
        "[{:guid=>\"00000000000000000000000000000001\", :name=>\"admin\"}, {:guid=>\"46157618755094e812d03c2091230077\", :name=>\"irubynotebook\"}, {:guid=>\"56664023555094b01987cd8045323362\", :name=>\"heisenberg\"}]"
       ]
      }
     ],
     "prompt_number": 3
    },
    {
     "cell_type": "code",
     "collapsed": false,
     "input": [
      "# Create a new user\n",
      "name = \"irubynotebook\"\n",
      "user_password = 'demo'"
     ],
     "language": "python",
     "metadata": {},
     "outputs": [
      {
       "metadata": {},
       "output_type": "pyout",
       "prompt_number": 4,
       "text": [
        "\"demo\""
       ]
      }
     ],
     "prompt_number": 4
    },
    {
     "cell_type": "code",
     "collapsed": false,
     "input": [],
     "language": "python",
     "metadata": {},
     "outputs": [],
     "prompt_number": 5
    },
    {
     "cell_type": "code",
     "collapsed": false,
     "input": [
      "# commeted out because I don't want to recreate the user everytime\n",
      "# user = Processmaker.create_user(\n",
      "#   user_id: name,\n",
      "#   first_name: 'iruby',\n",
      "#   last_name: 'notebook',\n",
      "#   email: 'example@whatever.com',\n",
      "#   role: 'PROCESSMAKER_ADMIN',\n",
      "#   password: user_password\n",
      "# )"
     ],
     "language": "python",
     "metadata": {},
     "outputs": [],
     "prompt_number": 6
    },
    {
     "cell_type": "code",
     "collapsed": false,
     "input": [
      "users = Processmaker.user_list()\n",
      "p users\n",
      "user = users.find { |user| user[:name] == name } \n",
      "p user\n",
      "user[:guid]"
     ],
     "language": "python",
     "metadata": {},
     "outputs": [
      {
       "output_type": "stream",
       "stream": "stdout",
       "text": [
        "I, [2015-03-24T08:41:38.238997 #36010]  INFO -- : SOAP request: http://si-dev01.si.is.co.za/sysworkflow/en/classic/services/soap2\n"
       ]
      },
      {
       "output_type": "stream",
       "stream": "stdout",
       "text": [
        "I, [2015-03-24T08:41:38.239148 #36010]  INFO -- : SOAPAction: \"urn:userList\", Content-Type: text/xml;charset=UTF-8, Content-Length: 387\n"
       ]
      },
      {
       "output_type": "stream",
       "stream": "stdout",
       "text": [
        "D, [2015-03-24T08:41:38.239296 #36010] DEBUG -- : <?xml version=\"1.0\" encoding=\"UTF-8\"?><env:Envelope xmlns:xsd=\"http://www.w3.org/2001/XMLSchema\" xmlns:xsi=\"http://www.w3.org/2001/XMLSchema-instance\" xmlns:xs0=\"http://www.processmaker.com\" xmlns:env=\"http://schemas.xmlsoap.org/soap/envelope/\"><env:Body><xs0:userListRequest><xs0:sessionId>88001483155110696404493033273317</xs0:sessionId></xs0:userListRequest></env:Body></env:Envelope>\n"
       ]
      },
      {
       "output_type": "stream",
       "stream": "stdout",
       "text": [
        "D, [2015-03-24T08:41:38.239652 #36010] DEBUG -- : HTTPI POST request to si-dev01.si.is.co.za (net_http)\n"
       ]
      },
      {
       "output_type": "stream",
       "stream": "stdout",
       "text": [
        "I, [2015-03-24T08:41:38.303088 #36010]  INFO -- : SOAP response (status 200)\n"
       ]
      },
      {
       "output_type": "stream",
       "stream": "stdout",
       "text": [
        "D, [2015-03-24T08:41:38.303311 #36010] DEBUG -- : <?xml version=\"1.0\" encoding=\"UTF-8\"?>\n",
        "<SOAP-ENV:Envelope xmlns:SOAP-ENV=\"http://schemas.xmlsoap.org/soap/envelope/\" xmlns:ns1=\"http://www.processmaker.com\"><SOAP-ENV:Body><ns1:userListResponse><ns1:users><ns1:guid>00000000000000000000000000000001</ns1:guid><ns1:name>admin</ns1:name></ns1:users><ns1:users><ns1:guid>46157618755094e812d03c2091230077</ns1:guid><ns1:name>irubynotebook</ns1:name></ns1:users><ns1:users><ns1:guid>56664023555094b01987cd8045323362</ns1:guid><ns1:name>heisenberg</ns1:name></ns1:users></ns1:userListResponse></SOAP-ENV:Body></SOAP-ENV:Envelope>\n",
        "\n"
       ]
      },
      {
       "output_type": "stream",
       "stream": "stdout",
       "text": [
        "[{:guid=>\"00000000000000000000000000000001\", :name=>\"admin\"}, {:guid=>\"46157618755094e812d03c2091230077\", :name=>\"irubynotebook\"}, {:guid=>\"56664023555094b01987cd8045323362\", :name=>\"heisenberg\"}]"
       ]
      },
      {
       "output_type": "stream",
       "stream": "stdout",
       "text": [
        "\n"
       ]
      },
      {
       "output_type": "stream",
       "stream": "stdout",
       "text": [
        "{:guid=>\"46157618755094e812d03c2091230077\", :name=>\"irubynotebook\"}"
       ]
      },
      {
       "output_type": "stream",
       "stream": "stdout",
       "text": [
        "\n"
       ]
      },
      {
       "metadata": {},
       "output_type": "pyout",
       "prompt_number": 7,
       "text": [
        "\"46157618755094e812d03c2091230077\""
       ]
      }
     ],
     "prompt_number": 7
    },
    {
     "cell_type": "code",
     "collapsed": false,
     "input": [
      "group = Processmaker.create_group(name: \"task1_operators\")\n",
      "p group[:group_uid]"
     ],
     "language": "python",
     "metadata": {},
     "outputs": [
      {
       "output_type": "stream",
       "stream": "stdout",
       "text": [
        "I, [2015-03-24T08:41:38.309907 #36010]  INFO -- : SOAP request: http://si-dev01.si.is.co.za/sysworkflow/en/classic/services/soap2\n"
       ]
      },
      {
       "output_type": "stream",
       "stream": "stdout",
       "text": [
        "I, [2015-03-24T08:41:38.310111 #36010]  INFO -- : SOAPAction: \"urn:createGroup\", Content-Type: text/xml;charset=UTF-8, Content-Length: 429\n"
       ]
      },
      {
       "output_type": "stream",
       "stream": "stdout",
       "text": [
        "D, [2015-03-24T08:41:38.310287 #36010] DEBUG -- : <?xml version=\"1.0\" encoding=\"UTF-8\"?><env:Envelope xmlns:xsd=\"http://www.w3.org/2001/XMLSchema\" xmlns:xsi=\"http://www.w3.org/2001/XMLSchema-instance\" xmlns:xs0=\"http://www.processmaker.com\" xmlns:env=\"http://schemas.xmlsoap.org/soap/envelope/\"><env:Body><xs0:createGroupRequest><xs0:sessionId>88001483155110696404493033273317</xs0:sessionId><xs0:name>task1_operators</xs0:name></xs0:createGroupRequest></env:Body></env:Envelope>\n"
       ]
      },
      {
       "output_type": "stream",
       "stream": "stdout",
       "text": [
        "D, [2015-03-24T08:41:38.310524 #36010] DEBUG -- : HTTPI POST request to si-dev01.si.is.co.za (net_http)\n"
       ]
      },
      {
       "output_type": "stream",
       "stream": "stdout",
       "text": [
        "I, [2015-03-24T08:41:38.346356 #36010]  INFO -- : SOAP response (status 200)\n"
       ]
      },
      {
       "output_type": "stream",
       "stream": "stdout",
       "text": [
        "D, [2015-03-24T08:41:38.346738 #36010] DEBUG -- : <?xml version=\"1.0\" encoding=\"UTF-8\"?>\n",
        "<SOAP-ENV:Envelope xmlns:SOAP-ENV=\"http://schemas.xmlsoap.org/soap/envelope/\" xmlns:ns1=\"http://www.processmaker.com\"><SOAP-ENV:Body><ns1:createGroupResponse><ns1:status_code>0</ns1:status_code><ns1:message>Group task1_operators created successfully</ns1:message><ns1:groupUID>5607059345511069669d3d2031543406</ns1:groupUID><ns1:timestamp>2015-03-24 02:39:18</ns1:timestamp></ns1:createGroupResponse></SOAP-ENV:Body></SOAP-ENV:Envelope>\n",
        "\n"
       ]
      },
      {
       "output_type": "stream",
       "stream": "stdout",
       "text": [
        "\"5607059345511069669d3d2031543406\""
       ]
      },
      {
       "output_type": "stream",
       "stream": "stdout",
       "text": [
        "\n"
       ]
      },
      {
       "metadata": {},
       "output_type": "pyout",
       "prompt_number": 8,
       "text": [
        "\"5607059345511069669d3d2031543406\""
       ]
      }
     ],
     "prompt_number": 8
    },
    {
     "cell_type": "code",
     "collapsed": false,
     "input": [
      "Processmaker.assign_user_to_group(group_id: group[:group_uid], user_id: user[:guid])"
     ],
     "language": "python",
     "metadata": {},
     "outputs": [
      {
       "output_type": "stream",
       "stream": "stdout",
       "text": [
        "I, [2015-03-24T08:41:38.354160 #36010]  INFO -- : SOAP request: http://si-dev01.si.is.co.za/sysworkflow/en/classic/services/soap2\n"
       ]
      },
      {
       "output_type": "stream",
       "stream": "stdout",
       "text": [
        "I, [2015-03-24T08:41:38.354321 #36010]  INFO -- : SOAPAction: \"urn:assignUserToGroup\", Content-Type: text/xml;charset=UTF-8, Content-Length: 521\n"
       ]
      },
      {
       "output_type": "stream",
       "stream": "stdout",
       "text": [
        "D, [2015-03-24T08:41:38.354495 #36010] DEBUG -- : <?xml version=\"1.0\" encoding=\"UTF-8\"?><env:Envelope xmlns:xsd=\"http://www.w3.org/2001/XMLSchema\" xmlns:xsi=\"http://www.w3.org/2001/XMLSchema-instance\" xmlns:xs0=\"http://www.processmaker.com\" xmlns:env=\"http://schemas.xmlsoap.org/soap/envelope/\"><env:Body><xs0:assignUserToGroupRequest><xs0:sessionId>88001483155110696404493033273317</xs0:sessionId><xs0:userId>46157618755094e812d03c2091230077</xs0:userId><xs0:groupId>5607059345511069669d3d2031543406</xs0:groupId></xs0:assignUserToGroupRequest></env:Body></env:Envelope>\n"
       ]
      },
      {
       "output_type": "stream",
       "stream": "stdout",
       "text": [
        "D, [2015-03-24T08:41:38.354721 #36010] DEBUG -- : HTTPI POST request to si-dev01.si.is.co.za (net_http)\n"
       ]
      },
      {
       "output_type": "stream",
       "stream": "stdout",
       "text": [
        "I, [2015-03-24T08:41:38.392220 #36010]  INFO -- : SOAP response (status 200)\n"
       ]
      },
      {
       "output_type": "stream",
       "stream": "stdout",
       "text": [
        "D, [2015-03-24T08:41:38.392452 #36010] DEBUG -- : <?xml version=\"1.0\" encoding=\"UTF-8\"?>\n",
        "<SOAP-ENV:Envelope xmlns:SOAP-ENV=\"http://schemas.xmlsoap.org/soap/envelope/\" xmlns:ns1=\"http://www.processmaker.com\"><SOAP-ENV:Body><ns1:pmResponse><ns1:status_code>0</ns1:status_code><ns1:message>command executed successfully</ns1:message><ns1:timestamp>2015-03-24 02:39:18</ns1:timestamp></ns1:pmResponse></SOAP-ENV:Body></SOAP-ENV:Envelope>\n",
        "\n"
       ]
      },
      {
       "metadata": {},
       "output_type": "pyout",
       "prompt_number": 9,
       "text": [
        "{:status_code=>\"0\", :message=>\"command executed successfully\", :timestamp=>\"2015-03-24 02:39:18\"}"
       ]
      }
     ],
     "prompt_number": 9
    },
    {
     "cell_type": "code",
     "collapsed": false,
     "input": [
      "p user[:name]\n",
      "p password: user_password\n",
      "Processmaker.login(wsdl: url, user_id: user[:name], password: user_password)"
     ],
     "language": "python",
     "metadata": {},
     "outputs": [
      {
       "output_type": "stream",
       "stream": "stdout",
       "text": [
        "\"irubynotebook\""
       ]
      },
      {
       "output_type": "stream",
       "stream": "stdout",
       "text": [
        "\n"
       ]
      },
      {
       "output_type": "stream",
       "stream": "stdout",
       "text": [
        "{:password=>\"demo\"}"
       ]
      },
      {
       "output_type": "stream",
       "stream": "stdout",
       "text": [
        "\n"
       ]
      },
      {
       "output_type": "stream",
       "stream": "stdout",
       "text": [
        "D, [2015-03-24T08:41:38.397874 #36010] DEBUG -- : HTTPI GET request to si-dev01.si.is.co.za (net_http)\n"
       ]
      },
      {
       "output_type": "stream",
       "stream": "stdout",
       "text": [
        "I, [2015-03-24T08:41:38.485463 #36010]  INFO -- : SOAP request: http://si-dev01.si.is.co.za/sysworkflow/en/classic/services/soap2\n"
       ]
      },
      {
       "output_type": "stream",
       "stream": "stdout",
       "text": [
        "I, [2015-03-24T08:41:38.485778 #36010]  INFO -- : SOAPAction: \"http://www.processmaker.com/login\", Content-Type: text/xml;charset=UTF-8, Content-Length: 375\n"
       ]
      },
      {
       "output_type": "stream",
       "stream": "stdout",
       "text": [
        "D, [2015-03-24T08:41:38.486003 #36010] DEBUG -- : <?xml version=\"1.0\" encoding=\"UTF-8\"?><env:Envelope xmlns:xsd=\"http://www.w3.org/2001/XMLSchema\" xmlns:xsi=\"http://www.w3.org/2001/XMLSchema-instance\" xmlns:xs0=\"http://www.processmaker.com\" xmlns:env=\"http://schemas.xmlsoap.org/soap/envelope/\"><env:Body><xs0:login><xs0:userid>irubynotebook</xs0:userid><xs0:password>demo</xs0:password></xs0:login></env:Body></env:Envelope>\n"
       ]
      },
      {
       "output_type": "stream",
       "stream": "stdout",
       "text": [
        "D, [2015-03-24T08:41:38.486832 #36010] DEBUG -- : HTTPI POST request to si-dev01.si.is.co.za (net_http)\n"
       ]
      },
      {
       "output_type": "stream",
       "stream": "stdout",
       "text": [
        "I, [2015-03-24T08:41:38.522478 #36010]  INFO -- : SOAP response (status 200)\n"
       ]
      },
      {
       "output_type": "stream",
       "stream": "stdout",
       "text": [
        "D, [2015-03-24T08:41:38.522702 #36010] DEBUG -- : <?xml version=\"1.0\" encoding=\"UTF-8\"?>\n",
        "<SOAP-ENV:Envelope xmlns:SOAP-ENV=\"http://schemas.xmlsoap.org/soap/envelope/\" xmlns:ns1=\"http://www.processmaker.com\"><SOAP-ENV:Body><ns1:loginResponse><ns1:status_code>0</ns1:status_code><ns1:message>76316014255110696952093021950176</ns1:message><ns1:version>2.0</ns1:version><ns1:timestamp>2015-03-24 02:39:18</ns1:timestamp></ns1:loginResponse></SOAP-ENV:Body></SOAP-ENV:Envelope>\n",
        "\n"
       ]
      },
      {
       "metadata": {},
       "output_type": "pyout",
       "prompt_number": 10,
       "text": [
        "{:status_code=>\"0\", :message=>\"76316014255110696952093021950176\", :version=>\"2.0\", :timestamp=>\"2015-03-24 02:39:18\"}"
       ]
      }
     ],
     "prompt_number": 10
    },
    {
     "cell_type": "code",
     "collapsed": false,
     "input": [
      "processes =  Processmaker.process_list()\n",
      "process = processes.find { |process| process[:name] == \"IRuby_notebook_demo\" }"
     ],
     "language": "python",
     "metadata": {},
     "outputs": [
      {
       "output_type": "stream",
       "stream": "stdout",
       "text": [
        "I, [2015-03-24T08:41:38.529575 #36010]  INFO -- : SOAP request: http://si-dev01.si.is.co.za/sysworkflow/en/classic/services/soap2\n"
       ]
      },
      {
       "output_type": "stream",
       "stream": "stdout",
       "text": [
        "I, [2015-03-24T08:41:38.529753 #36010]  INFO -- : SOAPAction: \"urn:processList\", Content-Type: text/xml;charset=UTF-8, Content-Length: 393\n"
       ]
      },
      {
       "output_type": "stream",
       "stream": "stdout",
       "text": [
        "D, [2015-03-24T08:41:38.529881 #36010] DEBUG -- : <?xml version=\"1.0\" encoding=\"UTF-8\"?><env:Envelope xmlns:xsd=\"http://www.w3.org/2001/XMLSchema\" xmlns:xsi=\"http://www.w3.org/2001/XMLSchema-instance\" xmlns:xs0=\"http://www.processmaker.com\" xmlns:env=\"http://schemas.xmlsoap.org/soap/envelope/\"><env:Body><xs0:processListRequest><xs0:sessionId>76316014255110696952093021950176</xs0:sessionId></xs0:processListRequest></env:Body></env:Envelope>\n"
       ]
      },
      {
       "output_type": "stream",
       "stream": "stdout",
       "text": [
        "D, [2015-03-24T08:41:38.530083 #36010] DEBUG -- : HTTPI POST request to si-dev01.si.is.co.za (net_http)\n"
       ]
      },
      {
       "output_type": "stream",
       "stream": "stdout",
       "text": [
        "I, [2015-03-24T08:41:38.594603 #36010]  INFO -- : SOAP response (status 200)\n"
       ]
      },
      {
       "output_type": "stream",
       "stream": "stdout",
       "text": [
        "D, [2015-03-24T08:41:38.594876 #36010] DEBUG -- : <?xml version=\"1.0\" encoding=\"UTF-8\"?>\n",
        "<SOAP-ENV:Envelope xmlns:SOAP-ENV=\"http://schemas.xmlsoap.org/soap/envelope/\" xmlns:ns1=\"http://www.processmaker.com\"><SOAP-ENV:Body><ns1:processListResponse><ns1:processes><ns1:guid>21399605055100356876379069062414</ns1:guid><ns1:name>Simple request workflow</ns1:name></ns1:processes><ns1:processes><ns1:guid>265534983550fb61da55222082054647</ns1:guid><ns1:name>Capacity Request</ns1:name></ns1:processes><ns1:processes><ns1:guid>658670893550a867bb12622076625838</ns1:guid><ns1:name>Demo</ns1:name></ns1:processes><ns1:processes><ns1:guid>98360219855094de74c2f21070070181</ns1:guid><ns1:name>IRuby_notebook_demo</ns1:name></ns1:processes></ns1:processListResponse></SOAP-ENV:Body></SOAP-ENV:Envelope>\n",
        "\n"
       ]
      },
      {
       "metadata": {},
       "output_type": "pyout",
       "prompt_number": 11,
       "text": [
        "{:guid=>\"98360219855094de74c2f21070070181\", :name=>\"IRuby_notebook_demo\"}"
       ]
      }
     ],
     "prompt_number": 11
    },
    {
     "cell_type": "code",
     "collapsed": false,
     "input": [
      "tasks = Processmaker.task_list()\n",
      "task = tasks.find { |task| task[:initial_task] == \"1\" } \n",
      "p task\n",
      "task[:process_id]\n"
     ],
     "language": "python",
     "metadata": {},
     "outputs": [
      {
       "output_type": "stream",
       "stream": "stdout",
       "text": [
        "I, [2015-03-24T08:41:38.602440 #36010]  INFO -- : SOAP request: http://si-dev01.si.is.co.za/sysworkflow/en/classic/services/soap2\n"
       ]
      },
      {
       "output_type": "stream",
       "stream": "stdout",
       "text": [
        "I, [2015-03-24T08:41:38.602613 #36010]  INFO -- : SOAPAction: \"urn:taskList\", Content-Type: text/xml;charset=UTF-8, Content-Length: 387\n"
       ]
      },
      {
       "output_type": "stream",
       "stream": "stdout",
       "text": [
        "D, [2015-03-24T08:41:38.602732 #36010] DEBUG -- : <?xml version=\"1.0\" encoding=\"UTF-8\"?><env:Envelope xmlns:xsd=\"http://www.w3.org/2001/XMLSchema\" xmlns:xsi=\"http://www.w3.org/2001/XMLSchema-instance\" xmlns:xs0=\"http://www.processmaker.com\" xmlns:env=\"http://schemas.xmlsoap.org/soap/envelope/\"><env:Body><xs0:taskListRequest><xs0:sessionId>76316014255110696952093021950176</xs0:sessionId></xs0:taskListRequest></env:Body></env:Envelope>\n"
       ]
      },
      {
       "output_type": "stream",
       "stream": "stdout",
       "text": [
        "D, [2015-03-24T08:41:38.603075 #36010] DEBUG -- : HTTPI POST request to si-dev01.si.is.co.za (net_http)\n"
       ]
      },
      {
       "output_type": "stream",
       "stream": "stdout",
       "text": [
        "I, [2015-03-24T08:41:38.635813 #36010]  INFO -- : SOAP response (status 200)\n"
       ]
      },
      {
       "output_type": "stream",
       "stream": "stdout",
       "text": [
        "D, [2015-03-24T08:41:38.636152 #36010] DEBUG -- : <?xml version=\"1.0\" encoding=\"UTF-8\"?>\n",
        "<SOAP-ENV:Envelope xmlns:SOAP-ENV=\"http://schemas.xmlsoap.org/soap/envelope/\" xmlns:ns1=\"http://www.processmaker.com\"><SOAP-ENV:Body><ns1:taskListResponse><ns1:tasks><ns1:guid>182133921550955233965a7049985769</ns1:guid><ns1:name>Task 2</ns1:name><ns1:processId>98360219855094de74c2f21070070181</ns1:processId><ns1:initialTask>0</ns1:initialTask></ns1:tasks><ns1:tasks><ns1:guid>423008737550954cfb84be0049538069</ns1:guid><ns1:name>Task 1</ns1:name><ns1:processId>98360219855094de74c2f21070070181</ns1:processId><ns1:initialTask>1</ns1:initialTask></ns1:tasks><ns1:tasks><ns1:guid>663254635550a86b2b4ff03072716004</ns1:guid><ns1:name>Task 1</ns1:name><ns1:processId>658670893550a867bb12622076625838</ns1:processId><ns1:initialTask>1</ns1:initialTask></ns1:tasks></ns1:taskListResponse></SOAP-ENV:Body></SOAP-ENV:Envelope>\n",
        "\n"
       ]
      },
      {
       "output_type": "stream",
       "stream": "stdout",
       "text": [
        "{:guid=>\"423008737550954cfb84be0049538069\", :name=>\"Task 1\", :process_id=>\"98360219855094de74c2f21070070181\", :initial_task=>\"1\"}"
       ]
      },
      {
       "output_type": "stream",
       "stream": "stdout",
       "text": [
        "\n"
       ]
      },
      {
       "metadata": {},
       "output_type": "pyout",
       "prompt_number": 12,
       "text": [
        "\"98360219855094de74c2f21070070181\""
       ]
      }
     ],
     "prompt_number": 12
    },
    {
     "cell_type": "code",
     "collapsed": false,
     "input": [
      "# Start a new case\n",
      "case1 = Processmaker.new_case(\n",
      "     process_id: process[:guid],\n",
      "     task_id: task[:guid]\n",
      ")\n",
      "p case1"
     ],
     "language": "python",
     "metadata": {},
     "outputs": [
      {
       "output_type": "stream",
       "stream": "stdout",
       "text": [
        "I, [2015-03-24T08:41:38.643933 #36010]  INFO -- : SOAP request: http://si-dev01.si.is.co.za/sysworkflow/en/classic/services/soap2\n"
       ]
      },
      {
       "output_type": "stream",
       "stream": "stdout",
       "text": [
        "I, [2015-03-24T08:41:38.644473 #36010]  INFO -- : SOAPAction: \"urn:newCase\", Content-Type: text/xml;charset=UTF-8, Content-Length: 536\n"
       ]
      },
      {
       "output_type": "stream",
       "stream": "stdout",
       "text": [
        "D, [2015-03-24T08:41:38.644596 #36010] DEBUG -- : <?xml version=\"1.0\" encoding=\"UTF-8\"?><env:Envelope xmlns:xsd=\"http://www.w3.org/2001/XMLSchema\" xmlns:xsi=\"http://www.w3.org/2001/XMLSchema-instance\" xmlns:xs0=\"http://www.processmaker.com\" xmlns:env=\"http://schemas.xmlsoap.org/soap/envelope/\"><env:Body><xs0:newCaseRequest><xs0:sessionId>76316014255110696952093021950176</xs0:sessionId><xs0:processId>98360219855094de74c2f21070070181</xs0:processId><xs0:taskId>423008737550954cfb84be0049538069</xs0:taskId><xs0:variables xsi:nil=\"true\"/></xs0:newCaseRequest></env:Body></env:Envelope>\n"
       ]
      },
      {
       "output_type": "stream",
       "stream": "stdout",
       "text": [
        "D, [2015-03-24T08:41:38.644813 #36010] DEBUG -- : HTTPI POST request to si-dev01.si.is.co.za (net_http)\n"
       ]
      },
      {
       "output_type": "stream",
       "stream": "stdout",
       "text": [
        "I, [2015-03-24T08:41:38.852363 #36010]  INFO -- : SOAP response (status 200)\n"
       ]
      },
      {
       "output_type": "stream",
       "stream": "stdout",
       "text": [
        "D, [2015-03-24T08:41:38.852671 #36010] DEBUG -- : <?xml version=\"1.0\" encoding=\"UTF-8\"?>\n",
        "<SOAP-ENV:Envelope xmlns:SOAP-ENV=\"http://schemas.xmlsoap.org/soap/envelope/\" xmlns:ns1=\"http://www.processmaker.com\"><SOAP-ENV:Body><ns1:newCaseResponse><ns1:status_code>0</ns1:status_code><ns1:message>Started successfully</ns1:message><ns1:caseId>37472300855110696c36c17051410727</ns1:caseId><ns1:caseNumber>54</ns1:caseNumber><ns1:timestamp>2015-03-24 02:39:18</ns1:timestamp></ns1:newCaseResponse></SOAP-ENV:Body></SOAP-ENV:Envelope>\n",
        "\n"
       ]
      },
      {
       "output_type": "stream",
       "stream": "stdout",
       "text": [
        "{:status_code=>\"0\", :message=>\"Started successfully\", :case_id=>\"37472300855110696c36c17051410727\", :case_number=>\"54\", :timestamp=>\"2015-03-24 02:39:18\"}"
       ]
      },
      {
       "output_type": "stream",
       "stream": "stdout",
       "text": [
        "\n"
       ]
      },
      {
       "metadata": {},
       "output_type": "pyout",
       "prompt_number": 13,
       "text": [
        "{:status_code=>\"0\", :message=>\"Started successfully\", :case_id=>\"37472300855110696c36c17051410727\", :case_number=>\"54\", :timestamp=>\"2015-03-24 02:39:18\"}"
       ]
      }
     ],
     "prompt_number": 13
    },
    {
     "cell_type": "code",
     "collapsed": false,
     "input": [
      "cases = Processmaker.case_list()\n",
      "case1_info = cases.find { |c| c[:guid] == case1[:case_id] } \n",
      "p case1_info"
     ],
     "language": "python",
     "metadata": {},
     "outputs": [
      {
       "output_type": "stream",
       "stream": "stdout",
       "text": [
        "I, [2015-03-24T08:41:38.863640 #36010]  INFO -- : SOAP request: http://si-dev01.si.is.co.za/sysworkflow/en/classic/services/soap2\n"
       ]
      },
      {
       "output_type": "stream",
       "stream": "stdout",
       "text": [
        "I, [2015-03-24T08:41:38.864110 #36010]  INFO -- : SOAPAction: \"urn:caseList\", Content-Type: text/xml;charset=UTF-8, Content-Length: 387\n"
       ]
      },
      {
       "output_type": "stream",
       "stream": "stdout",
       "text": [
        "D, [2015-03-24T08:41:38.864432 #36010] DEBUG -- : <?xml version=\"1.0\" encoding=\"UTF-8\"?><env:Envelope xmlns:xsd=\"http://www.w3.org/2001/XMLSchema\" xmlns:xsi=\"http://www.w3.org/2001/XMLSchema-instance\" xmlns:xs0=\"http://www.processmaker.com\" xmlns:env=\"http://schemas.xmlsoap.org/soap/envelope/\"><env:Body><xs0:caseListRequest><xs0:sessionId>76316014255110696952093021950176</xs0:sessionId></xs0:caseListRequest></env:Body></env:Envelope>\n"
       ]
      },
      {
       "output_type": "stream",
       "stream": "stdout",
       "text": [
        "D, [2015-03-24T08:41:38.864752 #36010] DEBUG -- : HTTPI POST request to si-dev01.si.is.co.za (net_http)\n"
       ]
      },
      {
       "output_type": "stream",
       "stream": "stdout",
       "text": [
        "I, [2015-03-24T08:41:38.916714 #36010]  INFO -- : SOAP response (status 200)\n"
       ]
      },
      {
       "output_type": "stream",
       "stream": "stdout",
       "text": [
        "D, [2015-03-24T08:41:38.916981 #36010] DEBUG -- : <?xml version=\"1.0\" encoding=\"UTF-8\"?>\n",
        "<SOAP-ENV:Envelope xmlns:SOAP-ENV=\"http://schemas.xmlsoap.org/soap/envelope/\" xmlns:ns1=\"http://www.processmaker.com\"><SOAP-ENV:Body><ns1:caseListResponse><ns1:cases><ns1:guid>37472300855110696c36c17051410727</ns1:guid><ns1:name>54</ns1:name><ns1:status>DRAFT</ns1:status><ns1:delIndex>1</ns1:delIndex><ns1:processId>98360219855094de74c2f21070070181</ns1:processId></ns1:cases><ns1:cases><ns1:guid>8937092965510fa46ca8aa7005221383</ns1:guid><ns1:name>48</ns1:name><ns1:status>TO_DO</ns1:status><ns1:delIndex>1</ns1:delIndex><ns1:processId>98360219855094de74c2f21070070181</ns1:processId></ns1:cases><ns1:cases><ns1:guid>208736094550ffe8dd99a34092516883</ns1:guid><ns1:name>46</ns1:name><ns1:status>TO_DO</ns1:status><ns1:delIndex>2</ns1:delIndex><ns1:processId>98360219855094de74c2f21070070181</ns1:processId></ns1:cases><ns1:cases><ns1:guid>678847726550fdbfdc9ffc3022477505</ns1:guid><ns1:name>43</ns1:name><ns1:status>TO_DO</ns1:status><ns1:delIndex>2</ns1:delIndex><ns1:processId>98360219855094de74c2f21070070181</ns1:processId></ns1:cases><ns1:cases><ns1:guid>548401022550fd84bad0a16098554696</ns1:guid><ns1:name>42</ns1:name><ns1:status>DRAFT</ns1:status><ns1:delIndex>1</ns1:delIndex><ns1:processId>98360219855094de74c2f21070070181</ns1:processId></ns1:cases><ns1:cases><ns1:guid>284343996550fd7a43ed643061321588</ns1:guid><ns1:name>41</ns1:name><ns1:status>DRAFT</ns1:status><ns1:delIndex>1</ns1:delIndex><ns1:processId>98360219855094de74c2f21070070181</ns1:processId></ns1:cases><ns1:cases><ns1:guid>525755352550fd1f17344d8094834463</ns1:guid><ns1:name>39</ns1:name><ns1:status>DRAFT</ns1:status><ns1:delIndex>1</ns1:delIndex><ns1:processId>98360219855094de74c2f21070070181</ns1:processId></ns1:cases><ns1:cases><ns1:guid>494940551550fd17053d2e9034950701</ns1:guid><ns1:name>38</ns1:name><ns1:status>TO_DO</ns1:status><ns1:delIndex>2</ns1:delIndex><ns1:processId>98360219855094de74c2f21070070181</ns1:processId></ns1:cases><ns1:cases><ns1:guid>213768646550fc96f6d6e80008950422</ns1:guid><ns1:name>36</ns1:name><ns1:status>DRAFT</ns1:status><ns1:delIndex>1</ns1:delIndex><ns1:processId>98360219855094de74c2f21070070181</ns1:processId></ns1:cases><ns1:cases><ns1:guid>436908469550fc4c66f40c3083427211</ns1:guid><ns1:name>33</ns1:name><ns1:status>DRAFT</ns1:status><ns1:delIndex>1</ns1:delIndex><ns1:processId>98360219855094de74c2f21070070181</ns1:processId></ns1:cases><ns1:cases><ns1:guid>482570782550c0e1aba7282040998919</ns1:guid><ns1:name>32</ns1:name><ns1:status>DRAFT</ns1:status><ns1:delIndex>1</ns1:delIndex><ns1:processId>98360219855094de74c2f21070070181</ns1:processId></ns1:cases><ns1:cases><ns1:guid>397797619550c0d2a668ec6036219903</ns1:guid><ns1:name>31</ns1:name><ns1:status>DRAFT</ns1:status><ns1:delIndex>1</ns1:delIndex><ns1:processId>98360219855094de74c2f21070070181</ns1:processId></ns1:cases><ns1:cases><ns1:guid>955800922550c0c9ae74e73018918870</ns1:guid><ns1:name>30</ns1:name><ns1:status>DRAFT</ns1:status><ns1:delIndex>1</ns1:delIndex><ns1:processId>98360219855094de74c2f21070070181</ns1:processId></ns1:cases><ns1:cases><ns1:guid>596922600550c088659ed48020162010</ns1:guid><ns1:name>29</ns1:name><ns1:status>DRAFT</ns1:status><ns1:delIndex>1</ns1:delIndex><ns1:processId>98360219855094de74c2f21070070181</ns1:processId></ns1:cases><ns1:cases><ns1:guid>237318296550c06965507d9012281898</ns1:guid><ns1:name>28</ns1:name><ns1:status>DRAFT</ns1:status><ns1:delIndex>1</ns1:delIndex><ns1:processId>98360219855094de74c2f21070070181</ns1:processId></ns1:cases><ns1:cases><ns1:guid>283573070550c026a3e20a2091712011</ns1:guid><ns1:name>27</ns1:name><ns1:status>DRAFT</ns1:status><ns1:delIndex>1</ns1:delIndex><ns1:processId>98360219855094de74c2f21070070181</ns1:processId></ns1:cases><ns1:cases><ns1:guid>632088501550bfd17570718091586381</ns1:guid><ns1:name>26</ns1:name><ns1:status>DRAFT</ns1:status><ns1:delIndex>1</ns1:delIndex><ns1:processId>98360219855094de74c2f21070070181</ns1:processId></ns1:cases><ns1:cases><ns1:guid>243234010550bf8c06f38d6046692822</ns1:guid><ns1:name>25</ns1:name><ns1:status>DRAFT</ns1:status><ns1:delIndex>1</ns1:delIndex><ns1:processId>98360219855094de74c2f21070070181</ns1:processId></ns1:cases><ns1:cases><ns1:guid>848711255550bedde81bfb4014443274</ns1:guid><ns1:name>24</ns1:name><ns1:status>DRAFT</ns1:status><ns1:delIndex>1</ns1:delIndex><ns1:processId>98360219855094de74c2f21070070181</ns1:processId></ns1:cases><ns1:cases><ns1:guid>804962189550bea75927e84027754692</ns1:guid><ns1:name>23</ns1:name><ns1:status>DRAFT</ns1:status><ns1:delIndex>1</ns1:delIndex><ns1:processId>98360219855094de74c2f21070070181</ns1:processId></ns1:cases><ns1:cases><ns1:guid>234223518550be8d33f8038000213657</ns1:guid><ns1:name>22</ns1:name><ns1:status>DRAFT</ns1:status><ns1:delIndex>1</ns1:delIndex><ns1:processId>98360219855094de74c2f21070070181</ns1:processId></ns1:cases><ns1:cases><ns1:guid>362910318550be6afdb7fb3098878611</ns1:guid><ns1:name>21</ns1:name><ns1:status>DRAFT</ns1:status><ns1:delIndex>1</ns1:delIndex><ns1:processId>98360219855094de74c2f21070070181</ns1:processId></ns1:cases><ns1:cases><ns1:guid>400788985550be6257681a1046956741</ns1:guid><ns1:name>20</ns1:name><ns1:status>DRAFT</ns1:status><ns1:delIndex>1</ns1:delIndex><ns1:processId>98360219855094de74c2f21070070181</ns1:processId></ns1:cases><ns1:cases><ns1:guid>141401808550be09dbc4360000959865</ns1:guid><ns1:name>19</ns1:name><ns1:status>DRAFT</ns1:status><ns1:delIndex>1</ns1:delIndex><ns1:processId>98360219855094de74c2f21070070181</ns1:processId></ns1:cases><ns1:cases><ns1:guid>761090587550bde1d1acf46078070193</ns1:guid><ns1:name>18</ns1:name><ns1:status>DRAFT</ns1:status><ns1:delIndex>1</ns1:delIndex><ns1:processId>98360219855094de74c2f21070070181</ns1:processId></ns1:cases><ns1:cases><ns1:guid>184078385550bdcbb100343050558793</ns1:guid><ns1:name>17</ns1:name><ns1:status>DRAFT</ns1:status><ns1:delIndex>1</ns1:delIndex><ns1:processId>98360219855094de74c2f21070070181</ns1:processId></ns1:cases><ns1:cases><ns1:guid>274821792550bd02d9140a4006137622</ns1:guid><ns1:name>16</ns1:name><ns1:status>DRAFT</ns1:status><ns1:delIndex>1</ns1:delIndex><ns1:processId>98360219855094de74c2f21070070181</ns1:processId></ns1:cases><ns1:cases><ns1:guid>388651703550bcfedd04a01034849952</ns1:guid><ns1:name>15</ns1:name><ns1:status>DRAFT</ns1:status><ns1:delIndex>1</ns1:delIndex><ns1:processId>98360219855094de74c2f21070070181</ns1:processId></ns1:cases><ns1:cases><ns1:guid>932965532550bcfcc5f17f1033422526</ns1:guid><ns1:name>14</ns1:name><ns1:status>DRAFT</ns1:status><ns1:delIndex>1</ns1:delIndex><ns1:processId>98360219855094de74c2f21070070181</ns1:processId></ns1:cases><ns1:cases><ns1:guid>792680878550bcfbbd29fe7062507921</ns1:guid><ns1:name>13</ns1:name><ns1:status>DRAFT</ns1:status><ns1:delIndex>1</ns1:delIndex><ns1:processId>98360219855094de74c2f21070070181</ns1:processId></ns1:cases><ns1:cases><ns1:guid>132979844550bcd20e35241046981854</ns1:guid><ns1:name>12</ns1:name><ns1:status>DRAFT</ns1:status><ns1:delIndex>1</ns1:delIndex><ns1:processId>98360219855094de74c2f21070070181</ns1:processId></ns1:cases><ns1:cases><ns1:guid>797851868550bcbec37e6e2042690144</ns1:guid><ns1:name>11</ns1:name><ns1:status>DRAFT</ns1:status><ns1:delIndex>1</ns1:delIndex><ns1:processId>98360219855094de74c2f21070070181</ns1:processId></ns1:cases><ns1:cases><ns1:guid>132775818550bcb92e4b897072112889</ns1:guid><ns1:name>10</ns1:name><ns1:status>DRAFT</ns1:status><ns1:delIndex>1</ns1:delIndex><ns1:processId>98360219855094de74c2f21070070181</ns1:processId></ns1:cases><ns1:cases><ns1:guid>755635250550bcb76656af8063305134</ns1:guid><ns1:name>9</ns1:name><ns1:status>DRAFT</ns1:status><ns1:delIndex>1</ns1:delIndex><ns1:processId>98360219855094de74c2f21070070181</ns1:processId></ns1:cases><ns1:cases><ns1:guid>207506336550bc8cde88145054158821</ns1:guid><ns1:name>8</ns1:name><ns1:status>DRAFT</ns1:status><ns1:delIndex>1</ns1:delIndex><ns1:processId>98360219855094de74c2f21070070181</ns1:processId></ns1:cases><ns1:cases><ns1:guid>177046091550bc8b76d06f2065623366</ns1:guid><ns1:name>7</ns1:name><ns1:status>DRAFT</ns1:status><ns1:delIndex>1</ns1:delIndex><ns1:processId>98360219855094de74c2f21070070181</ns1:processId></ns1:cases><ns1:cases><ns1:guid>280771130550bc8b041e8b1064781409</ns1:guid><ns1:name>6</ns1:name><ns1:status>DRAFT</ns1:status><ns1:delIndex>1</ns1:delIndex><ns1:processId>98360219855094de74c2f21070070181</ns1:processId></ns1:cases><ns1:cases><ns1:guid>698434432550961d7193016021833262</ns1:guid><ns1:name>2</ns1:name><ns1:status>DRAFT</ns1:status><ns1:delIndex>1</ns1:delIndex><ns1:processId>98360219855094de74c2f21070070181</ns1:processId></ns1:cases><ns1:cases><ns1:guid>36064186555095f2b156d68001769491</ns1:guid><ns1:name>1</ns1:name><ns1:status>DRAFT</ns1:status><ns1:delIndex>1</ns1:delIndex><ns1:processId>98360219855094de74c2f21070070181</ns1:processId></ns1:cases></ns1:caseListResponse></SOAP-ENV:Body></SOAP-ENV:Envelope>\n",
        "\n"
       ]
      },
      {
       "output_type": "stream",
       "stream": "stdout",
       "text": [
        "{:guid=>\"37472300855110696c36c17051410727\", :name=>\"54\", :status=>\"DRAFT\", :del_index=>\"1\", :process_id=>\"98360219855094de74c2f21070070181\"}"
       ]
      },
      {
       "output_type": "stream",
       "stream": "stdout",
       "text": [
        "\n"
       ]
      },
      {
       "metadata": {},
       "output_type": "pyout",
       "prompt_number": 14,
       "text": [
        "{:guid=>\"37472300855110696c36c17051410727\", :name=>\"54\", :status=>\"DRAFT\", :del_index=>\"1\", :process_id=>\"98360219855094de74c2f21070070181\"}"
       ]
      }
     ],
     "prompt_number": 14
    },
    {
     "cell_type": "code",
     "collapsed": false,
     "input": [],
     "language": "python",
     "metadata": {},
     "outputs": [],
     "prompt_number": 15
    },
    {
     "cell_type": "heading",
     "level": 1,
     "metadata": {},
     "source": [
      "Execute trigger to move from DRAFT to TODO"
     ]
    },
    {
     "cell_type": "code",
     "collapsed": false,
     "input": [
      "triggers = Processmaker.trigger_list()"
     ],
     "language": "python",
     "metadata": {},
     "outputs": [
      {
       "output_type": "stream",
       "stream": "stdout",
       "text": [
        "I, [2015-03-24T08:41:38.937047 #36010]  INFO -- : SOAP request: http://si-dev01.si.is.co.za/sysworkflow/en/classic/services/soap2\n"
       ]
      },
      {
       "output_type": "stream",
       "stream": "stdout",
       "text": [
        "I, [2015-03-24T08:41:38.937218 #36010]  INFO -- : SOAPAction: \"urn:triggerList\", Content-Type: text/xml;charset=UTF-8, Content-Length: 393\n"
       ]
      },
      {
       "output_type": "stream",
       "stream": "stdout",
       "text": [
        "D, [2015-03-24T08:41:38.937390 #36010] DEBUG -- : <?xml version=\"1.0\" encoding=\"UTF-8\"?><env:Envelope xmlns:xsd=\"http://www.w3.org/2001/XMLSchema\" xmlns:xsi=\"http://www.w3.org/2001/XMLSchema-instance\" xmlns:xs0=\"http://www.processmaker.com\" xmlns:env=\"http://schemas.xmlsoap.org/soap/envelope/\"><env:Body><xs0:triggerListRequest><xs0:sessionId>76316014255110696952093021950176</xs0:sessionId></xs0:triggerListRequest></env:Body></env:Envelope>\n"
       ]
      },
      {
       "output_type": "stream",
       "stream": "stdout",
       "text": [
        "D, [2015-03-24T08:41:38.937803 #36010] DEBUG -- : HTTPI POST request to si-dev01.si.is.co.za (net_http)\n"
       ]
      },
      {
       "output_type": "stream",
       "stream": "stdout",
       "text": [
        "I, [2015-03-24T08:41:38.966400 #36010]  INFO -- : SOAP response (status 200)\n"
       ]
      },
      {
       "output_type": "stream",
       "stream": "stdout",
       "text": [
        "D, [2015-03-24T08:41:38.966738 #36010] DEBUG -- : <?xml version=\"1.0\" encoding=\"UTF-8\"?>\n",
        "<SOAP-ENV:Envelope xmlns:SOAP-ENV=\"http://schemas.xmlsoap.org/soap/envelope/\" xmlns:ns1=\"http://www.processmaker.com\"><SOAP-ENV:Body><ns1:triggerListResponse><ns1:triggers><ns1:guid>1833089335510f7f584e519003140438</ns1:guid><ns1:name>SetStatusTODO</ns1:name><ns1:processId>98360219855094de74c2f21070070181</ns1:processId></ns1:triggers></ns1:triggerListResponse></SOAP-ENV:Body></SOAP-ENV:Envelope>\n",
        "\n"
       ]
      },
      {
       "metadata": {},
       "output_type": "pyout",
       "prompt_number": 16,
       "text": [
        "{:guid=>\"1833089335510f7f584e519003140438\", :name=>\"SetStatusTODO\", :process_id=>\"98360219855094de74c2f21070070181\"}"
       ]
      }
     ],
     "prompt_number": 16
    },
    {
     "cell_type": "code",
     "collapsed": false,
     "input": [
      "Processmaker.execute_trigger(trigger_index: triggers[:guid], case_id: case1[:case_id], del_index: case1_info[:del_index])"
     ],
     "language": "python",
     "metadata": {},
     "outputs": [
      {
       "output_type": "stream",
       "stream": "stdout",
       "text": [
        "I, [2015-03-24T08:41:38.976138 #36010]  INFO -- : SOAP request: http://si-dev01.si.is.co.za/sysworkflow/en/classic/services/soap2\n"
       ]
      },
      {
       "output_type": "stream",
       "stream": "stdout",
       "text": [
        "I, [2015-03-24T08:41:38.976365 #36010]  INFO -- : SOAPAction: \"urn:executeTrigger\", Content-Type: text/xml;charset=UTF-8, Content-Length: 555\n"
       ]
      },
      {
       "output_type": "stream",
       "stream": "stdout",
       "text": [
        "D, [2015-03-24T08:41:38.976511 #36010] DEBUG -- : <?xml version=\"1.0\" encoding=\"UTF-8\"?><env:Envelope xmlns:xsd=\"http://www.w3.org/2001/XMLSchema\" xmlns:xsi=\"http://www.w3.org/2001/XMLSchema-instance\" xmlns:xs0=\"http://www.processmaker.com\" xmlns:env=\"http://schemas.xmlsoap.org/soap/envelope/\"><env:Body><xs0:executeTriggerRequest><xs0:sessionId>76316014255110696952093021950176</xs0:sessionId><xs0:caseId>37472300855110696c36c17051410727</xs0:caseId><xs0:triggerIndex>1833089335510f7f584e519003140438</xs0:triggerIndex><xs0:delIndex>1</xs0:delIndex></xs0:executeTriggerRequest></env:Body></env:Envelope>\n"
       ]
      },
      {
       "output_type": "stream",
       "stream": "stdout",
       "text": [
        "D, [2015-03-24T08:41:38.976724 #36010] DEBUG -- : HTTPI POST request to si-dev01.si.is.co.za (net_http)\n"
       ]
      },
      {
       "output_type": "stream",
       "stream": "stdout",
       "text": [
        "I, [2015-03-24T08:41:39.022546 #36010]  INFO -- : SOAP response (status 200)\n"
       ]
      },
      {
       "output_type": "stream",
       "stream": "stdout",
       "text": [
        "D, [2015-03-24T08:41:39.022834 #36010] DEBUG -- : <?xml version=\"1.0\" encoding=\"UTF-8\"?>\n",
        "<SOAP-ENV:Envelope xmlns:SOAP-ENV=\"http://schemas.xmlsoap.org/soap/envelope/\" xmlns:ns1=\"http://www.processmaker.com\"><SOAP-ENV:Body><ns1:pmResponse><ns1:status_code>0</ns1:status_code><ns1:message>executed: $caseId = @@APPLICATION;\n",
        "$index = @%INDEX;\n",
        "executeQuery(\"UPDATE APPLICATION SET APP_STATUS='TO_DO' WHERE APP_UID='$caseId' AND APP_STATUS='DRAFT'\");</ns1:message><ns1:timestamp>2015-03-24 02:39:19</ns1:timestamp></ns1:pmResponse></SOAP-ENV:Body></SOAP-ENV:Envelope>\n",
        "\n"
       ]
      },
      {
       "metadata": {},
       "output_type": "pyout",
       "prompt_number": 17,
       "text": [
        "{:status_code=>\"0\", :message=>\"executed: $caseId = @@APPLICATION;\\n$index = @%INDEX;\\nexecuteQuery(\\\"UPDATE APPLICATION SET APP_STATUS='TO_DO' WHERE APP_UID='$caseId' AND APP_STATUS='DRAFT'\\\");\", :timestamp=>\"2015-03-24 02:39:19\"}"
       ]
      }
     ],
     "prompt_number": 17
    },
    {
     "cell_type": "code",
     "collapsed": false,
     "input": [
      "cases = Processmaker.case_list()\n",
      "case1_info = cases.find { |c| c[:guid] == case1[:case_id] } \n",
      "p case1_info"
     ],
     "language": "python",
     "metadata": {},
     "outputs": [
      {
       "output_type": "stream",
       "stream": "stdout",
       "text": [
        "I, [2015-03-24T08:41:39.032839 #36010]  INFO -- : SOAP request: http://si-dev01.si.is.co.za/sysworkflow/en/classic/services/soap2\n"
       ]
      },
      {
       "output_type": "stream",
       "stream": "stdout",
       "text": [
        "I, [2015-03-24T08:41:39.033012 #36010]  INFO -- : SOAPAction: \"urn:caseList\", Content-Type: text/xml;charset=UTF-8, Content-Length: 387\n"
       ]
      },
      {
       "output_type": "stream",
       "stream": "stdout",
       "text": [
        "D, [2015-03-24T08:41:39.033252 #36010] DEBUG -- : <?xml version=\"1.0\" encoding=\"UTF-8\"?><env:Envelope xmlns:xsd=\"http://www.w3.org/2001/XMLSchema\" xmlns:xsi=\"http://www.w3.org/2001/XMLSchema-instance\" xmlns:xs0=\"http://www.processmaker.com\" xmlns:env=\"http://schemas.xmlsoap.org/soap/envelope/\"><env:Body><xs0:caseListRequest><xs0:sessionId>76316014255110696952093021950176</xs0:sessionId></xs0:caseListRequest></env:Body></env:Envelope>\n"
       ]
      },
      {
       "output_type": "stream",
       "stream": "stdout",
       "text": [
        "D, [2015-03-24T08:41:39.033560 #36010] DEBUG -- : HTTPI POST request to si-dev01.si.is.co.za (net_http)\n"
       ]
      },
      {
       "output_type": "stream",
       "stream": "stdout",
       "text": [
        "I, [2015-03-24T08:41:39.068975 #36010]  INFO -- : SOAP response (status 200)\n"
       ]
      },
      {
       "output_type": "stream",
       "stream": "stdout",
       "text": [
        "D, [2015-03-24T08:41:39.069439 #36010] DEBUG -- : <?xml version=\"1.0\" encoding=\"UTF-8\"?>\n",
        "<SOAP-ENV:Envelope xmlns:SOAP-ENV=\"http://schemas.xmlsoap.org/soap/envelope/\" xmlns:ns1=\"http://www.processmaker.com\"><SOAP-ENV:Body><ns1:caseListResponse><ns1:cases><ns1:guid>37472300855110696c36c17051410727</ns1:guid><ns1:name>54</ns1:name><ns1:status>TO_DO</ns1:status><ns1:delIndex>1</ns1:delIndex><ns1:processId>98360219855094de74c2f21070070181</ns1:processId></ns1:cases><ns1:cases><ns1:guid>8937092965510fa46ca8aa7005221383</ns1:guid><ns1:name>48</ns1:name><ns1:status>TO_DO</ns1:status><ns1:delIndex>1</ns1:delIndex><ns1:processId>98360219855094de74c2f21070070181</ns1:processId></ns1:cases><ns1:cases><ns1:guid>208736094550ffe8dd99a34092516883</ns1:guid><ns1:name>46</ns1:name><ns1:status>TO_DO</ns1:status><ns1:delIndex>2</ns1:delIndex><ns1:processId>98360219855094de74c2f21070070181</ns1:processId></ns1:cases><ns1:cases><ns1:guid>678847726550fdbfdc9ffc3022477505</ns1:guid><ns1:name>43</ns1:name><ns1:status>TO_DO</ns1:status><ns1:delIndex>2</ns1:delIndex><ns1:processId>98360219855094de74c2f21070070181</ns1:processId></ns1:cases><ns1:cases><ns1:guid>548401022550fd84bad0a16098554696</ns1:guid><ns1:name>42</ns1:name><ns1:status>DRAFT</ns1:status><ns1:delIndex>1</ns1:delIndex><ns1:processId>98360219855094de74c2f21070070181</ns1:processId></ns1:cases><ns1:cases><ns1:guid>284343996550fd7a43ed643061321588</ns1:guid><ns1:name>41</ns1:name><ns1:status>DRAFT</ns1:status><ns1:delIndex>1</ns1:delIndex><ns1:processId>98360219855094de74c2f21070070181</ns1:processId></ns1:cases><ns1:cases><ns1:guid>525755352550fd1f17344d8094834463</ns1:guid><ns1:name>39</ns1:name><ns1:status>DRAFT</ns1:status><ns1:delIndex>1</ns1:delIndex><ns1:processId>98360219855094de74c2f21070070181</ns1:processId></ns1:cases><ns1:cases><ns1:guid>494940551550fd17053d2e9034950701</ns1:guid><ns1:name>38</ns1:name><ns1:status>TO_DO</ns1:status><ns1:delIndex>2</ns1:delIndex><ns1:processId>98360219855094de74c2f21070070181</ns1:processId></ns1:cases><ns1:cases><ns1:guid>213768646550fc96f6d6e80008950422</ns1:guid><ns1:name>36</ns1:name><ns1:status>DRAFT</ns1:status><ns1:delIndex>1</ns1:delIndex><ns1:processId>98360219855094de74c2f21070070181</ns1:processId></ns1:cases><ns1:cases><ns1:guid>436908469550fc4c66f40c3083427211</ns1:guid><ns1:name>33</ns1:name><ns1:status>DRAFT</ns1:status><ns1:delIndex>1</ns1:delIndex><ns1:processId>98360219855094de74c2f21070070181</ns1:processId></ns1:cases><ns1:cases><ns1:guid>482570782550c0e1aba7282040998919</ns1:guid><ns1:name>32</ns1:name><ns1:status>DRAFT</ns1:status><ns1:delIndex>1</ns1:delIndex><ns1:processId>98360219855094de74c2f21070070181</ns1:processId></ns1:cases><ns1:cases><ns1:guid>397797619550c0d2a668ec6036219903</ns1:guid><ns1:name>31</ns1:name><ns1:status>DRAFT</ns1:status><ns1:delIndex>1</ns1:delIndex><ns1:processId>98360219855094de74c2f21070070181</ns1:processId></ns1:cases><ns1:cases><ns1:guid>955800922550c0c9ae74e73018918870</ns1:guid><ns1:name>30</ns1:name><ns1:status>DRAFT</ns1:status><ns1:delIndex>1</ns1:delIndex><ns1:processId>98360219855094de74c2f21070070181</ns1:processId></ns1:cases><ns1:cases><ns1:guid>596922600550c088659ed48020162010</ns1:guid><ns1:name>29</ns1:name><ns1:status>DRAFT</ns1:status><ns1:delIndex>1</ns1:delIndex><ns1:processId>98360219855094de74c2f21070070181</ns1:processId></ns1:cases><ns1:cases><ns1:guid>237318296550c06965507d9012281898</ns1:guid><ns1:name>28</ns1:name><ns1:status>DRAFT</ns1:status><ns1:delIndex>1</ns1:delIndex><ns1:processId>98360219855094de74c2f21070070181</ns1:processId></ns1:cases><ns1:cases><ns1:guid>283573070550c026a3e20a2091712011</ns1:guid><ns1:name>27</ns1:name><ns1:status>DRAFT</ns1:status><ns1:delIndex>1</ns1:delIndex><ns1:processId>98360219855094de74c2f21070070181</ns1:processId></ns1:cases><ns1:cases><ns1:guid>632088501550bfd17570718091586381</ns1:guid><ns1:name>26</ns1:name><ns1:status>DRAFT</ns1:status><ns1:delIndex>1</ns1:delIndex><ns1:processId>98360219855094de74c2f21070070181</ns1:processId></ns1:cases><ns1:cases><ns1:guid>243234010550bf8c06f38d6046692822</ns1:guid><ns1:name>25</ns1:name><ns1:status>DRAFT</ns1:status><ns1:delIndex>1</ns1:delIndex><ns1:processId>98360219855094de74c2f21070070181</ns1:processId></ns1:cases><ns1:cases><ns1:guid>848711255550bedde81bfb4014443274</ns1:guid><ns1:name>24</ns1:name><ns1:status>DRAFT</ns1:status><ns1:delIndex>1</ns1:delIndex><ns1:processId>98360219855094de74c2f21070070181</ns1:processId></ns1:cases><ns1:cases><ns1:guid>804962189550bea75927e84027754692</ns1:guid><ns1:name>23</ns1:name><ns1:status>DRAFT</ns1:status><ns1:delIndex>1</ns1:delIndex><ns1:processId>98360219855094de74c2f21070070181</ns1:processId></ns1:cases><ns1:cases><ns1:guid>234223518550be8d33f8038000213657</ns1:guid><ns1:name>22</ns1:name><ns1:status>DRAFT</ns1:status><ns1:delIndex>1</ns1:delIndex><ns1:processId>98360219855094de74c2f21070070181</ns1:processId></ns1:cases><ns1:cases><ns1:guid>362910318550be6afdb7fb3098878611</ns1:guid><ns1:name>21</ns1:name><ns1:status>DRAFT</ns1:status><ns1:delIndex>1</ns1:delIndex><ns1:processId>98360219855094de74c2f21070070181</ns1:processId></ns1:cases><ns1:cases><ns1:guid>400788985550be6257681a1046956741</ns1:guid><ns1:name>20</ns1:name><ns1:status>DRAFT</ns1:status><ns1:delIndex>1</ns1:delIndex><ns1:processId>98360219855094de74c2f21070070181</ns1:processId></ns1:cases><ns1:cases><ns1:guid>141401808550be09dbc4360000959865</ns1:guid><ns1:name>19</ns1:name><ns1:status>DRAFT</ns1:status><ns1:delIndex>1</ns1:delIndex><ns1:processId>98360219855094de74c2f21070070181</ns1:processId></ns1:cases><ns1:cases><ns1:guid>761090587550bde1d1acf46078070193</ns1:guid><ns1:name>18</ns1:name><ns1:status>DRAFT</ns1:status><ns1:delIndex>1</ns1:delIndex><ns1:processId>98360219855094de74c2f21070070181</ns1:processId></ns1:cases><ns1:cases><ns1:guid>184078385550bdcbb100343050558793</ns1:guid><ns1:name>17</ns1:name><ns1:status>DRAFT</ns1:status><ns1:delIndex>1</ns1:delIndex><ns1:processId>98360219855094de74c2f21070070181</ns1:processId></ns1:cases><ns1:cases><ns1:guid>274821792550bd02d9140a4006137622</ns1:guid><ns1:name>16</ns1:name><ns1:status>DRAFT</ns1:status><ns1:delIndex>1</ns1:delIndex><ns1:processId>98360219855094de74c2f21070070181</ns1:processId></ns1:cases><ns1:cases><ns1:guid>388651703550bcfedd04a01034849952</ns1:guid><ns1:name>15</ns1:name><ns1:status>DRAFT</ns1:status><ns1:delIndex>1</ns1:delIndex><ns1:processId>98360219855094de74c2f21070070181</ns1:processId></ns1:cases><ns1:cases><ns1:guid>932965532550bcfcc5f17f1033422526</ns1:guid><ns1:name>14</ns1:name><ns1:status>DRAFT</ns1:status><ns1:delIndex>1</ns1:delIndex><ns1:processId>98360219855094de74c2f21070070181</ns1:processId></ns1:cases><ns1:cases><ns1:guid>792680878550bcfbbd29fe7062507921</ns1:guid><ns1:name>13</ns1:name><ns1:status>DRAFT</ns1:status><ns1:delIndex>1</ns1:delIndex><ns1:processId>98360219855094de74c2f21070070181</ns1:processId></ns1:cases><ns1:cases><ns1:guid>132979844550bcd20e35241046981854</ns1:guid><ns1:name>12</ns1:name><ns1:status>DRAFT</ns1:status><ns1:delIndex>1</ns1:delIndex><ns1:processId>98360219855094de74c2f21070070181</ns1:processId></ns1:cases><ns1:cases><ns1:guid>797851868550bcbec37e6e2042690144</ns1:guid><ns1:name>11</ns1:name><ns1:status>DRAFT</ns1:status><ns1:delIndex>1</ns1:delIndex><ns1:processId>98360219855094de74c2f21070070181</ns1:processId></ns1:cases><ns1:cases><ns1:guid>132775818550bcb92e4b897072112889</ns1:guid><ns1:name>10</ns1:name><ns1:status>DRAFT</ns1:status><ns1:delIndex>1</ns1:delIndex><ns1:processId>98360219855094de74c2f21070070181</ns1:processId></ns1:cases><ns1:cases><ns1:guid>755635250550bcb76656af8063305134</ns1:guid><ns1:name>9</ns1:name><ns1:status>DRAFT</ns1:status><ns1:delIndex>1</ns1:delIndex><ns1:processId>98360219855094de74c2f21070070181</ns1:processId></ns1:cases><ns1:cases><ns1:guid>207506336550bc8cde88145054158821</ns1:guid><ns1:name>8</ns1:name><ns1:status>DRAFT</ns1:status><ns1:delIndex>1</ns1:delIndex><ns1:processId>98360219855094de74c2f21070070181</ns1:processId></ns1:cases><ns1:cases><ns1:guid>177046091550bc8b76d06f2065623366</ns1:guid><ns1:name>7</ns1:name><ns1:status>DRAFT</ns1:status><ns1:delIndex>1</ns1:delIndex><ns1:processId>98360219855094de74c2f21070070181</ns1:processId></ns1:cases><ns1:cases><ns1:guid>280771130550bc8b041e8b1064781409</ns1:guid><ns1:name>6</ns1:name><ns1:status>DRAFT</ns1:status><ns1:delIndex>1</ns1:delIndex><ns1:processId>98360219855094de74c2f21070070181</ns1:processId></ns1:cases><ns1:cases><ns1:guid>698434432550961d7193016021833262</ns1:guid><ns1:name>2</ns1:name><ns1:status>DRAFT</ns1:status><ns1:delIndex>1</ns1:delIndex><ns1:processId>98360219855094de74c2f21070070181</ns1:processId></ns1:cases><ns1:cases><ns1:guid>36064186555095f2b156d68001769491</ns1:guid><ns1:name>1</ns1:name><ns1:status>DRAFT</ns1:status><ns1:delIndex>1</ns1:delIndex><ns1:processId>98360219855094de74c2f21070070181</ns1:processId></ns1:cases></ns1:caseListResponse></SOAP-ENV:Body></SOAP-ENV:Envelope>\n",
        "\n"
       ]
      },
      {
       "output_type": "stream",
       "stream": "stdout",
       "text": [
        "{:guid=>\"37472300855110696c36c17051410727\", :name=>\"54\", :status=>\"TO_DO\", :del_index=>\"1\", :process_id=>\"98360219855094de74c2f21070070181\"}"
       ]
      },
      {
       "output_type": "stream",
       "stream": "stdout",
       "text": [
        "\n"
       ]
      },
      {
       "metadata": {},
       "output_type": "pyout",
       "prompt_number": 18,
       "text": [
        "{:guid=>\"37472300855110696c36c17051410727\", :name=>\"54\", :status=>\"TO_DO\", :del_index=>\"1\", :process_id=>\"98360219855094de74c2f21070070181\"}"
       ]
      }
     ],
     "prompt_number": 18
    },
    {
     "cell_type": "heading",
     "level": 1,
     "metadata": {},
     "source": [
      "Task assignment:"
     ]
    },
    {
     "cell_type": "code",
     "collapsed": false,
     "input": [
      "Processmaker.unassigned_case_list()"
     ],
     "language": "python",
     "metadata": {},
     "outputs": [
      {
       "output_type": "stream",
       "stream": "stdout",
       "text": [
        "I, [2015-03-24T08:41:39.086171 #36010]  INFO -- : SOAP request: http://si-dev01.si.is.co.za/sysworkflow/en/classic/services/soap2\n"
       ]
      },
      {
       "output_type": "stream",
       "stream": "stdout",
       "text": [
        "I, [2015-03-24T08:41:39.086335 #36010]  INFO -- : SOAPAction: \"urn:unassignedCaseList\", Content-Type: text/xml;charset=UTF-8, Content-Length: 407\n"
       ]
      },
      {
       "output_type": "stream",
       "stream": "stdout",
       "text": [
        "D, [2015-03-24T08:41:39.086437 #36010] DEBUG -- : <?xml version=\"1.0\" encoding=\"UTF-8\"?><env:Envelope xmlns:xsd=\"http://www.w3.org/2001/XMLSchema\" xmlns:xsi=\"http://www.w3.org/2001/XMLSchema-instance\" xmlns:xs0=\"http://www.processmaker.com\" xmlns:env=\"http://schemas.xmlsoap.org/soap/envelope/\"><env:Body><xs0:unassignedCaseListRequest><xs0:sessionId>76316014255110696952093021950176</xs0:sessionId></xs0:unassignedCaseListRequest></env:Body></env:Envelope>\n"
       ]
      },
      {
       "output_type": "stream",
       "stream": "stdout",
       "text": [
        "D, [2015-03-24T08:41:39.086654 #36010] DEBUG -- : HTTPI POST request to si-dev01.si.is.co.za (net_http)\n"
       ]
      },
      {
       "output_type": "stream",
       "stream": "stdout",
       "text": [
        "I, [2015-03-24T08:41:39.119636 #36010]  INFO -- : SOAP response (status 200)\n"
       ]
      },
      {
       "output_type": "stream",
       "stream": "stdout",
       "text": [
        "D, [2015-03-24T08:41:39.120097 #36010] DEBUG -- : <?xml version=\"1.0\" encoding=\"UTF-8\"?>\n",
        "<SOAP-ENV:Envelope xmlns:SOAP-ENV=\"http://schemas.xmlsoap.org/soap/envelope/\" xmlns:ns1=\"http://www.processmaker.com\"><SOAP-ENV:Body><ns1:unassignedCaseListResponse/></SOAP-ENV:Body></SOAP-ENV:Envelope>\n",
        "\n"
       ]
      },
      {
       "output_type": "stream",
       "stream": "stdout",
       "text": [
        "\u001b[1;31mnil\u001b[0m\n"
       ]
      }
     ],
     "prompt_number": 19
    },
    {
     "cell_type": "code",
     "collapsed": false,
     "input": [
      "Processmaker.case_list()"
     ],
     "language": "python",
     "metadata": {},
     "outputs": [
      {
       "output_type": "stream",
       "stream": "stdout",
       "text": [
        "I, [2015-03-24T08:43:13.399659 #36010]  INFO -- : SOAP request: http://si-dev01.si.is.co.za/sysworkflow/en/classic/services/soap2\n"
       ]
      },
      {
       "output_type": "stream",
       "stream": "stdout",
       "text": [
        "I, [2015-03-24T08:43:13.399834 #36010]  INFO -- : SOAPAction: \"urn:caseList\", Content-Type: text/xml;charset=UTF-8, Content-Length: 387\n"
       ]
      },
      {
       "output_type": "stream",
       "stream": "stdout",
       "text": [
        "D, [2015-03-24T08:43:13.400037 #36010] DEBUG -- : <?xml version=\"1.0\" encoding=\"UTF-8\"?><env:Envelope xmlns:xsd=\"http://www.w3.org/2001/XMLSchema\" xmlns:xsi=\"http://www.w3.org/2001/XMLSchema-instance\" xmlns:xs0=\"http://www.processmaker.com\" xmlns:env=\"http://schemas.xmlsoap.org/soap/envelope/\"><env:Body><xs0:caseListRequest><xs0:sessionId>76316014255110696952093021950176</xs0:sessionId></xs0:caseListRequest></env:Body></env:Envelope>\n"
       ]
      },
      {
       "output_type": "stream",
       "stream": "stdout",
       "text": [
        "D, [2015-03-24T08:43:13.400266 #36010] DEBUG -- : HTTPI POST request to si-dev01.si.is.co.za (net_http)\n"
       ]
      },
      {
       "output_type": "stream",
       "stream": "stdout",
       "text": [
        "I, [2015-03-24T08:43:13.482283 #36010]  INFO -- : SOAP response (status 200)\n"
       ]
      },
      {
       "output_type": "stream",
       "stream": "stdout",
       "text": [
        "D, [2015-03-24T08:43:13.482548 #36010] DEBUG -- : <?xml version=\"1.0\" encoding=\"UTF-8\"?>\n",
        "<SOAP-ENV:Envelope xmlns:SOAP-ENV=\"http://schemas.xmlsoap.org/soap/envelope/\" xmlns:ns1=\"http://www.processmaker.com\"><SOAP-ENV:Body><ns1:caseListResponse><ns1:cases><ns1:guid>8937092965510fa46ca8aa7005221383</ns1:guid><ns1:name>48</ns1:name><ns1:status>TO_DO</ns1:status><ns1:delIndex>1</ns1:delIndex><ns1:processId>98360219855094de74c2f21070070181</ns1:processId></ns1:cases><ns1:cases><ns1:guid>208736094550ffe8dd99a34092516883</ns1:guid><ns1:name>46</ns1:name><ns1:status>TO_DO</ns1:status><ns1:delIndex>2</ns1:delIndex><ns1:processId>98360219855094de74c2f21070070181</ns1:processId></ns1:cases><ns1:cases><ns1:guid>678847726550fdbfdc9ffc3022477505</ns1:guid><ns1:name>43</ns1:name><ns1:status>TO_DO</ns1:status><ns1:delIndex>2</ns1:delIndex><ns1:processId>98360219855094de74c2f21070070181</ns1:processId></ns1:cases><ns1:cases><ns1:guid>548401022550fd84bad0a16098554696</ns1:guid><ns1:name>42</ns1:name><ns1:status>DRAFT</ns1:status><ns1:delIndex>1</ns1:delIndex><ns1:processId>98360219855094de74c2f21070070181</ns1:processId></ns1:cases><ns1:cases><ns1:guid>284343996550fd7a43ed643061321588</ns1:guid><ns1:name>41</ns1:name><ns1:status>DRAFT</ns1:status><ns1:delIndex>1</ns1:delIndex><ns1:processId>98360219855094de74c2f21070070181</ns1:processId></ns1:cases><ns1:cases><ns1:guid>525755352550fd1f17344d8094834463</ns1:guid><ns1:name>39</ns1:name><ns1:status>DRAFT</ns1:status><ns1:delIndex>1</ns1:delIndex><ns1:processId>98360219855094de74c2f21070070181</ns1:processId></ns1:cases><ns1:cases><ns1:guid>494940551550fd17053d2e9034950701</ns1:guid><ns1:name>38</ns1:name><ns1:status>TO_DO</ns1:status><ns1:delIndex>2</ns1:delIndex><ns1:processId>98360219855094de74c2f21070070181</ns1:processId></ns1:cases><ns1:cases><ns1:guid>213768646550fc96f6d6e80008950422</ns1:guid><ns1:name>36</ns1:name><ns1:status>DRAFT</ns1:status><ns1:delIndex>1</ns1:delIndex><ns1:processId>98360219855094de74c2f21070070181</ns1:processId></ns1:cases><ns1:cases><ns1:guid>436908469550fc4c66f40c3083427211</ns1:guid><ns1:name>33</ns1:name><ns1:status>DRAFT</ns1:status><ns1:delIndex>1</ns1:delIndex><ns1:processId>98360219855094de74c2f21070070181</ns1:processId></ns1:cases><ns1:cases><ns1:guid>482570782550c0e1aba7282040998919</ns1:guid><ns1:name>32</ns1:name><ns1:status>DRAFT</ns1:status><ns1:delIndex>1</ns1:delIndex><ns1:processId>98360219855094de74c2f21070070181</ns1:processId></ns1:cases><ns1:cases><ns1:guid>397797619550c0d2a668ec6036219903</ns1:guid><ns1:name>31</ns1:name><ns1:status>DRAFT</ns1:status><ns1:delIndex>1</ns1:delIndex><ns1:processId>98360219855094de74c2f21070070181</ns1:processId></ns1:cases><ns1:cases><ns1:guid>955800922550c0c9ae74e73018918870</ns1:guid><ns1:name>30</ns1:name><ns1:status>DRAFT</ns1:status><ns1:delIndex>1</ns1:delIndex><ns1:processId>98360219855094de74c2f21070070181</ns1:processId></ns1:cases><ns1:cases><ns1:guid>596922600550c088659ed48020162010</ns1:guid><ns1:name>29</ns1:name><ns1:status>DRAFT</ns1:status><ns1:delIndex>1</ns1:delIndex><ns1:processId>98360219855094de74c2f21070070181</ns1:processId></ns1:cases><ns1:cases><ns1:guid>237318296550c06965507d9012281898</ns1:guid><ns1:name>28</ns1:name><ns1:status>DRAFT</ns1:status><ns1:delIndex>1</ns1:delIndex><ns1:processId>98360219855094de74c2f21070070181</ns1:processId></ns1:cases><ns1:cases><ns1:guid>283573070550c026a3e20a2091712011</ns1:guid><ns1:name>27</ns1:name><ns1:status>DRAFT</ns1:status><ns1:delIndex>1</ns1:delIndex><ns1:processId>98360219855094de74c2f21070070181</ns1:processId></ns1:cases><ns1:cases><ns1:guid>632088501550bfd17570718091586381</ns1:guid><ns1:name>26</ns1:name><ns1:status>DRAFT</ns1:status><ns1:delIndex>1</ns1:delIndex><ns1:processId>98360219855094de74c2f21070070181</ns1:processId></ns1:cases><ns1:cases><ns1:guid>243234010550bf8c06f38d6046692822</ns1:guid><ns1:name>25</ns1:name><ns1:status>DRAFT</ns1:status><ns1:delIndex>1</ns1:delIndex><ns1:processId>98360219855094de74c2f21070070181</ns1:processId></ns1:cases><ns1:cases><ns1:guid>848711255550bedde81bfb4014443274</ns1:guid><ns1:name>24</ns1:name><ns1:status>DRAFT</ns1:status><ns1:delIndex>1</ns1:delIndex><ns1:processId>98360219855094de74c2f21070070181</ns1:processId></ns1:cases><ns1:cases><ns1:guid>804962189550bea75927e84027754692</ns1:guid><ns1:name>23</ns1:name><ns1:status>DRAFT</ns1:status><ns1:delIndex>1</ns1:delIndex><ns1:processId>98360219855094de74c2f21070070181</ns1:processId></ns1:cases><ns1:cases><ns1:guid>234223518550be8d33f8038000213657</ns1:guid><ns1:name>22</ns1:name><ns1:status>DRAFT</ns1:status><ns1:delIndex>1</ns1:delIndex><ns1:processId>98360219855094de74c2f21070070181</ns1:processId></ns1:cases><ns1:cases><ns1:guid>362910318550be6afdb7fb3098878611</ns1:guid><ns1:name>21</ns1:name><ns1:status>DRAFT</ns1:status><ns1:delIndex>1</ns1:delIndex><ns1:processId>98360219855094de74c2f21070070181</ns1:processId></ns1:cases><ns1:cases><ns1:guid>400788985550be6257681a1046956741</ns1:guid><ns1:name>20</ns1:name><ns1:status>DRAFT</ns1:status><ns1:delIndex>1</ns1:delIndex><ns1:processId>98360219855094de74c2f21070070181</ns1:processId></ns1:cases><ns1:cases><ns1:guid>141401808550be09dbc4360000959865</ns1:guid><ns1:name>19</ns1:name><ns1:status>DRAFT</ns1:status><ns1:delIndex>1</ns1:delIndex><ns1:processId>98360219855094de74c2f21070070181</ns1:processId></ns1:cases><ns1:cases><ns1:guid>761090587550bde1d1acf46078070193</ns1:guid><ns1:name>18</ns1:name><ns1:status>DRAFT</ns1:status><ns1:delIndex>1</ns1:delIndex><ns1:processId>98360219855094de74c2f21070070181</ns1:processId></ns1:cases><ns1:cases><ns1:guid>184078385550bdcbb100343050558793</ns1:guid><ns1:name>17</ns1:name><ns1:status>DRAFT</ns1:status><ns1:delIndex>1</ns1:delIndex><ns1:processId>98360219855094de74c2f21070070181</ns1:processId></ns1:cases><ns1:cases><ns1:guid>274821792550bd02d9140a4006137622</ns1:guid><ns1:name>16</ns1:name><ns1:status>DRAFT</ns1:status><ns1:delIndex>1</ns1:delIndex><ns1:processId>98360219855094de74c2f21070070181</ns1:processId></ns1:cases><ns1:cases><ns1:guid>388651703550bcfedd04a01034849952</ns1:guid><ns1:name>15</ns1:name><ns1:status>DRAFT</ns1:status><ns1:delIndex>1</ns1:delIndex><ns1:processId>98360219855094de74c2f21070070181</ns1:processId></ns1:cases><ns1:cases><ns1:guid>932965532550bcfcc5f17f1033422526</ns1:guid><ns1:name>14</ns1:name><ns1:status>DRAFT</ns1:status><ns1:delIndex>1</ns1:delIndex><ns1:processId>98360219855094de74c2f21070070181</ns1:processId></ns1:cases><ns1:cases><ns1:guid>792680878550bcfbbd29fe7062507921</ns1:guid><ns1:name>13</ns1:name><ns1:status>DRAFT</ns1:status><ns1:delIndex>1</ns1:delIndex><ns1:processId>98360219855094de74c2f21070070181</ns1:processId></ns1:cases><ns1:cases><ns1:guid>132979844550bcd20e35241046981854</ns1:guid><ns1:name>12</ns1:name><ns1:status>DRAFT</ns1:status><ns1:delIndex>1</ns1:delIndex><ns1:processId>98360219855094de74c2f21070070181</ns1:processId></ns1:cases><ns1:cases><ns1:guid>797851868550bcbec37e6e2042690144</ns1:guid><ns1:name>11</ns1:name><ns1:status>DRAFT</ns1:status><ns1:delIndex>1</ns1:delIndex><ns1:processId>98360219855094de74c2f21070070181</ns1:processId></ns1:cases><ns1:cases><ns1:guid>132775818550bcb92e4b897072112889</ns1:guid><ns1:name>10</ns1:name><ns1:status>DRAFT</ns1:status><ns1:delIndex>1</ns1:delIndex><ns1:processId>98360219855094de74c2f21070070181</ns1:processId></ns1:cases><ns1:cases><ns1:guid>755635250550bcb76656af8063305134</ns1:guid><ns1:name>9</ns1:name><ns1:status>DRAFT</ns1:status><ns1:delIndex>1</ns1:delIndex><ns1:processId>98360219855094de74c2f21070070181</ns1:processId></ns1:cases><ns1:cases><ns1:guid>207506336550bc8cde88145054158821</ns1:guid><ns1:name>8</ns1:name><ns1:status>DRAFT</ns1:status><ns1:delIndex>1</ns1:delIndex><ns1:processId>98360219855094de74c2f21070070181</ns1:processId></ns1:cases><ns1:cases><ns1:guid>177046091550bc8b76d06f2065623366</ns1:guid><ns1:name>7</ns1:name><ns1:status>DRAFT</ns1:status><ns1:delIndex>1</ns1:delIndex><ns1:processId>98360219855094de74c2f21070070181</ns1:processId></ns1:cases><ns1:cases><ns1:guid>280771130550bc8b041e8b1064781409</ns1:guid><ns1:name>6</ns1:name><ns1:status>DRAFT</ns1:status><ns1:delIndex>1</ns1:delIndex><ns1:processId>98360219855094de74c2f21070070181</ns1:processId></ns1:cases><ns1:cases><ns1:guid>698434432550961d7193016021833262</ns1:guid><ns1:name>2</ns1:name><ns1:status>DRAFT</ns1:status><ns1:delIndex>1</ns1:delIndex><ns1:processId>98360219855094de74c2f21070070181</ns1:processId></ns1:cases><ns1:cases><ns1:guid>36064186555095f2b156d68001769491</ns1:guid><ns1:name>1</ns1:name><ns1:status>DRAFT</ns1:status><ns1:delIndex>1</ns1:delIndex><ns1:processId>98360219855094de74c2f21070070181</ns1:processId></ns1:cases></ns1:caseListResponse></SOAP-ENV:Body></SOAP-ENV:Envelope>\n",
        "\n"
       ]
      },
      {
       "metadata": {},
       "output_type": "pyout",
       "prompt_number": 27,
       "text": [
        "[{:guid=>\"8937092965510fa46ca8aa7005221383\", :name=>\"48\", :status=>\"TO_DO\", :del_index=>\"1\", :process_id=>\"98360219855094de74c2f21070070181\"}, {:guid=>\"208736094550ffe8dd99a34092516883\", :name=>\"46\", :status=>\"TO_DO\", :del_index=>\"2\", :process_id=>\"98360219855094de74c2f21070070181\"}, {:guid=>\"678847726550fdbfdc9ffc3022477505\", :name=>\"43\", :status=>\"TO_DO\", :del_index=>\"2\", :process_id=>\"98360219855094de74c2f21070070181\"}, {:guid=>\"548401022550fd84bad0a16098554696\", :name=>\"42\", :status=>\"DRAFT\", :del_index=>\"1\", :process_id=>\"98360219855094de74c2f21070070181\"}, {:guid=>\"284343996550fd7a43ed643061321588\", :name=>\"41\", :status=>\"DRAFT\", :del_index=>\"1\", :process_id=>\"98360219855094de74c2f21070070181\"}, {:guid=>\"525755352550fd1f17344d8094834463\", :name=>\"39\", :status=>\"DRAFT\", :del_index=>\"1\", :process_id=>\"98360219855094de74c2f21070070181\"}, {:guid=>\"494940551550fd17053d2e9034950701\", :name=>\"38\", :status=>\"TO_DO\", :del_index=>\"2\", :process_id=>\"98360219855094de74c2f21070070181\"}, {:guid=>\"213768646550fc96f6d6e80008950422\", :name=>\"36\", :status=>\"DRAFT\", :del_index=>\"1\", :process_id=>\"98360219855094de74c2f21070070181\"}, {:guid=>\"436908469550fc4c66f40c3083427211\", :name=>\"33\", :status=>\"DRAFT\", :del_index=>\"1\", :process_id=>\"98360219855094de74c2f21070070181\"}, {:guid=>\"482570782550c0e1aba7282040998919\", :name=>\"32\", :status=>\"DRAFT\", :del_index=>\"1\", :process_id=>\"98360219855094de74c2f21070070181\"}, {:guid=>\"397797619550c0d2a668ec6036219903\", :name=>\"31\", :status=>\"DRAFT\", :del_index=>\"1\", :process_id=>\"98360219855094de74c2f21070070181\"}, {:guid=>\"955800922550c0c9ae74e73018918870\", :name=>\"30\", :status=>\"DRAFT\", :del_index=>\"1\", :process_id=>\"98360219855094de74c2f21070070181\"}, {:guid=>\"596922600550c088659ed48020162010\", :name=>\"29\", :status=>\"DRAFT\", :del_index=>\"1\", :process_id=>\"98360219855094de74c2f21070070181\"}, {:guid=>\"237318296550c06965507d9012281898\", :name=>\"28\", :status=>\"DRAFT\", :del_index=>\"1\", :process_id=>\"98360219855094de74c2f21070070181\"}, {:guid=>\"283573070550c026a3e20a2091712011\", :name=>\"27\", :status=>\"DRAFT\", :del_index=>\"1\", :process_id=>\"98360219855094de74c2f21070070181\"}, {:guid=>\"632088501550bfd17570718091586381\", :name=>\"26\", :status=>\"DRAFT\", :del_index=>\"1\", :process_id=>\"98360219855094de74c2f21070070181\"}, {:guid=>\"243234010550bf8c06f38d6046692822\", :name=>\"25\", :status=>\"DRAFT\", :del_index=>\"1\", :process_id=>\"98360219855094de74c2f21070070181\"}, {:guid=>\"848711255550bedde81bfb4014443274\", :name=>\"24\", :status=>\"DRAFT\", :del_index=>\"1\", :process_id=>\"98360219855094de74c2f21070070181\"}, {:guid=>\"804962189550bea75927e84027754692\", :name=>\"23\", :status=>\"DRAFT\", :del_index=>\"1\", :process_id=>\"98360219855094de74c2f21070070181\"}, {:guid=>\"234223518550be8d33f8038000213657\", :name=>\"22\", :status=>\"DRAFT\", :del_index=>\"1\", :process_id=>\"98360219855094de74c2f21070070181\"}, {:guid=>\"362910318550be6afdb7fb3098878611\", :name=>\"21\", :status=>\"DRAFT\", :del_index=>\"1\", :process_id=>\"98360219855094de74c2f21070070181\"}, {:guid=>\"400788985550be6257681a1046956741\", :name=>\"20\", :status=>\"DRAFT\", :del_index=>\"1\", :process_id=>\"98360219855094de74c2f21070070181\"}, {:guid=>\"141401808550be09dbc4360000959865\", :name=>\"19\", :status=>\"DRAFT\", :del_index=>\"1\", :process_id=>\"98360219855094de74c2f21070070181\"}, {:guid=>\"761090587550bde1d1acf46078070193\", :name=>\"18\", :status=>\"DRAFT\", :del_index=>\"1\", :process_id=>\"98360219855094de74c2f21070070181\"}, {:guid=>\"184078385550bdcbb100343050558793\", :name=>\"17\", :status=>\"DRAFT\", :del_index=>\"1\", :process_id=>\"98360219855094de74c2f21070070181\"}, {:guid=>\"274821792550bd02d9140a4006137622\", :name=>\"16\", :status=>\"DRAFT\", :del_index=>\"1\", :process_id=>\"98360219855094de74c2f21070070181\"}, {:guid=>\"388651703550bcfedd04a01034849952\", :name=>\"15\", :status=>\"DRAFT\", :del_index=>\"1\", :process_id=>\"98360219855094de74c2f21070070181\"}, {:guid=>\"932965532550bcfcc5f17f1033422526\", :name=>\"14\", :status=>\"DRAFT\", :del_index=>\"1\", :process_id=>\"98360219855094de74c2f21070070181\"}, {:guid=>\"792680878550bcfbbd29fe7062507921\", :name=>\"13\", :status=>\"DRAFT\", :del_index=>\"1\", :process_id=>\"98360219855094de74c2f21070070181\"}, {:guid=>\"132979844550bcd20e35241046981854\", :name=>\"12\", :status=>\"DRAFT\", :del_index=>\"1\", :process_id=>\"98360219855094de74c2f21070070181\"}, {:guid=>\"797851868550bcbec37e6e2042690144\", :name=>\"11\", :status=>\"DRAFT\", :del_index=>\"1\", :process_id=>\"98360219855094de74c2f21070070181\"}, {:guid=>\"132775818550bcb92e4b897072112889\", :name=>\"10\", :status=>\"DRAFT\", :del_index=>\"1\", :process_id=>\"98360219855094de74c2f21070070181\"}, {:guid=>\"755635250550bcb76656af8063305134\", :name=>\"9\", :status=>\"DRAFT\", :del_index=>\"1\", :process_id=>\"98360219855094de74c2f21070070181\"}, {:guid=>\"207506336550bc8cde88145054158821\", :name=>\"8\", :status=>\"DRAFT\", :del_index=>\"1\", :process_id=>\"98360219855094de74c2f21070070181\"}, {:guid=>\"177046091550bc8b76d06f2065623366\", :name=>\"7\", :status=>\"DRAFT\", :del_index=>\"1\", :process_id=>\"98360219855094de74c2f21070070181\"}, {:guid=>\"280771130550bc8b041e8b1064781409\", :name=>\"6\", :status=>\"DRAFT\", :del_index=>\"1\", :process_id=>\"98360219855094de74c2f21070070181\"}, {:guid=>\"698434432550961d7193016021833262\", :name=>\"2\", :status=>\"DRAFT\", :del_index=>\"1\", :process_id=>\"98360219855094de74c2f21070070181\"}, {:guid=>\"36064186555095f2b156d68001769491\", :name=>\"1\", :status=>\"DRAFT\", :del_index=>\"1\", :process_id=>\"98360219855094de74c2f21070070181\"}]"
       ]
      }
     ],
     "prompt_number": 27
    },
    {
     "cell_type": "heading",
     "level": 1,
     "metadata": {},
     "source": [
      "Route a case (aka move to next task in process)"
     ]
    },
    {
     "cell_type": "code",
     "collapsed": false,
     "input": [
      "result = Processmaker.route_case(case_id: case1[:case_id], del_index: case1_info[:del_index])\n",
      "p result"
     ],
     "language": "python",
     "metadata": {},
     "outputs": [
      {
       "output_type": "stream",
       "stream": "stdout",
       "text": [
        "I, [2015-03-24T08:41:39.130803 #36010]  INFO -- : SOAP request: http://si-dev01.si.is.co.za/sysworkflow/en/classic/services/soap2\n"
       ]
      },
      {
       "output_type": "stream",
       "stream": "stdout",
       "text": [
        "I, [2015-03-24T08:41:39.131009 #36010]  INFO -- : SOAPAction: \"urn:routeCase\", Content-Type: text/xml;charset=UTF-8, Content-Length: 476\n"
       ]
      },
      {
       "output_type": "stream",
       "stream": "stdout",
       "text": [
        "D, [2015-03-24T08:41:39.131148 #36010] DEBUG -- : <?xml version=\"1.0\" encoding=\"UTF-8\"?><env:Envelope xmlns:xsd=\"http://www.w3.org/2001/XMLSchema\" xmlns:xsi=\"http://www.w3.org/2001/XMLSchema-instance\" xmlns:xs0=\"http://www.processmaker.com\" xmlns:env=\"http://schemas.xmlsoap.org/soap/envelope/\"><env:Body><xs0:routeCaseRequest><xs0:sessionId>76316014255110696952093021950176</xs0:sessionId><xs0:caseId>37472300855110696c36c17051410727</xs0:caseId><xs0:delIndex>1</xs0:delIndex></xs0:routeCaseRequest></env:Body></env:Envelope>\n"
       ]
      },
      {
       "output_type": "stream",
       "stream": "stdout",
       "text": [
        "D, [2015-03-24T08:41:39.131358 #36010] DEBUG -- : HTTPI POST request to si-dev01.si.is.co.za (net_http)\n"
       ]
      },
      {
       "output_type": "stream",
       "stream": "stdout",
       "text": [
        "I, [2015-03-24T08:41:39.300732 #36010]  INFO -- : SOAP response (status 200)\n"
       ]
      },
      {
       "output_type": "stream",
       "stream": "stdout",
       "text": [
        "D, [2015-03-24T08:41:39.301049 #36010] DEBUG -- : <?xml version=\"1.0\" encoding=\"UTF-8\"?>\n",
        "<SOAP-ENV:Envelope xmlns:SOAP-ENV=\"http://schemas.xmlsoap.org/soap/envelope/\" xmlns:ns1=\"http://www.processmaker.com\"><SOAP-ENV:Body><ns1:routeCaseResponse><ns1:status_code>0</ns1:status_code><ns1:message>Task 2(irubynotebook) --- 0</ns1:message><ns1:timestamp>2015-03-24 02:39:19</ns1:timestamp><ns1:routing><ns1:userId>46157618755094e812d03c2091230077</ns1:userId><ns1:userName>iruby notebook</ns1:userName><ns1:taskId>182133921550955233965a7049985769</ns1:taskId><ns1:taskName>Task 2</ns1:taskName><ns1:delIndex>2</ns1:delIndex><ns1:delThread>1</ns1:delThread><ns1:delThreadStatus>OPEN</ns1:delThreadStatus></ns1:routing></ns1:routeCaseResponse></SOAP-ENV:Body></SOAP-ENV:Envelope>\n",
        "\n"
       ]
      },
      {
       "output_type": "stream",
       "stream": "stdout",
       "text": [
        "{:status_code=>\"0\", :message=>\"Task 2(irubynotebook) --- 0\", :timestamp=>\"2015-03-24 02:39:19\", :routing=>{:user_id=>\"46157618755094e812d03c2091230077\", :user_name=>\"iruby notebook\", :task_id=>\"182133921550955233965a7049985769\", :task_name=>\"Task 2\", :del_index=>\"2\", :del_thread=>\"1\", :del_thread_status=>\"OPEN\"}}"
       ]
      },
      {
       "output_type": "stream",
       "stream": "stdout",
       "text": [
        "\n"
       ]
      },
      {
       "metadata": {},
       "output_type": "pyout",
       "prompt_number": 21,
       "text": [
        "{:status_code=>\"0\", :message=>\"Task 2(irubynotebook) --- 0\", :timestamp=>\"2015-03-24 02:39:19\", :routing=>{:user_id=>\"46157618755094e812d03c2091230077\", :user_name=>\"iruby notebook\", :task_id=>\"182133921550955233965a7049985769\", :task_name=>\"Task 2\", :del_index=>\"2\", :del_thread=>\"1\", :del_thread_status=>\"OPEN\"}}"
       ]
      }
     ],
     "prompt_number": 21
    },
    {
     "cell_type": "code",
     "collapsed": false,
     "input": [
      "current_task = Processmaker.task_case(case_id: case1[:case_id])\n",
      "p current_task"
     ],
     "language": "python",
     "metadata": {},
     "outputs": [
      {
       "output_type": "stream",
       "stream": "stdout",
       "text": [
        "I, [2015-03-24T08:41:39.313199 #36010]  INFO -- : SOAP request: http://si-dev01.si.is.co.za/sysworkflow/en/classic/services/soap2\n"
       ]
      },
      {
       "output_type": "stream",
       "stream": "stdout",
       "text": [
        "I, [2015-03-24T08:41:39.313360 #36010]  INFO -- : SOAPAction: \"urn:taskCase\", Content-Type: text/xml;charset=UTF-8, Content-Length: 444\n"
       ]
      },
      {
       "output_type": "stream",
       "stream": "stdout",
       "text": [
        "D, [2015-03-24T08:41:39.313465 #36010] DEBUG -- : <?xml version=\"1.0\" encoding=\"UTF-8\"?><env:Envelope xmlns:xsd=\"http://www.w3.org/2001/XMLSchema\" xmlns:xsi=\"http://www.w3.org/2001/XMLSchema-instance\" xmlns:xs0=\"http://www.processmaker.com\" xmlns:env=\"http://schemas.xmlsoap.org/soap/envelope/\"><env:Body><xs0:taskCaseRequest><xs0:sessionId>76316014255110696952093021950176</xs0:sessionId><xs0:caseId>37472300855110696c36c17051410727</xs0:caseId></xs0:taskCaseRequest></env:Body></env:Envelope>\n"
       ]
      },
      {
       "output_type": "stream",
       "stream": "stdout",
       "text": [
        "D, [2015-03-24T08:41:39.313679 #36010] DEBUG -- : HTTPI POST request to si-dev01.si.is.co.za (net_http)\n"
       ]
      },
      {
       "output_type": "stream",
       "stream": "stdout",
       "text": [
        "I, [2015-03-24T08:41:39.347646 #36010]  INFO -- : SOAP response (status 200)\n"
       ]
      },
      {
       "output_type": "stream",
       "stream": "stdout",
       "text": [
        "D, [2015-03-24T08:41:39.347953 #36010] DEBUG -- : <?xml version=\"1.0\" encoding=\"UTF-8\"?>\n",
        "<SOAP-ENV:Envelope xmlns:SOAP-ENV=\"http://schemas.xmlsoap.org/soap/envelope/\" xmlns:ns1=\"http://www.processmaker.com\"><SOAP-ENV:Body><ns1:taskCaseResponse><ns1:taskCases><ns1:guid>182133921550955233965a7049985769</ns1:guid><ns1:name>Task 2</ns1:name><ns1:delegate>2</ns1:delegate></ns1:taskCases></ns1:taskCaseResponse></SOAP-ENV:Body></SOAP-ENV:Envelope>\n",
        "\n"
       ]
      },
      {
       "output_type": "stream",
       "stream": "stdout",
       "text": [
        "{:guid=>\"182133921550955233965a7049985769\", :name=>\"Task 2\", :delegate=>\"2\"}"
       ]
      },
      {
       "output_type": "stream",
       "stream": "stdout",
       "text": [
        "\n"
       ]
      },
      {
       "metadata": {},
       "output_type": "pyout",
       "prompt_number": 22,
       "text": [
        "{:guid=>\"182133921550955233965a7049985769\", :name=>\"Task 2\", :delegate=>\"2\"}"
       ]
      }
     ],
     "prompt_number": 22
    },
    {
     "cell_type": "code",
     "collapsed": false,
     "input": [
      "result = Processmaker.route_case(case_id: case1[:case_id], del_index: current_task[:delegate])\n",
      "p result"
     ],
     "language": "python",
     "metadata": {},
     "outputs": [
      {
       "output_type": "stream",
       "stream": "stdout",
       "text": [
        "I, [2015-03-24T08:41:39.357900 #36010]  INFO -- : SOAP request: http://si-dev01.si.is.co.za/sysworkflow/en/classic/services/soap2\n"
       ]
      },
      {
       "output_type": "stream",
       "stream": "stdout",
       "text": [
        "I, [2015-03-24T08:41:39.358073 #36010]  INFO -- : SOAPAction: \"urn:routeCase\", Content-Type: text/xml;charset=UTF-8, Content-Length: 476\n"
       ]
      },
      {
       "output_type": "stream",
       "stream": "stdout",
       "text": [
        "D, [2015-03-24T08:41:39.358185 #36010] DEBUG -- : <?xml version=\"1.0\" encoding=\"UTF-8\"?><env:Envelope xmlns:xsd=\"http://www.w3.org/2001/XMLSchema\" xmlns:xsi=\"http://www.w3.org/2001/XMLSchema-instance\" xmlns:xs0=\"http://www.processmaker.com\" xmlns:env=\"http://schemas.xmlsoap.org/soap/envelope/\"><env:Body><xs0:routeCaseRequest><xs0:sessionId>76316014255110696952093021950176</xs0:sessionId><xs0:caseId>37472300855110696c36c17051410727</xs0:caseId><xs0:delIndex>2</xs0:delIndex></xs0:routeCaseRequest></env:Body></env:Envelope>\n"
       ]
      },
      {
       "output_type": "stream",
       "stream": "stdout",
       "text": [
        "D, [2015-03-24T08:41:39.358549 #36010] DEBUG -- : HTTPI POST request to si-dev01.si.is.co.za (net_http)\n"
       ]
      },
      {
       "output_type": "stream",
       "stream": "stdout",
       "text": [
        "I, [2015-03-24T08:41:39.465152 #36010]  INFO -- : SOAP response (status 200)\n"
       ]
      },
      {
       "output_type": "stream",
       "stream": "stdout",
       "text": [
        "D, [2015-03-24T08:41:39.465435 #36010] DEBUG -- : <?xml version=\"1.0\" encoding=\"UTF-8\"?>\n",
        "<SOAP-ENV:Envelope xmlns:SOAP-ENV=\"http://schemas.xmlsoap.org/soap/envelope/\" xmlns:ns1=\"http://www.processmaker.com\"><SOAP-ENV:Body><ns1:routeCaseResponse><ns1:status_code>0</ns1:status_code><ns1:message>End of process() --- 0</ns1:message><ns1:timestamp>2015-03-24 02:39:19</ns1:timestamp></ns1:routeCaseResponse></SOAP-ENV:Body></SOAP-ENV:Envelope>\n",
        "\n"
       ]
      },
      {
       "output_type": "stream",
       "stream": "stdout",
       "text": [
        "{:status_code=>\"0\", :message=>\"End of process() --- 0\", :timestamp=>\"2015-03-24 02:39:19\"}"
       ]
      },
      {
       "output_type": "stream",
       "stream": "stdout",
       "text": [
        "\n"
       ]
      },
      {
       "metadata": {},
       "output_type": "pyout",
       "prompt_number": 23,
       "text": [
        "{:status_code=>\"0\", :message=>\"End of process() --- 0\", :timestamp=>\"2015-03-24 02:39:19\"}"
       ]
      }
     ],
     "prompt_number": 23
    },
    {
     "cell_type": "code",
     "collapsed": false,
     "input": [
      "case_info = Processmaker.get_case_info(case_id: case1[:case_id])\n",
      "p case_info\n",
      "p case_info[:case_status]"
     ],
     "language": "python",
     "metadata": {},
     "outputs": [
      {
       "output_type": "stream",
       "stream": "stdout",
       "text": [
        "I, [2015-03-24T08:41:39.475849 #36010]  INFO -- : SOAP request: http://si-dev01.si.is.co.za/sysworkflow/en/classic/services/soap2\n"
       ]
      },
      {
       "output_type": "stream",
       "stream": "stdout",
       "text": [
        "I, [2015-03-24T08:41:39.476098 #36010]  INFO -- : SOAPAction: \"urn:getCaseInfo\", Content-Type: text/xml;charset=UTF-8, Content-Length: 480\n"
       ]
      },
      {
       "output_type": "stream",
       "stream": "stdout",
       "text": [
        "D, [2015-03-24T08:41:39.476216 #36010] DEBUG -- : <?xml version=\"1.0\" encoding=\"UTF-8\"?><env:Envelope xmlns:xsd=\"http://www.w3.org/2001/XMLSchema\" xmlns:xsi=\"http://www.w3.org/2001/XMLSchema-instance\" xmlns:xs0=\"http://www.processmaker.com\" xmlns:env=\"http://schemas.xmlsoap.org/soap/envelope/\"><env:Body><xs0:getCaseInfoRequest><xs0:sessionId>76316014255110696952093021950176</xs0:sessionId><xs0:caseId>37472300855110696c36c17051410727</xs0:caseId><xs0:delIndex>1</xs0:delIndex></xs0:getCaseInfoRequest></env:Body></env:Envelope>\n"
       ]
      },
      {
       "output_type": "stream",
       "stream": "stdout",
       "text": [
        "D, [2015-03-24T08:41:39.476449 #36010] DEBUG -- : HTTPI POST request to si-dev01.si.is.co.za (net_http)\n"
       ]
      },
      {
       "output_type": "stream",
       "stream": "stdout",
       "text": [
        "I, [2015-03-24T08:41:39.519526 #36010]  INFO -- : SOAP response (status 200)\n"
       ]
      },
      {
       "output_type": "stream",
       "stream": "stdout",
       "text": [
        "D, [2015-03-24T08:41:39.520063 #36010] DEBUG -- : <?xml version=\"1.0\" encoding=\"UTF-8\"?>\n",
        "<SOAP-ENV:Envelope xmlns:SOAP-ENV=\"http://schemas.xmlsoap.org/soap/envelope/\" xmlns:ns1=\"http://www.processmaker.com\"><SOAP-ENV:Body><ns1:getCaseInfoResponse><ns1:status_code>0</ns1:status_code><ns1:message>Command executed successfully</ns1:message><ns1:caseId>37472300855110696c36c17051410727</ns1:caseId><ns1:caseNumber>54</ns1:caseNumber><ns1:caseName>#54</ns1:caseName><ns1:caseStatus>COMPLETED</ns1:caseStatus><ns1:caseParalell>N</ns1:caseParalell><ns1:caseCreatorUser>46157618755094e812d03c2091230077</ns1:caseCreatorUser><ns1:caseCreatorUserName>iruby notebook</ns1:caseCreatorUserName><ns1:processId>98360219855094de74c2f21070070181</ns1:processId><ns1:processName>IRuby_notebook_demo</ns1:processName><ns1:createDate>2015-03-24 02:39:18</ns1:createDate><ns1:updateDate>2015-03-24 02:39:19</ns1:updateDate></ns1:getCaseInfoResponse></SOAP-ENV:Body></SOAP-ENV:Envelope>\n",
        "\n"
       ]
      },
      {
       "output_type": "stream",
       "stream": "stdout",
       "text": [
        "{:status_code=>\"0\", :message=>\"Command executed successfully\", :case_id=>\"37472300855110696c36c17051410727\", :case_number=>\"54\", :case_name=>\"#54\", :case_status=>\"COMPLETED\", :case_paralell=>\"N\", :case_creator_user=>\"46157618755094e812d03c2091230077\", :case_creator_user_name=>\"iruby notebook\", :process_id=>\"98360219855094de74c2f21070070181\", :process_name=>\"IRuby_notebook_demo\", :create_date=>\"2015-03-24 02:39:18\", :update_date=>\"2015-03-24 02:39:19\"}"
       ]
      },
      {
       "output_type": "stream",
       "stream": "stdout",
       "text": [
        "\n"
       ]
      },
      {
       "output_type": "stream",
       "stream": "stdout",
       "text": [
        "\"COMPLETED\""
       ]
      },
      {
       "output_type": "stream",
       "stream": "stdout",
       "text": [
        "\n"
       ]
      },
      {
       "metadata": {},
       "output_type": "pyout",
       "prompt_number": 24,
       "text": [
        "\"COMPLETED\""
       ]
      }
     ],
     "prompt_number": 24
    },
    {
     "cell_type": "heading",
     "level": 1,
     "metadata": {},
     "source": [
      "Variables:"
     ]
    },
    {
     "cell_type": "code",
     "collapsed": false,
     "input": [
      "cases = Processmaker.case_list()\n",
      "# p cases\n",
      "case36 = cases.find { |c| c[:name] == '38' } \n",
      "p case36\n",
      "\n"
     ],
     "language": "python",
     "metadata": {},
     "outputs": [
      {
       "output_type": "stream",
       "stream": "stdout",
       "text": [
        "I, [2015-03-24T08:41:39.530883 #36010]  INFO -- : SOAP request: http://si-dev01.si.is.co.za/sysworkflow/en/classic/services/soap2\n"
       ]
      },
      {
       "output_type": "stream",
       "stream": "stdout",
       "text": [
        "I, [2015-03-24T08:41:39.531030 #36010]  INFO -- : SOAPAction: \"urn:caseList\", Content-Type: text/xml;charset=UTF-8, Content-Length: 387\n"
       ]
      },
      {
       "output_type": "stream",
       "stream": "stdout",
       "text": [
        "D, [2015-03-24T08:41:39.531147 #36010] DEBUG -- : <?xml version=\"1.0\" encoding=\"UTF-8\"?><env:Envelope xmlns:xsd=\"http://www.w3.org/2001/XMLSchema\" xmlns:xsi=\"http://www.w3.org/2001/XMLSchema-instance\" xmlns:xs0=\"http://www.processmaker.com\" xmlns:env=\"http://schemas.xmlsoap.org/soap/envelope/\"><env:Body><xs0:caseListRequest><xs0:sessionId>76316014255110696952093021950176</xs0:sessionId></xs0:caseListRequest></env:Body></env:Envelope>\n"
       ]
      },
      {
       "output_type": "stream",
       "stream": "stdout",
       "text": [
        "D, [2015-03-24T08:41:39.531395 #36010] DEBUG -- : HTTPI POST request to si-dev01.si.is.co.za (net_http)\n"
       ]
      },
      {
       "output_type": "stream",
       "stream": "stdout",
       "text": [
        "I, [2015-03-24T08:41:39.567833 #36010]  INFO -- : SOAP response (status 200)\n"
       ]
      },
      {
       "output_type": "stream",
       "stream": "stdout",
       "text": [
        "D, [2015-03-24T08:41:39.568117 #36010] DEBUG -- : <?xml version=\"1.0\" encoding=\"UTF-8\"?>\n",
        "<SOAP-ENV:Envelope xmlns:SOAP-ENV=\"http://schemas.xmlsoap.org/soap/envelope/\" xmlns:ns1=\"http://www.processmaker.com\"><SOAP-ENV:Body><ns1:caseListResponse><ns1:cases><ns1:guid>8937092965510fa46ca8aa7005221383</ns1:guid><ns1:name>48</ns1:name><ns1:status>TO_DO</ns1:status><ns1:delIndex>1</ns1:delIndex><ns1:processId>98360219855094de74c2f21070070181</ns1:processId></ns1:cases><ns1:cases><ns1:guid>208736094550ffe8dd99a34092516883</ns1:guid><ns1:name>46</ns1:name><ns1:status>TO_DO</ns1:status><ns1:delIndex>2</ns1:delIndex><ns1:processId>98360219855094de74c2f21070070181</ns1:processId></ns1:cases><ns1:cases><ns1:guid>678847726550fdbfdc9ffc3022477505</ns1:guid><ns1:name>43</ns1:name><ns1:status>TO_DO</ns1:status><ns1:delIndex>2</ns1:delIndex><ns1:processId>98360219855094de74c2f21070070181</ns1:processId></ns1:cases><ns1:cases><ns1:guid>548401022550fd84bad0a16098554696</ns1:guid><ns1:name>42</ns1:name><ns1:status>DRAFT</ns1:status><ns1:delIndex>1</ns1:delIndex><ns1:processId>98360219855094de74c2f21070070181</ns1:processId></ns1:cases><ns1:cases><ns1:guid>284343996550fd7a43ed643061321588</ns1:guid><ns1:name>41</ns1:name><ns1:status>DRAFT</ns1:status><ns1:delIndex>1</ns1:delIndex><ns1:processId>98360219855094de74c2f21070070181</ns1:processId></ns1:cases><ns1:cases><ns1:guid>525755352550fd1f17344d8094834463</ns1:guid><ns1:name>39</ns1:name><ns1:status>DRAFT</ns1:status><ns1:delIndex>1</ns1:delIndex><ns1:processId>98360219855094de74c2f21070070181</ns1:processId></ns1:cases><ns1:cases><ns1:guid>494940551550fd17053d2e9034950701</ns1:guid><ns1:name>38</ns1:name><ns1:status>TO_DO</ns1:status><ns1:delIndex>2</ns1:delIndex><ns1:processId>98360219855094de74c2f21070070181</ns1:processId></ns1:cases><ns1:cases><ns1:guid>213768646550fc96f6d6e80008950422</ns1:guid><ns1:name>36</ns1:name><ns1:status>DRAFT</ns1:status><ns1:delIndex>1</ns1:delIndex><ns1:processId>98360219855094de74c2f21070070181</ns1:processId></ns1:cases><ns1:cases><ns1:guid>436908469550fc4c66f40c3083427211</ns1:guid><ns1:name>33</ns1:name><ns1:status>DRAFT</ns1:status><ns1:delIndex>1</ns1:delIndex><ns1:processId>98360219855094de74c2f21070070181</ns1:processId></ns1:cases><ns1:cases><ns1:guid>482570782550c0e1aba7282040998919</ns1:guid><ns1:name>32</ns1:name><ns1:status>DRAFT</ns1:status><ns1:delIndex>1</ns1:delIndex><ns1:processId>98360219855094de74c2f21070070181</ns1:processId></ns1:cases><ns1:cases><ns1:guid>397797619550c0d2a668ec6036219903</ns1:guid><ns1:name>31</ns1:name><ns1:status>DRAFT</ns1:status><ns1:delIndex>1</ns1:delIndex><ns1:processId>98360219855094de74c2f21070070181</ns1:processId></ns1:cases><ns1:cases><ns1:guid>955800922550c0c9ae74e73018918870</ns1:guid><ns1:name>30</ns1:name><ns1:status>DRAFT</ns1:status><ns1:delIndex>1</ns1:delIndex><ns1:processId>98360219855094de74c2f21070070181</ns1:processId></ns1:cases><ns1:cases><ns1:guid>596922600550c088659ed48020162010</ns1:guid><ns1:name>29</ns1:name><ns1:status>DRAFT</ns1:status><ns1:delIndex>1</ns1:delIndex><ns1:processId>98360219855094de74c2f21070070181</ns1:processId></ns1:cases><ns1:cases><ns1:guid>237318296550c06965507d9012281898</ns1:guid><ns1:name>28</ns1:name><ns1:status>DRAFT</ns1:status><ns1:delIndex>1</ns1:delIndex><ns1:processId>98360219855094de74c2f21070070181</ns1:processId></ns1:cases><ns1:cases><ns1:guid>283573070550c026a3e20a2091712011</ns1:guid><ns1:name>27</ns1:name><ns1:status>DRAFT</ns1:status><ns1:delIndex>1</ns1:delIndex><ns1:processId>98360219855094de74c2f21070070181</ns1:processId></ns1:cases><ns1:cases><ns1:guid>632088501550bfd17570718091586381</ns1:guid><ns1:name>26</ns1:name><ns1:status>DRAFT</ns1:status><ns1:delIndex>1</ns1:delIndex><ns1:processId>98360219855094de74c2f21070070181</ns1:processId></ns1:cases><ns1:cases><ns1:guid>243234010550bf8c06f38d6046692822</ns1:guid><ns1:name>25</ns1:name><ns1:status>DRAFT</ns1:status><ns1:delIndex>1</ns1:delIndex><ns1:processId>98360219855094de74c2f21070070181</ns1:processId></ns1:cases><ns1:cases><ns1:guid>848711255550bedde81bfb4014443274</ns1:guid><ns1:name>24</ns1:name><ns1:status>DRAFT</ns1:status><ns1:delIndex>1</ns1:delIndex><ns1:processId>98360219855094de74c2f21070070181</ns1:processId></ns1:cases><ns1:cases><ns1:guid>804962189550bea75927e84027754692</ns1:guid><ns1:name>23</ns1:name><ns1:status>DRAFT</ns1:status><ns1:delIndex>1</ns1:delIndex><ns1:processId>98360219855094de74c2f21070070181</ns1:processId></ns1:cases><ns1:cases><ns1:guid>234223518550be8d33f8038000213657</ns1:guid><ns1:name>22</ns1:name><ns1:status>DRAFT</ns1:status><ns1:delIndex>1</ns1:delIndex><ns1:processId>98360219855094de74c2f21070070181</ns1:processId></ns1:cases><ns1:cases><ns1:guid>362910318550be6afdb7fb3098878611</ns1:guid><ns1:name>21</ns1:name><ns1:status>DRAFT</ns1:status><ns1:delIndex>1</ns1:delIndex><ns1:processId>98360219855094de74c2f21070070181</ns1:processId></ns1:cases><ns1:cases><ns1:guid>400788985550be6257681a1046956741</ns1:guid><ns1:name>20</ns1:name><ns1:status>DRAFT</ns1:status><ns1:delIndex>1</ns1:delIndex><ns1:processId>98360219855094de74c2f21070070181</ns1:processId></ns1:cases><ns1:cases><ns1:guid>141401808550be09dbc4360000959865</ns1:guid><ns1:name>19</ns1:name><ns1:status>DRAFT</ns1:status><ns1:delIndex>1</ns1:delIndex><ns1:processId>98360219855094de74c2f21070070181</ns1:processId></ns1:cases><ns1:cases><ns1:guid>761090587550bde1d1acf46078070193</ns1:guid><ns1:name>18</ns1:name><ns1:status>DRAFT</ns1:status><ns1:delIndex>1</ns1:delIndex><ns1:processId>98360219855094de74c2f21070070181</ns1:processId></ns1:cases><ns1:cases><ns1:guid>184078385550bdcbb100343050558793</ns1:guid><ns1:name>17</ns1:name><ns1:status>DRAFT</ns1:status><ns1:delIndex>1</ns1:delIndex><ns1:processId>98360219855094de74c2f21070070181</ns1:processId></ns1:cases><ns1:cases><ns1:guid>274821792550bd02d9140a4006137622</ns1:guid><ns1:name>16</ns1:name><ns1:status>DRAFT</ns1:status><ns1:delIndex>1</ns1:delIndex><ns1:processId>98360219855094de74c2f21070070181</ns1:processId></ns1:cases><ns1:cases><ns1:guid>388651703550bcfedd04a01034849952</ns1:guid><ns1:name>15</ns1:name><ns1:status>DRAFT</ns1:status><ns1:delIndex>1</ns1:delIndex><ns1:processId>98360219855094de74c2f21070070181</ns1:processId></ns1:cases><ns1:cases><ns1:guid>932965532550bcfcc5f17f1033422526</ns1:guid><ns1:name>14</ns1:name><ns1:status>DRAFT</ns1:status><ns1:delIndex>1</ns1:delIndex><ns1:processId>98360219855094de74c2f21070070181</ns1:processId></ns1:cases><ns1:cases><ns1:guid>792680878550bcfbbd29fe7062507921</ns1:guid><ns1:name>13</ns1:name><ns1:status>DRAFT</ns1:status><ns1:delIndex>1</ns1:delIndex><ns1:processId>98360219855094de74c2f21070070181</ns1:processId></ns1:cases><ns1:cases><ns1:guid>132979844550bcd20e35241046981854</ns1:guid><ns1:name>12</ns1:name><ns1:status>DRAFT</ns1:status><ns1:delIndex>1</ns1:delIndex><ns1:processId>98360219855094de74c2f21070070181</ns1:processId></ns1:cases><ns1:cases><ns1:guid>797851868550bcbec37e6e2042690144</ns1:guid><ns1:name>11</ns1:name><ns1:status>DRAFT</ns1:status><ns1:delIndex>1</ns1:delIndex><ns1:processId>98360219855094de74c2f21070070181</ns1:processId></ns1:cases><ns1:cases><ns1:guid>132775818550bcb92e4b897072112889</ns1:guid><ns1:name>10</ns1:name><ns1:status>DRAFT</ns1:status><ns1:delIndex>1</ns1:delIndex><ns1:processId>98360219855094de74c2f21070070181</ns1:processId></ns1:cases><ns1:cases><ns1:guid>755635250550bcb76656af8063305134</ns1:guid><ns1:name>9</ns1:name><ns1:status>DRAFT</ns1:status><ns1:delIndex>1</ns1:delIndex><ns1:processId>98360219855094de74c2f21070070181</ns1:processId></ns1:cases><ns1:cases><ns1:guid>207506336550bc8cde88145054158821</ns1:guid><ns1:name>8</ns1:name><ns1:status>DRAFT</ns1:status><ns1:delIndex>1</ns1:delIndex><ns1:processId>98360219855094de74c2f21070070181</ns1:processId></ns1:cases><ns1:cases><ns1:guid>177046091550bc8b76d06f2065623366</ns1:guid><ns1:name>7</ns1:name><ns1:status>DRAFT</ns1:status><ns1:delIndex>1</ns1:delIndex><ns1:processId>98360219855094de74c2f21070070181</ns1:processId></ns1:cases><ns1:cases><ns1:guid>280771130550bc8b041e8b1064781409</ns1:guid><ns1:name>6</ns1:name><ns1:status>DRAFT</ns1:status><ns1:delIndex>1</ns1:delIndex><ns1:processId>98360219855094de74c2f21070070181</ns1:processId></ns1:cases><ns1:cases><ns1:guid>698434432550961d7193016021833262</ns1:guid><ns1:name>2</ns1:name><ns1:status>DRAFT</ns1:status><ns1:delIndex>1</ns1:delIndex><ns1:processId>98360219855094de74c2f21070070181</ns1:processId></ns1:cases><ns1:cases><ns1:guid>36064186555095f2b156d68001769491</ns1:guid><ns1:name>1</ns1:name><ns1:status>DRAFT</ns1:status><ns1:delIndex>1</ns1:delIndex><ns1:processId>98360219855094de74c2f21070070181</ns1:processId></ns1:cases></ns1:caseListResponse></SOAP-ENV:Body></SOAP-ENV:Envelope>\n",
        "\n"
       ]
      },
      {
       "output_type": "stream",
       "stream": "stdout",
       "text": [
        "{:guid=>\"494940551550fd17053d2e9034950701\", :name=>\"38\", :status=>\"TO_DO\", :del_index=>\"2\", :process_id=>\"98360219855094de74c2f21070070181\"}"
       ]
      },
      {
       "output_type": "stream",
       "stream": "stdout",
       "text": [
        "\n"
       ]
      },
      {
       "metadata": {},
       "output_type": "pyout",
       "prompt_number": 25,
       "text": [
        "{:guid=>\"494940551550fd17053d2e9034950701\", :name=>\"38\", :status=>\"TO_DO\", :del_index=>\"2\", :process_id=>\"98360219855094de74c2f21070070181\"}"
       ]
      }
     ],
     "prompt_number": 25
    }
   ],
   "metadata": {}
  }
 ]
}